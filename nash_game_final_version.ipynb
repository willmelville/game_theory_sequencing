{
  "nbformat": 4,
  "nbformat_minor": 0,
  "metadata": {
    "colab": {
      "provenance": [],
      "collapsed_sections": [
        "FTtJ1HWVLOCZ",
        "LI67c5UZCdpT",
        "ct3YQnyp9kBI"
      ],
      "authorship_tag": "ABX9TyOk+OQ2GZQpesiAvY6PLhkz"
    },
    "kernelspec": {
      "name": "python3",
      "display_name": "Python 3"
    },
    "language_info": {
      "name": "python"
    },
    "gpuClass": "standard",
    "accelerator": "GPU"
  },
  "cells": [
    {
      "cell_type": "code",
      "execution_count": null,
      "metadata": {
        "colab": {
          "base_uri": "https://localhost:8080/"
        },
        "id": "mwfcpVTjmeYa",
        "outputId": "3ebf15d5-1da7-44bc-8c26-170daa737890"
      },
      "outputs": [
        {
          "output_type": "stream",
          "name": "stdout",
          "text": [
            "Looking in indexes: https://pypi.org/simple, https://us-python.pkg.dev/colab-wheels/public/simple/\n",
            "Collecting pybaseball\n",
            "  Downloading pybaseball-2.2.1-py3-none-any.whl (415 kB)\n",
            "\u001b[K     |████████████████████████████████| 415 kB 23.3 MB/s \n",
            "\u001b[?25hRequirement already satisfied: tqdm>=4.50.0 in /usr/local/lib/python3.7/dist-packages (from pybaseball) (4.64.1)\n",
            "Collecting pygithub>=1.51\n",
            "  Downloading PyGithub-1.57-py3-none-any.whl (297 kB)\n",
            "\u001b[K     |████████████████████████████████| 297 kB 41.4 MB/s \n",
            "\u001b[?25hRequirement already satisfied: matplotlib>=2.0.0 in /usr/local/lib/python3.7/dist-packages (from pybaseball) (3.2.2)\n",
            "Requirement already satisfied: attrs>=20.3.0 in /usr/local/lib/python3.7/dist-packages (from pybaseball) (22.1.0)\n",
            "Requirement already satisfied: scipy>=1.4.0 in /usr/local/lib/python3.7/dist-packages (from pybaseball) (1.7.3)\n",
            "Requirement already satisfied: requests>=2.18.1 in /usr/local/lib/python3.7/dist-packages (from pybaseball) (2.23.0)\n",
            "Requirement already satisfied: lxml>=4.2.1 in /usr/local/lib/python3.7/dist-packages (from pybaseball) (4.9.1)\n",
            "Requirement already satisfied: numpy>=1.13.0 in /usr/local/lib/python3.7/dist-packages (from pybaseball) (1.21.6)\n",
            "Requirement already satisfied: pandas>=1.0.3 in /usr/local/lib/python3.7/dist-packages (from pybaseball) (1.3.5)\n",
            "Requirement already satisfied: pyarrow>=1.0.1 in /usr/local/lib/python3.7/dist-packages (from pybaseball) (9.0.0)\n",
            "Requirement already satisfied: beautifulsoup4>=4.4.0 in /usr/local/lib/python3.7/dist-packages (from pybaseball) (4.6.3)\n",
            "Requirement already satisfied: pyparsing!=2.0.4,!=2.1.2,!=2.1.6,>=2.0.1 in /usr/local/lib/python3.7/dist-packages (from matplotlib>=2.0.0->pybaseball) (3.0.9)\n",
            "Requirement already satisfied: cycler>=0.10 in /usr/local/lib/python3.7/dist-packages (from matplotlib>=2.0.0->pybaseball) (0.11.0)\n",
            "Requirement already satisfied: kiwisolver>=1.0.1 in /usr/local/lib/python3.7/dist-packages (from matplotlib>=2.0.0->pybaseball) (1.4.4)\n",
            "Requirement already satisfied: python-dateutil>=2.1 in /usr/local/lib/python3.7/dist-packages (from matplotlib>=2.0.0->pybaseball) (2.8.2)\n",
            "Requirement already satisfied: typing-extensions in /usr/local/lib/python3.7/dist-packages (from kiwisolver>=1.0.1->matplotlib>=2.0.0->pybaseball) (4.1.1)\n",
            "Requirement already satisfied: pytz>=2017.3 in /usr/local/lib/python3.7/dist-packages (from pandas>=1.0.3->pybaseball) (2022.6)\n",
            "Collecting deprecated\n",
            "  Downloading Deprecated-1.2.13-py2.py3-none-any.whl (9.6 kB)\n",
            "Collecting pyjwt>=2.4.0\n",
            "  Downloading PyJWT-2.6.0-py3-none-any.whl (20 kB)\n",
            "Collecting pynacl>=1.4.0\n",
            "  Downloading PyNaCl-1.5.0-cp36-abi3-manylinux_2_17_x86_64.manylinux2014_x86_64.manylinux_2_24_x86_64.whl (856 kB)\n",
            "\u001b[K     |████████████████████████████████| 856 kB 44.7 MB/s \n",
            "\u001b[?25hRequirement already satisfied: cffi>=1.4.1 in /usr/local/lib/python3.7/dist-packages (from pynacl>=1.4.0->pygithub>=1.51->pybaseball) (1.15.1)\n",
            "Requirement already satisfied: pycparser in /usr/local/lib/python3.7/dist-packages (from cffi>=1.4.1->pynacl>=1.4.0->pygithub>=1.51->pybaseball) (2.21)\n",
            "Requirement already satisfied: six>=1.5 in /usr/local/lib/python3.7/dist-packages (from python-dateutil>=2.1->matplotlib>=2.0.0->pybaseball) (1.15.0)\n",
            "Requirement already satisfied: chardet<4,>=3.0.2 in /usr/local/lib/python3.7/dist-packages (from requests>=2.18.1->pybaseball) (3.0.4)\n",
            "Requirement already satisfied: idna<3,>=2.5 in /usr/local/lib/python3.7/dist-packages (from requests>=2.18.1->pybaseball) (2.10)\n",
            "Requirement already satisfied: certifi>=2017.4.17 in /usr/local/lib/python3.7/dist-packages (from requests>=2.18.1->pybaseball) (2022.9.24)\n",
            "Requirement already satisfied: urllib3!=1.25.0,!=1.25.1,<1.26,>=1.21.1 in /usr/local/lib/python3.7/dist-packages (from requests>=2.18.1->pybaseball) (1.24.3)\n",
            "Requirement already satisfied: wrapt<2,>=1.10 in /usr/local/lib/python3.7/dist-packages (from deprecated->pygithub>=1.51->pybaseball) (1.14.1)\n",
            "Installing collected packages: pynacl, pyjwt, deprecated, pygithub, pybaseball\n",
            "Successfully installed deprecated-1.2.13 pybaseball-2.2.1 pygithub-1.57 pyjwt-2.6.0 pynacl-1.5.0\n"
          ]
        }
      ],
      "source": [
        "!pip install pybaseball"
      ]
    },
    {
      "cell_type": "code",
      "source": [
        "import pandas as pd\n",
        "import numpy as np\n",
        "import matplotlib.pyplot as plt\n",
        "import seaborn as sns\n",
        "pd.set_option('display.max_columns', None)\n",
        "import torch\n",
        "import torch.nn as nn \n",
        "from torchvision import datasets, transforms\n",
        "from torch.utils.data import Dataset, DataLoader\n",
        "import tensorflow as tf\n",
        "from sklearn.preprocessing import StandardScaler\n",
        "import pybaseball\n",
        "import tqdm\n",
        "from scipy.stats import multivariate_normal as mvnorm \n",
        "from cvxopt import matrix, solvers\n",
        "import warnings \n",
        "warnings.filterwarnings('ignore')\n",
        "solvers.options['show_progress'] = False "
      ],
      "metadata": {
        "id": "12DueagwmsDB"
      },
      "execution_count": null,
      "outputs": []
    },
    {
      "cell_type": "code",
      "source": [
        "device = torch.device(\"cuda:0\" if torch.cuda.is_available() else \"cpu\")"
      ],
      "metadata": {
        "id": "EiO7RpxFmtu_"
      },
      "execution_count": null,
      "outputs": []
    },
    {
      "cell_type": "markdown",
      "source": [
        "**Data**\n",
        "\n",
        "We still need to load all the data in this notebook even though we're not training a model because we need the standard scaler to run data through the model, and we need the right batter indices."
      ],
      "metadata": {
        "id": "jTDBtVArmwTm"
      }
    },
    {
      "cell_type": "code",
      "source": [
        "#function to clean and organize data from statcast \n",
        "def organize_data(df):\n",
        "\n",
        "    df = df.loc[df.balls < 4]\n",
        "    df = df.loc[df.strikes < 3]\n",
        "\n",
        "    df.dropna(subset = ['release_extension', \n",
        "                      'release_speed','release_spin_rate', 'pfx_x', 'pfx_z', 'plate_x', 'plate_z'], axis = 0,\n",
        "            inplace = True)\n",
        "\n",
        "    #convert movement to inches instead of feet \n",
        "    df[['mx', 'mz']] = df[['pfx_x', 'pfx_z']].values * 12\n",
        "\n",
        "    #one hot encode handedness\n",
        "    pit_hand = pd.get_dummies(df['p_throws'], drop_first = False)\n",
        "    bat_hand = pd.get_dummies(df['stand'], drop_first = False)\n",
        "    df['pit_handR'] = pit_hand['R']\n",
        "    df['bat_handR'] = bat_hand['R']\n",
        "    df = df.drop(['p_throws', 'stand', 'pfx_x', 'pfx_z'], axis = 1)\n",
        "    \n",
        "    #remove bunts \n",
        "    df = df.loc[df.description.isin(['foul_bunt', 'bunt_foul_tip', 'missed_bunt']) == False]\n",
        "    df = df.loc[df.events != 'sac_bunt']\n",
        "\n",
        "    #define the pitch outcome \n",
        "    df['outcome'] = -1\n",
        "    df.loc[df.type == 'B', 'outcome'] = 0 #called ball \n",
        "    df.loc[df.description == 'called_strike', 'outcome'] = 1 #called strike \n",
        "    df.loc[df.description.isin(['swinging_strike', 'swinging_strike_blocked']), 'outcome'] = 2 #swm \n",
        "    df.loc[df.description.isin(['foul', 'foul_tip']), 'outcome'] = 3 #foul ball \n",
        "\n",
        "    #the other outcomes are all batted balls, which should either be outs or singles, doubles, triples, or home runs \n",
        "    df.loc[(df.type == 'X') & (df.events.isin(['field_out', 'force_out', 'field_error', 'grounded_into_double_play', 'sac_fly', 'fielders_choice', \n",
        "                                               'fielders_choice_out', 'double_play', 'other_out', 'triple_play', \n",
        "                                               'sac_fly_double_play'])), 'outcome'] = 4 # in play out \n",
        "    df.loc[(df.type == 'X') & (df.events == 'single'), 'outcome'] = 5 #single \n",
        "    df.loc[(df.type == 'X') & (df.events == 'double'), 'outcome'] = 6 # double \n",
        "    df.loc[(df.type == 'X') & (df.events == 'triple'), 'outcome'] = 7 #triple \n",
        "    df.loc[(df.type == 'X') & (df.events == 'home_run'), 'outcome'] = 8 #hr \n",
        "\n",
        "    #if outcome is still -1, drop it \n",
        "    df = df.loc[df.outcome != -1]\n",
        "\n",
        "    #define an is_swing column \n",
        "    df['is_swing'] = -1 \n",
        "    df.loc[df.description.isin(['hit_into_play', 'foul', 'swinging_strike', 'swinging_strike_blocked', 'foul_tip']), 'is_swing'] = 1\n",
        "    df.loc[df.description.isin(['called_strike', 'ball', 'blocked_ball', 'hit_by_pitch', 'pitchout']), 'is_swing'] = 0\n",
        "\n",
        "    #define an is_miss column \n",
        "    df['is_miss'] = -1 \n",
        "    df.loc[df.is_swing == 0 , 'is_miss'] = 0\n",
        "    df.loc[df.description.isin(['swinging_strike', 'swinging_strike_blocked']), 'is_miss'] = 1 \n",
        "    df.loc[df.description.isin(['hit_into_play', 'foul', 'foul_tip']), 'is_miss'] = 0\n",
        "    return df"
      ],
      "metadata": {
        "id": "6RI-QUjUmv2J"
      },
      "execution_count": null,
      "outputs": []
    },
    {
      "cell_type": "code",
      "source": [
        "#columns needed from statcast \n",
        "needed_columns = ['game_date', 'game_year', 'game_pk', 'player_name', 'pitcher', 'batter', 'pitch_type', 'pitch_name', 'stand', 'p_throws', 'balls', 'strikes', 'release_speed', \n",
        "                  'release_spin_rate', 'release_extension', 'release_pos_x', 'release_pos_z', 'pfx_x', 'pfx_z',\n",
        "                  'plate_x', 'plate_z',  'type', 'events', 'description', 'woba_value', 'at_bat_number', 'pitch_number']"
      ],
      "metadata": {
        "id": "QjuyDYDqm6y8"
      },
      "execution_count": null,
      "outputs": []
    },
    {
      "cell_type": "code",
      "source": [
        "from google.colab import drive\n",
        "drive.mount('/drive')\n",
        "\n",
        "#read in the data\n",
        "raw22 = pd.read_csv('/drive/My Drive/Colab Notebooks/sequencing_project/raw22.csv')\n",
        "raw21 = pd.read_csv('/drive/My Drive/Colab Notebooks/sequencing_project/raw21.csv')\n",
        "raw19 = pd.read_csv('/drive/My Drive/Colab Notebooks/sequencing_project/raw18_19_20.csv')\n",
        "raw21 = raw21[needed_columns]\n",
        "raw22 = raw22[needed_columns]\n",
        "raw19 = raw19[needed_columns]"
      ],
      "metadata": {
        "colab": {
          "base_uri": "https://localhost:8080/"
        },
        "id": "vJ3pzBx6nACt",
        "outputId": "921f6d4e-8a8c-4648-f533-1ac3a75c5c5b"
      },
      "execution_count": null,
      "outputs": [
        {
          "output_type": "stream",
          "name": "stdout",
          "text": [
            "Mounted at /drive\n"
          ]
        }
      ]
    },
    {
      "cell_type": "code",
      "source": [
        "#clean the data\n",
        "\n",
        "df21 = organize_data(raw21)\n",
        "df22 = organize_data(raw22)\n",
        "#df19 = organize_data(raw19)\n",
        "\n",
        "\n",
        "all_data = df22.append(df21, ignore_index = True)\n",
        "#all_data = all_data.append(df19, ignore_index = True)"
      ],
      "metadata": {
        "id": "8pf17sZNnBJC"
      },
      "execution_count": null,
      "outputs": []
    },
    {
      "cell_type": "code",
      "source": [
        "#z score variables \n",
        "standardizer = StandardScaler().fit(all_data[['release_speed', 'mx', 'mz', \n",
        "     'plate_x', 'plate_z', 'release_spin_rate']].values)\n",
        "\n",
        "all_data[['release_speed', 'mx', 'mz', \n",
        "     'plate_x', 'plate_z', 'release_spin_rate']] = standardizer.transform(all_data[['release_speed', 'mx', 'mz', \n",
        "     'plate_x', 'plate_z', 'release_spin_rate']].values)"
      ],
      "metadata": {
        "id": "lsr3tVVKnJIk"
      },
      "execution_count": null,
      "outputs": []
    },
    {
      "cell_type": "code",
      "source": [
        "#get the batter index\n",
        "batter_indices = pd.DataFrame({'batter': all_data.batter.unique()})\n",
        "\n",
        "batter_indices['batter_index'] = batter_indices.index.values\n",
        "\n",
        "#merge \n",
        "all_data = all_data.merge(batter_indices, on = 'batter')"
      ],
      "metadata": {
        "id": "b6eTCbVknLOK"
      },
      "execution_count": null,
      "outputs": []
    },
    {
      "cell_type": "code",
      "source": [
        "features = ['balls', 'strikes', 'release_speed', 'release_spin_rate', 'plate_x', 'plate_z',\n",
        "                'mx', 'mz', 'pit_handR', 'bat_handR', 'batter_index']"
      ],
      "metadata": {
        "id": "lKpJaEF3oUkB"
      },
      "execution_count": null,
      "outputs": []
    },
    {
      "cell_type": "code",
      "source": [
        "bi = pd.read_csv('/drive/My Drive/Colab Notebooks/sequencing_project/batter_indices_final_model.csv')"
      ],
      "metadata": {
        "id": "XB6HXZOjcri5"
      },
      "execution_count": null,
      "outputs": []
    },
    {
      "cell_type": "code",
      "source": [
        "testing = bi.merge(batter_indices, how = 'inner', on = 'batter_index')"
      ],
      "metadata": {
        "id": "VWbryr19czPt"
      },
      "execution_count": null,
      "outputs": []
    },
    {
      "cell_type": "code",
      "source": [
        "testing.shape[0], bi.shape[0]"
      ],
      "metadata": {
        "colab": {
          "base_uri": "https://localhost:8080/"
        },
        "id": "2QFFD5CRc4Ym",
        "outputId": "9286015b-f70e-4438-b31b-2414341cb711"
      },
      "execution_count": null,
      "outputs": [
        {
          "output_type": "execute_result",
          "data": {
            "text/plain": [
              "(1761, 1761)"
            ]
          },
          "metadata": {},
          "execution_count": 13
        }
      ]
    },
    {
      "cell_type": "markdown",
      "source": [
        "**Model**"
      ],
      "metadata": {
        "id": "HQqh6OMLnxxG"
      }
    },
    {
      "cell_type": "code",
      "source": [
        "#helper classes \n",
        "\n",
        "batter_embedding_dim = 13\n",
        "output_embedding_dim = 13\n",
        "\n",
        "class InputEmbedding(nn.Module):\n",
        "  def __init__(self, hidden_size = 32, output_size = 9):\n",
        "    super(InputEmbedding, self).__init__()\n",
        "    self.hidden_size = hidden_size \n",
        "    self.output_size = output_size\n",
        "    #define batter embedding \n",
        "    self.batter_embedding = nn.Embedding(batter_indices.shape[0], embedding_dim = batter_embedding_dim)\n",
        "\n",
        "    #define embedding for the pitch concatenated with the batter embedding concatenated with hidden state \n",
        "    self.ie1 = nn.Linear(in_features = len(features) - 1 + batter_embedding_dim + self.hidden_size, out_features = 512)\n",
        "    self.ie2 = nn.Linear(512, 256)\n",
        "    self.ie3 = nn.Linear(256, 128)\n",
        "    self.ie4 = nn.Linear(128, 64)\n",
        "    self.ie5 = nn.Linear(64, self.output_size)\n",
        "    self.relu = nn.ReLU()\n",
        "    \n",
        "  def forward(self, x, hidden):\n",
        "    #batter index is last column of x \n",
        "    batter_idx = x[:,-1].int()\n",
        "    bat_emb = self.batter_embedding(batter_idx)\n",
        "\n",
        "    #concatenate batter embedding and input and hidden state\n",
        "    conc = torch.concat((x[:,:-1], bat_emb, hidden), dim = 1)\n",
        "    \n",
        "    #run through layers \n",
        "    conc = self.relu(self.ie1(conc))\n",
        "    conc = self.relu(self.ie2(conc))\n",
        "    conc = self.relu(self.ie3(conc))\n",
        "    conc = self.relu(self.ie4(conc))\n",
        "    return self.ie5(conc)\n",
        "\n",
        "\n",
        "class HiddenStateUpdater(nn.Module):\n",
        "\n",
        "    def __init__(self, hidden_size = 32, output_size = 9):\n",
        "        super(HiddenStateUpdater, self).__init__()\n",
        "        self.hidden_size = hidden_size \n",
        "        self.output_size = output_size\n",
        "        #we need a target embedding \n",
        "        self.target_embedding = nn.Embedding(self.output_size, output_embedding_dim)\n",
        "        #remember, we are going to take our pitch and our output embedding and concatenate them together for the hidden state, so we need features \n",
        "        #plus output embedding dim minus 1 for the batter index which we don't want to include.\n",
        "        self.l1 = nn.Linear(len(features) - 1 + output_embedding_dim, 256)\n",
        "        self.l2 = nn.Linear(256, 128)\n",
        "        self.l3 = nn.Linear(128, 64)\n",
        "        self.l4 = nn.Linear(64,32)\n",
        "        self.proj = nn.Linear(32, self.hidden_size)\n",
        "        self.relu = nn.ReLU()\n",
        "\n",
        "    def forward(self, x, y):\n",
        "        #get the output embedding \n",
        "        y = self.target_embedding(y)\n",
        "        #concatenate onto x \n",
        "        x = torch.concat((x, y), dim = -1)\n",
        "        #feed through network\n",
        "        x = self.relu(self.l1(x))\n",
        "        x = self.relu(self.l2(x)) \n",
        "        x = self.relu(self.l3(x))\n",
        "        x = self.relu(self.l4(x))\n",
        "        return self.proj(x)"
      ],
      "metadata": {
        "id": "EJcQG-LYnz_Y"
      },
      "execution_count": null,
      "outputs": []
    },
    {
      "cell_type": "code",
      "source": [
        "class RNN(nn.Module):\n",
        "  def __init__(self, hidden_size = 32, output_size = 9):\n",
        "    super(RNN, self).__init__()\n",
        "    self.hidden_size = hidden_size \n",
        "    self.output_size = output_size \n",
        "\n",
        "    self.input_embedding = InputEmbedding(self.hidden_size, self.output_size)\n",
        "    self.h_update = HiddenStateUpdater(self.hidden_size, self.output_size)\n",
        "    self.relu = nn.ReLU()\n",
        "\n",
        "    #initialize batter embeddings \n",
        "    self.input_embedding.batter_embedding.weight.data.fill_(1.)\n",
        "\n",
        "  def forward(self, x, hidden, y):\n",
        "    #first we run x and hidden through the 'input embedding'\n",
        "    output = self.input_embedding(x, hidden)\n",
        "\n",
        "    #next, we run x and y through the hidden state updater, and we add that onto the old hidden state\n",
        "    hidden += self.h_update(x[:,:-1], y)\n",
        "\n",
        "    #return x and hidden \n",
        "    return output, hidden \n",
        "\n",
        "  def init_hidden(self):\n",
        "    return torch.zeros(1, self.hidden_size) "
      ],
      "metadata": {
        "id": "9gaHU1pgn8bE"
      },
      "execution_count": null,
      "outputs": []
    },
    {
      "cell_type": "code",
      "source": [
        "model = RNN(hidden_size = 32, output_size = 9).to(device)\n",
        "model.load_state_dict(torch.load('/drive/My Drive/Colab Notebooks/sequencing_project/final_OP'))"
      ],
      "metadata": {
        "colab": {
          "base_uri": "https://localhost:8080/"
        },
        "id": "FA0dAnvln9j5",
        "outputId": "2e6dc98b-13a2-4b7f-b131-2e4fc854b566"
      },
      "execution_count": null,
      "outputs": [
        {
          "output_type": "execute_result",
          "data": {
            "text/plain": [
              "<All keys matched successfully>"
            ]
          },
          "metadata": {},
          "execution_count": 16
        }
      ]
    },
    {
      "cell_type": "code",
      "source": [
        "#prediction function \n",
        "def prediction_func(input, target, recurrent = True):\n",
        "  #input is a batch of PAs \n",
        "  with torch.no_grad():\n",
        "    #init \n",
        "    input = input.to(device)\n",
        "    target = target.to(device)\n",
        "    loss = 0\n",
        "\n",
        "    input_length = input.size(1)\n",
        "\n",
        "    #loop through pas in batch \n",
        "    preds = torch.empty((1,9)).to(device)\n",
        "    for pa_num in range(input.size(0)):\n",
        "      #initialize hidden state at start of each pa \n",
        "      h0 = model.init_hidden()\n",
        "      h0 = h0.to(device)\n",
        "      pa = input[pa_num]\n",
        "      pa_targets = target[pa_num]\n",
        "      for pitch in range(input_length):\n",
        "        yhat, h1 = model(pa[pitch].unsqueeze(0), h0, pa_targets[pitch].unsqueeze(0))\n",
        "        preds = torch.cat((preds, yhat), dim = 0)\n",
        "        if recurrent:\n",
        "          h0 = h1\n",
        "        else:\n",
        "          h0 = model.init_hidden().to(device)\n",
        "\n",
        "    #return predictions\n",
        "    return preds[1:,:]"
      ],
      "metadata": {
        "id": "Uh6l-e_Iovc3"
      },
      "execution_count": null,
      "outputs": []
    },
    {
      "cell_type": "markdown",
      "source": [
        "**Nash Game**"
      ],
      "metadata": {
        "id": "VrFa3zC3om9B"
      }
    },
    {
      "cell_type": "code",
      "source": [
        "#define utility function \n",
        "count_runs = pd.DataFrame({'balls_pre_event': [3,3,2,3,2,1,0,1,2,0,1,0], 'strikes_pre_event': [0,1,0,2,1,0,0,1,2,1,2,2],\n",
        "                           'val_ball': [0.131,0.201,0.110,0.276,0.103,0.063,0.034,0.050,0.098,0.027,0.046,0.022],\n",
        "                           'val_strike': [-0.070,-0.076,-0.062,-0.351,-0.071,-0.050,-0.043,-0.067,-0.252,-0.062,-0.206,-0.184],\n",
        "                           'val_out': [-0.496,-0.426,-0.385,-0.350,-0.323,-0.323, -0.289,-0.273,-0.252,-0.246,-0.206,-0.184],\n",
        "                           'val_single': [0.287,0.356,0.397,0.432,0.459,0.460,0.494,0.510,0.530,0.537,0.577,0.598],\n",
        "                           'val_double': [0.583,0.652,0.693,0.728,0.755,0.756,0.790,0.805,0.826,0.832,0.872,0.894],\n",
        "                           'val_triple': [0.861,0.930,0.971,1.006,1.033,1.034,1.068,1.083,1.104,1.110,1.150,1.172],\n",
        "                           'val_hr': [1.2,1.269,1.31,1.345,1.372,1.373,1.407,1.423,1.443,1.45,1.490,1.511]})\n",
        "\n",
        "def get_utilities(pitch_df):\n",
        "  '''\n",
        "  pitch_df is a pandas dataframe with a column for balls, strikes, and the \n",
        "  probabilities of each outcome, named o1, o2, o3, o4, o5, o6, o7, and o8\n",
        "\n",
        "  Returns the expected utility of a swing and of a take for that pitch.\n",
        "  The batter's optimal utility for the pitch is the larger of those two values\n",
        "  '''\n",
        "\n",
        "  pitch_df['swing_utility'] = -1 \n",
        "  pitch_df['take_utility'] = -1\n",
        "  pitch_df['total_utility'] = -1\n",
        "  for balls in pitch_df.balls.unique():\n",
        "    for strikes in pitch_df.strikes.unique():\n",
        "      d = pitch_df.loc[(pitch_df.balls == balls) & (pitch_df.strikes == strikes)]\n",
        "\n",
        "      #get the corresponding row from count_runs table\n",
        "      count_pre = count_runs.loc[(count_runs.balls_pre_event == balls) & (count_runs.strikes_pre_event == strikes)]\n",
        "\n",
        "      #get the value of a called ball \n",
        "      val0 = count_pre.val_ball.values[0]\n",
        "\n",
        "      #get the value of a called or swinging strike \n",
        "      val12 = count_pre.val_strike.values[0]\n",
        "\n",
        "      #value of a foul ball \n",
        "      if strikes == 2:\n",
        "        #no change \n",
        "        val3 = 0 \n",
        "      else:\n",
        "        #value of foul is just value of a strike\n",
        "        val3 = count_pre.val_strike.values[0] \n",
        "\n",
        "      #value of ball in play out \n",
        "      val4 = count_pre.val_out.values[0]\n",
        "      #single \n",
        "      val5 = count_pre.val_single.values[0]\n",
        "      #double \n",
        "      val6 = count_pre.val_double.values[0]\n",
        "      #triple \n",
        "      val7 = count_pre.val_triple.values[0]\n",
        "      #hr \n",
        "      val8 = count_pre.val_hr.values[0]\n",
        "\n",
        "      #calculate utilities \n",
        "      no_swing = d.o0.values + d.o1.values \n",
        "      swing = d[['o2','o3','o4','o5','o6','o7','o8']].values.sum(axis = 1)\n",
        "      take_utility = (d.o0.values / no_swing) * val0 + (d.o1.values/no_swing) * val12\n",
        "      swing_utility = (d.o2.values/swing) * val12 + (d.o3.values/swing)*val3 + (d.o4.values/swing)*val4 + (d.o5.values/swing)*val5 + (d.o6.values/swing)*val6 + (d.o7.values/swing)*val7 + (d.o8.values/swing) * val8\n",
        "      d.swing_utility = swing_utility \n",
        "      d.take_utility = take_utility  \n",
        "      d.total_utility = take_utility * no_swing + swing_utility * swing\n",
        "      pitch_df.loc[(pitch_df.strikes == strikes) & (pitch_df.balls == balls), ['swing_utility', 'take_utility', 'total_utility']] = d[['swing_utility', 'take_utility', 'total_utility']].values\n",
        "\n",
        "\n",
        "  return pitch_df       "
      ],
      "metadata": {
        "id": "MLCd-xfnoL_e"
      },
      "execution_count": null,
      "outputs": []
    },
    {
      "cell_type": "code",
      "source": [
        "#define the set of pitcher and batters you want to run on \n",
        "#Chapman, Anderson, Jansen, Robbie Ray\n",
        "pitchers = [547973, 623433, 445276, 592662]\n",
        "\n",
        "#Brosseau, Mookie, Brett Phillips, Taveras\n",
        "batters = [670712, 605141, 621433, 665750]\n",
        "\n",
        "#get the batter indices for the batters \n",
        "batter_idxs = [batter_indices.loc[batter_indices.batter == i , 'batter_index'].values[0] for i in batters]"
      ],
      "metadata": {
        "id": "Z8jtG5KNocsr"
      },
      "execution_count": null,
      "outputs": []
    },
    {
      "cell_type": "code",
      "source": [
        "batter_idxs"
      ],
      "metadata": {
        "colab": {
          "base_uri": "https://localhost:8080/"
        },
        "id": "5mz3EemuKjiI",
        "outputId": "e630f4be-09c4-4d34-8d9c-9bc351cc9674"
      },
      "execution_count": null,
      "outputs": [
        {
          "output_type": "execute_result",
          "data": {
            "text/plain": [
              "[400, 70, 547, 301]"
            ]
          },
          "metadata": {},
          "execution_count": 20
        }
      ]
    },
    {
      "cell_type": "code",
      "source": [
        "#get pitch usages and remove the ones less than like 5% \n",
        "non_z_scored = all_data.copy()\n",
        "non_z_scored[['release_speed', 'mx', 'mz', \n",
        "     'plate_x', 'plate_z',  'release_spin_rate']] = standardizer.inverse_transform(non_z_scored[['release_speed', 'mx', 'mz', \n",
        "     'plate_x', 'plate_z',  'release_spin_rate']].values)\n",
        "pitch_usages = pd.DataFrame()\n",
        "for pitcher in pitchers:\n",
        "  pdf = non_z_scored.loc[all_data.pitcher == pitcher]\n",
        "  n = pdf.shape[0]\n",
        "  usages = pdf.groupby('pitch_type', as_index = False).agg(N = ('is_swing', 'count'),\n",
        "                                                           release_speed = ('release_speed', 'mean'),\n",
        "                                                           mx = ('mx', 'mean'),\n",
        "                                                           mz = ('mz', 'mean'),\n",
        "                                                           release_spin_rate = ('release_spin_rate', 'mean'))\n",
        "  usages.N = usages.N / n\n",
        "  usages['pitcher_id'] = pitcher\n",
        "  pitch_usages = pitch_usages.append(usages, ignore_index = True)\n",
        "\n",
        "pitch_usages = pitch_usages.loc[pitch_usages.N >= 0.05]\n",
        "pitch_usages"
      ],
      "metadata": {
        "colab": {
          "base_uri": "https://localhost:8080/",
          "height": 426
        },
        "id": "ezc8TPX2uxez",
        "outputId": "ce327e46-6488-40b2-b0df-275d1e12b339"
      },
      "execution_count": null,
      "outputs": [
        {
          "output_type": "execute_result",
          "data": {
            "text/plain": [
              "   pitch_type         N  release_speed         mx         mz  \\\n",
              "0          FF  0.561071      97.868091   4.223499  17.960040   \n",
              "1          FS  0.123815      88.202252   2.469189  -1.775135   \n",
              "2          SI  0.051311     100.445652  12.790435  15.943043   \n",
              "3          SL  0.263804      85.210994 -11.891163   3.062410   \n",
              "5          CU  0.305785      81.070270   2.033514  -0.149189   \n",
              "6          FF  0.685950      92.920482  -5.083373  18.300723   \n",
              "7          FC  0.606227      92.397356   7.936767  16.901148   \n",
              "8          SI  0.247711      93.759704  -5.858262  19.220850   \n",
              "9          SL  0.146062      81.662382   5.387210  -6.202382   \n",
              "11         FF  0.494368      94.277086   7.630205  17.510064   \n",
              "13         SI  0.103760      93.378899  15.361284  12.768624   \n",
              "14         SL  0.339204      87.885734  -1.245407   7.386735   \n",
              "\n",
              "    release_spin_rate  pitcher_id  \n",
              "0         2365.819085      547973  \n",
              "1          807.860360      547973  \n",
              "2         2406.554348      547973  \n",
              "3         2273.718816      547973  \n",
              "5         1862.648649      623433  \n",
              "6         2112.277108      623433  \n",
              "7         2622.221299      445276  \n",
              "8         2292.927911      445276  \n",
              "9         2453.213166      445276  \n",
              "11        2277.327343      592662  \n",
              "13        2192.535168      592662  \n",
              "14        2189.301216      592662  "
            ],
            "text/html": [
              "\n",
              "  <div id=\"df-c2b37ebe-e687-48aa-86cb-d60ad5e500ad\">\n",
              "    <div class=\"colab-df-container\">\n",
              "      <div>\n",
              "<style scoped>\n",
              "    .dataframe tbody tr th:only-of-type {\n",
              "        vertical-align: middle;\n",
              "    }\n",
              "\n",
              "    .dataframe tbody tr th {\n",
              "        vertical-align: top;\n",
              "    }\n",
              "\n",
              "    .dataframe thead th {\n",
              "        text-align: right;\n",
              "    }\n",
              "</style>\n",
              "<table border=\"1\" class=\"dataframe\">\n",
              "  <thead>\n",
              "    <tr style=\"text-align: right;\">\n",
              "      <th></th>\n",
              "      <th>pitch_type</th>\n",
              "      <th>N</th>\n",
              "      <th>release_speed</th>\n",
              "      <th>mx</th>\n",
              "      <th>mz</th>\n",
              "      <th>release_spin_rate</th>\n",
              "      <th>pitcher_id</th>\n",
              "    </tr>\n",
              "  </thead>\n",
              "  <tbody>\n",
              "    <tr>\n",
              "      <th>0</th>\n",
              "      <td>FF</td>\n",
              "      <td>0.561071</td>\n",
              "      <td>97.868091</td>\n",
              "      <td>4.223499</td>\n",
              "      <td>17.960040</td>\n",
              "      <td>2365.819085</td>\n",
              "      <td>547973</td>\n",
              "    </tr>\n",
              "    <tr>\n",
              "      <th>1</th>\n",
              "      <td>FS</td>\n",
              "      <td>0.123815</td>\n",
              "      <td>88.202252</td>\n",
              "      <td>2.469189</td>\n",
              "      <td>-1.775135</td>\n",
              "      <td>807.860360</td>\n",
              "      <td>547973</td>\n",
              "    </tr>\n",
              "    <tr>\n",
              "      <th>2</th>\n",
              "      <td>SI</td>\n",
              "      <td>0.051311</td>\n",
              "      <td>100.445652</td>\n",
              "      <td>12.790435</td>\n",
              "      <td>15.943043</td>\n",
              "      <td>2406.554348</td>\n",
              "      <td>547973</td>\n",
              "    </tr>\n",
              "    <tr>\n",
              "      <th>3</th>\n",
              "      <td>SL</td>\n",
              "      <td>0.263804</td>\n",
              "      <td>85.210994</td>\n",
              "      <td>-11.891163</td>\n",
              "      <td>3.062410</td>\n",
              "      <td>2273.718816</td>\n",
              "      <td>547973</td>\n",
              "    </tr>\n",
              "    <tr>\n",
              "      <th>5</th>\n",
              "      <td>CU</td>\n",
              "      <td>0.305785</td>\n",
              "      <td>81.070270</td>\n",
              "      <td>2.033514</td>\n",
              "      <td>-0.149189</td>\n",
              "      <td>1862.648649</td>\n",
              "      <td>623433</td>\n",
              "    </tr>\n",
              "    <tr>\n",
              "      <th>6</th>\n",
              "      <td>FF</td>\n",
              "      <td>0.685950</td>\n",
              "      <td>92.920482</td>\n",
              "      <td>-5.083373</td>\n",
              "      <td>18.300723</td>\n",
              "      <td>2112.277108</td>\n",
              "      <td>623433</td>\n",
              "    </tr>\n",
              "    <tr>\n",
              "      <th>7</th>\n",
              "      <td>FC</td>\n",
              "      <td>0.606227</td>\n",
              "      <td>92.397356</td>\n",
              "      <td>7.936767</td>\n",
              "      <td>16.901148</td>\n",
              "      <td>2622.221299</td>\n",
              "      <td>445276</td>\n",
              "    </tr>\n",
              "    <tr>\n",
              "      <th>8</th>\n",
              "      <td>SI</td>\n",
              "      <td>0.247711</td>\n",
              "      <td>93.759704</td>\n",
              "      <td>-5.858262</td>\n",
              "      <td>19.220850</td>\n",
              "      <td>2292.927911</td>\n",
              "      <td>445276</td>\n",
              "    </tr>\n",
              "    <tr>\n",
              "      <th>9</th>\n",
              "      <td>SL</td>\n",
              "      <td>0.146062</td>\n",
              "      <td>81.662382</td>\n",
              "      <td>5.387210</td>\n",
              "      <td>-6.202382</td>\n",
              "      <td>2453.213166</td>\n",
              "      <td>445276</td>\n",
              "    </tr>\n",
              "    <tr>\n",
              "      <th>11</th>\n",
              "      <td>FF</td>\n",
              "      <td>0.494368</td>\n",
              "      <td>94.277086</td>\n",
              "      <td>7.630205</td>\n",
              "      <td>17.510064</td>\n",
              "      <td>2277.327343</td>\n",
              "      <td>592662</td>\n",
              "    </tr>\n",
              "    <tr>\n",
              "      <th>13</th>\n",
              "      <td>SI</td>\n",
              "      <td>0.103760</td>\n",
              "      <td>93.378899</td>\n",
              "      <td>15.361284</td>\n",
              "      <td>12.768624</td>\n",
              "      <td>2192.535168</td>\n",
              "      <td>592662</td>\n",
              "    </tr>\n",
              "    <tr>\n",
              "      <th>14</th>\n",
              "      <td>SL</td>\n",
              "      <td>0.339204</td>\n",
              "      <td>87.885734</td>\n",
              "      <td>-1.245407</td>\n",
              "      <td>7.386735</td>\n",
              "      <td>2189.301216</td>\n",
              "      <td>592662</td>\n",
              "    </tr>\n",
              "  </tbody>\n",
              "</table>\n",
              "</div>\n",
              "      <button class=\"colab-df-convert\" onclick=\"convertToInteractive('df-c2b37ebe-e687-48aa-86cb-d60ad5e500ad')\"\n",
              "              title=\"Convert this dataframe to an interactive table.\"\n",
              "              style=\"display:none;\">\n",
              "        \n",
              "  <svg xmlns=\"http://www.w3.org/2000/svg\" height=\"24px\"viewBox=\"0 0 24 24\"\n",
              "       width=\"24px\">\n",
              "    <path d=\"M0 0h24v24H0V0z\" fill=\"none\"/>\n",
              "    <path d=\"M18.56 5.44l.94 2.06.94-2.06 2.06-.94-2.06-.94-.94-2.06-.94 2.06-2.06.94zm-11 1L8.5 8.5l.94-2.06 2.06-.94-2.06-.94L8.5 2.5l-.94 2.06-2.06.94zm10 10l.94 2.06.94-2.06 2.06-.94-2.06-.94-.94-2.06-.94 2.06-2.06.94z\"/><path d=\"M17.41 7.96l-1.37-1.37c-.4-.4-.92-.59-1.43-.59-.52 0-1.04.2-1.43.59L10.3 9.45l-7.72 7.72c-.78.78-.78 2.05 0 2.83L4 21.41c.39.39.9.59 1.41.59.51 0 1.02-.2 1.41-.59l7.78-7.78 2.81-2.81c.8-.78.8-2.07 0-2.86zM5.41 20L4 18.59l7.72-7.72 1.47 1.35L5.41 20z\"/>\n",
              "  </svg>\n",
              "      </button>\n",
              "      \n",
              "  <style>\n",
              "    .colab-df-container {\n",
              "      display:flex;\n",
              "      flex-wrap:wrap;\n",
              "      gap: 12px;\n",
              "    }\n",
              "\n",
              "    .colab-df-convert {\n",
              "      background-color: #E8F0FE;\n",
              "      border: none;\n",
              "      border-radius: 50%;\n",
              "      cursor: pointer;\n",
              "      display: none;\n",
              "      fill: #1967D2;\n",
              "      height: 32px;\n",
              "      padding: 0 0 0 0;\n",
              "      width: 32px;\n",
              "    }\n",
              "\n",
              "    .colab-df-convert:hover {\n",
              "      background-color: #E2EBFA;\n",
              "      box-shadow: 0px 1px 2px rgba(60, 64, 67, 0.3), 0px 1px 3px 1px rgba(60, 64, 67, 0.15);\n",
              "      fill: #174EA6;\n",
              "    }\n",
              "\n",
              "    [theme=dark] .colab-df-convert {\n",
              "      background-color: #3B4455;\n",
              "      fill: #D2E3FC;\n",
              "    }\n",
              "\n",
              "    [theme=dark] .colab-df-convert:hover {\n",
              "      background-color: #434B5C;\n",
              "      box-shadow: 0px 1px 3px 1px rgba(0, 0, 0, 0.15);\n",
              "      filter: drop-shadow(0px 1px 2px rgba(0, 0, 0, 0.3));\n",
              "      fill: #FFFFFF;\n",
              "    }\n",
              "  </style>\n",
              "\n",
              "      <script>\n",
              "        const buttonEl =\n",
              "          document.querySelector('#df-c2b37ebe-e687-48aa-86cb-d60ad5e500ad button.colab-df-convert');\n",
              "        buttonEl.style.display =\n",
              "          google.colab.kernel.accessAllowed ? 'block' : 'none';\n",
              "\n",
              "        async function convertToInteractive(key) {\n",
              "          const element = document.querySelector('#df-c2b37ebe-e687-48aa-86cb-d60ad5e500ad');\n",
              "          const dataTable =\n",
              "            await google.colab.kernel.invokeFunction('convertToInteractive',\n",
              "                                                     [key], {});\n",
              "          if (!dataTable) return;\n",
              "\n",
              "          const docLinkHtml = 'Like what you see? Visit the ' +\n",
              "            '<a target=\"_blank\" href=https://colab.research.google.com/notebooks/data_table.ipynb>data table notebook</a>'\n",
              "            + ' to learn more about interactive tables.';\n",
              "          element.innerHTML = '';\n",
              "          dataTable['output_type'] = 'display_data';\n",
              "          await google.colab.output.renderOutput(dataTable, element);\n",
              "          const docLink = document.createElement('div');\n",
              "          docLink.innerHTML = docLinkHtml;\n",
              "          element.appendChild(docLink);\n",
              "        }\n",
              "      </script>\n",
              "    </div>\n",
              "  </div>\n",
              "  "
            ]
          },
          "metadata": {},
          "execution_count": 21
        }
      ]
    },
    {
      "cell_type": "markdown",
      "source": [
        "When we originally did the nash game, we chose a pitch and a location and we had a swing and take utility at that location. This time with execution score, the swing and take utility at the location needs to be the expected value of all surrounding swing and take utilities, where we calculate the expected value using the 2-d gaussian with mean equal to the point of interest in the grid and variance equal to the execution score. So then when we solve the game, the optimal location we choose to throw in will take into consideration the ability of the pitcher to hit his target. Thus, I first need the swing and take utility at each point in a big grid, and then in a smaller grid I will take the expected value of neighboring points to get the execution score adjusted utilities. So I start with a bigger grid because a normal dist can continue infiniitely in all directions, but our aiming points aren't going to be severely far outside the strike zone, but our bigger grid needs to be big enough that most data in the normal dist (like 3 standard dists) are within the point of interest. So basically we'll take our original grid of aiming points, and expand it by 3 * std_dev in each direction. "
      ],
      "metadata": {
        "id": "H-HvHXkd09O6"
      }
    },
    {
      "cell_type": "code",
      "source": [
        "#define a function that gets the initial grid of utilities, so the grid that will then get uesd to get the execution adjusted grid\n",
        "#our model requires a hidden state, balls, strikes, and batter and pitch chars to make a prediction. \n",
        "#the hidden state will have to be calculated beforehand and plugged in, along with balls, strikes, and handedness.\n",
        "#this will allow us to just use the output calculation part of OP to make predictions, which will save us time because we won't have to repeatedly update a hidden state \n",
        "\n",
        "def initial_grid(batter_idx, pitcherid, h, bhand, phand, balls, strikes):\n",
        "\n",
        "  #define the grid. I'm adding 3 feet on either side of my normal grid. A baseball is just about 3 inches in diameter, so I'm going to have each point in the grid be half a baseball, so 1.5, so if my dimensions are 9 feet, \n",
        "  #I need 9*12/1.5 points in the grid \n",
        "  x,z = np.meshgrid(np.linspace(-4.5,4.5,int(9*12/1.5)), np.linspace(-2,7,int(9*12/1.5)))\n",
        "  x = x.flatten()\n",
        "  z = z.flatten()\n",
        "  grid_size = len(x)\n",
        "  #define the batter and pitcher handedness vecs \n",
        "  pvec = np.ones(grid_size) * phand \n",
        "  bvec = np.ones(grid_size) * bhand\n",
        "  #define a location index, so we know how to organize the columns for location\n",
        "  location_index = np.arange(grid_size)\n",
        "\n",
        "  #loop through the pitcher's pitches \n",
        "  final_data = pd.DataFrame()\n",
        "  pitcher_usages = pitch_usages.loc[pitch_usages.pitcher_id == pitcherid]\n",
        "  for pitch in pitcher_usages.pitch_type.unique():\n",
        "    pitch_chars = pitcher_usages.loc[pitcher_usages.pitch_type == pitch]\n",
        "\n",
        "    #pitch chars vectors\n",
        "    svec = np.ones(grid_size) * pitch_chars.release_speed.values[0]\n",
        "    mxvec = np.ones(grid_size) * pitch_chars.mx.values[0]\n",
        "    mzvec = np.ones(grid_size) * pitch_chars.mz.values[0]\n",
        "    srvec = np.ones(grid_size) * pitch_chars.release_spin_rate.values[0]\n",
        "\n",
        "    #ball and strike vectors \n",
        "    balls_v = np.ones(grid_size) * balls \n",
        "    strikes_v = np.ones(grid_size) * strikes\n",
        "\n",
        "    data = pd.DataFrame({'release_speed': svec, 'plate_x' : x, 'plate_z': z,\n",
        "                             'mx': mxvec, 'mz': mzvec, 'bat_handR': bvec, \n",
        "                             'pit_handR': pvec, 'balls': balls_v, 'strikes': strikes_v, \n",
        "                             'release_spin_rate': srvec, 'location_index': location_index,\n",
        "                         'plate_x_ft': x, 'plate_z_ft': z}) \n",
        "    \n",
        "    data['batter_index'] = batter_idx \n",
        "    data['pitcher_id'] = pitcherid\n",
        "    data['pitch_type'] = pitch \n",
        "    final_data = final_data.append(data, ignore_index = True)\n",
        "\n",
        "  #z score variables as needed \n",
        "  final_data[['release_speed', 'mx', 'mz', \n",
        "     'plate_x', 'plate_z', 'release_spin_rate']] = standardizer.transform(final_data[['release_speed', 'mx', 'mz', \n",
        "     'plate_x', 'plate_z', 'release_spin_rate']].values)\n",
        "\n",
        "  #now we can run the model on final_data, but we need to be able to concatenate on the hidden state \n",
        "  #repeate hidden so there is one for every pitch in the data \n",
        "  hidden = h.repeat(final_data.shape[0], 1)\n",
        "  #get the data in a tensor \n",
        "  x_data = torch.tensor(final_data[features].values, dtype = torch.float).to(device)\n",
        "  #run x_data and hidden through the output part of the model \n",
        "  preds = nn.functional.softmax(model.input_embedding(x_data, hidden), dim = 1)\n",
        "  final_data[['o0', 'o1', 'o2', 'o3', 'o4', 'o5', 'o6', 'o7', 'o8']] = preds.detach().cpu().numpy()\n",
        "\n",
        "  return final_data \n"
      ],
      "metadata": {
        "id": "ZQJuLyvDu1iA"
      },
      "execution_count": null,
      "outputs": []
    },
    {
      "cell_type": "code",
      "source": [
        "#now use the initial grid and an execution score by pitch type to get the expected utility of a chosen target \n",
        "def execution_score_adjusted_grid(init_grid, execution_score_dict):\n",
        "  #recall init_grid is batter and pitcher specific, so you don't need to worry about having multiple pitchers in init_grid,\n",
        "  #thus execution_score_dict is a dictionary mapping the execution score to the pitch types for that pitcher \n",
        "\n",
        "  #get the location indices corresponding to the smaller grid \n",
        "  li = init_grid.loc[(init_grid.plate_x_ft >= -1.5) & (init_grid.plate_x_ft <= 1.5) & (init_grid.plate_z_ft >= 1) & (init_grid.plate_z_ft <= 4), 'location_index'].unique()\n",
        "  final_data = pd.DataFrame()\n",
        "  #loop through pitch types \n",
        "  for pitch in list(execution_score_dict.keys()):\n",
        "    d = init_grid.loc[init_grid.pitch_type == pitch]\n",
        "    #loop through location indices and get the expected utility of swing and take given the pitcher tried to throw the given pitch to the given location index \n",
        "    var = execution_score_dict[pitch] ** 2\n",
        "    for location in li:\n",
        "      #get the mean for the normal distribution \n",
        "      mean = d.loc[d.location_index == location,['plate_x_ft', 'plate_z_ft']].values[0]\n",
        "      normal = mvnorm(mean, np.eye(2) * var)\n",
        "\n",
        "      #get likelihoods of all other pitches. \n",
        "      d['probability'] = normal.pdf(d[['plate_x_ft', 'plate_z_ft']].values)\n",
        "      #I'm a little confused on this, but these probabilities don't sum to 1, which I think is just because we're sampling the normal distribution in discrete space and pretending \n",
        "      #like that's a good representation of the pdf even though the pdf is continuous, so I need to normalize them. \n",
        "      d.probability = d.probability / d.probability.sum()\n",
        "\n",
        "      #now calculate expected swing utility and expected take utility \n",
        "      exp_take = (d.probability * d.take_utility).sum()\n",
        "      exp_swing = (d.probability * d.swing_utility).sum()\n",
        "\n",
        "      final_data = final_data.append(pd.DataFrame({'pitch_type': pitch, 'location_index': location, 'expected_swing_utility': exp_swing, 'expected_take_utility': exp_take}, index = [0]))\n",
        "\n",
        "  return final_data"
      ],
      "metadata": {
        "id": "PjtX6Ti1La1h"
      },
      "execution_count": null,
      "outputs": []
    },
    {
      "cell_type": "code",
      "source": [
        "#function that takes as input an A matrix and then solves for the nash equilibrium, returning the batter and pitcher strategy \n",
        "def get_strategies(df, plot = True):\n",
        "  #dataframe is a dataframe like final_data. Note it should already be subsetted to get the right batter, pitcher, and count.\n",
        " #get the right columns \n",
        "  A = df[['expected_swing_utility', 'expected_take_utility']].values\n",
        "\n",
        "  #solve the actual batter problem with cvxopt. Use the dual to get pitcher solution\n",
        "\n",
        "  c = np.hstack((np.zeros(A.shape[1]), np.array([-1.])))\n",
        "  c = matrix(c)\n",
        "\n",
        "  top_row = np.hstack((-1*A, np.array([np.ones(A.shape[0])]).T))\n",
        "  Is = -1* np.eye(A.shape[1])\n",
        "  bottom_row = np.hstack((Is, np.array([np.zeros(A.shape[1])]).T))\n",
        "  Aub = np.vstack((top_row, bottom_row))\n",
        "  G = matrix(Aub)\n",
        "\n",
        "  b_ub = np.zeros(Aub.shape[0])\n",
        "  h = matrix(b_ub)\n",
        "\n",
        "  Aeq = np.array([np.hstack((np.ones(A.shape[1]), np.array([0])))])\n",
        "  Aeq = matrix(Aeq)\n",
        "\n",
        "  #define beq, which is just 1 \n",
        "  b_eq = np.array([1.])\n",
        "  b = matrix(b_eq)\n",
        "\n",
        "  batter_sol = solvers.lp(c, G, h, Aeq, b)\n",
        "  print('Status: ' + batter_sol['status'])\n",
        "\n",
        "  #get the solutions\n",
        "  batter_strategy = np.ravel(batter_sol['x'])[:2]\n",
        "  batter_optimal = -1*np.ravel(batter_sol['primal objective'])\n",
        "  pitcher_strategy = np.ravel(batter_sol['z'])[:A.shape[0]]\n",
        "  df['pitch_decision_probability_cvxopt'] = pitcher_strategy\n",
        "\n",
        "  if plot:\n",
        "    #plots \n",
        "    plt.plot([i for i in range(A.shape[0])], pitcher_strategy)\n",
        "    plt.title('PItcher Decision Distribution')\n",
        "    plt.show()\n",
        "\n",
        "    pitches = df.pitch_type.unique()\n",
        "    fig = plt.figure(figsize = (18,4))\n",
        "    num_pitches = len(pitches)\n",
        "    for i in range(num_pitches):\n",
        "      ax = plt.subplot(1,num_pitches, i+1)\n",
        "      d = df.loc[df.pitch_type == pitches[i]]\n",
        "      #zero out values that are really small\n",
        "      d.loc[d.pitch_decision_probability_cvxopt < 1e-4, 'pitch_decision_probability_cvxopt'] = 0\n",
        "      d = d.loc[d.pitch_decision_probability_cvxopt > 0]\n",
        "      c = ax.scatter(-1*d.plate_x_ft.values, d.plate_z_ft.values, c = d.pitch_decision_probability_cvxopt.values, cmap = 'coolwarm', vmin = 0, vmax = 0.99)\n",
        "      fig.colorbar(c, ax=ax)\n",
        "      #plot the standard strize zone as well\n",
        "      ax.plot([-.71,.71,.71,-.71, -.71], [3.412, 3.412, 1.546,1.546, 3.412], 'k-')\n",
        "      ax.set_xlabel(\"Horizontal Location (Pitcher's Perspective)\")\n",
        "      ax.set_ylabel('Vertical Location')\n",
        "      ax.set_xlim(-1.6,1.6)\n",
        "      ax.set_ylim(0.9,4.1)\n",
        "      ax.set_title(pitches[i])\n",
        "\n",
        "    plt.tight_layout()\n",
        "    plt.show()\n",
        "  return df, batter_strategy, batter_optimal"
      ],
      "metadata": {
        "id": "fhk5xMz2iSUi"
      },
      "execution_count": null,
      "outputs": []
    },
    {
      "cell_type": "markdown",
      "source": [
        "#### **Brosseau HR off of Chapman**\n",
        "\n",
        "https://www.youtube.com/watch?v=XctGlhYnQb4"
      ],
      "metadata": {
        "id": "FTtJ1HWVLOCZ"
      }
    },
    {
      "cell_type": "code",
      "source": [
        "#get the at bat from pybaseball, the game was on october 9 2020, and it was the only\n",
        "#at bat between Chapman and Brosseau, so it should be easy to find in the data \n",
        "alds_game_5 = pybaseball.statcast(start_dt = '2020-10-09', end_dt = '2020-10-09')"
      ],
      "metadata": {
        "colab": {
          "base_uri": "https://localhost:8080/"
        },
        "id": "t9zN_ZQOMP7h",
        "outputId": "bf87525e-1c71-48f0-8505-6b147bde7141"
      },
      "execution_count": null,
      "outputs": [
        {
          "output_type": "stream",
          "name": "stdout",
          "text": [
            "This is a large query, it may take a moment to complete\n"
          ]
        },
        {
          "output_type": "stream",
          "name": "stderr",
          "text": [
            "100%|██████████| 1/1 [00:03<00:00,  3.35s/it]\n"
          ]
        }
      ]
    },
    {
      "cell_type": "code",
      "source": [
        "alds_game_5 = alds_game_5[needed_columns]\n",
        "alds_game_5 = organize_data(alds_game_5)"
      ],
      "metadata": {
        "id": "nKOfhng2PWKB"
      },
      "execution_count": null,
      "outputs": []
    },
    {
      "cell_type": "code",
      "source": [
        "bross_pa = alds_game_5.loc[(alds_game_5.batter == batters[0]) & (alds_game_5.pitcher == pitchers[0])]\n",
        "bross_pa['batter_index'] = batter_idxs[0]\n",
        "\n",
        "#run the model on the brosseau pa. Store the hidden state after the second to last pitch, so we can suggest what Chapman should have actually thrown.\n",
        "bross_pa = bross_pa[::-1]\n",
        "bross_pa['plate_x_ft'] = bross_pa.plate_x \n",
        "bross_pa['plate_z_ft'] = bross_pa.plate_z \n",
        "bross_pa[['release_speed', 'mx', 'mz', \n",
        "     'plate_x', 'plate_z',  'release_spin_rate']] = standardizer.transform(bross_pa[['release_speed', 'mx', 'mz', \n",
        "     'plate_x', 'plate_z', 'release_spin_rate']].values)\n",
        "\n",
        "#loop through the pitches\n",
        "pred_outcomes = torch.empty((1,9)).to(device)\n",
        "x_data = torch.tensor(bross_pa[features].values.astype(float), dtype = torch.float).to(device)\n",
        "y_data = torch.tensor(bross_pa.outcome.values, dtype = torch.long).to(device)\n",
        "h0 = model.init_hidden().to(device)\n",
        "for p in range(bross_pa.shape[0]):\n",
        "  yhat, h1 = model(x_data[p].unsqueeze(0), h0, y_data[p].unsqueeze(0))\n",
        "  pred_outcomes = torch.cat((pred_outcomes, yhat), dim = 0)\n",
        "  h0 = h1 \n",
        "  if p == bross_pa.shape[0] - 2:\n",
        "    #save the hidden state after the second to last pitch \n",
        "    h = h0 \n",
        "\n",
        "#now softmax the predictions and append onto the bross pa \n",
        "ypreds = nn.functional.softmax(pred_outcomes[1:,:], dim = 1).detach().cpu().numpy()\n",
        "bross_pa[['o0', 'o1', 'o2', 'o3', 'o4', 'o5', 'o6', 'o7', 'o8']] = ypreds \n",
        "\n",
        "#and calculate the utilities for each of those pitches \n",
        "bross_pa = get_utilities(bross_pa)"
      ],
      "metadata": {
        "id": "WBzx-QLJMfC2"
      },
      "execution_count": null,
      "outputs": []
    },
    {
      "cell_type": "code",
      "source": [
        "#now we can see the utilities of all of those pitches, and most interestingly the utility of the last pitch\n",
        "bross_pa.tail(1)[['player_name', 'batter', 'pitch_type', 'balls', 'strikes','plate_x', 'plate_z', 'plate_x_ft', 'plate_z_ft', 'outcome', 'o0', 'o1', 'o2', 'o3', 'o4', 'o5', 'o6', 'o7', 'o8', 'swing_utility', 'take_utility']]"
      ],
      "metadata": {
        "colab": {
          "base_uri": "https://localhost:8080/",
          "height": 162
        },
        "id": "GZCItmlRSFXd",
        "outputId": "ab5a4a83-a489-4cf3-8559-8c1d17714ca9"
      },
      "execution_count": null,
      "outputs": [
        {
          "output_type": "execute_result",
          "data": {
            "text/plain": [
              "          player_name  batter pitch_type  balls  strikes   plate_x   plate_z  \\\n",
              "168  Chapman, Aroldis  670712         FF      3        2 -0.690644 -0.165659   \n",
              "\n",
              "     plate_x_ft  plate_z_ft  outcome        o0        o1        o2        o3  \\\n",
              "168       -0.54        2.12        8  0.002091  0.084918  0.111242  0.476575   \n",
              "\n",
              "           o4        o5        o6        o7        o8  swing_utility  \\\n",
              "168  0.215287  0.069385  0.022547  0.001767  0.016188      -0.048694   \n",
              "\n",
              "     take_utility  \n",
              "168     -0.335929  "
            ],
            "text/html": [
              "\n",
              "  <div id=\"df-d9ed21dd-59e6-4d26-9513-098cf2bd1633\">\n",
              "    <div class=\"colab-df-container\">\n",
              "      <div>\n",
              "<style scoped>\n",
              "    .dataframe tbody tr th:only-of-type {\n",
              "        vertical-align: middle;\n",
              "    }\n",
              "\n",
              "    .dataframe tbody tr th {\n",
              "        vertical-align: top;\n",
              "    }\n",
              "\n",
              "    .dataframe thead th {\n",
              "        text-align: right;\n",
              "    }\n",
              "</style>\n",
              "<table border=\"1\" class=\"dataframe\">\n",
              "  <thead>\n",
              "    <tr style=\"text-align: right;\">\n",
              "      <th></th>\n",
              "      <th>player_name</th>\n",
              "      <th>batter</th>\n",
              "      <th>pitch_type</th>\n",
              "      <th>balls</th>\n",
              "      <th>strikes</th>\n",
              "      <th>plate_x</th>\n",
              "      <th>plate_z</th>\n",
              "      <th>plate_x_ft</th>\n",
              "      <th>plate_z_ft</th>\n",
              "      <th>outcome</th>\n",
              "      <th>o0</th>\n",
              "      <th>o1</th>\n",
              "      <th>o2</th>\n",
              "      <th>o3</th>\n",
              "      <th>o4</th>\n",
              "      <th>o5</th>\n",
              "      <th>o6</th>\n",
              "      <th>o7</th>\n",
              "      <th>o8</th>\n",
              "      <th>swing_utility</th>\n",
              "      <th>take_utility</th>\n",
              "    </tr>\n",
              "  </thead>\n",
              "  <tbody>\n",
              "    <tr>\n",
              "      <th>168</th>\n",
              "      <td>Chapman, Aroldis</td>\n",
              "      <td>670712</td>\n",
              "      <td>FF</td>\n",
              "      <td>3</td>\n",
              "      <td>2</td>\n",
              "      <td>-0.690644</td>\n",
              "      <td>-0.165659</td>\n",
              "      <td>-0.54</td>\n",
              "      <td>2.12</td>\n",
              "      <td>8</td>\n",
              "      <td>0.002091</td>\n",
              "      <td>0.084918</td>\n",
              "      <td>0.111242</td>\n",
              "      <td>0.476575</td>\n",
              "      <td>0.215287</td>\n",
              "      <td>0.069385</td>\n",
              "      <td>0.022547</td>\n",
              "      <td>0.001767</td>\n",
              "      <td>0.016188</td>\n",
              "      <td>-0.048694</td>\n",
              "      <td>-0.335929</td>\n",
              "    </tr>\n",
              "  </tbody>\n",
              "</table>\n",
              "</div>\n",
              "      <button class=\"colab-df-convert\" onclick=\"convertToInteractive('df-d9ed21dd-59e6-4d26-9513-098cf2bd1633')\"\n",
              "              title=\"Convert this dataframe to an interactive table.\"\n",
              "              style=\"display:none;\">\n",
              "        \n",
              "  <svg xmlns=\"http://www.w3.org/2000/svg\" height=\"24px\"viewBox=\"0 0 24 24\"\n",
              "       width=\"24px\">\n",
              "    <path d=\"M0 0h24v24H0V0z\" fill=\"none\"/>\n",
              "    <path d=\"M18.56 5.44l.94 2.06.94-2.06 2.06-.94-2.06-.94-.94-2.06-.94 2.06-2.06.94zm-11 1L8.5 8.5l.94-2.06 2.06-.94-2.06-.94L8.5 2.5l-.94 2.06-2.06.94zm10 10l.94 2.06.94-2.06 2.06-.94-2.06-.94-.94-2.06-.94 2.06-2.06.94z\"/><path d=\"M17.41 7.96l-1.37-1.37c-.4-.4-.92-.59-1.43-.59-.52 0-1.04.2-1.43.59L10.3 9.45l-7.72 7.72c-.78.78-.78 2.05 0 2.83L4 21.41c.39.39.9.59 1.41.59.51 0 1.02-.2 1.41-.59l7.78-7.78 2.81-2.81c.8-.78.8-2.07 0-2.86zM5.41 20L4 18.59l7.72-7.72 1.47 1.35L5.41 20z\"/>\n",
              "  </svg>\n",
              "      </button>\n",
              "      \n",
              "  <style>\n",
              "    .colab-df-container {\n",
              "      display:flex;\n",
              "      flex-wrap:wrap;\n",
              "      gap: 12px;\n",
              "    }\n",
              "\n",
              "    .colab-df-convert {\n",
              "      background-color: #E8F0FE;\n",
              "      border: none;\n",
              "      border-radius: 50%;\n",
              "      cursor: pointer;\n",
              "      display: none;\n",
              "      fill: #1967D2;\n",
              "      height: 32px;\n",
              "      padding: 0 0 0 0;\n",
              "      width: 32px;\n",
              "    }\n",
              "\n",
              "    .colab-df-convert:hover {\n",
              "      background-color: #E2EBFA;\n",
              "      box-shadow: 0px 1px 2px rgba(60, 64, 67, 0.3), 0px 1px 3px 1px rgba(60, 64, 67, 0.15);\n",
              "      fill: #174EA6;\n",
              "    }\n",
              "\n",
              "    [theme=dark] .colab-df-convert {\n",
              "      background-color: #3B4455;\n",
              "      fill: #D2E3FC;\n",
              "    }\n",
              "\n",
              "    [theme=dark] .colab-df-convert:hover {\n",
              "      background-color: #434B5C;\n",
              "      box-shadow: 0px 1px 3px 1px rgba(0, 0, 0, 0.15);\n",
              "      filter: drop-shadow(0px 1px 2px rgba(0, 0, 0, 0.3));\n",
              "      fill: #FFFFFF;\n",
              "    }\n",
              "  </style>\n",
              "\n",
              "      <script>\n",
              "        const buttonEl =\n",
              "          document.querySelector('#df-d9ed21dd-59e6-4d26-9513-098cf2bd1633 button.colab-df-convert');\n",
              "        buttonEl.style.display =\n",
              "          google.colab.kernel.accessAllowed ? 'block' : 'none';\n",
              "\n",
              "        async function convertToInteractive(key) {\n",
              "          const element = document.querySelector('#df-d9ed21dd-59e6-4d26-9513-098cf2bd1633');\n",
              "          const dataTable =\n",
              "            await google.colab.kernel.invokeFunction('convertToInteractive',\n",
              "                                                     [key], {});\n",
              "          if (!dataTable) return;\n",
              "\n",
              "          const docLinkHtml = 'Like what you see? Visit the ' +\n",
              "            '<a target=\"_blank\" href=https://colab.research.google.com/notebooks/data_table.ipynb>data table notebook</a>'\n",
              "            + ' to learn more about interactive tables.';\n",
              "          element.innerHTML = '';\n",
              "          dataTable['output_type'] = 'display_data';\n",
              "          await google.colab.output.renderOutput(dataTable, element);\n",
              "          const docLink = document.createElement('div');\n",
              "          docLink.innerHTML = docLinkHtml;\n",
              "          element.appendChild(docLink);\n",
              "        }\n",
              "      </script>\n",
              "    </div>\n",
              "  </div>\n",
              "  "
            ]
          },
          "metadata": {},
          "execution_count": 72
        }
      ]
    },
    {
      "cell_type": "code",
      "source": [
        "#we calculated the hidden state after the 9th pitch, so the pitch right before that last pitch, in the previous cell, so we can use that to get the utilities for all of Chapman's pitches \n",
        "#given the prior sequence\n",
        "igrid = initial_grid(batter_idxs[0], pitchers[0], h, bhand = 1., phand = 0., balls = 3, strikes = 2)\n",
        "#calculate the utilities for igrid \n",
        "igrid = get_utilities(igrid)"
      ],
      "metadata": {
        "id": "-gqXe8ql7Adf"
      },
      "execution_count": null,
      "outputs": []
    },
    {
      "cell_type": "code",
      "source": [
        "#get the execution grid with Chapman's execution scores\n",
        "exe_grid = execution_score_adjusted_grid(igrid, {'FF': 0.753, 'FS': 0.921, 'SI': 0.719, 'SL': 0.657})"
      ],
      "metadata": {
        "id": "SxDMfyH6Li6t"
      },
      "execution_count": null,
      "outputs": []
    },
    {
      "cell_type": "code",
      "source": [
        "final_data = igrid.merge(exe_grid, how = 'inner', on = ['pitch_type', 'location_index'])"
      ],
      "metadata": {
        "id": "lSc25qAoPBzn"
      },
      "execution_count": null,
      "outputs": []
    },
    {
      "cell_type": "code",
      "source": [
        "#now the A matrix of our game is given by the expected_swing_utility and expected_take_utility of the previous dataframe\n",
        "game_df, batter_strategy, utility = get_strategies(final_data)"
      ],
      "metadata": {
        "colab": {
          "base_uri": "https://localhost:8080/",
          "height": 571
        },
        "id": "0Y7X5ab6hrUp",
        "outputId": "bec44622-23c4-4e25-d1f0-72b6dac7565c"
      },
      "execution_count": null,
      "outputs": [
        {
          "output_type": "stream",
          "name": "stdout",
          "text": [
            "Status: optimal\n"
          ]
        },
        {
          "output_type": "display_data",
          "data": {
            "text/plain": [
              "<Figure size 432x288 with 1 Axes>"
            ],
            "image/png": "[encoded data removed]"
          },
          "metadata": {
            "needs_background": "light"
          }
        },
        {
          "output_type": "display_data",
          "data": {
            "text/plain": [
              "<Figure size 1296x288 with 8 Axes>"
            ],
            "image/png": "[encoded data removed]"
          },
          "metadata": {
            "needs_background": "light"
          }
        }
      ]
    },
    {
      "cell_type": "code",
      "source": [
        "game_df.loc[game_df.pitch_decision_probability_cvxopt > 0.001]"
      ],
      "metadata": {
        "colab": {
          "base_uri": "https://localhost:8080/",
          "height": 176
        },
        "id": "6bG_gZrdBnFz",
        "outputId": "ec53466c-6fb1-46d2-f5b1-73394158eb6d"
      },
      "execution_count": null,
      "outputs": [
        {
          "output_type": "execute_result",
          "data": {
            "text/plain": [
              "      release_speed   plate_x   plate_z        mx        mz  bat_handR  \\\n",
              "599       -0.111033  1.676628 -1.267857  0.362225 -1.055385        1.0   \n",
              "2030      -0.601416  0.324760  0.287780 -1.002816 -0.515481        1.0   \n",
              "\n",
              "      pit_handR  balls  strikes  release_spin_rate  location_index  \\\n",
              "599         0.0    3.0      2.0          -4.286220            1775   \n",
              "2030        0.0    3.0      2.0           0.098252            2630   \n",
              "\n",
              "      plate_x_ft  plate_z_ft  batter_index  pitcher_id pitch_type        o0  \\\n",
              "599     1.457746    1.042254           400      547973         FS  0.731172   \n",
              "2030    0.316901    2.563380           400      547973         SL  0.000343   \n",
              "\n",
              "            o1        o2        o3        o4        o5        o6        o7  \\\n",
              "599   0.000050  0.223307  0.029816  0.012147  0.003284  0.000198  0.000007   \n",
              "2030  0.107841  0.159650  0.353653  0.251126  0.068196  0.028680  0.002651   \n",
              "\n",
              "           o8  swing_utility  take_utility  total_utility  \\\n",
              "599   0.00002      -0.301496      0.275957       0.120750   \n",
              "2030  0.02786      -0.059939     -0.349010      -0.091212   \n",
              "\n",
              "      expected_swing_utility  expected_take_utility  \\\n",
              "599                -0.280523               0.219808   \n",
              "2030               -0.108965              -0.142249   \n",
              "\n",
              "      pitch_decision_probability_cvxopt  \n",
              "599                            0.062375  \n",
              "2030                           0.937625  "
            ],
            "text/html": [
              "\n",
              "  <div id=\"df-9f4ada0a-eb1b-4416-808b-6018e1ea56b3\">\n",
              "    <div class=\"colab-df-container\">\n",
              "      <div>\n",
              "<style scoped>\n",
              "    .dataframe tbody tr th:only-of-type {\n",
              "        vertical-align: middle;\n",
              "    }\n",
              "\n",
              "    .dataframe tbody tr th {\n",
              "        vertical-align: top;\n",
              "    }\n",
              "\n",
              "    .dataframe thead th {\n",
              "        text-align: right;\n",
              "    }\n",
              "</style>\n",
              "<table border=\"1\" class=\"dataframe\">\n",
              "  <thead>\n",
              "    <tr style=\"text-align: right;\">\n",
              "      <th></th>\n",
              "      <th>release_speed</th>\n",
              "      <th>plate_x</th>\n",
              "      <th>plate_z</th>\n",
              "      <th>mx</th>\n",
              "      <th>mz</th>\n",
              "      <th>bat_handR</th>\n",
              "      <th>pit_handR</th>\n",
              "      <th>balls</th>\n",
              "      <th>strikes</th>\n",
              "      <th>release_spin_rate</th>\n",
              "      <th>location_index</th>\n",
              "      <th>plate_x_ft</th>\n",
              "      <th>plate_z_ft</th>\n",
              "      <th>batter_index</th>\n",
              "      <th>pitcher_id</th>\n",
              "      <th>pitch_type</th>\n",
              "      <th>o0</th>\n",
              "      <th>o1</th>\n",
              "      <th>o2</th>\n",
              "      <th>o3</th>\n",
              "      <th>o4</th>\n",
              "      <th>o5</th>\n",
              "      <th>o6</th>\n",
              "      <th>o7</th>\n",
              "      <th>o8</th>\n",
              "      <th>swing_utility</th>\n",
              "      <th>take_utility</th>\n",
              "      <th>total_utility</th>\n",
              "      <th>expected_swing_utility</th>\n",
              "      <th>expected_take_utility</th>\n",
              "      <th>pitch_decision_probability_cvxopt</th>\n",
              "    </tr>\n",
              "  </thead>\n",
              "  <tbody>\n",
              "    <tr>\n",
              "      <th>599</th>\n",
              "      <td>-0.111033</td>\n",
              "      <td>1.676628</td>\n",
              "      <td>-1.267857</td>\n",
              "      <td>0.362225</td>\n",
              "      <td>-1.055385</td>\n",
              "      <td>1.0</td>\n",
              "      <td>0.0</td>\n",
              "      <td>3.0</td>\n",
              "      <td>2.0</td>\n",
              "      <td>-4.286220</td>\n",
              "      <td>1775</td>\n",
              "      <td>1.457746</td>\n",
              "      <td>1.042254</td>\n",
              "      <td>400</td>\n",
              "      <td>547973</td>\n",
              "      <td>FS</td>\n",
              "      <td>0.731172</td>\n",
              "      <td>0.000050</td>\n",
              "      <td>0.223307</td>\n",
              "      <td>0.029816</td>\n",
              "      <td>0.012147</td>\n",
              "      <td>0.003284</td>\n",
              "      <td>0.000198</td>\n",
              "      <td>0.000007</td>\n",
              "      <td>0.00002</td>\n",
              "      <td>-0.301496</td>\n",
              "      <td>0.275957</td>\n",
              "      <td>0.120750</td>\n",
              "      <td>-0.280523</td>\n",
              "      <td>0.219808</td>\n",
              "      <td>0.062375</td>\n",
              "    </tr>\n",
              "    <tr>\n",
              "      <th>2030</th>\n",
              "      <td>-0.601416</td>\n",
              "      <td>0.324760</td>\n",
              "      <td>0.287780</td>\n",
              "      <td>-1.002816</td>\n",
              "      <td>-0.515481</td>\n",
              "      <td>1.0</td>\n",
              "      <td>0.0</td>\n",
              "      <td>3.0</td>\n",
              "      <td>2.0</td>\n",
              "      <td>0.098252</td>\n",
              "      <td>2630</td>\n",
              "      <td>0.316901</td>\n",
              "      <td>2.563380</td>\n",
              "      <td>400</td>\n",
              "      <td>547973</td>\n",
              "      <td>SL</td>\n",
              "      <td>0.000343</td>\n",
              "      <td>0.107841</td>\n",
              "      <td>0.159650</td>\n",
              "      <td>0.353653</td>\n",
              "      <td>0.251126</td>\n",
              "      <td>0.068196</td>\n",
              "      <td>0.028680</td>\n",
              "      <td>0.002651</td>\n",
              "      <td>0.02786</td>\n",
              "      <td>-0.059939</td>\n",
              "      <td>-0.349010</td>\n",
              "      <td>-0.091212</td>\n",
              "      <td>-0.108965</td>\n",
              "      <td>-0.142249</td>\n",
              "      <td>0.937625</td>\n",
              "    </tr>\n",
              "  </tbody>\n",
              "</table>\n",
              "</div>\n",
              "      <button class=\"colab-df-convert\" onclick=\"convertToInteractive('df-9f4ada0a-eb1b-4416-808b-6018e1ea56b3')\"\n",
              "              title=\"Convert this dataframe to an interactive table.\"\n",
              "              style=\"display:none;\">\n",
              "        \n",
              "  <svg xmlns=\"http://www.w3.org/2000/svg\" height=\"24px\"viewBox=\"0 0 24 24\"\n",
              "       width=\"24px\">\n",
              "    <path d=\"M0 0h24v24H0V0z\" fill=\"none\"/>\n",
              "    <path d=\"M18.56 5.44l.94 2.06.94-2.06 2.06-.94-2.06-.94-.94-2.06-.94 2.06-2.06.94zm-11 1L8.5 8.5l.94-2.06 2.06-.94-2.06-.94L8.5 2.5l-.94 2.06-2.06.94zm10 10l.94 2.06.94-2.06 2.06-.94-2.06-.94-.94-2.06-.94 2.06-2.06.94z\"/><path d=\"M17.41 7.96l-1.37-1.37c-.4-.4-.92-.59-1.43-.59-.52 0-1.04.2-1.43.59L10.3 9.45l-7.72 7.72c-.78.78-.78 2.05 0 2.83L4 21.41c.39.39.9.59 1.41.59.51 0 1.02-.2 1.41-.59l7.78-7.78 2.81-2.81c.8-.78.8-2.07 0-2.86zM5.41 20L4 18.59l7.72-7.72 1.47 1.35L5.41 20z\"/>\n",
              "  </svg>\n",
              "      </button>\n",
              "      \n",
              "  <style>\n",
              "    .colab-df-container {\n",
              "      display:flex;\n",
              "      flex-wrap:wrap;\n",
              "      gap: 12px;\n",
              "    }\n",
              "\n",
              "    .colab-df-convert {\n",
              "      background-color: #E8F0FE;\n",
              "      border: none;\n",
              "      border-radius: 50%;\n",
              "      cursor: pointer;\n",
              "      display: none;\n",
              "      fill: #1967D2;\n",
              "      height: 32px;\n",
              "      padding: 0 0 0 0;\n",
              "      width: 32px;\n",
              "    }\n",
              "\n",
              "    .colab-df-convert:hover {\n",
              "      background-color: #E2EBFA;\n",
              "      box-shadow: 0px 1px 2px rgba(60, 64, 67, 0.3), 0px 1px 3px 1px rgba(60, 64, 67, 0.15);\n",
              "      fill: #174EA6;\n",
              "    }\n",
              "\n",
              "    [theme=dark] .colab-df-convert {\n",
              "      background-color: #3B4455;\n",
              "      fill: #D2E3FC;\n",
              "    }\n",
              "\n",
              "    [theme=dark] .colab-df-convert:hover {\n",
              "      background-color: #434B5C;\n",
              "      box-shadow: 0px 1px 3px 1px rgba(0, 0, 0, 0.15);\n",
              "      filter: drop-shadow(0px 1px 2px rgba(0, 0, 0, 0.3));\n",
              "      fill: #FFFFFF;\n",
              "    }\n",
              "  </style>\n",
              "\n",
              "      <script>\n",
              "        const buttonEl =\n",
              "          document.querySelector('#df-9f4ada0a-eb1b-4416-808b-6018e1ea56b3 button.colab-df-convert');\n",
              "        buttonEl.style.display =\n",
              "          google.colab.kernel.accessAllowed ? 'block' : 'none';\n",
              "\n",
              "        async function convertToInteractive(key) {\n",
              "          const element = document.querySelector('#df-9f4ada0a-eb1b-4416-808b-6018e1ea56b3');\n",
              "          const dataTable =\n",
              "            await google.colab.kernel.invokeFunction('convertToInteractive',\n",
              "                                                     [key], {});\n",
              "          if (!dataTable) return;\n",
              "\n",
              "          const docLinkHtml = 'Like what you see? Visit the ' +\n",
              "            '<a target=\"_blank\" href=https://colab.research.google.com/notebooks/data_table.ipynb>data table notebook</a>'\n",
              "            + ' to learn more about interactive tables.';\n",
              "          element.innerHTML = '';\n",
              "          dataTable['output_type'] = 'display_data';\n",
              "          await google.colab.output.renderOutput(dataTable, element);\n",
              "          const docLink = document.createElement('div');\n",
              "          docLink.innerHTML = docLinkHtml;\n",
              "          element.appendChild(docLink);\n",
              "        }\n",
              "      </script>\n",
              "    </div>\n",
              "  </div>\n",
              "  "
            ]
          },
          "metadata": {},
          "execution_count": 78
        }
      ]
    },
    {
      "cell_type": "code",
      "source": [
        "batter_strategy, utility"
      ],
      "metadata": {
        "id": "b2rFnqv4yZBl",
        "colab": {
          "base_uri": "https://localhost:8080/"
        },
        "outputId": "9eaa9ec1-a8cd-43e0-ef38-9d57ac1d458e"
      },
      "execution_count": null,
      "outputs": [
        {
          "output_type": "execute_result",
          "data": {
            "text/plain": [
              "(array([0.67849906, 0.32150094]), array([-0.11966595]))"
            ]
          },
          "metadata": {},
          "execution_count": 79
        }
      ]
    },
    {
      "cell_type": "code",
      "source": [
        "#better plots for paper \n",
        "plt.figure(figsize = (8.5,6))\n",
        "d = game_df.loc[(game_df.pitch_decision_probability_cvxopt > 0.00001)]\n",
        "fc = d.loc[d.pitch_type == 'FS']\n",
        "sl = d.loc[d.pitch_type == 'SL']\n",
        "plt.scatter(-1*sl.plate_x_ft.values[0], sl.plate_z_ft.values[0], marker = 'o', label = 'Optimal SL', c = sl.pitch_decision_probability_cvxopt.values[0], cmap = 'seismic', vmin = 0, vmax = 1)\n",
        "c = plt.scatter(-1*fc.plate_x_ft.values[0], fc.plate_z_ft.values[0], marker = '^', label = 'Optimal FS', c = fc.pitch_decision_probability_cvxopt.values[0], cmap = 'seismic', vmin = 0, vmax = 1)\n",
        "#plot the standard strize zone as well\n",
        "plt.plot([-.71,.71,.71,-.71, -.71], [3.412, 3.412, 1.546,1.546, 3.412], 'k-')\n",
        "#plot the actual pitch that Chapman threw \n",
        "plt.plot([0.54], [2.12], 'kx', label = \"Actual FF\")\n",
        "plt.xlabel(\"Horizontal Location (Pitcher's Perspective)\")\n",
        "plt.ylabel('Vertical Location')\n",
        "plt.xlim(-1.5,1.5)\n",
        "plt.ylim(1,4)\n",
        "cbar = plt.colorbar(c)\n",
        "cbar.set_label('Optimal Usage Rate')\n",
        "plt.legend()\n",
        "plt.title(\"Simultaneous Game: Chapman's Mixed Strategy\")\n",
        "plt.show()\n",
        "\n",
        "\n"
      ],
      "metadata": {
        "colab": {
          "base_uri": "https://localhost:8080/",
          "height": 404
        },
        "id": "fWXBNGWhB3qx",
        "outputId": "720a82d5-b8f9-4ba8-aead-28d1710cc392"
      },
      "execution_count": null,
      "outputs": [
        {
          "output_type": "display_data",
          "data": {
            "text/plain": [
              "<Figure size 612x432 with 2 Axes>"
            ],
            "image/png": "[encoded data removed]"
          },
          "metadata": {
            "needs_background": "light"
          }
        }
      ]
    },
    {
      "cell_type": "markdown",
      "source": [
        "So for this matchup, the equilibrium suggests that Chapman should throw a slider aimed middle height and a little bit on the outside half of the plate most of the time, like 94% of the time, and he should mix in a splitter way down and outside 6% of the time. Brosseau, on the other hand, should swing 68% of the time and take 32% of the time. The expected utility is -0.12, whereas the actual pitch Chapman threw had a swing utility of -0.05, and a take utility of -0.33. Note it seems odd that the game woudl recommend throwing that splitter way outside the zone like that, but if Brosseau is swinging most of the time, then most of the time he will end up swinging at that pitch, which will give Chapman a really great swing utility of -0.28, so basically Chapman is taking advantage of the fact that Brosseau is swinging a lot by occasionally mixing in that really terrible pitch. I imagine if you tried to increase the rate that you threw that pitch, Brosseau's strategy would change to have him swing less frequently and punish Chapman for throwing that pitch. Obviously in practice, Brosseau would almost never swing at a pitch that bad, which reveals the pitfalls of this game: we assume the batter makes his decision simultaneously with the pitcher, but he doesn't. He can observe part of the pitch. Brosseau isn't likely to ever actually swing at a pitch that bad, so it doesn't really make sense for Chapman to mix that in as part of his strategy. "
      ],
      "metadata": {
        "id": "WkkxHL-TBYQc"
      }
    },
    {
      "cell_type": "markdown",
      "source": [
        "#### **Anderson vs Mookie**"
      ],
      "metadata": {
        "id": "LI67c5UZCdpT"
      }
    },
    {
      "cell_type": "code",
      "source": [
        "#get the at bat from pybaseball, the game was on october 27 2020, and it was the only\n",
        "#at bat between Betts and Anderson\n",
        "ws_game_6 = pybaseball.statcast(start_dt = '2020-10-27', end_dt = '2020-10-27')"
      ],
      "metadata": {
        "id": "5Z3ZpTQIBUQa",
        "colab": {
          "base_uri": "https://localhost:8080/"
        },
        "outputId": "9dfd9b2c-92ca-41fe-cb3f-4e0fadf04b14"
      },
      "execution_count": null,
      "outputs": [
        {
          "output_type": "stream",
          "name": "stdout",
          "text": [
            "This is a large query, it may take a moment to complete\n"
          ]
        },
        {
          "output_type": "stream",
          "name": "stderr",
          "text": [
            "100%|██████████| 1/1 [00:01<00:00,  1.72s/it]\n"
          ]
        }
      ]
    },
    {
      "cell_type": "code",
      "source": [
        "ws_game_6 = ws_game_6[needed_columns]\n",
        "ws_game_6 = organize_data(ws_game_6)"
      ],
      "metadata": {
        "id": "sZAaCYQLDStt"
      },
      "execution_count": null,
      "outputs": []
    },
    {
      "cell_type": "code",
      "source": [
        "betts_pa = ws_game_6.loc[(ws_game_6.batter == batters[1]) & (ws_game_6.pitcher == pitchers[1])]\n",
        "betts_pa['batter_index'] = batter_idxs[0]\n",
        "\n",
        "#run the model on the betts pa. Store the hidden state after the second to last pitch, so we can suggest what Anderson should have actually thrown.\n",
        "betts_pa = betts_pa[::-1]\n",
        "betts_pa['plate_x_ft'] = betts_pa.plate_x \n",
        "betts_pa['plate_z_ft'] = betts_pa.plate_z \n",
        "betts_pa[['release_speed', 'mx', 'mz', \n",
        "     'plate_x', 'plate_z',  'release_spin_rate']] = standardizer.transform(betts_pa[['release_speed', 'mx', 'mz', \n",
        "     'plate_x', 'plate_z', 'release_spin_rate']].values)\n",
        "\n",
        "#loop through the pitches\n",
        "pred_outcomes = torch.empty((1,9)).to(device)\n",
        "x_data = torch.tensor(betts_pa[features].values.astype(float), dtype = torch.float).to(device)\n",
        "y_data = torch.tensor(betts_pa.outcome.values, dtype = torch.long).to(device)\n",
        "h0 = model.init_hidden().to(device)\n",
        "for p in range(betts_pa.shape[0]):\n",
        "  yhat, h1 = model(x_data[p].unsqueeze(0), h0, y_data[p].unsqueeze(0))\n",
        "  pred_outcomes = torch.cat((pred_outcomes, yhat), dim = 0)\n",
        "  h0 = h1 \n",
        "  if p == betts_pa.shape[0] - 2:\n",
        "    #save the hidden state after the second to last pitch \n",
        "    h = h0 \n",
        "\n",
        "#now softmax the predictions and append onto the bross pa \n",
        "ypreds = nn.functional.softmax(pred_outcomes[1:,:], dim = 1).detach().cpu().numpy()\n",
        "betts_pa[['o0', 'o1', 'o2', 'o3', 'o4', 'o5', 'o6', 'o7', 'o8']] = ypreds \n",
        "\n",
        "#and calculate the utilities for each of those pitches \n",
        "betts_pa = get_utilities(betts_pa)"
      ],
      "metadata": {
        "id": "lklPY_F5DcfB"
      },
      "execution_count": null,
      "outputs": []
    },
    {
      "cell_type": "code",
      "source": [
        "betts_pa[['player_name', 'batter', 'pitch_type', 'balls', 'strikes','plate_x', 'plate_z', 'plate_x_ft', 'plate_z_ft', 'outcome', 'o0', 'o1', 'o2', 'o3', 'o4', 'o5', 'o6', 'o7', 'o8', 'swing_utility', 'take_utility']]"
      ],
      "metadata": {
        "colab": {
          "base_uri": "https://localhost:8080/",
          "height": 143
        },
        "id": "sTjxtneDECp1",
        "outputId": "ac650ed0-6bdb-4f7d-c036-404876ac7c1d"
      },
      "execution_count": null,
      "outputs": [
        {
          "output_type": "execute_result",
          "data": {
            "text/plain": [
              "        player_name  batter pitch_type  balls  strikes   plate_x   plate_z  \\\n",
              "255  Anderson, Nick  605141         FF      0        0  1.442304  0.928616   \n",
              "237  Anderson, Nick  605141         FF      1        0  1.596351  0.539995   \n",
              "225  Anderson, Nick  605141         FF      2        0  0.375830  0.539995   \n",
              "\n",
              "     plate_x_ft  plate_z_ft  outcome        o0        o1        o2        o3  \\\n",
              "255        1.26        3.19        0  0.963052  0.003360  0.013706  0.014435   \n",
              "237        1.39        2.81        0  0.945325  0.001322  0.024427  0.021488   \n",
              "225        0.36        2.81        6  0.000334  0.190749  0.184170  0.393008   \n",
              "\n",
              "           o4        o5        o6        o7        o8  swing_utility  \\\n",
              "255  0.003946  0.001245  0.000199  0.000008  0.000049      -0.044683   \n",
              "237  0.005537  0.001574  0.000254  0.000011  0.000061      -0.057607   \n",
              "225  0.151570  0.040331  0.017686  0.001666  0.020486      -0.046255   \n",
              "\n",
              "     take_utility  \n",
              "255      0.033732  \n",
              "237      0.062842  \n",
              "225     -0.061699  "
            ],
            "text/html": [
              "\n",
              "  <div id=\"df-76641dcc-02a3-4db4-9e3c-cb350560f8c1\">\n",
              "    <div class=\"colab-df-container\">\n",
              "      <div>\n",
              "<style scoped>\n",
              "    .dataframe tbody tr th:only-of-type {\n",
              "        vertical-align: middle;\n",
              "    }\n",
              "\n",
              "    .dataframe tbody tr th {\n",
              "        vertical-align: top;\n",
              "    }\n",
              "\n",
              "    .dataframe thead th {\n",
              "        text-align: right;\n",
              "    }\n",
              "</style>\n",
              "<table border=\"1\" class=\"dataframe\">\n",
              "  <thead>\n",
              "    <tr style=\"text-align: right;\">\n",
              "      <th></th>\n",
              "      <th>player_name</th>\n",
              "      <th>batter</th>\n",
              "      <th>pitch_type</th>\n",
              "      <th>balls</th>\n",
              "      <th>strikes</th>\n",
              "      <th>plate_x</th>\n",
              "      <th>plate_z</th>\n",
              "      <th>plate_x_ft</th>\n",
              "      <th>plate_z_ft</th>\n",
              "      <th>outcome</th>\n",
              "      <th>o0</th>\n",
              "      <th>o1</th>\n",
              "      <th>o2</th>\n",
              "      <th>o3</th>\n",
              "      <th>o4</th>\n",
              "      <th>o5</th>\n",
              "      <th>o6</th>\n",
              "      <th>o7</th>\n",
              "      <th>o8</th>\n",
              "      <th>swing_utility</th>\n",
              "      <th>take_utility</th>\n",
              "    </tr>\n",
              "  </thead>\n",
              "  <tbody>\n",
              "    <tr>\n",
              "      <th>255</th>\n",
              "      <td>Anderson, Nick</td>\n",
              "      <td>605141</td>\n",
              "      <td>FF</td>\n",
              "      <td>0</td>\n",
              "      <td>0</td>\n",
              "      <td>1.442304</td>\n",
              "      <td>0.928616</td>\n",
              "      <td>1.26</td>\n",
              "      <td>3.19</td>\n",
              "      <td>0</td>\n",
              "      <td>0.963052</td>\n",
              "      <td>0.003360</td>\n",
              "      <td>0.013706</td>\n",
              "      <td>0.014435</td>\n",
              "      <td>0.003946</td>\n",
              "      <td>0.001245</td>\n",
              "      <td>0.000199</td>\n",
              "      <td>0.000008</td>\n",
              "      <td>0.000049</td>\n",
              "      <td>-0.044683</td>\n",
              "      <td>0.033732</td>\n",
              "    </tr>\n",
              "    <tr>\n",
              "      <th>237</th>\n",
              "      <td>Anderson, Nick</td>\n",
              "      <td>605141</td>\n",
              "      <td>FF</td>\n",
              "      <td>1</td>\n",
              "      <td>0</td>\n",
              "      <td>1.596351</td>\n",
              "      <td>0.539995</td>\n",
              "      <td>1.39</td>\n",
              "      <td>2.81</td>\n",
              "      <td>0</td>\n",
              "      <td>0.945325</td>\n",
              "      <td>0.001322</td>\n",
              "      <td>0.024427</td>\n",
              "      <td>0.021488</td>\n",
              "      <td>0.005537</td>\n",
              "      <td>0.001574</td>\n",
              "      <td>0.000254</td>\n",
              "      <td>0.000011</td>\n",
              "      <td>0.000061</td>\n",
              "      <td>-0.057607</td>\n",
              "      <td>0.062842</td>\n",
              "    </tr>\n",
              "    <tr>\n",
              "      <th>225</th>\n",
              "      <td>Anderson, Nick</td>\n",
              "      <td>605141</td>\n",
              "      <td>FF</td>\n",
              "      <td>2</td>\n",
              "      <td>0</td>\n",
              "      <td>0.375830</td>\n",
              "      <td>0.539995</td>\n",
              "      <td>0.36</td>\n",
              "      <td>2.81</td>\n",
              "      <td>6</td>\n",
              "      <td>0.000334</td>\n",
              "      <td>0.190749</td>\n",
              "      <td>0.184170</td>\n",
              "      <td>0.393008</td>\n",
              "      <td>0.151570</td>\n",
              "      <td>0.040331</td>\n",
              "      <td>0.017686</td>\n",
              "      <td>0.001666</td>\n",
              "      <td>0.020486</td>\n",
              "      <td>-0.046255</td>\n",
              "      <td>-0.061699</td>\n",
              "    </tr>\n",
              "  </tbody>\n",
              "</table>\n",
              "</div>\n",
              "      <button class=\"colab-df-convert\" onclick=\"convertToInteractive('df-76641dcc-02a3-4db4-9e3c-cb350560f8c1')\"\n",
              "              title=\"Convert this dataframe to an interactive table.\"\n",
              "              style=\"display:none;\">\n",
              "        \n",
              "  <svg xmlns=\"http://www.w3.org/2000/svg\" height=\"24px\"viewBox=\"0 0 24 24\"\n",
              "       width=\"24px\">\n",
              "    <path d=\"M0 0h24v24H0V0z\" fill=\"none\"/>\n",
              "    <path d=\"M18.56 5.44l.94 2.06.94-2.06 2.06-.94-2.06-.94-.94-2.06-.94 2.06-2.06.94zm-11 1L8.5 8.5l.94-2.06 2.06-.94-2.06-.94L8.5 2.5l-.94 2.06-2.06.94zm10 10l.94 2.06.94-2.06 2.06-.94-2.06-.94-.94-2.06-.94 2.06-2.06.94z\"/><path d=\"M17.41 7.96l-1.37-1.37c-.4-.4-.92-.59-1.43-.59-.52 0-1.04.2-1.43.59L10.3 9.45l-7.72 7.72c-.78.78-.78 2.05 0 2.83L4 21.41c.39.39.9.59 1.41.59.51 0 1.02-.2 1.41-.59l7.78-7.78 2.81-2.81c.8-.78.8-2.07 0-2.86zM5.41 20L4 18.59l7.72-7.72 1.47 1.35L5.41 20z\"/>\n",
              "  </svg>\n",
              "      </button>\n",
              "      \n",
              "  <style>\n",
              "    .colab-df-container {\n",
              "      display:flex;\n",
              "      flex-wrap:wrap;\n",
              "      gap: 12px;\n",
              "    }\n",
              "\n",
              "    .colab-df-convert {\n",
              "      background-color: #E8F0FE;\n",
              "      border: none;\n",
              "      border-radius: 50%;\n",
              "      cursor: pointer;\n",
              "      display: none;\n",
              "      fill: #1967D2;\n",
              "      height: 32px;\n",
              "      padding: 0 0 0 0;\n",
              "      width: 32px;\n",
              "    }\n",
              "\n",
              "    .colab-df-convert:hover {\n",
              "      background-color: #E2EBFA;\n",
              "      box-shadow: 0px 1px 2px rgba(60, 64, 67, 0.3), 0px 1px 3px 1px rgba(60, 64, 67, 0.15);\n",
              "      fill: #174EA6;\n",
              "    }\n",
              "\n",
              "    [theme=dark] .colab-df-convert {\n",
              "      background-color: #3B4455;\n",
              "      fill: #D2E3FC;\n",
              "    }\n",
              "\n",
              "    [theme=dark] .colab-df-convert:hover {\n",
              "      background-color: #434B5C;\n",
              "      box-shadow: 0px 1px 3px 1px rgba(0, 0, 0, 0.15);\n",
              "      filter: drop-shadow(0px 1px 2px rgba(0, 0, 0, 0.3));\n",
              "      fill: #FFFFFF;\n",
              "    }\n",
              "  </style>\n",
              "\n",
              "      <script>\n",
              "        const buttonEl =\n",
              "          document.querySelector('#df-76641dcc-02a3-4db4-9e3c-cb350560f8c1 button.colab-df-convert');\n",
              "        buttonEl.style.display =\n",
              "          google.colab.kernel.accessAllowed ? 'block' : 'none';\n",
              "\n",
              "        async function convertToInteractive(key) {\n",
              "          const element = document.querySelector('#df-76641dcc-02a3-4db4-9e3c-cb350560f8c1');\n",
              "          const dataTable =\n",
              "            await google.colab.kernel.invokeFunction('convertToInteractive',\n",
              "                                                     [key], {});\n",
              "          if (!dataTable) return;\n",
              "\n",
              "          const docLinkHtml = 'Like what you see? Visit the ' +\n",
              "            '<a target=\"_blank\" href=https://colab.research.google.com/notebooks/data_table.ipynb>data table notebook</a>'\n",
              "            + ' to learn more about interactive tables.';\n",
              "          element.innerHTML = '';\n",
              "          dataTable['output_type'] = 'display_data';\n",
              "          await google.colab.output.renderOutput(dataTable, element);\n",
              "          const docLink = document.createElement('div');\n",
              "          docLink.innerHTML = docLinkHtml;\n",
              "          element.appendChild(docLink);\n",
              "        }\n",
              "      </script>\n",
              "    </div>\n",
              "  </div>\n",
              "  "
            ]
          },
          "metadata": {},
          "execution_count": 39
        }
      ]
    },
    {
      "cell_type": "code",
      "source": [
        "#we calculated the hidden state after the 2nd pitch, so the pitch right before that last pitch, in the previous cell, so we can use that to get the utilities for all of Anderson's pitches \n",
        "#given the prior sequence\n",
        "igrid = initial_grid(batter_idxs[1], pitchers[1], h, bhand = 1., phand = 1., balls = 2, strikes = 0)\n",
        "#calculate the utilities for igrid \n",
        "igrid = get_utilities(igrid)"
      ],
      "metadata": {
        "id": "lYUYpAc0EDwe"
      },
      "execution_count": null,
      "outputs": []
    },
    {
      "cell_type": "code",
      "source": [
        "#get the execution grid with Anderson's execution scores\n",
        "exe_grid = execution_score_adjusted_grid(igrid, {'CU': 0.604, 'FF': 0.521})"
      ],
      "metadata": {
        "id": "tCkJPXfBHjKj"
      },
      "execution_count": null,
      "outputs": []
    },
    {
      "cell_type": "code",
      "source": [
        "final_data = igrid.merge(exe_grid, how = 'inner', on = ['pitch_type', 'location_index'])"
      ],
      "metadata": {
        "id": "o9u_LfMgH04H"
      },
      "execution_count": null,
      "outputs": []
    },
    {
      "cell_type": "code",
      "source": [
        "#now the A matrix of our game is given by the expected_swing_utility and expected_take_utility of the previous dataframe\n",
        "game_df, batter_strategy, utility = get_strategies(final_data)"
      ],
      "metadata": {
        "colab": {
          "base_uri": "https://localhost:8080/",
          "height": 578
        },
        "id": "2RZKAvspH4Pm",
        "outputId": "e5f87450-3652-4073-8bb6-514192999419"
      },
      "execution_count": null,
      "outputs": [
        {
          "output_type": "stream",
          "name": "stdout",
          "text": [
            "Status: optimal\n"
          ]
        },
        {
          "output_type": "display_data",
          "data": {
            "text/plain": [
              "<Figure size 432x288 with 1 Axes>"
            ],
            "image/png": "[encoded data removed]"
          },
          "metadata": {
            "needs_background": "light"
          }
        },
        {
          "output_type": "display_data",
          "data": {
            "text/plain": [
              "<Figure size 1296x288 with 4 Axes>"
            ],
            "image/png": "[encoded data removed]"
          },
          "metadata": {
            "needs_background": "light"
          }
        }
      ]
    },
    {
      "cell_type": "code",
      "source": [
        "game_df.loc[game_df.pitch_decision_probability_cvxopt > 0.001]"
      ],
      "metadata": {
        "colab": {
          "base_uri": "https://localhost:8080/",
          "height": 145
        },
        "id": "XJAFc5TdH8ci",
        "outputId": "927b819b-da07-4707-d2cb-2eb851711619"
      },
      "execution_count": null,
      "outputs": [
        {
          "output_type": "execute_result",
          "data": {
            "text/plain": [
              "     release_speed   plate_x   plate_z        mx        mz  bat_handR  \\\n",
              "852       0.662468  0.024344  0.158143 -0.355693  1.185223        1.0   \n",
              "\n",
              "     pit_handR  balls  strikes  release_spin_rate  location_index  plate_x_ft  \\\n",
              "852        1.0    2.0      0.0           -0.38463            2556     0.06338   \n",
              "\n",
              "     plate_z_ft  batter_index  pitcher_id pitch_type        o0        o1  \\\n",
              "852     2.43662            70      623433         FF  0.000199  0.223998   \n",
              "\n",
              "           o2        o3        o4        o5        o6       o7        o8  \\\n",
              "852  0.096256  0.352111  0.205041  0.059424  0.028231  0.00272  0.032019   \n",
              "\n",
              "     swing_utility  take_utility  expected_swing_utility  \\\n",
              "852      -0.024488     -0.061847               -0.042452   \n",
              "\n",
              "     expected_take_utility  pitch_decision_probability_cvxopt  \n",
              "852              -0.034787                                1.0  "
            ],
            "text/html": [
              "\n",
              "  <div id=\"df-20ba8867-7b05-46bd-bc6c-4466d0eb9bd7\">\n",
              "    <div class=\"colab-df-container\">\n",
              "      <div>\n",
              "<style scoped>\n",
              "    .dataframe tbody tr th:only-of-type {\n",
              "        vertical-align: middle;\n",
              "    }\n",
              "\n",
              "    .dataframe tbody tr th {\n",
              "        vertical-align: top;\n",
              "    }\n",
              "\n",
              "    .dataframe thead th {\n",
              "        text-align: right;\n",
              "    }\n",
              "</style>\n",
              "<table border=\"1\" class=\"dataframe\">\n",
              "  <thead>\n",
              "    <tr style=\"text-align: right;\">\n",
              "      <th></th>\n",
              "      <th>release_speed</th>\n",
              "      <th>plate_x</th>\n",
              "      <th>plate_z</th>\n",
              "      <th>mx</th>\n",
              "      <th>mz</th>\n",
              "      <th>bat_handR</th>\n",
              "      <th>pit_handR</th>\n",
              "      <th>balls</th>\n",
              "      <th>strikes</th>\n",
              "      <th>release_spin_rate</th>\n",
              "      <th>location_index</th>\n",
              "      <th>plate_x_ft</th>\n",
              "      <th>plate_z_ft</th>\n",
              "      <th>batter_index</th>\n",
              "      <th>pitcher_id</th>\n",
              "      <th>pitch_type</th>\n",
              "      <th>o0</th>\n",
              "      <th>o1</th>\n",
              "      <th>o2</th>\n",
              "      <th>o3</th>\n",
              "      <th>o4</th>\n",
              "      <th>o5</th>\n",
              "      <th>o6</th>\n",
              "      <th>o7</th>\n",
              "      <th>o8</th>\n",
              "      <th>swing_utility</th>\n",
              "      <th>take_utility</th>\n",
              "      <th>expected_swing_utility</th>\n",
              "      <th>expected_take_utility</th>\n",
              "      <th>pitch_decision_probability_cvxopt</th>\n",
              "    </tr>\n",
              "  </thead>\n",
              "  <tbody>\n",
              "    <tr>\n",
              "      <th>852</th>\n",
              "      <td>0.662468</td>\n",
              "      <td>0.024344</td>\n",
              "      <td>0.158143</td>\n",
              "      <td>-0.355693</td>\n",
              "      <td>1.185223</td>\n",
              "      <td>1.0</td>\n",
              "      <td>1.0</td>\n",
              "      <td>2.0</td>\n",
              "      <td>0.0</td>\n",
              "      <td>-0.38463</td>\n",
              "      <td>2556</td>\n",
              "      <td>0.06338</td>\n",
              "      <td>2.43662</td>\n",
              "      <td>70</td>\n",
              "      <td>623433</td>\n",
              "      <td>FF</td>\n",
              "      <td>0.000199</td>\n",
              "      <td>0.223998</td>\n",
              "      <td>0.096256</td>\n",
              "      <td>0.352111</td>\n",
              "      <td>0.205041</td>\n",
              "      <td>0.059424</td>\n",
              "      <td>0.028231</td>\n",
              "      <td>0.00272</td>\n",
              "      <td>0.032019</td>\n",
              "      <td>-0.024488</td>\n",
              "      <td>-0.061847</td>\n",
              "      <td>-0.042452</td>\n",
              "      <td>-0.034787</td>\n",
              "      <td>1.0</td>\n",
              "    </tr>\n",
              "  </tbody>\n",
              "</table>\n",
              "</div>\n",
              "      <button class=\"colab-df-convert\" onclick=\"convertToInteractive('df-20ba8867-7b05-46bd-bc6c-4466d0eb9bd7')\"\n",
              "              title=\"Convert this dataframe to an interactive table.\"\n",
              "              style=\"display:none;\">\n",
              "        \n",
              "  <svg xmlns=\"http://www.w3.org/2000/svg\" height=\"24px\"viewBox=\"0 0 24 24\"\n",
              "       width=\"24px\">\n",
              "    <path d=\"M0 0h24v24H0V0z\" fill=\"none\"/>\n",
              "    <path d=\"M18.56 5.44l.94 2.06.94-2.06 2.06-.94-2.06-.94-.94-2.06-.94 2.06-2.06.94zm-11 1L8.5 8.5l.94-2.06 2.06-.94-2.06-.94L8.5 2.5l-.94 2.06-2.06.94zm10 10l.94 2.06.94-2.06 2.06-.94-2.06-.94-.94-2.06-.94 2.06-2.06.94z\"/><path d=\"M17.41 7.96l-1.37-1.37c-.4-.4-.92-.59-1.43-.59-.52 0-1.04.2-1.43.59L10.3 9.45l-7.72 7.72c-.78.78-.78 2.05 0 2.83L4 21.41c.39.39.9.59 1.41.59.51 0 1.02-.2 1.41-.59l7.78-7.78 2.81-2.81c.8-.78.8-2.07 0-2.86zM5.41 20L4 18.59l7.72-7.72 1.47 1.35L5.41 20z\"/>\n",
              "  </svg>\n",
              "      </button>\n",
              "      \n",
              "  <style>\n",
              "    .colab-df-container {\n",
              "      display:flex;\n",
              "      flex-wrap:wrap;\n",
              "      gap: 12px;\n",
              "    }\n",
              "\n",
              "    .colab-df-convert {\n",
              "      background-color: #E8F0FE;\n",
              "      border: none;\n",
              "      border-radius: 50%;\n",
              "      cursor: pointer;\n",
              "      display: none;\n",
              "      fill: #1967D2;\n",
              "      height: 32px;\n",
              "      padding: 0 0 0 0;\n",
              "      width: 32px;\n",
              "    }\n",
              "\n",
              "    .colab-df-convert:hover {\n",
              "      background-color: #E2EBFA;\n",
              "      box-shadow: 0px 1px 2px rgba(60, 64, 67, 0.3), 0px 1px 3px 1px rgba(60, 64, 67, 0.15);\n",
              "      fill: #174EA6;\n",
              "    }\n",
              "\n",
              "    [theme=dark] .colab-df-convert {\n",
              "      background-color: #3B4455;\n",
              "      fill: #D2E3FC;\n",
              "    }\n",
              "\n",
              "    [theme=dark] .colab-df-convert:hover {\n",
              "      background-color: #434B5C;\n",
              "      box-shadow: 0px 1px 3px 1px rgba(0, 0, 0, 0.15);\n",
              "      filter: drop-shadow(0px 1px 2px rgba(0, 0, 0, 0.3));\n",
              "      fill: #FFFFFF;\n",
              "    }\n",
              "  </style>\n",
              "\n",
              "      <script>\n",
              "        const buttonEl =\n",
              "          document.querySelector('#df-20ba8867-7b05-46bd-bc6c-4466d0eb9bd7 button.colab-df-convert');\n",
              "        buttonEl.style.display =\n",
              "          google.colab.kernel.accessAllowed ? 'block' : 'none';\n",
              "\n",
              "        async function convertToInteractive(key) {\n",
              "          const element = document.querySelector('#df-20ba8867-7b05-46bd-bc6c-4466d0eb9bd7');\n",
              "          const dataTable =\n",
              "            await google.colab.kernel.invokeFunction('convertToInteractive',\n",
              "                                                     [key], {});\n",
              "          if (!dataTable) return;\n",
              "\n",
              "          const docLinkHtml = 'Like what you see? Visit the ' +\n",
              "            '<a target=\"_blank\" href=https://colab.research.google.com/notebooks/data_table.ipynb>data table notebook</a>'\n",
              "            + ' to learn more about interactive tables.';\n",
              "          element.innerHTML = '';\n",
              "          dataTable['output_type'] = 'display_data';\n",
              "          await google.colab.output.renderOutput(dataTable, element);\n",
              "          const docLink = document.createElement('div');\n",
              "          docLink.innerHTML = docLinkHtml;\n",
              "          element.appendChild(docLink);\n",
              "        }\n",
              "      </script>\n",
              "    </div>\n",
              "  </div>\n",
              "  "
            ]
          },
          "metadata": {},
          "execution_count": 44
        }
      ]
    },
    {
      "cell_type": "code",
      "source": [
        "#this being true shows that after factoring in exectuion score, no matter what pitch and location Anderson tries to throw, Mooke is better off taking it than swinging at it, which is why we have the pure strategy\n",
        "np.all(game_df.expected_swing_utility.values < game_df.expected_take_utility.values)"
      ],
      "metadata": {
        "colab": {
          "base_uri": "https://localhost:8080/"
        },
        "id": "2sgULAZyLOsx",
        "outputId": "0971798f-4552-4e67-a502-b29798f52060"
      },
      "execution_count": null,
      "outputs": [
        {
          "output_type": "execute_result",
          "data": {
            "text/plain": [
              "True"
            ]
          },
          "metadata": {},
          "execution_count": 45
        }
      ]
    },
    {
      "cell_type": "code",
      "source": [
        "batter_strategy, utility"
      ],
      "metadata": {
        "colab": {
          "base_uri": "https://localhost:8080/"
        },
        "id": "5GJTPwGfIFsa",
        "outputId": "de0e6eb8-79ce-4ccc-a912-e7bad25b6859"
      },
      "execution_count": null,
      "outputs": [
        {
          "output_type": "execute_result",
          "data": {
            "text/plain": [
              "(array([1.70300445e-09, 9.99999998e-01]), array([-0.03478668]))"
            ]
          },
          "metadata": {},
          "execution_count": 46
        }
      ]
    },
    {
      "cell_type": "markdown",
      "source": [
        "This is really surprising. First of all, Nick Anderson has a pure strategy to throw his fastball right down the middle. Second, Mookie has a pure strategy to take the pitch! Why might this be the case. Well for one, Mookie has a 2-0 count. It's not that bad to get a called strike on a 2-0 count, but it is really bad to get a ball in play out on a 2-0 count, and that is the most likely outcome, other than a foul ball, if Mookie swings at that pitch. Also, on the individual pitch itsself, Mookie is better off swinging, but when execution score gets factored in, Mookie ends up being a little better off taking. Intuitevely, Nick Anderson's fastball, particularly in 2020, had a lot of induced vertical break, which usually plays well at the top of the zone. However, if Anderson aims too high, he is likely to miss his target and throw a ball, but if he aims down the middle, he is unlikely to throw a ball, and if he misses high (or even low) that fastball is hoppy and will be tough for Mookie to make good contact on, so Anderson can get away with aiming down the middle. But also, Anderson knows that Mookie is going to take this pitch because that's Mookie's strategy given the execution scores for Anderson, so Anderson is best off throwing his pitch that is most likely going to be a strike, which is a fastball down the middle. In practice, if Anderson threw this pitch, Mookie would very likely swing, which he did in fact do when Anderson threw a very similar pitch, which is why this equilibrium point doesn't make a ton of sense."
      ],
      "metadata": {
        "id": "Q01CvEs6JFOc"
      }
    },
    {
      "cell_type": "markdown",
      "source": [
        "#### **Jansen and Phillips**"
      ],
      "metadata": {
        "id": "ct3YQnyp9kBI"
      }
    },
    {
      "cell_type": "code",
      "source": [
        "#get the at bat from pybaseball\n",
        "game = pybaseball.statcast(start_dt = '2020-10-24', end_dt = '2020-10-24')\n",
        "\n",
        "game = game[needed_columns]\n",
        "game = organize_data(game)"
      ],
      "metadata": {
        "colab": {
          "base_uri": "https://localhost:8080/"
        },
        "id": "gfBfDd_sJ1E3",
        "outputId": "52832c3d-1289-4ab0-89b9-1b8d8626433e"
      },
      "execution_count": null,
      "outputs": [
        {
          "output_type": "stream",
          "name": "stdout",
          "text": [
            "This is a large query, it may take a moment to complete\n"
          ]
        },
        {
          "output_type": "stream",
          "name": "stderr",
          "text": [
            "100%|██████████| 1/1 [00:01<00:00,  1.41s/it]\n"
          ]
        }
      ]
    },
    {
      "cell_type": "code",
      "source": [
        "pa = game.loc[(game.batter == batters[2]) & (game.pitcher == pitchers[2])]\n",
        "pa['batter_index'] = batter_idxs[2]\n",
        "\n",
        "#run the model on the pa\n",
        "pa = pa[::-1]\n",
        "pa['plate_x_ft'] = pa.plate_x \n",
        "pa['plate_z_ft'] = pa.plate_z \n",
        "pa[['release_speed', 'mx', 'mz', \n",
        "     'plate_x', 'plate_z', 'release_spin_rate']] = standardizer.transform(pa[['release_speed', 'mx', 'mz', \n",
        "     'plate_x', 'plate_z', 'release_spin_rate']].values)\n",
        "#loop through the pitches\n",
        "pred_outcomes = torch.empty((1,9)).to(device)\n",
        "x_data = torch.tensor(pa[features].values.astype(float), dtype = torch.float).to(device)\n",
        "y_data = torch.tensor(pa.outcome.values, dtype = torch.long).to(device)\n",
        "h0 = model.init_hidden().to(device)\n",
        "for p in range(pa.shape[0]):\n",
        "  yhat, h1 = model(x_data[p].unsqueeze(0), h0, y_data[p].unsqueeze(0))\n",
        "  pred_outcomes = torch.cat((pred_outcomes, yhat), dim = 0)\n",
        "  h0 = h1 \n",
        "  if p == pa.shape[0] - 2:\n",
        "    #save the hidden state after the second to last pitch \n",
        "    h = h0 \n",
        "\n",
        "#now softmax the predictions and append onto the bross pa \n",
        "ypreds = nn.functional.softmax(pred_outcomes[1:,:], dim = 1).detach().cpu().numpy()\n",
        "pa[['o0', 'o1', 'o2', 'o3', 'o4', 'o5', 'o6', 'o7', 'o8']] = ypreds \n",
        "\n",
        "#and calculate the utilities for each of those pitches \n",
        "pa = get_utilities(pa)"
      ],
      "metadata": {
        "id": "DKgZt7749rQZ"
      },
      "execution_count": null,
      "outputs": []
    },
    {
      "cell_type": "code",
      "source": [
        "pa[['player_name', 'batter', 'pitch_type', 'balls', 'strikes','plate_x', 'plate_z', 'plate_x_ft', 'plate_z_ft', 'outcome', 'o0', 'o1', 'o2', 'o3', 'o4', 'o5', 'o6', 'o7', 'o8', 'swing_utility', 'take_utility', 'total_utility']]"
      ],
      "metadata": {
        "colab": {
          "base_uri": "https://localhost:8080/",
          "height": 288
        },
        "id": "LtgC0Kow9yuz",
        "outputId": "24c1103a-35f5-4dbf-fff6-c386ee07c3bc"
      },
      "execution_count": null,
      "outputs": [
        {
          "output_type": "execute_result",
          "data": {
            "text/plain": [
              "        player_name  batter pitch_type  balls  strikes   plate_x   plate_z  \\\n",
              "141  Jansen, Kenley  621433         FC      0        0  1.146061 -0.073618   \n",
              "135  Jansen, Kenley  621433         FC      1        0  0.980166  0.785439   \n",
              "130  Jansen, Kenley  621433         SI      1        1 -1.046135 -0.462239   \n",
              "121  Jansen, Kenley  621433         FC      1        2  0.494327  0.130920   \n",
              "\n",
              "     plate_x_ft  plate_z_ft  outcome        o0        o1        o2        o3  \\\n",
              "141        1.01        2.21        0  0.359006  0.031942  0.126646  0.338238   \n",
              "135        0.87        3.05        1  0.338521  0.105583  0.069858  0.310959   \n",
              "130       -0.84        1.83        1  0.414153  0.459284  0.022835  0.056786   \n",
              "121        0.46        2.41        5  0.000996  0.026303  0.060885  0.420487   \n",
              "\n",
              "           o4        o5        o6        o7        o8  swing_utility  \\\n",
              "141  0.106224  0.027180  0.007599  0.000437  0.002729      -0.044253   \n",
              "135  0.130165  0.030707  0.009224  0.000622  0.004362      -0.060000   \n",
              "130  0.031509  0.010899  0.003123  0.000260  0.001151      -0.031176   \n",
              "121  0.337110  0.101409  0.029200  0.002181  0.021429       0.037448   \n",
              "\n",
              "     take_utility  total_utility  \n",
              "141      0.027709      -0.016120  \n",
              "135      0.036135      -0.017306  \n",
              "130     -0.011523      -0.014010  \n",
              "121     -0.196806       0.031053  "
            ],
            "text/html": [
              "\n",
              "  <div id=\"df-8a890160-8f7b-46fb-9a87-7fa2e43d668c\">\n",
              "    <div class=\"colab-df-container\">\n",
              "      <div>\n",
              "<style scoped>\n",
              "    .dataframe tbody tr th:only-of-type {\n",
              "        vertical-align: middle;\n",
              "    }\n",
              "\n",
              "    .dataframe tbody tr th {\n",
              "        vertical-align: top;\n",
              "    }\n",
              "\n",
              "    .dataframe thead th {\n",
              "        text-align: right;\n",
              "    }\n",
              "</style>\n",
              "<table border=\"1\" class=\"dataframe\">\n",
              "  <thead>\n",
              "    <tr style=\"text-align: right;\">\n",
              "      <th></th>\n",
              "      <th>player_name</th>\n",
              "      <th>batter</th>\n",
              "      <th>pitch_type</th>\n",
              "      <th>balls</th>\n",
              "      <th>strikes</th>\n",
              "      <th>plate_x</th>\n",
              "      <th>plate_z</th>\n",
              "      <th>plate_x_ft</th>\n",
              "      <th>plate_z_ft</th>\n",
              "      <th>outcome</th>\n",
              "      <th>o0</th>\n",
              "      <th>o1</th>\n",
              "      <th>o2</th>\n",
              "      <th>o3</th>\n",
              "      <th>o4</th>\n",
              "      <th>o5</th>\n",
              "      <th>o6</th>\n",
              "      <th>o7</th>\n",
              "      <th>o8</th>\n",
              "      <th>swing_utility</th>\n",
              "      <th>take_utility</th>\n",
              "      <th>total_utility</th>\n",
              "    </tr>\n",
              "  </thead>\n",
              "  <tbody>\n",
              "    <tr>\n",
              "      <th>141</th>\n",
              "      <td>Jansen, Kenley</td>\n",
              "      <td>621433</td>\n",
              "      <td>FC</td>\n",
              "      <td>0</td>\n",
              "      <td>0</td>\n",
              "      <td>1.146061</td>\n",
              "      <td>-0.073618</td>\n",
              "      <td>1.01</td>\n",
              "      <td>2.21</td>\n",
              "      <td>0</td>\n",
              "      <td>0.359006</td>\n",
              "      <td>0.031942</td>\n",
              "      <td>0.126646</td>\n",
              "      <td>0.338238</td>\n",
              "      <td>0.106224</td>\n",
              "      <td>0.027180</td>\n",
              "      <td>0.007599</td>\n",
              "      <td>0.000437</td>\n",
              "      <td>0.002729</td>\n",
              "      <td>-0.044253</td>\n",
              "      <td>0.027709</td>\n",
              "      <td>-0.016120</td>\n",
              "    </tr>\n",
              "    <tr>\n",
              "      <th>135</th>\n",
              "      <td>Jansen, Kenley</td>\n",
              "      <td>621433</td>\n",
              "      <td>FC</td>\n",
              "      <td>1</td>\n",
              "      <td>0</td>\n",
              "      <td>0.980166</td>\n",
              "      <td>0.785439</td>\n",
              "      <td>0.87</td>\n",
              "      <td>3.05</td>\n",
              "      <td>1</td>\n",
              "      <td>0.338521</td>\n",
              "      <td>0.105583</td>\n",
              "      <td>0.069858</td>\n",
              "      <td>0.310959</td>\n",
              "      <td>0.130165</td>\n",
              "      <td>0.030707</td>\n",
              "      <td>0.009224</td>\n",
              "      <td>0.000622</td>\n",
              "      <td>0.004362</td>\n",
              "      <td>-0.060000</td>\n",
              "      <td>0.036135</td>\n",
              "      <td>-0.017306</td>\n",
              "    </tr>\n",
              "    <tr>\n",
              "      <th>130</th>\n",
              "      <td>Jansen, Kenley</td>\n",
              "      <td>621433</td>\n",
              "      <td>SI</td>\n",
              "      <td>1</td>\n",
              "      <td>1</td>\n",
              "      <td>-1.046135</td>\n",
              "      <td>-0.462239</td>\n",
              "      <td>-0.84</td>\n",
              "      <td>1.83</td>\n",
              "      <td>1</td>\n",
              "      <td>0.414153</td>\n",
              "      <td>0.459284</td>\n",
              "      <td>0.022835</td>\n",
              "      <td>0.056786</td>\n",
              "      <td>0.031509</td>\n",
              "      <td>0.010899</td>\n",
              "      <td>0.003123</td>\n",
              "      <td>0.000260</td>\n",
              "      <td>0.001151</td>\n",
              "      <td>-0.031176</td>\n",
              "      <td>-0.011523</td>\n",
              "      <td>-0.014010</td>\n",
              "    </tr>\n",
              "    <tr>\n",
              "      <th>121</th>\n",
              "      <td>Jansen, Kenley</td>\n",
              "      <td>621433</td>\n",
              "      <td>FC</td>\n",
              "      <td>1</td>\n",
              "      <td>2</td>\n",
              "      <td>0.494327</td>\n",
              "      <td>0.130920</td>\n",
              "      <td>0.46</td>\n",
              "      <td>2.41</td>\n",
              "      <td>5</td>\n",
              "      <td>0.000996</td>\n",
              "      <td>0.026303</td>\n",
              "      <td>0.060885</td>\n",
              "      <td>0.420487</td>\n",
              "      <td>0.337110</td>\n",
              "      <td>0.101409</td>\n",
              "      <td>0.029200</td>\n",
              "      <td>0.002181</td>\n",
              "      <td>0.021429</td>\n",
              "      <td>0.037448</td>\n",
              "      <td>-0.196806</td>\n",
              "      <td>0.031053</td>\n",
              "    </tr>\n",
              "  </tbody>\n",
              "</table>\n",
              "</div>\n",
              "      <button class=\"colab-df-convert\" onclick=\"convertToInteractive('df-8a890160-8f7b-46fb-9a87-7fa2e43d668c')\"\n",
              "              title=\"Convert this dataframe to an interactive table.\"\n",
              "              style=\"display:none;\">\n",
              "        \n",
              "  <svg xmlns=\"http://www.w3.org/2000/svg\" height=\"24px\"viewBox=\"0 0 24 24\"\n",
              "       width=\"24px\">\n",
              "    <path d=\"M0 0h24v24H0V0z\" fill=\"none\"/>\n",
              "    <path d=\"M18.56 5.44l.94 2.06.94-2.06 2.06-.94-2.06-.94-.94-2.06-.94 2.06-2.06.94zm-11 1L8.5 8.5l.94-2.06 2.06-.94-2.06-.94L8.5 2.5l-.94 2.06-2.06.94zm10 10l.94 2.06.94-2.06 2.06-.94-2.06-.94-.94-2.06-.94 2.06-2.06.94z\"/><path d=\"M17.41 7.96l-1.37-1.37c-.4-.4-.92-.59-1.43-.59-.52 0-1.04.2-1.43.59L10.3 9.45l-7.72 7.72c-.78.78-.78 2.05 0 2.83L4 21.41c.39.39.9.59 1.41.59.51 0 1.02-.2 1.41-.59l7.78-7.78 2.81-2.81c.8-.78.8-2.07 0-2.86zM5.41 20L4 18.59l7.72-7.72 1.47 1.35L5.41 20z\"/>\n",
              "  </svg>\n",
              "      </button>\n",
              "      \n",
              "  <style>\n",
              "    .colab-df-container {\n",
              "      display:flex;\n",
              "      flex-wrap:wrap;\n",
              "      gap: 12px;\n",
              "    }\n",
              "\n",
              "    .colab-df-convert {\n",
              "      background-color: #E8F0FE;\n",
              "      border: none;\n",
              "      border-radius: 50%;\n",
              "      cursor: pointer;\n",
              "      display: none;\n",
              "      fill: #1967D2;\n",
              "      height: 32px;\n",
              "      padding: 0 0 0 0;\n",
              "      width: 32px;\n",
              "    }\n",
              "\n",
              "    .colab-df-convert:hover {\n",
              "      background-color: #E2EBFA;\n",
              "      box-shadow: 0px 1px 2px rgba(60, 64, 67, 0.3), 0px 1px 3px 1px rgba(60, 64, 67, 0.15);\n",
              "      fill: #174EA6;\n",
              "    }\n",
              "\n",
              "    [theme=dark] .colab-df-convert {\n",
              "      background-color: #3B4455;\n",
              "      fill: #D2E3FC;\n",
              "    }\n",
              "\n",
              "    [theme=dark] .colab-df-convert:hover {\n",
              "      background-color: #434B5C;\n",
              "      box-shadow: 0px 1px 3px 1px rgba(0, 0, 0, 0.15);\n",
              "      filter: drop-shadow(0px 1px 2px rgba(0, 0, 0, 0.3));\n",
              "      fill: #FFFFFF;\n",
              "    }\n",
              "  </style>\n",
              "\n",
              "      <script>\n",
              "        const buttonEl =\n",
              "          document.querySelector('#df-8a890160-8f7b-46fb-9a87-7fa2e43d668c button.colab-df-convert');\n",
              "        buttonEl.style.display =\n",
              "          google.colab.kernel.accessAllowed ? 'block' : 'none';\n",
              "\n",
              "        async function convertToInteractive(key) {\n",
              "          const element = document.querySelector('#df-8a890160-8f7b-46fb-9a87-7fa2e43d668c');\n",
              "          const dataTable =\n",
              "            await google.colab.kernel.invokeFunction('convertToInteractive',\n",
              "                                                     [key], {});\n",
              "          if (!dataTable) return;\n",
              "\n",
              "          const docLinkHtml = 'Like what you see? Visit the ' +\n",
              "            '<a target=\"_blank\" href=https://colab.research.google.com/notebooks/data_table.ipynb>data table notebook</a>'\n",
              "            + ' to learn more about interactive tables.';\n",
              "          element.innerHTML = '';\n",
              "          dataTable['output_type'] = 'display_data';\n",
              "          await google.colab.output.renderOutput(dataTable, element);\n",
              "          const docLink = document.createElement('div');\n",
              "          docLink.innerHTML = docLinkHtml;\n",
              "          element.appendChild(docLink);\n",
              "        }\n",
              "      </script>\n",
              "    </div>\n",
              "  </div>\n",
              "  "
            ]
          },
          "metadata": {},
          "execution_count": 27
        }
      ]
    },
    {
      "cell_type": "code",
      "source": [
        "#we calculated the hidden state after the 3rd pitch, so the pitch right before that last pitch, in the previous cell, so we can use that to get the utilities for all of Jansen's pitches \n",
        "#given the prior sequence\n",
        "igrid = initial_grid(batter_idxs[2], pitchers[2], h, bhand = 0., phand = 1., balls = 1, strikes = 2)\n",
        "#calculate the utilities for igrid \n",
        "igrid = get_utilities(igrid)"
      ],
      "metadata": {
        "id": "8EgbxjFu9149"
      },
      "execution_count": null,
      "outputs": []
    },
    {
      "cell_type": "code",
      "source": [
        "#get the execution grid with JAnsen's execution scores\n",
        "exe_grid = execution_score_adjusted_grid(igrid, {'FC': 0.51, 'SI':0.61, 'SL': 0.636})"
      ],
      "metadata": {
        "id": "u_CQ7vs5-BSD"
      },
      "execution_count": null,
      "outputs": []
    },
    {
      "cell_type": "code",
      "source": [
        "final_data = igrid.merge(exe_grid, how = 'inner', on = ['pitch_type', 'location_index'])"
      ],
      "metadata": {
        "id": "esTmjQ6S-Spe"
      },
      "execution_count": null,
      "outputs": []
    },
    {
      "cell_type": "code",
      "source": [
        "#now the A matrix of our game is given by the expected_swing_utility and expected_take_utility of the previous dataframe\n",
        "game_df, batter_strategy, utility = get_strategies(final_data)"
      ],
      "metadata": {
        "colab": {
          "base_uri": "https://localhost:8080/",
          "height": 578
        },
        "id": "-6i3NJBy-VxA",
        "outputId": "d7184c9f-fabb-40b5-a2fd-7190bdee65aa"
      },
      "execution_count": null,
      "outputs": [
        {
          "output_type": "stream",
          "name": "stdout",
          "text": [
            "Status: optimal\n"
          ]
        },
        {
          "output_type": "display_data",
          "data": {
            "text/plain": [
              "<Figure size 432x288 with 1 Axes>"
            ],
            "image/png": "[encoded data removed]"
          },
          "metadata": {
            "needs_background": "light"
          }
        },
        {
          "output_type": "display_data",
          "data": {
            "text/plain": [
              "<Figure size 1296x288 with 6 Axes>"
            ],
            "image/png": "[encoded data removed]"
          },
          "metadata": {
            "needs_background": "light"
          }
        }
      ]
    },
    {
      "cell_type": "code",
      "source": [
        "game_df.loc[game_df.pitch_decision_probability_cvxopt > 0.00001]"
      ],
      "metadata": {
        "colab": {
          "base_uri": "https://localhost:8080/",
          "height": 176
        },
        "id": "pj7sSYOp-aXk",
        "outputId": "4910ee10-0692-4fd7-e9f1-b485c82a2d20"
      },
      "execution_count": null,
      "outputs": [
        {
          "output_type": "execute_result",
          "data": {
            "text/plain": [
              "      release_speed   plate_x   plate_z        mx        mz  bat_handR  \\\n",
              "322        0.576707 -0.276071  0.417416  0.881953  1.029020        0.0   \n",
              "1175      -1.183171  1.676628 -1.267857  0.639602 -1.549497        0.0   \n",
              "\n",
              "      pit_handR  balls  strikes  release_spin_rate  location_index  \\\n",
              "322         1.0    1.0      2.0           1.140644            2698   \n",
              "1175        1.0    1.0      2.0           0.635130            1775   \n",
              "\n",
              "      plate_x_ft  plate_z_ft  batter_index  pitcher_id pitch_type        o0  \\\n",
              "322    -0.190141    2.690141           547      445276         FC  0.000866   \n",
              "1175    1.457746    1.042254           547      445276         SL  0.877354   \n",
              "\n",
              "            o1        o2        o3        o4        o5        o6        o7  \\\n",
              "322   0.105172  0.171215  0.455883  0.176303  0.049182  0.020074  0.001784   \n",
              "1175  0.000004  0.107951  0.012325  0.001694  0.000595  0.000069  0.000002   \n",
              "\n",
              "            o8  swing_utility  take_utility  total_utility  \\\n",
              "322   0.019520       0.006074     -0.203941      -0.016196   \n",
              "1175  0.000006      -0.180782      0.045999       0.018186   \n",
              "\n",
              "      expected_swing_utility  expected_take_utility  \\\n",
              "322                -0.012420              -0.128471   \n",
              "1175               -0.157382               0.039425   \n",
              "\n",
              "      pitch_decision_probability_cvxopt  \n",
              "322                            0.629061  \n",
              "1175                           0.370939  "
            ],
            "text/html": [
              "\n",
              "  <div id=\"df-bdba5c79-9b72-439d-b33e-d0dce1654fe8\">\n",
              "    <div class=\"colab-df-container\">\n",
              "      <div>\n",
              "<style scoped>\n",
              "    .dataframe tbody tr th:only-of-type {\n",
              "        vertical-align: middle;\n",
              "    }\n",
              "\n",
              "    .dataframe tbody tr th {\n",
              "        vertical-align: top;\n",
              "    }\n",
              "\n",
              "    .dataframe thead th {\n",
              "        text-align: right;\n",
              "    }\n",
              "</style>\n",
              "<table border=\"1\" class=\"dataframe\">\n",
              "  <thead>\n",
              "    <tr style=\"text-align: right;\">\n",
              "      <th></th>\n",
              "      <th>release_speed</th>\n",
              "      <th>plate_x</th>\n",
              "      <th>plate_z</th>\n",
              "      <th>mx</th>\n",
              "      <th>mz</th>\n",
              "      <th>bat_handR</th>\n",
              "      <th>pit_handR</th>\n",
              "      <th>balls</th>\n",
              "      <th>strikes</th>\n",
              "      <th>release_spin_rate</th>\n",
              "      <th>location_index</th>\n",
              "      <th>plate_x_ft</th>\n",
              "      <th>plate_z_ft</th>\n",
              "      <th>batter_index</th>\n",
              "      <th>pitcher_id</th>\n",
              "      <th>pitch_type</th>\n",
              "      <th>o0</th>\n",
              "      <th>o1</th>\n",
              "      <th>o2</th>\n",
              "      <th>o3</th>\n",
              "      <th>o4</th>\n",
              "      <th>o5</th>\n",
              "      <th>o6</th>\n",
              "      <th>o7</th>\n",
              "      <th>o8</th>\n",
              "      <th>swing_utility</th>\n",
              "      <th>take_utility</th>\n",
              "      <th>total_utility</th>\n",
              "      <th>expected_swing_utility</th>\n",
              "      <th>expected_take_utility</th>\n",
              "      <th>pitch_decision_probability_cvxopt</th>\n",
              "    </tr>\n",
              "  </thead>\n",
              "  <tbody>\n",
              "    <tr>\n",
              "      <th>322</th>\n",
              "      <td>0.576707</td>\n",
              "      <td>-0.276071</td>\n",
              "      <td>0.417416</td>\n",
              "      <td>0.881953</td>\n",
              "      <td>1.029020</td>\n",
              "      <td>0.0</td>\n",
              "      <td>1.0</td>\n",
              "      <td>1.0</td>\n",
              "      <td>2.0</td>\n",
              "      <td>1.140644</td>\n",
              "      <td>2698</td>\n",
              "      <td>-0.190141</td>\n",
              "      <td>2.690141</td>\n",
              "      <td>547</td>\n",
              "      <td>445276</td>\n",
              "      <td>FC</td>\n",
              "      <td>0.000866</td>\n",
              "      <td>0.105172</td>\n",
              "      <td>0.171215</td>\n",
              "      <td>0.455883</td>\n",
              "      <td>0.176303</td>\n",
              "      <td>0.049182</td>\n",
              "      <td>0.020074</td>\n",
              "      <td>0.001784</td>\n",
              "      <td>0.019520</td>\n",
              "      <td>0.006074</td>\n",
              "      <td>-0.203941</td>\n",
              "      <td>-0.016196</td>\n",
              "      <td>-0.012420</td>\n",
              "      <td>-0.128471</td>\n",
              "      <td>0.629061</td>\n",
              "    </tr>\n",
              "    <tr>\n",
              "      <th>1175</th>\n",
              "      <td>-1.183171</td>\n",
              "      <td>1.676628</td>\n",
              "      <td>-1.267857</td>\n",
              "      <td>0.639602</td>\n",
              "      <td>-1.549497</td>\n",
              "      <td>0.0</td>\n",
              "      <td>1.0</td>\n",
              "      <td>1.0</td>\n",
              "      <td>2.0</td>\n",
              "      <td>0.635130</td>\n",
              "      <td>1775</td>\n",
              "      <td>1.457746</td>\n",
              "      <td>1.042254</td>\n",
              "      <td>547</td>\n",
              "      <td>445276</td>\n",
              "      <td>SL</td>\n",
              "      <td>0.877354</td>\n",
              "      <td>0.000004</td>\n",
              "      <td>0.107951</td>\n",
              "      <td>0.012325</td>\n",
              "      <td>0.001694</td>\n",
              "      <td>0.000595</td>\n",
              "      <td>0.000069</td>\n",
              "      <td>0.000002</td>\n",
              "      <td>0.000006</td>\n",
              "      <td>-0.180782</td>\n",
              "      <td>0.045999</td>\n",
              "      <td>0.018186</td>\n",
              "      <td>-0.157382</td>\n",
              "      <td>0.039425</td>\n",
              "      <td>0.370939</td>\n",
              "    </tr>\n",
              "  </tbody>\n",
              "</table>\n",
              "</div>\n",
              "      <button class=\"colab-df-convert\" onclick=\"convertToInteractive('df-bdba5c79-9b72-439d-b33e-d0dce1654fe8')\"\n",
              "              title=\"Convert this dataframe to an interactive table.\"\n",
              "              style=\"display:none;\">\n",
              "        \n",
              "  <svg xmlns=\"http://www.w3.org/2000/svg\" height=\"24px\"viewBox=\"0 0 24 24\"\n",
              "       width=\"24px\">\n",
              "    <path d=\"M0 0h24v24H0V0z\" fill=\"none\"/>\n",
              "    <path d=\"M18.56 5.44l.94 2.06.94-2.06 2.06-.94-2.06-.94-.94-2.06-.94 2.06-2.06.94zm-11 1L8.5 8.5l.94-2.06 2.06-.94-2.06-.94L8.5 2.5l-.94 2.06-2.06.94zm10 10l.94 2.06.94-2.06 2.06-.94-2.06-.94-.94-2.06-.94 2.06-2.06.94z\"/><path d=\"M17.41 7.96l-1.37-1.37c-.4-.4-.92-.59-1.43-.59-.52 0-1.04.2-1.43.59L10.3 9.45l-7.72 7.72c-.78.78-.78 2.05 0 2.83L4 21.41c.39.39.9.59 1.41.59.51 0 1.02-.2 1.41-.59l7.78-7.78 2.81-2.81c.8-.78.8-2.07 0-2.86zM5.41 20L4 18.59l7.72-7.72 1.47 1.35L5.41 20z\"/>\n",
              "  </svg>\n",
              "      </button>\n",
              "      \n",
              "  <style>\n",
              "    .colab-df-container {\n",
              "      display:flex;\n",
              "      flex-wrap:wrap;\n",
              "      gap: 12px;\n",
              "    }\n",
              "\n",
              "    .colab-df-convert {\n",
              "      background-color: #E8F0FE;\n",
              "      border: none;\n",
              "      border-radius: 50%;\n",
              "      cursor: pointer;\n",
              "      display: none;\n",
              "      fill: #1967D2;\n",
              "      height: 32px;\n",
              "      padding: 0 0 0 0;\n",
              "      width: 32px;\n",
              "    }\n",
              "\n",
              "    .colab-df-convert:hover {\n",
              "      background-color: #E2EBFA;\n",
              "      box-shadow: 0px 1px 2px rgba(60, 64, 67, 0.3), 0px 1px 3px 1px rgba(60, 64, 67, 0.15);\n",
              "      fill: #174EA6;\n",
              "    }\n",
              "\n",
              "    [theme=dark] .colab-df-convert {\n",
              "      background-color: #3B4455;\n",
              "      fill: #D2E3FC;\n",
              "    }\n",
              "\n",
              "    [theme=dark] .colab-df-convert:hover {\n",
              "      background-color: #434B5C;\n",
              "      box-shadow: 0px 1px 3px 1px rgba(0, 0, 0, 0.15);\n",
              "      filter: drop-shadow(0px 1px 2px rgba(0, 0, 0, 0.3));\n",
              "      fill: #FFFFFF;\n",
              "    }\n",
              "  </style>\n",
              "\n",
              "      <script>\n",
              "        const buttonEl =\n",
              "          document.querySelector('#df-bdba5c79-9b72-439d-b33e-d0dce1654fe8 button.colab-df-convert');\n",
              "        buttonEl.style.display =\n",
              "          google.colab.kernel.accessAllowed ? 'block' : 'none';\n",
              "\n",
              "        async function convertToInteractive(key) {\n",
              "          const element = document.querySelector('#df-bdba5c79-9b72-439d-b33e-d0dce1654fe8');\n",
              "          const dataTable =\n",
              "            await google.colab.kernel.invokeFunction('convertToInteractive',\n",
              "                                                     [key], {});\n",
              "          if (!dataTable) return;\n",
              "\n",
              "          const docLinkHtml = 'Like what you see? Visit the ' +\n",
              "            '<a target=\"_blank\" href=https://colab.research.google.com/notebooks/data_table.ipynb>data table notebook</a>'\n",
              "            + ' to learn more about interactive tables.';\n",
              "          element.innerHTML = '';\n",
              "          dataTable['output_type'] = 'display_data';\n",
              "          await google.colab.output.renderOutput(dataTable, element);\n",
              "          const docLink = document.createElement('div');\n",
              "          docLink.innerHTML = docLinkHtml;\n",
              "          element.appendChild(docLink);\n",
              "        }\n",
              "      </script>\n",
              "    </div>\n",
              "  </div>\n",
              "  "
            ]
          },
          "metadata": {},
          "execution_count": 32
        }
      ]
    },
    {
      "cell_type": "code",
      "source": [
        "batter_strategy, utility"
      ],
      "metadata": {
        "colab": {
          "base_uri": "https://localhost:8080/"
        },
        "id": "iWUFfzbM-kpB",
        "outputId": "4e6808f5-51d0-43a6-8b4a-bacb1ab5748e"
      },
      "execution_count": null,
      "outputs": [
        {
          "output_type": "execute_result",
          "data": {
            "text/plain": [
              "(array([0.53665073, 0.46334927]), array([-0.06619186]))"
            ]
          },
          "metadata": {},
          "execution_count": 33
        }
      ]
    },
    {
      "cell_type": "code",
      "source": [
        "pa[['player_name', 'batter', 'pitch_type', 'balls', 'strikes','plate_x', 'plate_z', 'plate_x_ft', 'plate_z_ft', 'outcome', 'o0', 'o1', 'o2', 'o3', 'o4', 'o5', 'o6', 'o7', 'o8', 'swing_utility', 'take_utility']]"
      ],
      "metadata": {
        "colab": {
          "base_uri": "https://localhost:8080/",
          "height": 175
        },
        "id": "_8IsBC4g-ngc",
        "outputId": "a36706b2-46fd-4a45-a2c3-f9fec7270d0a"
      },
      "execution_count": null,
      "outputs": [
        {
          "output_type": "execute_result",
          "data": {
            "text/plain": [
              "        player_name  batter pitch_type  balls  strikes   plate_x   plate_z  \\\n",
              "141  Jansen, Kenley  621433         FC      0        0  1.146061 -0.073618   \n",
              "135  Jansen, Kenley  621433         FC      1        0  0.980166  0.785439   \n",
              "130  Jansen, Kenley  621433         SI      1        1 -1.046135 -0.462239   \n",
              "121  Jansen, Kenley  621433         FC      1        2  0.494327  0.130920   \n",
              "\n",
              "     plate_x_ft  plate_z_ft  outcome        o0        o1        o2        o3  \\\n",
              "141        1.01        2.21        0  0.359006  0.031942  0.126646  0.338238   \n",
              "135        0.87        3.05        1  0.338521  0.105583  0.069858  0.310959   \n",
              "130       -0.84        1.83        1  0.414153  0.459284  0.022835  0.056786   \n",
              "121        0.46        2.41        5  0.000996  0.026303  0.060885  0.420487   \n",
              "\n",
              "           o4        o5        o6        o7        o8  swing_utility  \\\n",
              "141  0.106224  0.027180  0.007599  0.000437  0.002729      -0.044253   \n",
              "135  0.130165  0.030707  0.009224  0.000622  0.004362      -0.060000   \n",
              "130  0.031509  0.010899  0.003123  0.000260  0.001151      -0.031176   \n",
              "121  0.337110  0.101409  0.029200  0.002181  0.021429       0.037448   \n",
              "\n",
              "     take_utility  \n",
              "141      0.027709  \n",
              "135      0.036135  \n",
              "130     -0.011523  \n",
              "121     -0.196806  "
            ],
            "text/html": [
              "\n",
              "  <div id=\"df-1bfd3718-6dce-4f24-830c-138d69c528b6\">\n",
              "    <div class=\"colab-df-container\">\n",
              "      <div>\n",
              "<style scoped>\n",
              "    .dataframe tbody tr th:only-of-type {\n",
              "        vertical-align: middle;\n",
              "    }\n",
              "\n",
              "    .dataframe tbody tr th {\n",
              "        vertical-align: top;\n",
              "    }\n",
              "\n",
              "    .dataframe thead th {\n",
              "        text-align: right;\n",
              "    }\n",
              "</style>\n",
              "<table border=\"1\" class=\"dataframe\">\n",
              "  <thead>\n",
              "    <tr style=\"text-align: right;\">\n",
              "      <th></th>\n",
              "      <th>player_name</th>\n",
              "      <th>batter</th>\n",
              "      <th>pitch_type</th>\n",
              "      <th>balls</th>\n",
              "      <th>strikes</th>\n",
              "      <th>plate_x</th>\n",
              "      <th>plate_z</th>\n",
              "      <th>plate_x_ft</th>\n",
              "      <th>plate_z_ft</th>\n",
              "      <th>outcome</th>\n",
              "      <th>o0</th>\n",
              "      <th>o1</th>\n",
              "      <th>o2</th>\n",
              "      <th>o3</th>\n",
              "      <th>o4</th>\n",
              "      <th>o5</th>\n",
              "      <th>o6</th>\n",
              "      <th>o7</th>\n",
              "      <th>o8</th>\n",
              "      <th>swing_utility</th>\n",
              "      <th>take_utility</th>\n",
              "    </tr>\n",
              "  </thead>\n",
              "  <tbody>\n",
              "    <tr>\n",
              "      <th>141</th>\n",
              "      <td>Jansen, Kenley</td>\n",
              "      <td>621433</td>\n",
              "      <td>FC</td>\n",
              "      <td>0</td>\n",
              "      <td>0</td>\n",
              "      <td>1.146061</td>\n",
              "      <td>-0.073618</td>\n",
              "      <td>1.01</td>\n",
              "      <td>2.21</td>\n",
              "      <td>0</td>\n",
              "      <td>0.359006</td>\n",
              "      <td>0.031942</td>\n",
              "      <td>0.126646</td>\n",
              "      <td>0.338238</td>\n",
              "      <td>0.106224</td>\n",
              "      <td>0.027180</td>\n",
              "      <td>0.007599</td>\n",
              "      <td>0.000437</td>\n",
              "      <td>0.002729</td>\n",
              "      <td>-0.044253</td>\n",
              "      <td>0.027709</td>\n",
              "    </tr>\n",
              "    <tr>\n",
              "      <th>135</th>\n",
              "      <td>Jansen, Kenley</td>\n",
              "      <td>621433</td>\n",
              "      <td>FC</td>\n",
              "      <td>1</td>\n",
              "      <td>0</td>\n",
              "      <td>0.980166</td>\n",
              "      <td>0.785439</td>\n",
              "      <td>0.87</td>\n",
              "      <td>3.05</td>\n",
              "      <td>1</td>\n",
              "      <td>0.338521</td>\n",
              "      <td>0.105583</td>\n",
              "      <td>0.069858</td>\n",
              "      <td>0.310959</td>\n",
              "      <td>0.130165</td>\n",
              "      <td>0.030707</td>\n",
              "      <td>0.009224</td>\n",
              "      <td>0.000622</td>\n",
              "      <td>0.004362</td>\n",
              "      <td>-0.060000</td>\n",
              "      <td>0.036135</td>\n",
              "    </tr>\n",
              "    <tr>\n",
              "      <th>130</th>\n",
              "      <td>Jansen, Kenley</td>\n",
              "      <td>621433</td>\n",
              "      <td>SI</td>\n",
              "      <td>1</td>\n",
              "      <td>1</td>\n",
              "      <td>-1.046135</td>\n",
              "      <td>-0.462239</td>\n",
              "      <td>-0.84</td>\n",
              "      <td>1.83</td>\n",
              "      <td>1</td>\n",
              "      <td>0.414153</td>\n",
              "      <td>0.459284</td>\n",
              "      <td>0.022835</td>\n",
              "      <td>0.056786</td>\n",
              "      <td>0.031509</td>\n",
              "      <td>0.010899</td>\n",
              "      <td>0.003123</td>\n",
              "      <td>0.000260</td>\n",
              "      <td>0.001151</td>\n",
              "      <td>-0.031176</td>\n",
              "      <td>-0.011523</td>\n",
              "    </tr>\n",
              "    <tr>\n",
              "      <th>121</th>\n",
              "      <td>Jansen, Kenley</td>\n",
              "      <td>621433</td>\n",
              "      <td>FC</td>\n",
              "      <td>1</td>\n",
              "      <td>2</td>\n",
              "      <td>0.494327</td>\n",
              "      <td>0.130920</td>\n",
              "      <td>0.46</td>\n",
              "      <td>2.41</td>\n",
              "      <td>5</td>\n",
              "      <td>0.000996</td>\n",
              "      <td>0.026303</td>\n",
              "      <td>0.060885</td>\n",
              "      <td>0.420487</td>\n",
              "      <td>0.337110</td>\n",
              "      <td>0.101409</td>\n",
              "      <td>0.029200</td>\n",
              "      <td>0.002181</td>\n",
              "      <td>0.021429</td>\n",
              "      <td>0.037448</td>\n",
              "      <td>-0.196806</td>\n",
              "    </tr>\n",
              "  </tbody>\n",
              "</table>\n",
              "</div>\n",
              "      <button class=\"colab-df-convert\" onclick=\"convertToInteractive('df-1bfd3718-6dce-4f24-830c-138d69c528b6')\"\n",
              "              title=\"Convert this dataframe to an interactive table.\"\n",
              "              style=\"display:none;\">\n",
              "        \n",
              "  <svg xmlns=\"http://www.w3.org/2000/svg\" height=\"24px\"viewBox=\"0 0 24 24\"\n",
              "       width=\"24px\">\n",
              "    <path d=\"M0 0h24v24H0V0z\" fill=\"none\"/>\n",
              "    <path d=\"M18.56 5.44l.94 2.06.94-2.06 2.06-.94-2.06-.94-.94-2.06-.94 2.06-2.06.94zm-11 1L8.5 8.5l.94-2.06 2.06-.94-2.06-.94L8.5 2.5l-.94 2.06-2.06.94zm10 10l.94 2.06.94-2.06 2.06-.94-2.06-.94-.94-2.06-.94 2.06-2.06.94z\"/><path d=\"M17.41 7.96l-1.37-1.37c-.4-.4-.92-.59-1.43-.59-.52 0-1.04.2-1.43.59L10.3 9.45l-7.72 7.72c-.78.78-.78 2.05 0 2.83L4 21.41c.39.39.9.59 1.41.59.51 0 1.02-.2 1.41-.59l7.78-7.78 2.81-2.81c.8-.78.8-2.07 0-2.86zM5.41 20L4 18.59l7.72-7.72 1.47 1.35L5.41 20z\"/>\n",
              "  </svg>\n",
              "      </button>\n",
              "      \n",
              "  <style>\n",
              "    .colab-df-container {\n",
              "      display:flex;\n",
              "      flex-wrap:wrap;\n",
              "      gap: 12px;\n",
              "    }\n",
              "\n",
              "    .colab-df-convert {\n",
              "      background-color: #E8F0FE;\n",
              "      border: none;\n",
              "      border-radius: 50%;\n",
              "      cursor: pointer;\n",
              "      display: none;\n",
              "      fill: #1967D2;\n",
              "      height: 32px;\n",
              "      padding: 0 0 0 0;\n",
              "      width: 32px;\n",
              "    }\n",
              "\n",
              "    .colab-df-convert:hover {\n",
              "      background-color: #E2EBFA;\n",
              "      box-shadow: 0px 1px 2px rgba(60, 64, 67, 0.3), 0px 1px 3px 1px rgba(60, 64, 67, 0.15);\n",
              "      fill: #174EA6;\n",
              "    }\n",
              "\n",
              "    [theme=dark] .colab-df-convert {\n",
              "      background-color: #3B4455;\n",
              "      fill: #D2E3FC;\n",
              "    }\n",
              "\n",
              "    [theme=dark] .colab-df-convert:hover {\n",
              "      background-color: #434B5C;\n",
              "      box-shadow: 0px 1px 3px 1px rgba(0, 0, 0, 0.15);\n",
              "      filter: drop-shadow(0px 1px 2px rgba(0, 0, 0, 0.3));\n",
              "      fill: #FFFFFF;\n",
              "    }\n",
              "  </style>\n",
              "\n",
              "      <script>\n",
              "        const buttonEl =\n",
              "          document.querySelector('#df-1bfd3718-6dce-4f24-830c-138d69c528b6 button.colab-df-convert');\n",
              "        buttonEl.style.display =\n",
              "          google.colab.kernel.accessAllowed ? 'block' : 'none';\n",
              "\n",
              "        async function convertToInteractive(key) {\n",
              "          const element = document.querySelector('#df-1bfd3718-6dce-4f24-830c-138d69c528b6');\n",
              "          const dataTable =\n",
              "            await google.colab.kernel.invokeFunction('convertToInteractive',\n",
              "                                                     [key], {});\n",
              "          if (!dataTable) return;\n",
              "\n",
              "          const docLinkHtml = 'Like what you see? Visit the ' +\n",
              "            '<a target=\"_blank\" href=https://colab.research.google.com/notebooks/data_table.ipynb>data table notebook</a>'\n",
              "            + ' to learn more about interactive tables.';\n",
              "          element.innerHTML = '';\n",
              "          dataTable['output_type'] = 'display_data';\n",
              "          await google.colab.output.renderOutput(dataTable, element);\n",
              "          const docLink = document.createElement('div');\n",
              "          docLink.innerHTML = docLinkHtml;\n",
              "          element.appendChild(docLink);\n",
              "        }\n",
              "      </script>\n",
              "    </div>\n",
              "  </div>\n",
              "  "
            ]
          },
          "metadata": {},
          "execution_count": 34
        }
      ]
    },
    {
      "cell_type": "code",
      "source": [
        "#better plots for paper \n",
        "plt.figure(figsize = (8.5,6))\n",
        "d = game_df.loc[(game_df.pitch_decision_probability_cvxopt > 0.00001)]\n",
        "fc = d.loc[d.pitch_type == 'FC']\n",
        "sl = d.loc[d.pitch_type == 'SL']\n",
        "plt.scatter(-1*sl.plate_x_ft.values[0], sl.plate_z_ft.values[0], marker = 'o', label = 'Optimal SL', c = sl.pitch_decision_probability_cvxopt.values[0], cmap = 'seismic', vmin = 0.2, vmax = 0.7)\n",
        "c = plt.scatter(-1*fc.plate_x_ft.values[0], fc.plate_z_ft.values[0], marker = '^', label = 'Optimal FC', c = fc.pitch_decision_probability_cvxopt.values[0], cmap = 'seismic', vmin = 0.2, vmax = 0.7)\n",
        "#plot the standard strize zone as well\n",
        "plt.plot([-.71,.71,.71,-.71, -.71], [3.412, 3.412, 1.546,1.546, 3.412], 'k-')\n",
        "#plot the actual pitch that Jansen threw \n",
        "plt.plot([-0.46], [2.41], 'kx', label = \"Actual FC\")\n",
        "plt.xlabel(\"Horizontal Location (Pitcher's Perspective)\")\n",
        "plt.ylabel('Vertical Location')\n",
        "plt.xlim(-1.5,1.5)\n",
        "plt.ylim(1,4)\n",
        "cbar = plt.colorbar(c)\n",
        "cbar.set_label('Optimal Usage Rate')\n",
        "plt.legend()\n",
        "plt.title(\"(a) Jansen's Nash Equilibrium\")\n",
        "plt.show()\n",
        "\n",
        "\n"
      ],
      "metadata": {
        "colab": {
          "base_uri": "https://localhost:8080/",
          "height": 404
        },
        "id": "aOIp9x0sTQ0M",
        "outputId": "ca912d26-229f-45df-f285-e472327c0d78"
      },
      "execution_count": null,
      "outputs": [
        {
          "output_type": "display_data",
          "data": {
            "text/plain": [
              "<Figure size 612x432 with 2 Axes>"
            ],
            "image/png": "[encoded data removed]"
          },
          "metadata": {
            "needs_background": "light"
          }
        }
      ]
    },
    {
      "cell_type": "code",
      "source": [],
      "metadata": {
        "id": "OQ-WusBPqCxM"
      },
      "execution_count": null,
      "outputs": []
    }
  ]
}