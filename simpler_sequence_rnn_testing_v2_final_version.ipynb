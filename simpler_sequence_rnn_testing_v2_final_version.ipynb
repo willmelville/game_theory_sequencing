{
  "cells": [
    {
      "cell_type": "markdown",
      "metadata": {
        "id": "view-in-github",
        "colab_type": "text"
      },
      "source": [
        "<a href=\"https://colab.research.google.com/github/willmelville/game_theory_sequencing/blob/main/simpler_sequence_rnn_testing_v2_final_version.ipynb\" target=\"_parent\"><img src=\"https://colab.research.google.com/assets/colab-badge.svg\" alt=\"Open In Colab\"/></a>"
      ]
    },
    {
      "cell_type": "code",
      "execution_count": null,
      "metadata": {
        "colab": {
          "base_uri": "https://localhost:8080/"
        },
        "id": "t3709DgzdKvD",
        "outputId": "5c2baac5-5947-4afd-e6dd-e856c248e2fd"
      },
      "outputs": [
        {
          "output_type": "stream",
          "name": "stdout",
          "text": [
            "Looking in indexes: https://pypi.org/simple, https://us-python.pkg.dev/colab-wheels/public/simple/\n",
            "Collecting pybaseball\n",
            "  Downloading pybaseball-2.2.1-py3-none-any.whl (415 kB)\n",
            "\u001b[K     |████████████████████████████████| 415 kB 6.4 MB/s \n",
            "\u001b[?25hRequirement already satisfied: lxml>=4.2.1 in /usr/local/lib/python3.7/dist-packages (from pybaseball) (4.9.1)\n",
            "Requirement already satisfied: scipy>=1.4.0 in /usr/local/lib/python3.7/dist-packages (from pybaseball) (1.7.3)\n",
            "Requirement already satisfied: pyarrow>=1.0.1 in /usr/local/lib/python3.7/dist-packages (from pybaseball) (9.0.0)\n",
            "Requirement already satisfied: requests>=2.18.1 in /usr/local/lib/python3.7/dist-packages (from pybaseball) (2.23.0)\n",
            "Requirement already satisfied: beautifulsoup4>=4.4.0 in /usr/local/lib/python3.7/dist-packages (from pybaseball) (4.6.3)\n",
            "Requirement already satisfied: attrs>=20.3.0 in /usr/local/lib/python3.7/dist-packages (from pybaseball) (22.1.0)\n",
            "Collecting pygithub>=1.51\n",
            "  Downloading PyGithub-1.57-py3-none-any.whl (297 kB)\n",
            "\u001b[K     |████████████████████████████████| 297 kB 65.2 MB/s \n",
            "\u001b[?25hRequirement already satisfied: pandas>=1.0.3 in /usr/local/lib/python3.7/dist-packages (from pybaseball) (1.3.5)\n",
            "Requirement already satisfied: tqdm>=4.50.0 in /usr/local/lib/python3.7/dist-packages (from pybaseball) (4.64.1)\n",
            "Requirement already satisfied: matplotlib>=2.0.0 in /usr/local/lib/python3.7/dist-packages (from pybaseball) (3.2.2)\n",
            "Requirement already satisfied: numpy>=1.13.0 in /usr/local/lib/python3.7/dist-packages (from pybaseball) (1.21.6)\n",
            "Requirement already satisfied: cycler>=0.10 in /usr/local/lib/python3.7/dist-packages (from matplotlib>=2.0.0->pybaseball) (0.11.0)\n",
            "Requirement already satisfied: python-dateutil>=2.1 in /usr/local/lib/python3.7/dist-packages (from matplotlib>=2.0.0->pybaseball) (2.8.2)\n",
            "Requirement already satisfied: kiwisolver>=1.0.1 in /usr/local/lib/python3.7/dist-packages (from matplotlib>=2.0.0->pybaseball) (1.4.4)\n",
            "Requirement already satisfied: pyparsing!=2.0.4,!=2.1.2,!=2.1.6,>=2.0.1 in /usr/local/lib/python3.7/dist-packages (from matplotlib>=2.0.0->pybaseball) (3.0.9)\n",
            "Requirement already satisfied: typing-extensions in /usr/local/lib/python3.7/dist-packages (from kiwisolver>=1.0.1->matplotlib>=2.0.0->pybaseball) (4.1.1)\n",
            "Requirement already satisfied: pytz>=2017.3 in /usr/local/lib/python3.7/dist-packages (from pandas>=1.0.3->pybaseball) (2022.6)\n",
            "Collecting pynacl>=1.4.0\n",
            "  Downloading PyNaCl-1.5.0-cp36-abi3-manylinux_2_17_x86_64.manylinux2014_x86_64.manylinux_2_24_x86_64.whl (856 kB)\n",
            "\u001b[K     |████████████████████████████████| 856 kB 41.7 MB/s \n",
            "\u001b[?25hCollecting pyjwt>=2.4.0\n",
            "  Downloading PyJWT-2.6.0-py3-none-any.whl (20 kB)\n",
            "Collecting deprecated\n",
            "  Downloading Deprecated-1.2.13-py2.py3-none-any.whl (9.6 kB)\n",
            "Requirement already satisfied: cffi>=1.4.1 in /usr/local/lib/python3.7/dist-packages (from pynacl>=1.4.0->pygithub>=1.51->pybaseball) (1.15.1)\n",
            "Requirement already satisfied: pycparser in /usr/local/lib/python3.7/dist-packages (from cffi>=1.4.1->pynacl>=1.4.0->pygithub>=1.51->pybaseball) (2.21)\n",
            "Requirement already satisfied: six>=1.5 in /usr/local/lib/python3.7/dist-packages (from python-dateutil>=2.1->matplotlib>=2.0.0->pybaseball) (1.15.0)\n",
            "Requirement already satisfied: chardet<4,>=3.0.2 in /usr/local/lib/python3.7/dist-packages (from requests>=2.18.1->pybaseball) (3.0.4)\n",
            "Requirement already satisfied: idna<3,>=2.5 in /usr/local/lib/python3.7/dist-packages (from requests>=2.18.1->pybaseball) (2.10)\n",
            "Requirement already satisfied: certifi>=2017.4.17 in /usr/local/lib/python3.7/dist-packages (from requests>=2.18.1->pybaseball) (2022.9.24)\n",
            "Requirement already satisfied: urllib3!=1.25.0,!=1.25.1,<1.26,>=1.21.1 in /usr/local/lib/python3.7/dist-packages (from requests>=2.18.1->pybaseball) (1.24.3)\n",
            "Requirement already satisfied: wrapt<2,>=1.10 in /usr/local/lib/python3.7/dist-packages (from deprecated->pygithub>=1.51->pybaseball) (1.14.1)\n",
            "Installing collected packages: pynacl, pyjwt, deprecated, pygithub, pybaseball\n",
            "Successfully installed deprecated-1.2.13 pybaseball-2.2.1 pygithub-1.57 pyjwt-2.6.0 pynacl-1.5.0\n"
          ]
        }
      ],
      "source": [
        "!pip install pybaseball"
      ]
    },
    {
      "cell_type": "code",
      "execution_count": null,
      "metadata": {
        "id": "13VYp0G7dlB_"
      },
      "outputs": [],
      "source": [
        "import pandas as pd\n",
        "import numpy as np\n",
        "import matplotlib.pyplot as plt\n",
        "import seaborn as sns\n",
        "pd.set_option('display.max_columns', None)\n",
        "import torch\n",
        "import torch.nn as nn \n",
        "from torchvision import datasets, transforms\n",
        "from torch.utils.data import Dataset, DataLoader\n",
        "import tensorflow as tf\n",
        "from sklearn.preprocessing import StandardScaler, MinMaxScaler\n",
        "import pybaseball\n",
        "from torch.nn.functional import log_softmax, pad\n",
        "import copy\n",
        "import gc\n",
        "import torch.optim as optim\n",
        "from tqdm import tqdm\n",
        "from IPython.core.ultratb import AutoFormattedTB\n",
        "__ITB__ = AutoFormattedTB(mode = 'Verbose',color_scheme='LightBg', tb_offset = 1)"
      ]
    },
    {
      "cell_type": "code",
      "execution_count": null,
      "metadata": {
        "id": "eUl5DyCndmka"
      },
      "outputs": [],
      "source": [
        "device = torch.device(\"cuda:0\" if torch.cuda.is_available() else \"cpu\")"
      ]
    },
    {
      "cell_type": "markdown",
      "metadata": {
        "id": "L2_i0MWudtCc"
      },
      "source": [
        "**Data**"
      ]
    },
    {
      "cell_type": "code",
      "execution_count": null,
      "metadata": {
        "id": "RfNVTHgZdoAI"
      },
      "outputs": [],
      "source": [
        "#function to clean and organize data from statcast \n",
        "def organize_data(df):\n",
        "\n",
        "    df = df.loc[df.balls < 4]\n",
        "    df = df.loc[df.strikes < 3]\n",
        "\n",
        "    df.dropna(subset = ['release_extension', \n",
        "                      'release_speed','release_spin_rate', 'pfx_x', 'pfx_z', 'plate_x', 'plate_z'], axis = 0,\n",
        "            inplace = True)\n",
        "\n",
        "    #convert movement to inches instead of feet \n",
        "    df[['mx', 'mz']] = df[['pfx_x', 'pfx_z']].values * 12\n",
        "\n",
        "    #one hot encode handedness\n",
        "    pit_hand = pd.get_dummies(df['p_throws'], drop_first = False)\n",
        "    bat_hand = pd.get_dummies(df['stand'], drop_first = False)\n",
        "    df['pit_handR'] = pit_hand['R']\n",
        "    df['bat_handR'] = bat_hand['R']\n",
        "    df = df.drop(['p_throws', 'stand', 'pfx_x', 'pfx_z'], axis = 1)\n",
        "    \n",
        "    #remove bunts \n",
        "    df = df.loc[df.description.isin(['foul_bunt', 'bunt_foul_tip', 'missed_bunt']) == False]\n",
        "    df = df.loc[df.events != 'sac_bunt']\n",
        "\n",
        "    #define the pitch outcome \n",
        "    df['outcome'] = -1\n",
        "    df.loc[df.type == 'B', 'outcome'] = 0 #called ball \n",
        "    df.loc[df.description == 'called_strike', 'outcome'] = 1 #called strike \n",
        "    df.loc[df.description.isin(['swinging_strike', 'swinging_strike_blocked']), 'outcome'] = 2 #swm \n",
        "    df.loc[df.description.isin(['foul', 'foul_tip']), 'outcome'] = 3 #foul ball \n",
        "\n",
        "    #the other outcomes are all batted balls, which should either be outs or singles, doubles, triples, or home runs \n",
        "    df.loc[(df.type == 'X') & (df.events.isin(['field_out', 'force_out', 'field_error', 'grounded_into_double_play', 'sac_fly', 'fielders_choice', \n",
        "                                               'fielders_choice_out', 'double_play', 'other_out', 'triple_play', \n",
        "                                               'sac_fly_double_play'])), 'outcome'] = 4 # in play out \n",
        "    df.loc[(df.type == 'X') & (df.events == 'single'), 'outcome'] = 5 #single \n",
        "    df.loc[(df.type == 'X') & (df.events == 'double'), 'outcome'] = 6 # double \n",
        "    df.loc[(df.type == 'X') & (df.events == 'triple'), 'outcome'] = 7 #triple \n",
        "    df.loc[(df.type == 'X') & (df.events == 'home_run'), 'outcome'] = 8 #hr \n",
        "\n",
        "    #if outcome is still -1, drop it \n",
        "    df = df.loc[df.outcome != -1]\n",
        "\n",
        "    #define an is_swing column \n",
        "    df['is_swing'] = -1 \n",
        "    df.loc[df.description.isin(['hit_into_play', 'foul', 'swinging_strike', 'swinging_strike_blocked', 'foul_tip']), 'is_swing'] = 1\n",
        "    df.loc[df.description.isin(['called_strike', 'ball', 'blocked_ball', 'hit_by_pitch', 'pitchout']), 'is_swing'] = 0\n",
        "\n",
        "    #define an is_miss column \n",
        "    df['is_miss'] = -1 \n",
        "    df.loc[df.is_swing == 0 , 'is_miss'] = 0\n",
        "    df.loc[df.description.isin(['swinging_strike', 'swinging_strike_blocked']), 'is_miss'] = 1 \n",
        "    df.loc[df.description.isin(['hit_into_play', 'foul', 'foul_tip']), 'is_miss'] = 0\n",
        "    return df"
      ]
    },
    {
      "cell_type": "code",
      "execution_count": null,
      "metadata": {
        "id": "hTEL4vJXdvtG"
      },
      "outputs": [],
      "source": [
        "#columns needed from statcast \n",
        "needed_columns = ['game_date', 'game_year', 'game_pk', 'player_name', 'pitcher', 'batter', 'pitch_type', 'pitch_name', 'stand', 'p_throws', 'balls', 'strikes', 'release_speed', \n",
        "                  'release_spin_rate', 'release_extension', 'release_pos_x', 'release_pos_z', 'pfx_x', 'pfx_z',\n",
        "                  'plate_x', 'plate_z',  'type', 'events', 'description', 'woba_value', 'at_bat_number', 'pitch_number']"
      ]
    },
    {
      "cell_type": "code",
      "execution_count": null,
      "metadata": {
        "id": "K7gUUjmQdxfe",
        "colab": {
          "base_uri": "https://localhost:8080/"
        },
        "outputId": "2e7c2ea5-8f94-436b-dd17-7491403d6cc2"
      },
      "outputs": [
        {
          "output_type": "stream",
          "name": "stdout",
          "text": [
            "Mounted at /drive\n"
          ]
        }
      ],
      "source": [
        "from google.colab import drive\n",
        "drive.mount('/drive')\n",
        "\n",
        "#read in the data\n",
        "raw22 = pd.read_csv('/drive/My Drive/Colab Notebooks/sequencing_project/raw22.csv')\n",
        "raw21 = pd.read_csv('/drive/My Drive/Colab Notebooks/sequencing_project/raw21.csv')\n",
        "raw19 = pd.read_csv('/drive/My Drive/Colab Notebooks/sequencing_project/raw18_19_20.csv')\n",
        "raw21 = raw21[needed_columns]\n",
        "raw22 = raw22[needed_columns]\n",
        "raw19 = raw19[needed_columns]"
      ]
    },
    {
      "cell_type": "code",
      "execution_count": null,
      "metadata": {
        "id": "TOsVZbS5d0l3"
      },
      "outputs": [],
      "source": [
        "#clean the data\n",
        "\n",
        "df21 = organize_data(raw21)\n",
        "df22 = organize_data(raw22)\n",
        "df19 = organize_data(raw19)\n",
        "\n",
        "all_data = df22.append(df21, ignore_index = True)\n",
        "#all_data = all_data.append(df19, ignore_index = True)"
      ]
    },
    {
      "cell_type": "code",
      "execution_count": null,
      "metadata": {
        "id": "X3q2dsMOeMcj"
      },
      "outputs": [],
      "source": [
        "#min max scale variables \n",
        "standardizer = StandardScaler().fit(all_data[['release_speed', 'mx', 'mz', \n",
        "     'plate_x', 'plate_z', 'release_extension', 'release_spin_rate', \n",
        "     'release_pos_x', 'release_pos_z']].values)\n",
        "\n",
        "all_data[['release_speed', 'mx', 'mz', \n",
        "     'plate_x', 'plate_z', 'release_extension', 'release_spin_rate', \n",
        "     'release_pos_x', 'release_pos_z']] = standardizer.transform(all_data[['release_speed', 'mx', 'mz', \n",
        "     'plate_x', 'plate_z', 'release_extension', 'release_spin_rate', \n",
        "     'release_pos_x', 'release_pos_z']].values)"
      ]
    },
    {
      "cell_type": "code",
      "source": [
        "df19[['release_speed', 'mx', 'mz', \n",
        "     'plate_x', 'plate_z', 'release_extension', 'release_spin_rate', \n",
        "     'release_pos_x', 'release_pos_z']] = standardizer.transform(df19[['release_speed', 'mx', 'mz', \n",
        "     'plate_x', 'plate_z', 'release_extension', 'release_spin_rate', \n",
        "     'release_pos_x', 'release_pos_z']].values)"
      ],
      "metadata": {
        "id": "wCpl0G1xSEvT"
      },
      "execution_count": null,
      "outputs": []
    },
    {
      "cell_type": "code",
      "execution_count": null,
      "metadata": {
        "id": "ri3nDss2eNqj"
      },
      "outputs": [],
      "source": [
        "#get the batter index\n",
        "batter_indices = pd.DataFrame({'batter': all_data.batter.unique()})\n",
        "\n",
        "batter_indices['batter_index'] = batter_indices.index.values\n",
        "\n",
        "#merge \n",
        "all_data = all_data.merge(batter_indices, on = 'batter')"
      ]
    },
    {
      "cell_type": "code",
      "source": [
        "df19 = df19.merge(batter_indices, how = 'inner', on = 'batter')"
      ],
      "metadata": {
        "id": "0P84-juuSCqp"
      },
      "execution_count": null,
      "outputs": []
    },
    {
      "cell_type": "code",
      "source": [
        "bi = pd.read_csv('/drive/My Drive/Colab Notebooks/sequencing_project/batter_indices_final_model.csv')"
      ],
      "metadata": {
        "id": "qg2Y0vssAhbH"
      },
      "execution_count": null,
      "outputs": []
    },
    {
      "cell_type": "markdown",
      "metadata": {
        "id": "fpxlQ1vweU__"
      },
      "source": [
        "**My Data Loader Code**"
      ]
    },
    {
      "cell_type": "code",
      "execution_count": null,
      "metadata": {
        "id": "rZXGGpvqePUy"
      },
      "outputs": [],
      "source": [
        "train = all_data.copy()\n",
        "#train = df19.copy()"
      ]
    },
    {
      "cell_type": "code",
      "execution_count": null,
      "metadata": {
        "id": "xxiq7LhUeXef"
      },
      "outputs": [],
      "source": [
        "batch_size = 256\n",
        "\n",
        "#define a dataloader type thing. Basically we break down at bats by pitch sequence length. \n",
        "#then for each length we need to break down all the plate appearances of that length into batches.\n",
        "pa_lengths = train.groupby(['game_pk', 'at_bat_number'], as_index = False).agg(seq_length = ('pitch_number', 'max'),\n",
        "                                                                               pitches_recorded = ('pitch_number', 'count'))\n",
        "#merge with train\n",
        "train = train.merge(pa_lengths, how = 'inner', on = ['game_pk', 'at_bat_number'])\n",
        "#make sure the pitches recorded matches the sequence length\n",
        "train = train.loc[train.seq_length == train.pitches_recorded]\n",
        "\n",
        "train['pa_id'] = [str(train.game_pk.values[i]) + '-' + str(train.at_bat_number.values[i]) for i in range(train.shape[0])]\n",
        "#train is ordered from latest to earliest, but I think we want our sequence to go from earliest up top to latest on bottom \n",
        "train = train[::-1]\n",
        "\n",
        "features = ['balls', 'strikes', 'release_speed', 'release_spin_rate', 'plate_x', 'plate_z',\n",
        "                'mx', 'mz', 'pit_handR', 'bat_handR', 'batter_index']\n",
        "\n",
        "loader_list = []\n",
        "for l in pa_lengths.seq_length.unique():\n",
        "  d = train.loc[train.seq_length == l]\n",
        "  pas = list(d.pa_id.unique())\n",
        "  #for each batch, I need to continue to add plate appearances until I hit my batch size \n",
        "  while len(pas) > 0:\n",
        "    pas_for_batch = []\n",
        "    s = 0 \n",
        "    while s < batch_size:\n",
        "      if len(pas) != 0:\n",
        "        pas_for_batch.append(pas.pop(0))\n",
        "        s += l\n",
        "      else:\n",
        "        s+=1\n",
        "\n",
        "    #get the pas for this batch \n",
        "    batch_data = d.loc[d.pa_id.isin(pas_for_batch)]\n",
        "    pa_id_and_pitch_num = batch_data[['pa_id', 'pitch_number']].values\n",
        "    batch_x = batch_data[features].values\n",
        "    batch_y = batch_data.outcome.values.astype(int)\n",
        "    #reshape so that each pa is a separate entry in the batch\n",
        "    batch_x = batch_x.reshape((len(pas_for_batch), l, len(features)))\n",
        "    batch_y = batch_y.reshape((len(pas_for_batch),l))\n",
        "    torch_batch_x = torch.tensor(batch_x, dtype = torch.float)\n",
        "    torch_batch_y = torch.tensor(batch_y, dtype = torch.long)\n",
        "    \n",
        "    #append to list \n",
        "    loader_list.append((pa_id_and_pitch_num, torch_batch_x, torch_batch_y))\n",
        "\n",
        "\n",
        "#shuffle the batches so that the RNN is trained on variable length sequences right from the get go \n",
        "#this will also give you a train test split \n",
        "import random\n",
        "random.seed(51)\n",
        "random.shuffle(loader_list)\n",
        "train_loader_list = loader_list[:3*len(loader_list)//4]\n",
        "test_loader_list = loader_list[3*len(loader_list)//4:]"
      ]
    },
    {
      "cell_type": "markdown",
      "metadata": {
        "id": "hfvmrCbqegZ9"
      },
      "source": [
        "**RNN**"
      ]
    },
    {
      "cell_type": "code",
      "execution_count": null,
      "metadata": {
        "id": "98drx-5Qeert"
      },
      "outputs": [],
      "source": [
        "#helper classes \n",
        "\n",
        "batter_embedding_dim = 13\n",
        "output_embedding_dim = 13\n",
        "\n",
        "class InputEmbedding(nn.Module):\n",
        "  def __init__(self, hidden_size = 32, output_size = 9):\n",
        "    super(InputEmbedding, self).__init__()\n",
        "    self.hidden_size = hidden_size \n",
        "    self.output_size = output_size\n",
        "    #define batter embedding \n",
        "    self.batter_embedding = nn.Embedding(batter_indices.shape[0], embedding_dim = batter_embedding_dim)\n",
        "\n",
        "    #define embedding for the pitch concatenated with the batter embedding concatenated with hidden state \n",
        "    self.ie1 = nn.Linear(in_features = len(features) - 1 + batter_embedding_dim + self.hidden_size, out_features = 512)\n",
        "    self.ie2 = nn.Linear(512, 256)\n",
        "    self.ie3 = nn.Linear(256, 128)\n",
        "    self.ie4 = nn.Linear(128, 64)\n",
        "    self.ie5 = nn.Linear(64, self.output_size)\n",
        "    self.relu = nn.ReLU()\n",
        "    \n",
        "  def forward(self, x, hidden):\n",
        "    #batter index is last column of x \n",
        "    batter_idx = x[:,-1].int()\n",
        "    bat_emb = self.batter_embedding(batter_idx)\n",
        "\n",
        "    #concatenate batter embedding and input and hidden state\n",
        "    conc = torch.concat((x[:,:-1], bat_emb, hidden), dim = 1)\n",
        "    \n",
        "    #run through layers \n",
        "    conc = self.relu(self.ie1(conc))\n",
        "    conc = self.relu(self.ie2(conc))\n",
        "    conc = self.relu(self.ie3(conc))\n",
        "    conc = self.relu(self.ie4(conc))\n",
        "    return self.ie5(conc)\n",
        "\n",
        "\n",
        "class HiddenStateUpdater(nn.Module):\n",
        "\n",
        "    def __init__(self, hidden_size = 32, output_size = 9):\n",
        "        super(HiddenStateUpdater, self).__init__()\n",
        "        self.hidden_size = hidden_size \n",
        "        self.output_size = output_size\n",
        "        #we need a target embedding \n",
        "        self.target_embedding = nn.Embedding(self.output_size, output_embedding_dim)\n",
        "        #remember, we are going to take our pitch and our output embedding and concatenate them together for the hidden state, so we need features \n",
        "        #plus output embedding dim minus 1 for the batter index which we don't want to include.\n",
        "        self.l1 = nn.Linear(len(features) - 1 + output_embedding_dim, 256)\n",
        "        self.l2 = nn.Linear(256, 128)\n",
        "        self.l3 = nn.Linear(128, 64)\n",
        "        self.l4 = nn.Linear(64,32)\n",
        "        self.proj = nn.Linear(32, self.hidden_size)\n",
        "        self.relu = nn.ReLU()\n",
        "\n",
        "    def forward(self, x, y):\n",
        "        #get the output embedding \n",
        "        y = self.target_embedding(y)\n",
        "        #concatenate onto x \n",
        "        x = torch.concat((x, y), dim = -1)\n",
        "        #feed through network\n",
        "        x = self.relu(self.l1(x))\n",
        "        x = self.relu(self.l2(x)) \n",
        "        x = self.relu(self.l3(x))\n",
        "        x = self.relu(self.l4(x))\n",
        "        return self.proj(x)"
      ]
    },
    {
      "cell_type": "code",
      "execution_count": null,
      "metadata": {
        "id": "shjWCrlNekyC"
      },
      "outputs": [],
      "source": [
        "class RNN(nn.Module):\n",
        "  def __init__(self, hidden_size = 32, output_size = 9):\n",
        "    super(RNN, self).__init__()\n",
        "    self.hidden_size = hidden_size \n",
        "    self.output_size = output_size \n",
        "\n",
        "    self.input_embedding = InputEmbedding(self.hidden_size, self.output_size)\n",
        "    self.h_update = HiddenStateUpdater(self.hidden_size, self.output_size)\n",
        "    self.relu = nn.ReLU()\n",
        "\n",
        "    #initialize batter embeddings \n",
        "    self.input_embedding.batter_embedding.weight.data.fill_(1.)\n",
        "\n",
        "  def forward(self, x, hidden, y):\n",
        "    #first we run x and hidden through the 'input embedding'\n",
        "    output = self.input_embedding(x, hidden)\n",
        "\n",
        "    #next, we run x and y through the hidden state updater, and we add that onto the old hidden state\n",
        "    hidden += self.h_update(x[:,:-1], y)\n",
        "\n",
        "    #return x and hidden \n",
        "    return output, hidden \n",
        "\n",
        "  def init_hidden(self):\n",
        "    return torch.zeros(1, self.hidden_size) "
      ]
    },
    {
      "cell_type": "code",
      "execution_count": null,
      "metadata": {
        "colab": {
          "base_uri": "https://localhost:8080/"
        },
        "id": "EL6wQ4K_emVQ",
        "outputId": "3ff1668e-d925-49a5-d951-19bf591daebb"
      },
      "outputs": [
        {
          "output_type": "execute_result",
          "data": {
            "text/plain": [
              "(torch.Size([1, 9]), torch.Size([1, 32]))"
            ]
          },
          "metadata": {},
          "execution_count": 17
        }
      ],
      "source": [
        "#testing rnn \n",
        "R = RNN()\n",
        "ids, x, y = train_loader_list[2] \n",
        "#first dimension of x and y give the pa. Each pa in a batch is the same length \n",
        "#we need to feed it in one pitch at a time though, so we need x[i][j]\n",
        "\n",
        "yhat, h1 = R(x[0][0].unsqueeze(0), R.init_hidden(), y[0][0].unsqueeze(0))\n",
        "yhat.size(), h1.size()"
      ]
    },
    {
      "cell_type": "markdown",
      "metadata": {
        "id": "SU1BMJuzetFb"
      },
      "source": [
        "**Training**"
      ]
    },
    {
      "cell_type": "code",
      "execution_count": null,
      "metadata": {
        "id": "YTBAUPyJenu9"
      },
      "outputs": [],
      "source": [
        "#define a training function \n",
        "def train(input, target, recurrent = True):\n",
        "  #input and target are a batch, so they contain multiple plate appearances all of the same sequence length \n",
        "\n",
        "  #initialize hidden layers and gradients and loss \n",
        "  optimizer.zero_grad()\n",
        "  input = input.to(device)\n",
        "  target = target.to(device)\n",
        "  loss = 0 \n",
        "\n",
        "  input_length = input.size(1)\n",
        "\n",
        "  #loop through the pas \n",
        "  for pa_num in range(input.size(0)):\n",
        "    #initialize hidden state at the start of each pa \n",
        "    h0 = model.init_hidden()\n",
        "    h0 = h0.to(device)\n",
        "    pa = input[pa_num]\n",
        "    pa_targets = target[pa_num]\n",
        "    #loop through the sequence of pitches \n",
        "    for pitch in range(input_length):\n",
        "      yhat, h1 = model(pa[pitch].unsqueeze(0), h0, pa_targets[pitch].unsqueeze(0))\n",
        "\n",
        "      #calculate loss for this pitch \n",
        "      loss += objective(yhat[0], pa_targets[pitch])\n",
        "\n",
        "      #iterate hidden state to newly generated hidden state \n",
        "      if recurrent:\n",
        "        h0 = h1 \n",
        "      else:\n",
        "        h0 = model.init_hidden().to(device)\n",
        "\n",
        "  #now loss is the sum of loss for all pitches in batch\n",
        "  loss.backward()\n",
        "  optimizer.step()\n",
        "\n",
        "  #return batch loss, which is loss per pitch \n",
        "  return loss.item() / (input.size(0) * input.size(1))\n",
        "\n",
        "\n",
        "#define a similar eval function to be used to get loss on test set, so no trianing in this function \n",
        "def eval(input, target, recurrent = True):\n",
        "  #input is a batch of PAs \n",
        "  with torch.no_grad():\n",
        "    #init \n",
        "    input = input.to(device)\n",
        "    target = target.to(device)\n",
        "    loss = 0\n",
        "\n",
        "    input_length = input.size(1)\n",
        "\n",
        "    #loop through pas in batch \n",
        "    for pa_num in range(input.size(0)):\n",
        "      #initialize hidden state at start of each pa \n",
        "      h0 = model.init_hidden()\n",
        "      h0 = h0.to(device)\n",
        "      pa = input[pa_num]\n",
        "      pa_targets = target[pa_num]\n",
        "      for pitch in range(input_length):\n",
        "        yhat, h1 = model(pa[pitch].unsqueeze(0), h0, pa_targets[pitch].unsqueeze(0))\n",
        "\n",
        "        loss += objective(yhat[0], pa_targets[pitch])\n",
        "\n",
        "        if recurrent:\n",
        "          h0 = h1 \n",
        "        else:\n",
        "          h0 = model.init_hidden().to(device)\n",
        "\n",
        "    #return loss per pitch, so average loss over all the pitches in the sequence \n",
        "    return loss.item() / (input.size(0) * input.size(1)) \n",
        "\n",
        "def prediction_func(input, target, recurrent = True):\n",
        "  #input is a batch of PAs \n",
        "  with torch.no_grad():\n",
        "    #init \n",
        "    input = input.to(device)\n",
        "    target = target.to(device)\n",
        "    loss = 0\n",
        "\n",
        "    input_length = input.size(1)\n",
        "\n",
        "    #loop through pas in batch \n",
        "    preds = torch.empty((1,9)).to(device)\n",
        "    for pa_num in range(input.size(0)):\n",
        "      #initialize hidden state at start of each pa \n",
        "      h0 = model.init_hidden()\n",
        "      h0 = h0.to(device)\n",
        "      pa = input[pa_num]\n",
        "      pa_targets = target[pa_num]\n",
        "      for pitch in range(input_length):\n",
        "        yhat, h1 = model(pa[pitch].unsqueeze(0), h0, pa_targets[pitch].unsqueeze(0))\n",
        "        preds = torch.cat((preds, yhat), dim = 0)\n",
        "        if recurrent:\n",
        "          h0 = h1\n",
        "        else:\n",
        "          h0 = model.init_hidden().to(device)\n",
        "\n",
        "    #return predictions\n",
        "    return preds[1:,:]"
      ]
    },
    {
      "cell_type": "markdown",
      "source": [
        "For the non-baseline model, I'm going to use the model from the final_rnn_training notebook, so I don't actually need to train this. This is simply to save time so I can make this comparison more quickly."
      ],
      "metadata": {
        "id": "g_YfinNjBM-S"
      }
    },
    {
      "cell_type": "code",
      "execution_count": null,
      "metadata": {
        "colab": {
          "base_uri": "https://localhost:8080/"
        },
        "id": "0jE_PXiWfKpG",
        "outputId": "7bc6eeff-0753-4f9d-f62c-b026e57bbcbb"
      },
      "outputs": [
        {
          "output_type": "execute_result",
          "data": {
            "text/plain": [
              "<All keys matched successfully>"
            ]
          },
          "metadata": {},
          "execution_count": 19
        }
      ],
      "source": [
        "#define model and stuff\n",
        "model = RNN(hidden_size = 32, output_size = 9).to(device)\n",
        "model.load_state_dict(torch.load('/drive/My Drive/Colab Notebooks/sequencing_project/final_OP'))\n"
      ]
    },
    {
      "cell_type": "code",
      "source": [
        "tot_params = 0\n",
        "for p in model.parameters():\n",
        "  tot_params += np.prod(list(p.size()))\n",
        "print('Model Parameters: ' + str(tot_params), ', Training Data: ' + str(all_data.shape[0]*3/4))"
      ],
      "metadata": {
        "colab": {
          "base_uri": "https://localhost:8080/"
        },
        "id": "4gnVzH6eBgUf",
        "outputId": "0779ea18-f747-426e-efa8-2482ab03b57d"
      },
      "execution_count": null,
      "outputs": [
        {
          "output_type": "stream",
          "name": "stdout",
          "text": [
            "Model Parameters: 275179 , Training Data: 1108429.5\n"
          ]
        }
      ]
    },
    {
      "cell_type": "code",
      "execution_count": null,
      "metadata": {
        "colab": {
          "base_uri": "https://localhost:8080/"
        },
        "id": "X7BVjMQqfZ9J",
        "outputId": "e66b25c4-ec36-4f7d-eb7b-e116c8ab7666"
      },
      "outputs": [
        {
          "output_type": "execute_result",
          "data": {
            "text/plain": [
              "0.002205696"
            ]
          },
          "metadata": {},
          "execution_count": 20
        }
      ],
      "source": [
        "#compare to baseline model by only running input and initial state through model.input_embedding, so you're using an uninformed hidden state every time. \n",
        "bmodel = RNN(hidden_size = 32, output_size = 9).to(device)\n",
        "\n",
        "#objective and optimizer \n",
        "objective = nn.CrossEntropyLoss()\n",
        "optimizer = optim.Adam(bmodel.parameters(), lr = 1e-4)\n",
        "\n",
        "#epochs \n",
        "epochs = 10\n",
        "\n",
        "torch.cuda.memory_allocated() / 1e9"
      ]
    },
    {
      "cell_type": "code",
      "source": [
        "#training: loops \n",
        "train_losses = []\n",
        "test_losses = []\n",
        "train_accs = []\n",
        "test_accs = []\n",
        "for i in range(epochs):\n",
        "    loss_val = 0\n",
        "    loop = tqdm(total = len(train_loader_list))\n",
        "    for batch in range(len(train_loader_list)):\n",
        "      ids, x, y_truth = train_loader_list[batch]\n",
        "      x = x.to(device)\n",
        "      y_truth = y_truth.to(device)\n",
        "      #zero out gradients \n",
        "      optimizer.zero_grad()\n",
        "      #run the model \n",
        "      h = bmodel.init_hidden().to(device) \n",
        "      h = h.repeat(x.size(0)*x.size(1), 1)\n",
        "      outputs = bmodel.input_embedding(x.view((x.size(0) * x.size(1), x.size(2))), h)\n",
        "      #calculate loss \n",
        "      loss = objective(outputs, y_truth.view((y_truth.size(0) * y_truth.size(1))))\n",
        "      loss_val += loss.item()\n",
        "      \n",
        "      #backprop \n",
        "      loss.backward()\n",
        "      optimizer.step()\n",
        "      loop.set_description('epoch:{}, loss:{:.4f}'.format(i, loss))\n",
        "      loop.update(1) \n",
        "        \n",
        "    train_losses.append(loss_val / len(train_loader_list))\n",
        "    \n",
        "\n",
        "    loss_val = 0\n",
        "    for batch in range(len(test_loader_list)):\n",
        "      ids, x, y_truth = test_loader_list[batch]\n",
        "      x = x.to(device)\n",
        "      y_truth = y_truth.to(device)\n",
        "      h = bmodel.init_hidden().repeat(x.size(0)*x.size(1),1).to(device)\n",
        "      preds = bmodel.input_embedding(x.view((x.size(0) * x.size(1), x.size(2))), h)\n",
        "      \n",
        "      #loss\n",
        "      loss = objective(preds, y_truth.view((y_truth.size(0) * y_truth.size(1))))\n",
        "      loss_val += loss.item()\n",
        "       \n",
        "    \n",
        "    test_losses.append(loss_val/ len(test_loader_list))\n",
        "    print('test_loss: ' + str(test_losses[-1]))\n",
        "    loop.close()"
      ],
      "metadata": {
        "colab": {
          "base_uri": "https://localhost:8080/"
        },
        "id": "zJg3YaUXB2ua",
        "outputId": "b8f00f04-323e-4ed5-f047-298d1ac29d69"
      },
      "execution_count": null,
      "outputs": [
        {
          "output_type": "stream",
          "name": "stderr",
          "text": [
            "epoch:0, loss:1.0394: 100%|██████████| 4257/4257 [00:32<00:00, 130.66it/s]\n"
          ]
        },
        {
          "output_type": "stream",
          "name": "stdout",
          "text": [
            "test_loss: 1.1742152952812088\n"
          ]
        },
        {
          "output_type": "stream",
          "name": "stderr",
          "text": [
            "epoch:1, loss:1.0272: 100%|██████████| 4257/4257 [00:30<00:00, 140.89it/s]\n"
          ]
        },
        {
          "output_type": "stream",
          "name": "stdout",
          "text": [
            "test_loss: 1.1615059259911658\n"
          ]
        },
        {
          "output_type": "stream",
          "name": "stderr",
          "text": [
            "epoch:2, loss:1.0194: 100%|██████████| 4257/4257 [00:28<00:00, 147.49it/s]\n"
          ]
        },
        {
          "output_type": "stream",
          "name": "stdout",
          "text": [
            "test_loss: 1.1540366183704054\n"
          ]
        },
        {
          "output_type": "stream",
          "name": "stderr",
          "text": [
            "epoch:3, loss:1.0134: 100%|██████████| 4257/4257 [00:28<00:00, 150.20it/s]\n"
          ]
        },
        {
          "output_type": "stream",
          "name": "stdout",
          "text": [
            "test_loss: 1.1472792156985108\n"
          ]
        },
        {
          "output_type": "stream",
          "name": "stderr",
          "text": [
            "epoch:4, loss:1.0089: 100%|██████████| 4257/4257 [00:28<00:00, 150.07it/s]\n"
          ]
        },
        {
          "output_type": "stream",
          "name": "stdout",
          "text": [
            "test_loss: 1.1417475772995345\n"
          ]
        },
        {
          "output_type": "stream",
          "name": "stderr",
          "text": [
            "epoch:5, loss:1.0039: 100%|██████████| 4257/4257 [00:28<00:00, 150.59it/s]\n"
          ]
        },
        {
          "output_type": "stream",
          "name": "stdout",
          "text": [
            "test_loss: 1.1372766094308504\n"
          ]
        },
        {
          "output_type": "stream",
          "name": "stderr",
          "text": [
            "epoch:6, loss:1.0005: 100%|██████████| 4257/4257 [00:28<00:00, 149.29it/s]\n"
          ]
        },
        {
          "output_type": "stream",
          "name": "stdout",
          "text": [
            "test_loss: 1.1337654896605183\n"
          ]
        },
        {
          "output_type": "stream",
          "name": "stderr",
          "text": [
            "epoch:7, loss:0.9973: 100%|██████████| 4257/4257 [00:28<00:00, 148.51it/s]\n"
          ]
        },
        {
          "output_type": "stream",
          "name": "stdout",
          "text": [
            "test_loss: 1.1307325930242806\n"
          ]
        },
        {
          "output_type": "stream",
          "name": "stderr",
          "text": [
            "epoch:8, loss:0.9929: 100%|██████████| 4257/4257 [00:28<00:00, 149.18it/s]\n"
          ]
        },
        {
          "output_type": "stream",
          "name": "stdout",
          "text": [
            "test_loss: 1.1280283790658896\n"
          ]
        },
        {
          "output_type": "stream",
          "name": "stderr",
          "text": [
            "epoch:9, loss:0.9895: 100%|██████████| 4257/4257 [00:28<00:00, 150.37it/s]"
          ]
        },
        {
          "output_type": "stream",
          "name": "stdout",
          "text": [
            "test_loss: 1.1253589028203992\n"
          ]
        },
        {
          "output_type": "stream",
          "name": "stderr",
          "text": [
            "\n"
          ]
        }
      ]
    },
    {
      "cell_type": "code",
      "execution_count": null,
      "metadata": {
        "colab": {
          "base_uri": "https://localhost:8080/",
          "height": 279
        },
        "id": "Qd3y1-7dgFfm",
        "outputId": "75f4cdb7-ac64-4b78-f857-76a1a959b323"
      },
      "outputs": [
        {
          "output_type": "display_data",
          "data": {
            "text/plain": [
              "<Figure size 432x288 with 1 Axes>"
            ],
            "image/png": "[encoded data removed]"
          },
          "metadata": {
            "needs_background": "light"
          }
        }
      ],
      "source": [
        "plt.plot(train_losses, label = 'Train')\n",
        "plt.plot(test_losses, label = 'Test')\n",
        "plt.xlabel('Epoch')\n",
        "plt.ylabel('Loss')\n",
        "plt.legend()\n",
        "plt.show()"
      ]
    },
    {
      "cell_type": "code",
      "execution_count": null,
      "metadata": {
        "id": "W_g1ZGAmgGMH"
      },
      "outputs": [],
      "source": []
    },
    {
      "cell_type": "code",
      "source": [
        "#calibration \n",
        "def calibration(preds, actuals, groupsize = 10000, title = '', xlab = 'Predicted Rate', ylab = 'Actual Rate'):\n",
        "\n",
        "    sorted_preds = preds[np.argsort(preds)]\n",
        "    sorted_actuals = actuals[np.argsort(preds)]\n",
        "    predicted = []\n",
        "    actual = []\n",
        "    numgroups = len(preds) // groupsize\n",
        "    for i in range(numgroups):\n",
        "        if i == numgroups-1:\n",
        "            rows = [j for j in range(i*groupsize, len(preds))]\n",
        "        else:\n",
        "            rows = [j for j in range(i*groupsize, (i+1) * groupsize)]\n",
        "        group_preds = sorted_preds[rows]\n",
        "        group_actuals = sorted_actuals[rows]\n",
        "        actual.append(np.mean(group_actuals))\n",
        "        predicted.append(np.mean(group_preds))\n",
        "\n",
        "    plt.plot(predicted, actual, 'k.')\n",
        "    plt.plot(predicted, predicted, 'r-')\n",
        "    plt.xlabel(xlab)\n",
        "    plt.title(title)\n",
        "    plt.ylabel(ylab)"
      ],
      "metadata": {
        "id": "omOAUaJTZzmA"
      },
      "execution_count": null,
      "outputs": []
    },
    {
      "cell_type": "code",
      "source": [
        "model = RNN(hidden_size = 32, output_size = 9).to(device)\n",
        "model.load_state_dict(torch.load('/drive/My Drive/Colab Notebooks/sequencing_project/final_OP'))"
      ],
      "metadata": {
        "colab": {
          "base_uri": "https://localhost:8080/"
        },
        "id": "RjdK_Y-fZ0EB",
        "outputId": "448c1f66-ae2c-41ce-9395-4f2ceb994785"
      },
      "execution_count": null,
      "outputs": [
        {
          "output_type": "execute_result",
          "data": {
            "text/plain": [
              "<All keys matched successfully>"
            ]
          },
          "metadata": {},
          "execution_count": 24
        }
      ]
    },
    {
      "cell_type": "code",
      "source": [
        "predicted_test_data = pd.DataFrame()\n",
        "for batch in range(len(test_loader_list)):\n",
        "  ids, x, y = test_loader_list[batch]\n",
        "  \n",
        "  ypred = prediction_func(x,y)\n",
        "\n",
        "  y = y.view(y.size(0)*y.size(1))\n",
        "  losses = nn.CrossEntropyLoss(reduction = 'none')(ypred, y.cuda())\n",
        "  new_data = pd.DataFrame({'pa_id': ids[:,0], 'pitch_number': ids[:,1], 'outcome': y.cpu().numpy()})\n",
        "  new_data[['o0', 'o1', 'o2', 'o3', 'o4', 'o5', 'o6', 'o7', 'o8']] = nn.functional.softmax(ypred, dim = 1).detach().cpu().numpy()\n",
        "  new_data['cross_entropy_loss'] = losses.detach().cpu().numpy()\n",
        "  predicted_test_data = predicted_test_data.append(new_data, ignore_index = True)"
      ],
      "metadata": {
        "id": "k4PL1qg_aDgG"
      },
      "execution_count": null,
      "outputs": []
    },
    {
      "cell_type": "code",
      "source": [
        "baseline_test_data = pd.DataFrame()\n",
        "for batch2 in range(len(test_loader_list)):\n",
        "  ids, x, y_truth = test_loader_list[batch2]\n",
        "  x = x.to(device)\n",
        "  y_truth = y_truth.to(device)\n",
        "  h = bmodel.init_hidden().repeat(x.size(0)*x.size(1),1).to(device)\n",
        "  preds = bmodel.input_embedding(x.view((x.size(0) * x.size(1), x.size(2))), h)\n",
        "\n",
        "  y_truth = y_truth.view((y_truth.size(0)*y_truth.size(1)))\n",
        "  losses = nn.CrossEntropyLoss(reduction = 'none')(preds, y_truth)\n",
        "  new_data = pd.DataFrame({'pa_id': ids[:,0], 'pitch_number': ids[:,1], 'outcome': y_truth.cpu().numpy()})\n",
        "  new_data[['o0', 'o1', 'o2', 'o3', 'o4', 'o5', 'o6', 'o7', 'o8']] = nn.functional.softmax(preds, dim = 1).detach().cpu().numpy()\n",
        "  new_data['cross_entropy_loss'] = losses.detach().cpu().numpy()\n",
        "  baseline_test_data = baseline_test_data.append(new_data, ignore_index = True)"
      ],
      "metadata": {
        "id": "4OOLLYBzaJwG"
      },
      "execution_count": null,
      "outputs": []
    },
    {
      "cell_type": "code",
      "source": [
        "#RNN calibration\n",
        "fig= plt.figure(figsize=(8,8))\n",
        "ax1 = plt.subplot(331)\n",
        "ax1 = calibration(predicted_test_data.o0.values, (predicted_test_data.outcome.values == 0).astype(bool).astype(int), title = 'Called Ball')\n",
        "\n",
        "ax2 = plt.subplot(332)\n",
        "ax2 = calibration(predicted_test_data.o1.values, (predicted_test_data.outcome.values == 1).astype(bool).astype(int), title = 'Called Strike')\n",
        "\n",
        "ax3 = plt.subplot(333)\n",
        "ax3 = calibration(predicted_test_data.o2.values, (predicted_test_data.outcome.values == 2).astype(bool).astype(int), title = 'Swinging Strike')\n",
        "\n",
        "ax4 = plt.subplot(334)\n",
        "ax4 = calibration(predicted_test_data.o3.values, (predicted_test_data.outcome.values == 3).astype(bool).astype(int), title = 'Foul Ball')\n",
        "\n",
        "ax5 = plt.subplot(335)\n",
        "ax5 = calibration(predicted_test_data.o4.values, (predicted_test_data.outcome.values == 4).astype(bool).astype(int), title = 'Ball in Play: Out')\n",
        "\n",
        "ax6 = plt.subplot(336)\n",
        "ax6 = calibration(predicted_test_data.o5.values, (predicted_test_data.outcome.values == 5).astype(bool).astype(int), title = 'Single')\n",
        "\n",
        "ax7 = plt.subplot(337)\n",
        "ax7 = calibration(predicted_test_data.o6.values, (predicted_test_data.outcome.values == 6).astype(bool).astype(int), title = 'Double')\n",
        "\n",
        "ax8 = plt.subplot(338)\n",
        "ax8 = calibration(predicted_test_data.o7.values, (predicted_test_data.outcome.values == 7).astype(bool).astype(int), title = 'Triple')\n",
        "\n",
        "ax9 = plt.subplot(339)\n",
        "ax9 = calibration(predicted_test_data.o8.values, (predicted_test_data.outcome.values == 8).astype(bool).astype(int), title = 'HR')\n",
        "\n",
        "plt.tight_layout()\n",
        "plt.show()"
      ],
      "metadata": {
        "id": "e4nTP1soadgc",
        "colab": {
          "base_uri": "https://localhost:8080/",
          "height": 585
        },
        "outputId": "e20137db-0508-42bc-ffca-35710142a45b"
      },
      "execution_count": null,
      "outputs": [
        {
          "output_type": "display_data",
          "data": {
            "text/plain": [
              "<Figure size 576x576 with 9 Axes>"
            ],
            "image/png": "[encoded data removed]"
          },
          "metadata": {
            "needs_background": "light"
          }
        }
      ]
    },
    {
      "cell_type": "code",
      "source": [
        "#baseline calibration\n",
        "fig= plt.figure(figsize=(8,8))\n",
        "ax1 = plt.subplot(331)\n",
        "ax1 = calibration(baseline_test_data.o0.values, (baseline_test_data.outcome.values == 0).astype(bool).astype(int), title = 'Called Ball')\n",
        "\n",
        "ax2 = plt.subplot(332)\n",
        "ax2 = calibration(baseline_test_data.o1.values, (baseline_test_data.outcome.values == 1).astype(bool).astype(int), title = 'Called Strike')\n",
        "\n",
        "ax3 = plt.subplot(333)\n",
        "ax3 = calibration(baseline_test_data.o2.values, (baseline_test_data.outcome.values == 2).astype(bool).astype(int), title = 'Swinging Strike')\n",
        "\n",
        "ax4 = plt.subplot(334)\n",
        "ax4 = calibration(baseline_test_data.o3.values, (baseline_test_data.outcome.values == 3).astype(bool).astype(int), title = 'Foul Ball')\n",
        "\n",
        "ax5 = plt.subplot(335)\n",
        "ax5 = calibration(baseline_test_data.o4.values, (baseline_test_data.outcome.values == 4).astype(bool).astype(int), title = 'Ball in Play: Out')\n",
        "\n",
        "ax6 = plt.subplot(336)\n",
        "ax6 = calibration(baseline_test_data.o5.values, (baseline_test_data.outcome.values == 5).astype(bool).astype(int), title = 'Single')\n",
        "\n",
        "ax7 = plt.subplot(337)\n",
        "ax7 = calibration(baseline_test_data.o6.values, (baseline_test_data.outcome.values == 6).astype(bool).astype(int), title = 'Double')\n",
        "\n",
        "ax8 = plt.subplot(338)\n",
        "ax8 = calibration(baseline_test_data.o7.values, (baseline_test_data.outcome.values == 7).astype(bool).astype(int), title = 'Triple')\n",
        "\n",
        "ax9 = plt.subplot(339)\n",
        "ax9 = calibration(baseline_test_data.o8.values, (baseline_test_data.outcome.values == 8).astype(bool).astype(int), title = 'HR')\n",
        "\n",
        "plt.tight_layout()\n",
        "plt.show()"
      ],
      "metadata": {
        "id": "-OuThAN-afD_",
        "colab": {
          "base_uri": "https://localhost:8080/",
          "height": 585
        },
        "outputId": "3074b5b8-9942-4049-f2ca-ed8c6c473358"
      },
      "execution_count": null,
      "outputs": [
        {
          "output_type": "display_data",
          "data": {
            "text/plain": [
              "<Figure size 576x576 with 9 Axes>"
            ],
            "image/png": "[encoded data removed]"
          },
          "metadata": {
            "needs_background": "light"
          }
        }
      ]
    },
    {
      "cell_type": "code",
      "source": [
        "#where are the predictions most different?\n",
        "baseline_test_data.columns = ['pa_id', 'pitch_number', 'outcome', 'bo0','bo1','bo2','bo3','bo4','bo5','bo6','bo7','bo8', 'b_loss']\n",
        "test_data = predicted_test_data.merge(baseline_test_data, how = 'inner', on = ['pa_id', 'pitch_number'])\n",
        "test_data['pred_diff'] = np.sqrt((test_data.o0.values - test_data.bo0.values)**2 + (test_data.o1.values - test_data.bo1.values)**2 + (test_data.o3.values - test_data.bo3.values)**2 + (test_data.o4.values - test_data.bo4.values)**2 + (test_data.o5.values - test_data.bo5.values)**2 + (test_data.o6.values - test_data.bo6.values)**2 + (test_data.o7.values - test_data.bo7.values)**2 + (test_data.o8.values - test_data.bo8.values)**2)"
      ],
      "metadata": {
        "id": "qAS3MG5Hag2Y"
      },
      "execution_count": null,
      "outputs": []
    },
    {
      "cell_type": "code",
      "source": [
        "diffs_by_pitch_num = test_data.groupby('pitch_number', as_index = False).agg(N = ('pred_diff', 'count'), diff = ('pred_diff', 'mean'),\n",
        "                                                                             baseline_loss = ('b_loss', 'mean'), rnn_loss = ('cross_entropy_loss', 'mean'))\n",
        "diffs_by_pitch_num['loss_diff'] = diffs_by_pitch_num.rnn_loss.values - diffs_by_pitch_num.baseline_loss.values\n",
        "diffs_by_pitch_num"
      ],
      "metadata": {
        "id": "OnLPp3g6akpp",
        "colab": {
          "base_uri": "https://localhost:8080/",
          "height": 576
        },
        "outputId": "0d166b2e-42dd-41f9-b5f2-a58e56a524cc"
      },
      "execution_count": null,
      "outputs": [
        {
          "output_type": "execute_result",
          "data": {
            "text/plain": [
              "    pitch_number      N      diff  baseline_loss  rnn_loss  loss_diff\n",
              "0              1  92562  0.029952       0.987635  0.990462   0.002827\n",
              "1              2  81984  0.044014       1.124780  1.121091  -0.003689\n",
              "2              3  69056  0.052592       1.140061  1.131409  -0.008652\n",
              "3              4  53194  0.059791       1.131627  1.118868  -0.012759\n",
              "4              5  36362  0.066177       1.239547  1.221667  -0.017880\n",
              "5              6  19410  0.071157       1.295305  1.277546  -0.017758\n",
              "6              7   8101  0.076884       1.291178  1.276426  -0.014752\n",
              "7              8   3180  0.086075       1.362268  1.342796  -0.019472\n",
              "8              9    980  0.094916       1.305257  1.271537  -0.033720\n",
              "9             10    313  0.108257       1.359103  1.336553  -0.022549\n",
              "10            11     79  0.103720       1.361005  1.369524   0.008519\n",
              "11            12     31  0.140897       1.578411  1.590223   0.011813\n",
              "12            13      9  0.110409       0.972738  1.025809   0.053071\n",
              "13            14      9  0.172077       1.037345  1.143130   0.105785\n",
              "14            15      9  0.180504       1.203478  1.462719   0.259240\n",
              "15            16      5  0.270158       1.861421  1.886038   0.024617\n",
              "16            17      1  0.113439       2.040532  1.878502  -0.162029"
            ],
            "text/html": [
              "\n",
              "  <div id=\"df-b9b9a0d6-226a-410b-bac5-003c65656774\">\n",
              "    <div class=\"colab-df-container\">\n",
              "      <div>\n",
              "<style scoped>\n",
              "    .dataframe tbody tr th:only-of-type {\n",
              "        vertical-align: middle;\n",
              "    }\n",
              "\n",
              "    .dataframe tbody tr th {\n",
              "        vertical-align: top;\n",
              "    }\n",
              "\n",
              "    .dataframe thead th {\n",
              "        text-align: right;\n",
              "    }\n",
              "</style>\n",
              "<table border=\"1\" class=\"dataframe\">\n",
              "  <thead>\n",
              "    <tr style=\"text-align: right;\">\n",
              "      <th></th>\n",
              "      <th>pitch_number</th>\n",
              "      <th>N</th>\n",
              "      <th>diff</th>\n",
              "      <th>baseline_loss</th>\n",
              "      <th>rnn_loss</th>\n",
              "      <th>loss_diff</th>\n",
              "    </tr>\n",
              "  </thead>\n",
              "  <tbody>\n",
              "    <tr>\n",
              "      <th>0</th>\n",
              "      <td>1</td>\n",
              "      <td>92562</td>\n",
              "      <td>0.029952</td>\n",
              "      <td>0.987635</td>\n",
              "      <td>0.990462</td>\n",
              "      <td>0.002827</td>\n",
              "    </tr>\n",
              "    <tr>\n",
              "      <th>1</th>\n",
              "      <td>2</td>\n",
              "      <td>81984</td>\n",
              "      <td>0.044014</td>\n",
              "      <td>1.124780</td>\n",
              "      <td>1.121091</td>\n",
              "      <td>-0.003689</td>\n",
              "    </tr>\n",
              "    <tr>\n",
              "      <th>2</th>\n",
              "      <td>3</td>\n",
              "      <td>69056</td>\n",
              "      <td>0.052592</td>\n",
              "      <td>1.140061</td>\n",
              "      <td>1.131409</td>\n",
              "      <td>-0.008652</td>\n",
              "    </tr>\n",
              "    <tr>\n",
              "      <th>3</th>\n",
              "      <td>4</td>\n",
              "      <td>53194</td>\n",
              "      <td>0.059791</td>\n",
              "      <td>1.131627</td>\n",
              "      <td>1.118868</td>\n",
              "      <td>-0.012759</td>\n",
              "    </tr>\n",
              "    <tr>\n",
              "      <th>4</th>\n",
              "      <td>5</td>\n",
              "      <td>36362</td>\n",
              "      <td>0.066177</td>\n",
              "      <td>1.239547</td>\n",
              "      <td>1.221667</td>\n",
              "      <td>-0.017880</td>\n",
              "    </tr>\n",
              "    <tr>\n",
              "      <th>5</th>\n",
              "      <td>6</td>\n",
              "      <td>19410</td>\n",
              "      <td>0.071157</td>\n",
              "      <td>1.295305</td>\n",
              "      <td>1.277546</td>\n",
              "      <td>-0.017758</td>\n",
              "    </tr>\n",
              "    <tr>\n",
              "      <th>6</th>\n",
              "      <td>7</td>\n",
              "      <td>8101</td>\n",
              "      <td>0.076884</td>\n",
              "      <td>1.291178</td>\n",
              "      <td>1.276426</td>\n",
              "      <td>-0.014752</td>\n",
              "    </tr>\n",
              "    <tr>\n",
              "      <th>7</th>\n",
              "      <td>8</td>\n",
              "      <td>3180</td>\n",
              "      <td>0.086075</td>\n",
              "      <td>1.362268</td>\n",
              "      <td>1.342796</td>\n",
              "      <td>-0.019472</td>\n",
              "    </tr>\n",
              "    <tr>\n",
              "      <th>8</th>\n",
              "      <td>9</td>\n",
              "      <td>980</td>\n",
              "      <td>0.094916</td>\n",
              "      <td>1.305257</td>\n",
              "      <td>1.271537</td>\n",
              "      <td>-0.033720</td>\n",
              "    </tr>\n",
              "    <tr>\n",
              "      <th>9</th>\n",
              "      <td>10</td>\n",
              "      <td>313</td>\n",
              "      <td>0.108257</td>\n",
              "      <td>1.359103</td>\n",
              "      <td>1.336553</td>\n",
              "      <td>-0.022549</td>\n",
              "    </tr>\n",
              "    <tr>\n",
              "      <th>10</th>\n",
              "      <td>11</td>\n",
              "      <td>79</td>\n",
              "      <td>0.103720</td>\n",
              "      <td>1.361005</td>\n",
              "      <td>1.369524</td>\n",
              "      <td>0.008519</td>\n",
              "    </tr>\n",
              "    <tr>\n",
              "      <th>11</th>\n",
              "      <td>12</td>\n",
              "      <td>31</td>\n",
              "      <td>0.140897</td>\n",
              "      <td>1.578411</td>\n",
              "      <td>1.590223</td>\n",
              "      <td>0.011813</td>\n",
              "    </tr>\n",
              "    <tr>\n",
              "      <th>12</th>\n",
              "      <td>13</td>\n",
              "      <td>9</td>\n",
              "      <td>0.110409</td>\n",
              "      <td>0.972738</td>\n",
              "      <td>1.025809</td>\n",
              "      <td>0.053071</td>\n",
              "    </tr>\n",
              "    <tr>\n",
              "      <th>13</th>\n",
              "      <td>14</td>\n",
              "      <td>9</td>\n",
              "      <td>0.172077</td>\n",
              "      <td>1.037345</td>\n",
              "      <td>1.143130</td>\n",
              "      <td>0.105785</td>\n",
              "    </tr>\n",
              "    <tr>\n",
              "      <th>14</th>\n",
              "      <td>15</td>\n",
              "      <td>9</td>\n",
              "      <td>0.180504</td>\n",
              "      <td>1.203478</td>\n",
              "      <td>1.462719</td>\n",
              "      <td>0.259240</td>\n",
              "    </tr>\n",
              "    <tr>\n",
              "      <th>15</th>\n",
              "      <td>16</td>\n",
              "      <td>5</td>\n",
              "      <td>0.270158</td>\n",
              "      <td>1.861421</td>\n",
              "      <td>1.886038</td>\n",
              "      <td>0.024617</td>\n",
              "    </tr>\n",
              "    <tr>\n",
              "      <th>16</th>\n",
              "      <td>17</td>\n",
              "      <td>1</td>\n",
              "      <td>0.113439</td>\n",
              "      <td>2.040532</td>\n",
              "      <td>1.878502</td>\n",
              "      <td>-0.162029</td>\n",
              "    </tr>\n",
              "  </tbody>\n",
              "</table>\n",
              "</div>\n",
              "      <button class=\"colab-df-convert\" onclick=\"convertToInteractive('df-b9b9a0d6-226a-410b-bac5-003c65656774')\"\n",
              "              title=\"Convert this dataframe to an interactive table.\"\n",
              "              style=\"display:none;\">\n",
              "        \n",
              "  <svg xmlns=\"http://www.w3.org/2000/svg\" height=\"24px\"viewBox=\"0 0 24 24\"\n",
              "       width=\"24px\">\n",
              "    <path d=\"M0 0h24v24H0V0z\" fill=\"none\"/>\n",
              "    <path d=\"M18.56 5.44l.94 2.06.94-2.06 2.06-.94-2.06-.94-.94-2.06-.94 2.06-2.06.94zm-11 1L8.5 8.5l.94-2.06 2.06-.94-2.06-.94L8.5 2.5l-.94 2.06-2.06.94zm10 10l.94 2.06.94-2.06 2.06-.94-2.06-.94-.94-2.06-.94 2.06-2.06.94z\"/><path d=\"M17.41 7.96l-1.37-1.37c-.4-.4-.92-.59-1.43-.59-.52 0-1.04.2-1.43.59L10.3 9.45l-7.72 7.72c-.78.78-.78 2.05 0 2.83L4 21.41c.39.39.9.59 1.41.59.51 0 1.02-.2 1.41-.59l7.78-7.78 2.81-2.81c.8-.78.8-2.07 0-2.86zM5.41 20L4 18.59l7.72-7.72 1.47 1.35L5.41 20z\"/>\n",
              "  </svg>\n",
              "      </button>\n",
              "      \n",
              "  <style>\n",
              "    .colab-df-container {\n",
              "      display:flex;\n",
              "      flex-wrap:wrap;\n",
              "      gap: 12px;\n",
              "    }\n",
              "\n",
              "    .colab-df-convert {\n",
              "      background-color: #E8F0FE;\n",
              "      border: none;\n",
              "      border-radius: 50%;\n",
              "      cursor: pointer;\n",
              "      display: none;\n",
              "      fill: #1967D2;\n",
              "      height: 32px;\n",
              "      padding: 0 0 0 0;\n",
              "      width: 32px;\n",
              "    }\n",
              "\n",
              "    .colab-df-convert:hover {\n",
              "      background-color: #E2EBFA;\n",
              "      box-shadow: 0px 1px 2px rgba(60, 64, 67, 0.3), 0px 1px 3px 1px rgba(60, 64, 67, 0.15);\n",
              "      fill: #174EA6;\n",
              "    }\n",
              "\n",
              "    [theme=dark] .colab-df-convert {\n",
              "      background-color: #3B4455;\n",
              "      fill: #D2E3FC;\n",
              "    }\n",
              "\n",
              "    [theme=dark] .colab-df-convert:hover {\n",
              "      background-color: #434B5C;\n",
              "      box-shadow: 0px 1px 3px 1px rgba(0, 0, 0, 0.15);\n",
              "      filter: drop-shadow(0px 1px 2px rgba(0, 0, 0, 0.3));\n",
              "      fill: #FFFFFF;\n",
              "    }\n",
              "  </style>\n",
              "\n",
              "      <script>\n",
              "        const buttonEl =\n",
              "          document.querySelector('#df-b9b9a0d6-226a-410b-bac5-003c65656774 button.colab-df-convert');\n",
              "        buttonEl.style.display =\n",
              "          google.colab.kernel.accessAllowed ? 'block' : 'none';\n",
              "\n",
              "        async function convertToInteractive(key) {\n",
              "          const element = document.querySelector('#df-b9b9a0d6-226a-410b-bac5-003c65656774');\n",
              "          const dataTable =\n",
              "            await google.colab.kernel.invokeFunction('convertToInteractive',\n",
              "                                                     [key], {});\n",
              "          if (!dataTable) return;\n",
              "\n",
              "          const docLinkHtml = 'Like what you see? Visit the ' +\n",
              "            '<a target=\"_blank\" href=https://colab.research.google.com/notebooks/data_table.ipynb>data table notebook</a>'\n",
              "            + ' to learn more about interactive tables.';\n",
              "          element.innerHTML = '';\n",
              "          dataTable['output_type'] = 'display_data';\n",
              "          await google.colab.output.renderOutput(dataTable, element);\n",
              "          const docLink = document.createElement('div');\n",
              "          docLink.innerHTML = docLinkHtml;\n",
              "          element.appendChild(docLink);\n",
              "        }\n",
              "      </script>\n",
              "    </div>\n",
              "  </div>\n",
              "  "
            ]
          },
          "metadata": {},
          "execution_count": 43
        }
      ]
    },
    {
      "cell_type": "code",
      "source": [
        "#plot loss diffs, but only if we have more than 100 pitches in the sample\n",
        "fig = plt.figure(figsize = (12,8))\n",
        "qualified = diffs_by_pitch_num.loc[diffs_by_pitch_num.N >= 100]\n",
        "plt.plot(qualified.pitch_number.values, qualified.loss_diff.values, 'k')\n",
        "plt.plot([1,qualified.shape[0]],[0,0], 'r--')\n",
        "plt.ylabel('Difference in Avg Cross Entropy Loss')\n",
        "plt.xlabel('Pitch Number')\n",
        "plt.title('Difference between OP Loss and Memoryless OP Loss')\n",
        "plt.show()"
      ],
      "metadata": {
        "colab": {
          "base_uri": "https://localhost:8080/",
          "height": 513
        },
        "id": "sKYZk7SjMraX",
        "outputId": "722a9510-6e82-44d2-8d30-a29468f67444"
      },
      "execution_count": null,
      "outputs": [
        {
          "output_type": "display_data",
          "data": {
            "text/plain": [
              "<Figure size 864x576 with 1 Axes>"
            ],
            "image/png": "[encoded data removed]"
          },
          "metadata": {
            "needs_background": "light"
          }
        }
      ]
    },
    {
      "cell_type": "code",
      "source": [
        "predicted_test_data.cross_entropy_loss.mean(), baseline_test_data.b_loss.mean()"
      ],
      "metadata": {
        "colab": {
          "base_uri": "https://localhost:8080/"
        },
        "id": "gE5oAAs4PAKF",
        "outputId": "a59a8ae6-ae74-4d53-ad8b-a1c63dd23656"
      },
      "execution_count": null,
      "outputs": [
        {
          "output_type": "execute_result",
          "data": {
            "text/plain": [
              "(1.114018, 1.1209402)"
            ]
          },
          "metadata": {},
          "execution_count": 45
        }
      ]
    },
    {
      "cell_type": "markdown",
      "source": [
        "The previous cell shows that the RNN has better overall cross entropy loss on the holdout set. Likewise, the previous plot shows that RNN loss gets even better relative to the non-RNN baseline as we get deeper into the sequence. "
      ],
      "metadata": {
        "id": "ey1IoiiAQZ5-"
      }
    },
    {
      "cell_type": "markdown",
      "source": [
        "**Testing on 2018-2020**"
      ],
      "metadata": {
        "id": "BqkiocMdSVWg"
      }
    },
    {
      "cell_type": "code",
      "source": [
        "model = RNN(hidden_size = 32, output_size = 9).to(device)\n",
        "model.load_state_dict(torch.load('/drive/My Drive/Colab Notebooks/sequencing_project/final_OP'))"
      ],
      "metadata": {
        "colab": {
          "base_uri": "https://localhost:8080/"
        },
        "id": "P8wCdAt1SXqR",
        "outputId": "f76007f1-08c4-42db-97ba-77be72c19214"
      },
      "execution_count": null,
      "outputs": [
        {
          "output_type": "execute_result",
          "data": {
            "text/plain": [
              "<All keys matched successfully>"
            ]
          },
          "metadata": {},
          "execution_count": 36
        }
      ]
    },
    {
      "cell_type": "code",
      "source": [
        "predicted_test_data = pd.DataFrame()\n",
        "for batch in range(len(loader_list)):\n",
        "  ids, x, y = loader_list[batch]\n",
        "  \n",
        "  ypred = prediction_func(x,y)\n",
        "\n",
        "  y = y.view(y.size(0)*y.size(1))\n",
        "  losses = nn.CrossEntropyLoss(reduction = 'none')(ypred, y.cuda())\n",
        "  new_data = pd.DataFrame({'pa_id': ids[:,0], 'pitch_number': ids[:,1], 'outcome': y.cpu().numpy()})\n",
        "  new_data[['o0', 'o1', 'o2', 'o3', 'o4', 'o5', 'o6', 'o7', 'o8']] = nn.functional.softmax(ypred, dim = 1).detach().cpu().numpy()\n",
        "  new_data['cross_entropy_loss'] = losses.detach().cpu().numpy()\n",
        "  predicted_test_data = predicted_test_data.append(new_data, ignore_index = True)"
      ],
      "metadata": {
        "id": "sVwm76UhSbo2",
        "colab": {
          "base_uri": "https://localhost:8080/",
          "height": 375
        },
        "outputId": "49f9b1ab-5c23-4b4d-edf6-735c9a7c8f68"
      },
      "execution_count": null,
      "outputs": [
        {
          "output_type": "error",
          "ename": "KeyboardInterrupt",
          "evalue": "ignored",
          "traceback": [
            "\u001b[0;31m---------------------------------------------------------------------------\u001b[0m",
            "\u001b[0;31mKeyboardInterrupt\u001b[0m                         Traceback (most recent call last)",
            "\u001b[0;32m<ipython-input-106-d70eedb3deba>\u001b[0m in \u001b[0;36m<module>\u001b[0;34m\u001b[0m\n\u001b[1;32m      3\u001b[0m   \u001b[0mids\u001b[0m\u001b[0;34m,\u001b[0m \u001b[0mx\u001b[0m\u001b[0;34m,\u001b[0m \u001b[0my\u001b[0m \u001b[0;34m=\u001b[0m \u001b[0mloader_list\u001b[0m\u001b[0;34m[\u001b[0m\u001b[0mbatch\u001b[0m\u001b[0;34m]\u001b[0m\u001b[0;34m\u001b[0m\u001b[0;34m\u001b[0m\u001b[0m\n\u001b[1;32m      4\u001b[0m \u001b[0;34m\u001b[0m\u001b[0m\n\u001b[0;32m----> 5\u001b[0;31m   \u001b[0mypred\u001b[0m \u001b[0;34m=\u001b[0m \u001b[0mprediction_func\u001b[0m\u001b[0;34m(\u001b[0m\u001b[0mx\u001b[0m\u001b[0;34m,\u001b[0m\u001b[0my\u001b[0m\u001b[0;34m)\u001b[0m\u001b[0;34m\u001b[0m\u001b[0;34m\u001b[0m\u001b[0m\n\u001b[0m\u001b[1;32m      6\u001b[0m \u001b[0;34m\u001b[0m\u001b[0m\n\u001b[1;32m      7\u001b[0m   \u001b[0my\u001b[0m \u001b[0;34m=\u001b[0m \u001b[0my\u001b[0m\u001b[0;34m.\u001b[0m\u001b[0mview\u001b[0m\u001b[0;34m(\u001b[0m\u001b[0my\u001b[0m\u001b[0;34m.\u001b[0m\u001b[0msize\u001b[0m\u001b[0;34m(\u001b[0m\u001b[0;36m0\u001b[0m\u001b[0;34m)\u001b[0m\u001b[0;34m*\u001b[0m\u001b[0my\u001b[0m\u001b[0;34m.\u001b[0m\u001b[0msize\u001b[0m\u001b[0;34m(\u001b[0m\u001b[0;36m1\u001b[0m\u001b[0;34m)\u001b[0m\u001b[0;34m)\u001b[0m\u001b[0;34m\u001b[0m\u001b[0;34m\u001b[0m\u001b[0m\n",
            "\u001b[0;32m<ipython-input-18-9a8d77dd18b1>\u001b[0m in \u001b[0;36mprediction_func\u001b[0;34m(input, target, recurrent)\u001b[0m\n\u001b[1;32m     89\u001b[0m       \u001b[0mpa_targets\u001b[0m \u001b[0;34m=\u001b[0m \u001b[0mtarget\u001b[0m\u001b[0;34m[\u001b[0m\u001b[0mpa_num\u001b[0m\u001b[0;34m]\u001b[0m\u001b[0;34m\u001b[0m\u001b[0;34m\u001b[0m\u001b[0m\n\u001b[1;32m     90\u001b[0m       \u001b[0;32mfor\u001b[0m \u001b[0mpitch\u001b[0m \u001b[0;32min\u001b[0m \u001b[0mrange\u001b[0m\u001b[0;34m(\u001b[0m\u001b[0minput_length\u001b[0m\u001b[0;34m)\u001b[0m\u001b[0;34m:\u001b[0m\u001b[0;34m\u001b[0m\u001b[0;34m\u001b[0m\u001b[0m\n\u001b[0;32m---> 91\u001b[0;31m         \u001b[0myhat\u001b[0m\u001b[0;34m,\u001b[0m \u001b[0mh1\u001b[0m \u001b[0;34m=\u001b[0m \u001b[0mmodel\u001b[0m\u001b[0;34m(\u001b[0m\u001b[0mpa\u001b[0m\u001b[0;34m[\u001b[0m\u001b[0mpitch\u001b[0m\u001b[0;34m]\u001b[0m\u001b[0;34m.\u001b[0m\u001b[0munsqueeze\u001b[0m\u001b[0;34m(\u001b[0m\u001b[0;36m0\u001b[0m\u001b[0;34m)\u001b[0m\u001b[0;34m,\u001b[0m \u001b[0mh0\u001b[0m\u001b[0;34m,\u001b[0m \u001b[0mpa_targets\u001b[0m\u001b[0;34m[\u001b[0m\u001b[0mpitch\u001b[0m\u001b[0;34m]\u001b[0m\u001b[0;34m.\u001b[0m\u001b[0munsqueeze\u001b[0m\u001b[0;34m(\u001b[0m\u001b[0;36m0\u001b[0m\u001b[0;34m)\u001b[0m\u001b[0;34m)\u001b[0m\u001b[0;34m\u001b[0m\u001b[0;34m\u001b[0m\u001b[0m\n\u001b[0m\u001b[1;32m     92\u001b[0m         \u001b[0mpreds\u001b[0m \u001b[0;34m=\u001b[0m \u001b[0mtorch\u001b[0m\u001b[0;34m.\u001b[0m\u001b[0mcat\u001b[0m\u001b[0;34m(\u001b[0m\u001b[0;34m(\u001b[0m\u001b[0mpreds\u001b[0m\u001b[0;34m,\u001b[0m \u001b[0myhat\u001b[0m\u001b[0;34m)\u001b[0m\u001b[0;34m,\u001b[0m \u001b[0mdim\u001b[0m \u001b[0;34m=\u001b[0m \u001b[0;36m0\u001b[0m\u001b[0;34m)\u001b[0m\u001b[0;34m\u001b[0m\u001b[0;34m\u001b[0m\u001b[0m\n\u001b[1;32m     93\u001b[0m         \u001b[0;32mif\u001b[0m \u001b[0mrecurrent\u001b[0m\u001b[0;34m:\u001b[0m\u001b[0;34m\u001b[0m\u001b[0;34m\u001b[0m\u001b[0m\n",
            "\u001b[0;32m/usr/local/lib/python3.7/dist-packages/torch/nn/modules/module.py\u001b[0m in \u001b[0;36m_call_impl\u001b[0;34m(self, *input, **kwargs)\u001b[0m\n\u001b[1;32m   1128\u001b[0m         if not (self._backward_hooks or self._forward_hooks or self._forward_pre_hooks or _global_backward_hooks\n\u001b[1;32m   1129\u001b[0m                 or _global_forward_hooks or _global_forward_pre_hooks):\n\u001b[0;32m-> 1130\u001b[0;31m             \u001b[0;32mreturn\u001b[0m \u001b[0mforward_call\u001b[0m\u001b[0;34m(\u001b[0m\u001b[0;34m*\u001b[0m\u001b[0minput\u001b[0m\u001b[0;34m,\u001b[0m \u001b[0;34m**\u001b[0m\u001b[0mkwargs\u001b[0m\u001b[0;34m)\u001b[0m\u001b[0;34m\u001b[0m\u001b[0;34m\u001b[0m\u001b[0m\n\u001b[0m\u001b[1;32m   1131\u001b[0m         \u001b[0;31m# Do not call functions when jit is used\u001b[0m\u001b[0;34m\u001b[0m\u001b[0;34m\u001b[0m\u001b[0;34m\u001b[0m\u001b[0m\n\u001b[1;32m   1132\u001b[0m         \u001b[0mfull_backward_hooks\u001b[0m\u001b[0;34m,\u001b[0m \u001b[0mnon_full_backward_hooks\u001b[0m \u001b[0;34m=\u001b[0m \u001b[0;34m[\u001b[0m\u001b[0;34m]\u001b[0m\u001b[0;34m,\u001b[0m \u001b[0;34m[\u001b[0m\u001b[0;34m]\u001b[0m\u001b[0;34m\u001b[0m\u001b[0;34m\u001b[0m\u001b[0m\n",
            "\u001b[0;32m<ipython-input-16-837499f95ed9>\u001b[0m in \u001b[0;36mforward\u001b[0;34m(self, x, hidden, y)\u001b[0m\n\u001b[1;32m     14\u001b[0m   \u001b[0;32mdef\u001b[0m \u001b[0mforward\u001b[0m\u001b[0;34m(\u001b[0m\u001b[0mself\u001b[0m\u001b[0;34m,\u001b[0m \u001b[0mx\u001b[0m\u001b[0;34m,\u001b[0m \u001b[0mhidden\u001b[0m\u001b[0;34m,\u001b[0m \u001b[0my\u001b[0m\u001b[0;34m)\u001b[0m\u001b[0;34m:\u001b[0m\u001b[0;34m\u001b[0m\u001b[0;34m\u001b[0m\u001b[0m\n\u001b[1;32m     15\u001b[0m     \u001b[0;31m#first we run x and hidden through the 'input embedding'\u001b[0m\u001b[0;34m\u001b[0m\u001b[0;34m\u001b[0m\u001b[0;34m\u001b[0m\u001b[0m\n\u001b[0;32m---> 16\u001b[0;31m     \u001b[0moutput\u001b[0m \u001b[0;34m=\u001b[0m \u001b[0mself\u001b[0m\u001b[0;34m.\u001b[0m\u001b[0minput_embedding\u001b[0m\u001b[0;34m(\u001b[0m\u001b[0mx\u001b[0m\u001b[0;34m,\u001b[0m \u001b[0mhidden\u001b[0m\u001b[0;34m)\u001b[0m\u001b[0;34m\u001b[0m\u001b[0;34m\u001b[0m\u001b[0m\n\u001b[0m\u001b[1;32m     17\u001b[0m \u001b[0;34m\u001b[0m\u001b[0m\n\u001b[1;32m     18\u001b[0m     \u001b[0;31m#next, we run x and y through the hidden state updater, and we add that onto the old hidden state\u001b[0m\u001b[0;34m\u001b[0m\u001b[0;34m\u001b[0m\u001b[0;34m\u001b[0m\u001b[0m\n",
            "\u001b[0;32m/usr/local/lib/python3.7/dist-packages/torch/nn/modules/module.py\u001b[0m in \u001b[0;36m_call_impl\u001b[0;34m(self, *input, **kwargs)\u001b[0m\n\u001b[1;32m   1128\u001b[0m         if not (self._backward_hooks or self._forward_hooks or self._forward_pre_hooks or _global_backward_hooks\n\u001b[1;32m   1129\u001b[0m                 or _global_forward_hooks or _global_forward_pre_hooks):\n\u001b[0;32m-> 1130\u001b[0;31m             \u001b[0;32mreturn\u001b[0m \u001b[0mforward_call\u001b[0m\u001b[0;34m(\u001b[0m\u001b[0;34m*\u001b[0m\u001b[0minput\u001b[0m\u001b[0;34m,\u001b[0m \u001b[0;34m**\u001b[0m\u001b[0mkwargs\u001b[0m\u001b[0;34m)\u001b[0m\u001b[0;34m\u001b[0m\u001b[0;34m\u001b[0m\u001b[0m\n\u001b[0m\u001b[1;32m   1131\u001b[0m         \u001b[0;31m# Do not call functions when jit is used\u001b[0m\u001b[0;34m\u001b[0m\u001b[0;34m\u001b[0m\u001b[0;34m\u001b[0m\u001b[0m\n\u001b[1;32m   1132\u001b[0m         \u001b[0mfull_backward_hooks\u001b[0m\u001b[0;34m,\u001b[0m \u001b[0mnon_full_backward_hooks\u001b[0m \u001b[0;34m=\u001b[0m \u001b[0;34m[\u001b[0m\u001b[0;34m]\u001b[0m\u001b[0;34m,\u001b[0m \u001b[0;34m[\u001b[0m\u001b[0;34m]\u001b[0m\u001b[0;34m\u001b[0m\u001b[0;34m\u001b[0m\u001b[0m\n",
            "\u001b[0;32m<ipython-input-15-4f142b43e6ba>\u001b[0m in \u001b[0;36mforward\u001b[0;34m(self, x, hidden)\u001b[0m\n\u001b[1;32m     30\u001b[0m     \u001b[0;31m#run through layers\u001b[0m\u001b[0;34m\u001b[0m\u001b[0;34m\u001b[0m\u001b[0;34m\u001b[0m\u001b[0m\n\u001b[1;32m     31\u001b[0m     \u001b[0mconc\u001b[0m \u001b[0;34m=\u001b[0m \u001b[0mself\u001b[0m\u001b[0;34m.\u001b[0m\u001b[0mrelu\u001b[0m\u001b[0;34m(\u001b[0m\u001b[0mself\u001b[0m\u001b[0;34m.\u001b[0m\u001b[0mie1\u001b[0m\u001b[0;34m(\u001b[0m\u001b[0mconc\u001b[0m\u001b[0;34m)\u001b[0m\u001b[0;34m)\u001b[0m\u001b[0;34m\u001b[0m\u001b[0;34m\u001b[0m\u001b[0m\n\u001b[0;32m---> 32\u001b[0;31m     \u001b[0mconc\u001b[0m \u001b[0;34m=\u001b[0m \u001b[0mself\u001b[0m\u001b[0;34m.\u001b[0m\u001b[0mrelu\u001b[0m\u001b[0;34m(\u001b[0m\u001b[0mself\u001b[0m\u001b[0;34m.\u001b[0m\u001b[0mie2\u001b[0m\u001b[0;34m(\u001b[0m\u001b[0mconc\u001b[0m\u001b[0;34m)\u001b[0m\u001b[0;34m)\u001b[0m\u001b[0;34m\u001b[0m\u001b[0;34m\u001b[0m\u001b[0m\n\u001b[0m\u001b[1;32m     33\u001b[0m     \u001b[0mconc\u001b[0m \u001b[0;34m=\u001b[0m \u001b[0mself\u001b[0m\u001b[0;34m.\u001b[0m\u001b[0mrelu\u001b[0m\u001b[0;34m(\u001b[0m\u001b[0mself\u001b[0m\u001b[0;34m.\u001b[0m\u001b[0mie3\u001b[0m\u001b[0;34m(\u001b[0m\u001b[0mconc\u001b[0m\u001b[0;34m)\u001b[0m\u001b[0;34m)\u001b[0m\u001b[0;34m\u001b[0m\u001b[0;34m\u001b[0m\u001b[0m\n\u001b[1;32m     34\u001b[0m     \u001b[0mconc\u001b[0m \u001b[0;34m=\u001b[0m \u001b[0mself\u001b[0m\u001b[0;34m.\u001b[0m\u001b[0mrelu\u001b[0m\u001b[0;34m(\u001b[0m\u001b[0mself\u001b[0m\u001b[0;34m.\u001b[0m\u001b[0mie4\u001b[0m\u001b[0;34m(\u001b[0m\u001b[0mconc\u001b[0m\u001b[0;34m)\u001b[0m\u001b[0;34m)\u001b[0m\u001b[0;34m\u001b[0m\u001b[0;34m\u001b[0m\u001b[0m\n",
            "\u001b[0;32m/usr/local/lib/python3.7/dist-packages/torch/nn/modules/module.py\u001b[0m in \u001b[0;36m_call_impl\u001b[0;34m(self, *input, **kwargs)\u001b[0m\n\u001b[1;32m   1128\u001b[0m         if not (self._backward_hooks or self._forward_hooks or self._forward_pre_hooks or _global_backward_hooks\n\u001b[1;32m   1129\u001b[0m                 or _global_forward_hooks or _global_forward_pre_hooks):\n\u001b[0;32m-> 1130\u001b[0;31m             \u001b[0;32mreturn\u001b[0m \u001b[0mforward_call\u001b[0m\u001b[0;34m(\u001b[0m\u001b[0;34m*\u001b[0m\u001b[0minput\u001b[0m\u001b[0;34m,\u001b[0m \u001b[0;34m**\u001b[0m\u001b[0mkwargs\u001b[0m\u001b[0;34m)\u001b[0m\u001b[0;34m\u001b[0m\u001b[0;34m\u001b[0m\u001b[0m\n\u001b[0m\u001b[1;32m   1131\u001b[0m         \u001b[0;31m# Do not call functions when jit is used\u001b[0m\u001b[0;34m\u001b[0m\u001b[0;34m\u001b[0m\u001b[0;34m\u001b[0m\u001b[0m\n\u001b[1;32m   1132\u001b[0m         \u001b[0mfull_backward_hooks\u001b[0m\u001b[0;34m,\u001b[0m \u001b[0mnon_full_backward_hooks\u001b[0m \u001b[0;34m=\u001b[0m \u001b[0;34m[\u001b[0m\u001b[0;34m]\u001b[0m\u001b[0;34m,\u001b[0m \u001b[0;34m[\u001b[0m\u001b[0;34m]\u001b[0m\u001b[0;34m\u001b[0m\u001b[0;34m\u001b[0m\u001b[0m\n",
            "\u001b[0;32m/usr/local/lib/python3.7/dist-packages/torch/nn/modules/linear.py\u001b[0m in \u001b[0;36mforward\u001b[0;34m(self, input)\u001b[0m\n\u001b[1;32m    112\u001b[0m \u001b[0;34m\u001b[0m\u001b[0m\n\u001b[1;32m    113\u001b[0m     \u001b[0;32mdef\u001b[0m \u001b[0mforward\u001b[0m\u001b[0;34m(\u001b[0m\u001b[0mself\u001b[0m\u001b[0;34m,\u001b[0m \u001b[0minput\u001b[0m\u001b[0;34m:\u001b[0m \u001b[0mTensor\u001b[0m\u001b[0;34m)\u001b[0m \u001b[0;34m->\u001b[0m \u001b[0mTensor\u001b[0m\u001b[0;34m:\u001b[0m\u001b[0;34m\u001b[0m\u001b[0;34m\u001b[0m\u001b[0m\n\u001b[0;32m--> 114\u001b[0;31m         \u001b[0;32mreturn\u001b[0m \u001b[0mF\u001b[0m\u001b[0;34m.\u001b[0m\u001b[0mlinear\u001b[0m\u001b[0;34m(\u001b[0m\u001b[0minput\u001b[0m\u001b[0;34m,\u001b[0m \u001b[0mself\u001b[0m\u001b[0;34m.\u001b[0m\u001b[0mweight\u001b[0m\u001b[0;34m,\u001b[0m \u001b[0mself\u001b[0m\u001b[0;34m.\u001b[0m\u001b[0mbias\u001b[0m\u001b[0;34m)\u001b[0m\u001b[0;34m\u001b[0m\u001b[0;34m\u001b[0m\u001b[0m\n\u001b[0m\u001b[1;32m    115\u001b[0m \u001b[0;34m\u001b[0m\u001b[0m\n\u001b[1;32m    116\u001b[0m     \u001b[0;32mdef\u001b[0m \u001b[0mextra_repr\u001b[0m\u001b[0;34m(\u001b[0m\u001b[0mself\u001b[0m\u001b[0;34m)\u001b[0m \u001b[0;34m->\u001b[0m \u001b[0mstr\u001b[0m\u001b[0;34m:\u001b[0m\u001b[0;34m\u001b[0m\u001b[0;34m\u001b[0m\u001b[0m\n",
            "\u001b[0;31mKeyboardInterrupt\u001b[0m: "
          ]
        }
      ]
    },
    {
      "cell_type": "code",
      "source": [
        "baseline_test_data = pd.DataFrame()\n",
        "for batch2 in range(len(loader_list)):\n",
        "  ids, x, y_truth = loader_list[batch2]\n",
        "  x = x.to(device)\n",
        "  y_truth = y_truth.to(device)\n",
        "  h = bmodel.init_hidden().repeat(x.size(0)*x.size(1),1).to(device)\n",
        "  preds = bmodel.input_embedding(x.view((x.size(0) * x.size(1), x.size(2))), h)\n",
        "\n",
        "  y_truth = y_truth.view((y_truth.size(0)*y_truth.size(1)))\n",
        "  losses = nn.CrossEntropyLoss(reduction = 'none')(preds, y_truth)\n",
        "  new_data = pd.DataFrame({'pa_id': ids[:,0], 'pitch_number': ids[:,1], 'outcome': y_truth.cpu().numpy()})\n",
        "  new_data[['o0', 'o1', 'o2', 'o3', 'o4', 'o5', 'o6', 'o7', 'o8']] = nn.functional.softmax(preds, dim = 1).detach().cpu().numpy()\n",
        "  new_data['cross_entropy_loss'] = losses.detach().cpu().numpy()\n",
        "  baseline_test_data = baseline_test_data.append(new_data, ignore_index = True)"
      ],
      "metadata": {
        "id": "oHcceYt1ShSv"
      },
      "execution_count": null,
      "outputs": []
    },
    {
      "cell_type": "code",
      "source": [
        "#RNN calibration\n",
        "fig= plt.figure(figsize=(8,8))\n",
        "ax1 = plt.subplot(331)\n",
        "ax1 = calibration(predicted_test_data.o0.values, (predicted_test_data.outcome.values == 0).astype(bool).astype(int), title = 'Called Ball')\n",
        "\n",
        "ax2 = plt.subplot(332)\n",
        "ax2 = calibration(predicted_test_data.o1.values, (predicted_test_data.outcome.values == 1).astype(bool).astype(int), title = 'Called Strike')\n",
        "\n",
        "ax3 = plt.subplot(333)\n",
        "ax3 = calibration(predicted_test_data.o2.values, (predicted_test_data.outcome.values == 2).astype(bool).astype(int), title = 'Swinging Strike')\n",
        "\n",
        "ax4 = plt.subplot(334)\n",
        "ax4 = calibration(predicted_test_data.o3.values, (predicted_test_data.outcome.values == 3).astype(bool).astype(int), title = 'Foul Ball')\n",
        "\n",
        "ax5 = plt.subplot(335)\n",
        "ax5 = calibration(predicted_test_data.o4.values, (predicted_test_data.outcome.values == 4).astype(bool).astype(int), title = 'Ball in Play: Out')\n",
        "\n",
        "ax6 = plt.subplot(336)\n",
        "ax6 = calibration(predicted_test_data.o5.values, (predicted_test_data.outcome.values == 5).astype(bool).astype(int), title = 'Single')\n",
        "\n",
        "ax7 = plt.subplot(337)\n",
        "ax7 = calibration(predicted_test_data.o6.values, (predicted_test_data.outcome.values == 6).astype(bool).astype(int), title = 'Double')\n",
        "\n",
        "ax8 = plt.subplot(338)\n",
        "ax8 = calibration(predicted_test_data.o7.values, (predicted_test_data.outcome.values == 7).astype(bool).astype(int), title = 'Triple')\n",
        "\n",
        "ax9 = plt.subplot(339)\n",
        "ax9 = calibration(predicted_test_data.o8.values, (predicted_test_data.outcome.values == 8).astype(bool).astype(int), title = 'HR')\n",
        "\n",
        "plt.tight_layout()\n",
        "plt.show()"
      ],
      "metadata": {
        "id": "85WE-E5mRCuU"
      },
      "execution_count": null,
      "outputs": []
    },
    {
      "cell_type": "code",
      "source": [
        "#baseline calibration\n",
        "fig= plt.figure(figsize=(8,8))\n",
        "ax1 = plt.subplot(331)\n",
        "ax1 = calibration(baseline_test_data.o0.values, (baseline_test_data.outcome.values == 0).astype(bool).astype(int), title = 'Called Ball')\n",
        "\n",
        "ax2 = plt.subplot(332)\n",
        "ax2 = calibration(baseline_test_data.o1.values, (baseline_test_data.outcome.values == 1).astype(bool).astype(int), title = 'Called Strike')\n",
        "\n",
        "ax3 = plt.subplot(333)\n",
        "ax3 = calibration(baseline_test_data.o2.values, (baseline_test_data.outcome.values == 2).astype(bool).astype(int), title = 'Swinging Strike')\n",
        "\n",
        "ax4 = plt.subplot(334)\n",
        "ax4 = calibration(baseline_test_data.o3.values, (baseline_test_data.outcome.values == 3).astype(bool).astype(int), title = 'Foul Ball')\n",
        "\n",
        "ax5 = plt.subplot(335)\n",
        "ax5 = calibration(baseline_test_data.o4.values, (baseline_test_data.outcome.values == 4).astype(bool).astype(int), title = 'Ball in Play: Out')\n",
        "\n",
        "ax6 = plt.subplot(336)\n",
        "ax6 = calibration(baseline_test_data.o5.values, (baseline_test_data.outcome.values == 5).astype(bool).astype(int), title = 'Single')\n",
        "\n",
        "ax7 = plt.subplot(337)\n",
        "ax7 = calibration(baseline_test_data.o6.values, (baseline_test_data.outcome.values == 6).astype(bool).astype(int), title = 'Double')\n",
        "\n",
        "ax8 = plt.subplot(338)\n",
        "ax8 = calibration(baseline_test_data.o7.values, (baseline_test_data.outcome.values == 7).astype(bool).astype(int), title = 'Triple')\n",
        "\n",
        "ax9 = plt.subplot(339)\n",
        "ax9 = calibration(baseline_test_data.o8.values, (baseline_test_data.outcome.values == 8).astype(bool).astype(int), title = 'HR')\n",
        "\n",
        "plt.tight_layout()\n",
        "plt.show()"
      ],
      "metadata": {
        "id": "JcD71tRjSpBJ"
      },
      "execution_count": null,
      "outputs": []
    },
    {
      "cell_type": "code",
      "source": [
        "#where are the predictions most different?\n",
        "baseline_test_data.columns = ['pa_id', 'pitch_number', 'outcome', 'bo0','bo1','bo2','bo3','bo4','bo5','bo6','bo7','bo8', 'b_loss']\n",
        "test_data = predicted_test_data.merge(baseline_test_data, how = 'inner', on = ['pa_id', 'pitch_number'])\n",
        "test_data['pred_diff'] = np.sqrt((test_data.o0.values - test_data.bo0.values)**2 + (test_data.o1.values - test_data.bo1.values)**2 + (test_data.o3.values - test_data.bo3.values)**2 + (test_data.o4.values - test_data.bo4.values)**2 + (test_data.o5.values - test_data.bo5.values)**2 + (test_data.o6.values - test_data.bo6.values)**2 + (test_data.o7.values - test_data.bo7.values)**2 + (test_data.o8.values - test_data.bo8.values)**2)"
      ],
      "metadata": {
        "id": "s2wXZnobSrC9"
      },
      "execution_count": null,
      "outputs": []
    },
    {
      "cell_type": "code",
      "source": [
        "diffs_by_pitch_num = test_data.groupby('pitch_number', as_index = False).agg(N = ('pred_diff', 'count'), diff = ('pred_diff', 'mean'),\n",
        "                                                                             baseline_loss = ('b_loss', 'mean'), rnn_loss = ('cross_entropy_loss', 'mean'))\n",
        "diffs_by_pitch_num['loss_diff'] = diffs_by_pitch_num.rnn_loss.values - diffs_by_pitch_num.baseline_loss.values\n",
        "diffs_by_pitch_num"
      ],
      "metadata": {
        "colab": {
          "base_uri": "https://localhost:8080/",
          "height": 708
        },
        "id": "PxIKjMxsZoO5",
        "outputId": "55ebc4a5-2647-4803-c13e-5c45ba5235a0"
      },
      "execution_count": null,
      "outputs": [
        {
          "output_type": "execute_result",
          "data": {
            "text/plain": [
              "    pitch_number       N      diff  baseline_loss  rnn_loss  loss_diff\n",
              "0              1  363612  0.029306       0.985504  0.986595   0.001091\n",
              "1              2  321950  0.043322       1.141042  1.135320  -0.005722\n",
              "2              3  266885  0.051504       1.166209  1.154509  -0.011699\n",
              "3              4  201670  0.058197       1.162302  1.146299  -0.016004\n",
              "4              5  133830  0.065794       1.255687  1.237438  -0.018249\n",
              "5              6   72601  0.069999       1.314826  1.292646  -0.022180\n",
              "6              7   29639  0.076848       1.322753  1.297726  -0.025027\n",
              "7              8   11476  0.086106       1.340213  1.319834  -0.020379\n",
              "8              9    4171  0.095726       1.363164  1.333918  -0.029247\n",
              "9             10    1559  0.102307       1.362088  1.344618  -0.017470\n",
              "10            11     521  0.104547       1.379397  1.368068  -0.011329\n",
              "11            12     181  0.124948       1.317759  1.284242  -0.033517\n",
              "12            13      74  0.116391       1.500000  1.503847   0.003848\n",
              "13            14      18  0.177396       1.324429  1.401990   0.077561\n",
              "14            15       6  0.116608       1.231574  1.257302   0.025728\n",
              "15            16       4  0.257920       1.112138  1.592212   0.480074\n",
              "16            17       3  0.155228       1.908845  1.956463   0.047619\n",
              "17            18       1  0.509142       0.837714  1.461391   0.623677\n",
              "18            19       1  0.145786       0.900056  1.139885   0.239829\n",
              "19            20       1  0.519744       0.726101  1.448476   0.722376\n",
              "20            21       1  0.877946       1.238322  3.057743   1.819421"
            ],
            "text/html": [
              "\n",
              "  <div id=\"df-94a3539a-3b2f-4546-a2a6-bae6f18a88a1\">\n",
              "    <div class=\"colab-df-container\">\n",
              "      <div>\n",
              "<style scoped>\n",
              "    .dataframe tbody tr th:only-of-type {\n",
              "        vertical-align: middle;\n",
              "    }\n",
              "\n",
              "    .dataframe tbody tr th {\n",
              "        vertical-align: top;\n",
              "    }\n",
              "\n",
              "    .dataframe thead th {\n",
              "        text-align: right;\n",
              "    }\n",
              "</style>\n",
              "<table border=\"1\" class=\"dataframe\">\n",
              "  <thead>\n",
              "    <tr style=\"text-align: right;\">\n",
              "      <th></th>\n",
              "      <th>pitch_number</th>\n",
              "      <th>N</th>\n",
              "      <th>diff</th>\n",
              "      <th>baseline_loss</th>\n",
              "      <th>rnn_loss</th>\n",
              "      <th>loss_diff</th>\n",
              "    </tr>\n",
              "  </thead>\n",
              "  <tbody>\n",
              "    <tr>\n",
              "      <th>0</th>\n",
              "      <td>1</td>\n",
              "      <td>363612</td>\n",
              "      <td>0.029306</td>\n",
              "      <td>0.985504</td>\n",
              "      <td>0.986595</td>\n",
              "      <td>0.001091</td>\n",
              "    </tr>\n",
              "    <tr>\n",
              "      <th>1</th>\n",
              "      <td>2</td>\n",
              "      <td>321950</td>\n",
              "      <td>0.043322</td>\n",
              "      <td>1.141042</td>\n",
              "      <td>1.135320</td>\n",
              "      <td>-0.005722</td>\n",
              "    </tr>\n",
              "    <tr>\n",
              "      <th>2</th>\n",
              "      <td>3</td>\n",
              "      <td>266885</td>\n",
              "      <td>0.051504</td>\n",
              "      <td>1.166209</td>\n",
              "      <td>1.154509</td>\n",
              "      <td>-0.011699</td>\n",
              "    </tr>\n",
              "    <tr>\n",
              "      <th>3</th>\n",
              "      <td>4</td>\n",
              "      <td>201670</td>\n",
              "      <td>0.058197</td>\n",
              "      <td>1.162302</td>\n",
              "      <td>1.146299</td>\n",
              "      <td>-0.016004</td>\n",
              "    </tr>\n",
              "    <tr>\n",
              "      <th>4</th>\n",
              "      <td>5</td>\n",
              "      <td>133830</td>\n",
              "      <td>0.065794</td>\n",
              "      <td>1.255687</td>\n",
              "      <td>1.237438</td>\n",
              "      <td>-0.018249</td>\n",
              "    </tr>\n",
              "    <tr>\n",
              "      <th>5</th>\n",
              "      <td>6</td>\n",
              "      <td>72601</td>\n",
              "      <td>0.069999</td>\n",
              "      <td>1.314826</td>\n",
              "      <td>1.292646</td>\n",
              "      <td>-0.022180</td>\n",
              "    </tr>\n",
              "    <tr>\n",
              "      <th>6</th>\n",
              "      <td>7</td>\n",
              "      <td>29639</td>\n",
              "      <td>0.076848</td>\n",
              "      <td>1.322753</td>\n",
              "      <td>1.297726</td>\n",
              "      <td>-0.025027</td>\n",
              "    </tr>\n",
              "    <tr>\n",
              "      <th>7</th>\n",
              "      <td>8</td>\n",
              "      <td>11476</td>\n",
              "      <td>0.086106</td>\n",
              "      <td>1.340213</td>\n",
              "      <td>1.319834</td>\n",
              "      <td>-0.020379</td>\n",
              "    </tr>\n",
              "    <tr>\n",
              "      <th>8</th>\n",
              "      <td>9</td>\n",
              "      <td>4171</td>\n",
              "      <td>0.095726</td>\n",
              "      <td>1.363164</td>\n",
              "      <td>1.333918</td>\n",
              "      <td>-0.029247</td>\n",
              "    </tr>\n",
              "    <tr>\n",
              "      <th>9</th>\n",
              "      <td>10</td>\n",
              "      <td>1559</td>\n",
              "      <td>0.102307</td>\n",
              "      <td>1.362088</td>\n",
              "      <td>1.344618</td>\n",
              "      <td>-0.017470</td>\n",
              "    </tr>\n",
              "    <tr>\n",
              "      <th>10</th>\n",
              "      <td>11</td>\n",
              "      <td>521</td>\n",
              "      <td>0.104547</td>\n",
              "      <td>1.379397</td>\n",
              "      <td>1.368068</td>\n",
              "      <td>-0.011329</td>\n",
              "    </tr>\n",
              "    <tr>\n",
              "      <th>11</th>\n",
              "      <td>12</td>\n",
              "      <td>181</td>\n",
              "      <td>0.124948</td>\n",
              "      <td>1.317759</td>\n",
              "      <td>1.284242</td>\n",
              "      <td>-0.033517</td>\n",
              "    </tr>\n",
              "    <tr>\n",
              "      <th>12</th>\n",
              "      <td>13</td>\n",
              "      <td>74</td>\n",
              "      <td>0.116391</td>\n",
              "      <td>1.500000</td>\n",
              "      <td>1.503847</td>\n",
              "      <td>0.003848</td>\n",
              "    </tr>\n",
              "    <tr>\n",
              "      <th>13</th>\n",
              "      <td>14</td>\n",
              "      <td>18</td>\n",
              "      <td>0.177396</td>\n",
              "      <td>1.324429</td>\n",
              "      <td>1.401990</td>\n",
              "      <td>0.077561</td>\n",
              "    </tr>\n",
              "    <tr>\n",
              "      <th>14</th>\n",
              "      <td>15</td>\n",
              "      <td>6</td>\n",
              "      <td>0.116608</td>\n",
              "      <td>1.231574</td>\n",
              "      <td>1.257302</td>\n",
              "      <td>0.025728</td>\n",
              "    </tr>\n",
              "    <tr>\n",
              "      <th>15</th>\n",
              "      <td>16</td>\n",
              "      <td>4</td>\n",
              "      <td>0.257920</td>\n",
              "      <td>1.112138</td>\n",
              "      <td>1.592212</td>\n",
              "      <td>0.480074</td>\n",
              "    </tr>\n",
              "    <tr>\n",
              "      <th>16</th>\n",
              "      <td>17</td>\n",
              "      <td>3</td>\n",
              "      <td>0.155228</td>\n",
              "      <td>1.908845</td>\n",
              "      <td>1.956463</td>\n",
              "      <td>0.047619</td>\n",
              "    </tr>\n",
              "    <tr>\n",
              "      <th>17</th>\n",
              "      <td>18</td>\n",
              "      <td>1</td>\n",
              "      <td>0.509142</td>\n",
              "      <td>0.837714</td>\n",
              "      <td>1.461391</td>\n",
              "      <td>0.623677</td>\n",
              "    </tr>\n",
              "    <tr>\n",
              "      <th>18</th>\n",
              "      <td>19</td>\n",
              "      <td>1</td>\n",
              "      <td>0.145786</td>\n",
              "      <td>0.900056</td>\n",
              "      <td>1.139885</td>\n",
              "      <td>0.239829</td>\n",
              "    </tr>\n",
              "    <tr>\n",
              "      <th>19</th>\n",
              "      <td>20</td>\n",
              "      <td>1</td>\n",
              "      <td>0.519744</td>\n",
              "      <td>0.726101</td>\n",
              "      <td>1.448476</td>\n",
              "      <td>0.722376</td>\n",
              "    </tr>\n",
              "    <tr>\n",
              "      <th>20</th>\n",
              "      <td>21</td>\n",
              "      <td>1</td>\n",
              "      <td>0.877946</td>\n",
              "      <td>1.238322</td>\n",
              "      <td>3.057743</td>\n",
              "      <td>1.819421</td>\n",
              "    </tr>\n",
              "  </tbody>\n",
              "</table>\n",
              "</div>\n",
              "      <button class=\"colab-df-convert\" onclick=\"convertToInteractive('df-94a3539a-3b2f-4546-a2a6-bae6f18a88a1')\"\n",
              "              title=\"Convert this dataframe to an interactive table.\"\n",
              "              style=\"display:none;\">\n",
              "        \n",
              "  <svg xmlns=\"http://www.w3.org/2000/svg\" height=\"24px\"viewBox=\"0 0 24 24\"\n",
              "       width=\"24px\">\n",
              "    <path d=\"M0 0h24v24H0V0z\" fill=\"none\"/>\n",
              "    <path d=\"M18.56 5.44l.94 2.06.94-2.06 2.06-.94-2.06-.94-.94-2.06-.94 2.06-2.06.94zm-11 1L8.5 8.5l.94-2.06 2.06-.94-2.06-.94L8.5 2.5l-.94 2.06-2.06.94zm10 10l.94 2.06.94-2.06 2.06-.94-2.06-.94-.94-2.06-.94 2.06-2.06.94z\"/><path d=\"M17.41 7.96l-1.37-1.37c-.4-.4-.92-.59-1.43-.59-.52 0-1.04.2-1.43.59L10.3 9.45l-7.72 7.72c-.78.78-.78 2.05 0 2.83L4 21.41c.39.39.9.59 1.41.59.51 0 1.02-.2 1.41-.59l7.78-7.78 2.81-2.81c.8-.78.8-2.07 0-2.86zM5.41 20L4 18.59l7.72-7.72 1.47 1.35L5.41 20z\"/>\n",
              "  </svg>\n",
              "      </button>\n",
              "      \n",
              "  <style>\n",
              "    .colab-df-container {\n",
              "      display:flex;\n",
              "      flex-wrap:wrap;\n",
              "      gap: 12px;\n",
              "    }\n",
              "\n",
              "    .colab-df-convert {\n",
              "      background-color: #E8F0FE;\n",
              "      border: none;\n",
              "      border-radius: 50%;\n",
              "      cursor: pointer;\n",
              "      display: none;\n",
              "      fill: #1967D2;\n",
              "      height: 32px;\n",
              "      padding: 0 0 0 0;\n",
              "      width: 32px;\n",
              "    }\n",
              "\n",
              "    .colab-df-convert:hover {\n",
              "      background-color: #E2EBFA;\n",
              "      box-shadow: 0px 1px 2px rgba(60, 64, 67, 0.3), 0px 1px 3px 1px rgba(60, 64, 67, 0.15);\n",
              "      fill: #174EA6;\n",
              "    }\n",
              "\n",
              "    [theme=dark] .colab-df-convert {\n",
              "      background-color: #3B4455;\n",
              "      fill: #D2E3FC;\n",
              "    }\n",
              "\n",
              "    [theme=dark] .colab-df-convert:hover {\n",
              "      background-color: #434B5C;\n",
              "      box-shadow: 0px 1px 3px 1px rgba(0, 0, 0, 0.15);\n",
              "      filter: drop-shadow(0px 1px 2px rgba(0, 0, 0, 0.3));\n",
              "      fill: #FFFFFF;\n",
              "    }\n",
              "  </style>\n",
              "\n",
              "      <script>\n",
              "        const buttonEl =\n",
              "          document.querySelector('#df-94a3539a-3b2f-4546-a2a6-bae6f18a88a1 button.colab-df-convert');\n",
              "        buttonEl.style.display =\n",
              "          google.colab.kernel.accessAllowed ? 'block' : 'none';\n",
              "\n",
              "        async function convertToInteractive(key) {\n",
              "          const element = document.querySelector('#df-94a3539a-3b2f-4546-a2a6-bae6f18a88a1');\n",
              "          const dataTable =\n",
              "            await google.colab.kernel.invokeFunction('convertToInteractive',\n",
              "                                                     [key], {});\n",
              "          if (!dataTable) return;\n",
              "\n",
              "          const docLinkHtml = 'Like what you see? Visit the ' +\n",
              "            '<a target=\"_blank\" href=https://colab.research.google.com/notebooks/data_table.ipynb>data table notebook</a>'\n",
              "            + ' to learn more about interactive tables.';\n",
              "          element.innerHTML = '';\n",
              "          dataTable['output_type'] = 'display_data';\n",
              "          await google.colab.output.renderOutput(dataTable, element);\n",
              "          const docLink = document.createElement('div');\n",
              "          docLink.innerHTML = docLinkHtml;\n",
              "          element.appendChild(docLink);\n",
              "        }\n",
              "      </script>\n",
              "    </div>\n",
              "  </div>\n",
              "  "
            ]
          },
          "metadata": {},
          "execution_count": 42
        }
      ]
    },
    {
      "cell_type": "code",
      "source": [
        "#plot loss diffs, but only if we have more than 100 pitches in the sample\n",
        "qualified = diffs_by_pitch_num.loc[diffs_by_pitch_num.N >= 100]\n",
        "plt.plot(qualified.pitch_number.values, qualified.loss_diff.values, 'k')\n",
        "plt.plot([1,qualified.shape[0]],[0,0], 'r--')\n",
        "plt.ylabel('Loss Difference')\n",
        "plt.xlabel('Pitch Number')\n",
        "plt.title('RNN Loss - Baseline Loss')\n",
        "plt.show()"
      ],
      "metadata": {
        "colab": {
          "base_uri": "https://localhost:8080/",
          "height": 295
        },
        "id": "ko57sRt5StMy",
        "outputId": "ffd74503-bafd-41d1-b31c-370c0a04da51"
      },
      "execution_count": null,
      "outputs": [
        {
          "output_type": "display_data",
          "data": {
            "text/plain": [
              "<Figure size 432x288 with 1 Axes>"
            ],
            "image/png": "[encoded data removed]"
          },
          "metadata": {
            "needs_background": "light"
          }
        }
      ]
    },
    {
      "cell_type": "code",
      "source": [
        "predicted_test_data.cross_entropy_loss.mean(), baseline_test_data.b_loss.mean()"
      ],
      "metadata": {
        "colab": {
          "base_uri": "https://localhost:8080/"
        },
        "id": "UT_gfC9sSxe3",
        "outputId": "626c3bf1-500b-4412-cc02-d37084a4b42a"
      },
      "execution_count": null,
      "outputs": [
        {
          "output_type": "execute_result",
          "data": {
            "text/plain": [
              "(1.1258183, 1.1350338)"
            ]
          },
          "metadata": {},
          "execution_count": 44
        }
      ]
    },
    {
      "cell_type": "markdown",
      "source": [
        "**Comparing Baseline and OP on Diaz/Moustakas at bat**"
      ],
      "metadata": {
        "id": "nPtSofQq2rhz"
      }
    },
    {
      "cell_type": "code",
      "source": [
        "import warnings\n",
        "warnings.filterwarnings('ignore')"
      ],
      "metadata": {
        "id": "6_uwfnJYq33f"
      },
      "execution_count": null,
      "outputs": []
    },
    {
      "cell_type": "code",
      "source": [
        "#define utility function \n",
        "count_runs = pd.DataFrame({'balls_pre_event': [3,3,2,3,2,1,0,1,2,0,1,0], 'strikes_pre_event': [0,1,0,2,1,0,0,1,2,1,2,2],\n",
        "                           'val_ball': [0.131,0.201,0.110,0.276,0.103,0.063,0.034,0.050,0.098,0.027,0.046,0.022],\n",
        "                           'val_strike': [-0.070,-0.076,-0.062,-0.351,-0.071,-0.050,-0.043,-0.067,-0.252,-0.062,-0.206,-0.184],\n",
        "                           'val_out': [-0.496,-0.426,-0.385,-0.350,-0.323,-0.323, -0.289,-0.273,-0.252,-0.246,-0.206,-0.184],\n",
        "                           'val_single': [0.287,0.356,0.397,0.432,0.459,0.460,0.494,0.510,0.530,0.537,0.577,0.598],\n",
        "                           'val_double': [0.583,0.652,0.693,0.728,0.755,0.756,0.790,0.805,0.826,0.832,0.872,0.894],\n",
        "                           'val_triple': [0.861,0.930,0.971,1.006,1.033,1.034,1.068,1.083,1.104,1.110,1.150,1.172],\n",
        "                           'val_hr': [1.2,1.269,1.31,1.345,1.372,1.373,1.407,1.423,1.443,1.45,1.490,1.511]})\n",
        "\n",
        "def get_utilities(pitch_df):\n",
        "  '''\n",
        "  pitch_df is a pandas dataframe with a column for balls, strikes, and the \n",
        "  probabilities of each outcome, named o1, o2, o3, o4, o5, o6, o7, and o8\n",
        "\n",
        "  Returns the expected utility of a swing and of a take for that pitch.\n",
        "  The batter's optimal utility for the pitch is the larger of those two values\n",
        "  '''\n",
        "\n",
        "  pitch_df['swing_utility'] = -1 \n",
        "  pitch_df['take_utility'] = -1\n",
        "  pitch_df['overall_utility'] = -1\n",
        "  for balls in pitch_df.balls.unique():\n",
        "    for strikes in pitch_df.strikes.unique():\n",
        "      d = pitch_df.loc[(pitch_df.balls == balls) & (pitch_df.strikes == strikes)]\n",
        "\n",
        "      #get the corresponding row from count_runs table\n",
        "      count_pre = count_runs.loc[(count_runs.balls_pre_event == balls) & (count_runs.strikes_pre_event == strikes)]\n",
        "\n",
        "      #get the value of a called ball \n",
        "      val0 = count_pre.val_ball.values[0]\n",
        "\n",
        "      #get the value of a called or swinging strike \n",
        "      val12 = count_pre.val_strike.values[0]\n",
        "\n",
        "      #value of a foul ball \n",
        "      if strikes == 2:\n",
        "        #no change \n",
        "        val3 = 0 \n",
        "      else:\n",
        "        #value of foul is just value of a strike\n",
        "        val3 = count_pre.val_strike.values[0] \n",
        "\n",
        "      #value of ball in play out \n",
        "      val4 = count_pre.val_out.values[0]\n",
        "      #single \n",
        "      val5 = count_pre.val_single.values[0]\n",
        "      #double \n",
        "      val6 = count_pre.val_double.values[0]\n",
        "      #triple \n",
        "      val7 = count_pre.val_triple.values[0]\n",
        "      #hr \n",
        "      val8 = count_pre.val_hr.values[0]\n",
        "\n",
        "      #calculate utilities \n",
        "      no_swing = d.o0.values + d.o1.values \n",
        "      swing = d[['o2','o3','o4','o5','o6','o7','o8']].values.sum(axis = 1)\n",
        "      take_utility = (d.o0.values / no_swing) * val0 + (d.o1.values/no_swing) * val12\n",
        "      swing_utility = (d.o2.values/swing) * val12 + (d.o3.values/swing)*val3 + (d.o4.values/swing)*val4 + (d.o5.values/swing)*val5 + (d.o6.values/swing)*val6 + (d.o7.values/swing)*val7 + (d.o8.values/swing) * val8\n",
        "      d.swing_utility = swing_utility \n",
        "      d.take_utility = take_utility  \n",
        "      d.overall_utility = d.take_utility.values * no_swing + d.swing_utility.values*swing\n",
        "      pitch_df.loc[(pitch_df.strikes == strikes) & (pitch_df.balls == balls), ['swing_utility', 'take_utility', 'overall_utility']] = d[['swing_utility', 'take_utility', 'overall_utility']].values\n",
        "\n",
        "  return pitch_df       "
      ],
      "metadata": {
        "id": "F70hVEeJp3o4"
      },
      "execution_count": null,
      "outputs": []
    },
    {
      "cell_type": "code",
      "source": [
        "game = pybaseball.statcast(start_dt = '2022-07-06', end_dt = '2022-07-06')"
      ],
      "metadata": {
        "id": "AMKmzINOS0G_",
        "colab": {
          "base_uri": "https://localhost:8080/"
        },
        "outputId": "544b989b-200b-4b26-da0e-ef4c0c25fb72"
      },
      "execution_count": null,
      "outputs": [
        {
          "output_type": "stream",
          "name": "stdout",
          "text": [
            "This is a large query, it may take a moment to complete\n"
          ]
        },
        {
          "output_type": "stream",
          "name": "stderr",
          "text": [
            "100%|██████████| 1/1 [00:10<00:00, 10.76s/it]\n"
          ]
        }
      ]
    },
    {
      "cell_type": "code",
      "source": [
        "game = organize_data(game)"
      ],
      "metadata": {
        "id": "j7HkPA3z292t"
      },
      "execution_count": null,
      "outputs": []
    },
    {
      "cell_type": "code",
      "source": [
        "pa = game.loc[(game.pitcher == 621242) & (game.batter == 519058)]"
      ],
      "metadata": {
        "id": "smG7DhzN2_fR"
      },
      "execution_count": null,
      "outputs": []
    },
    {
      "cell_type": "code",
      "source": [
        "pa['plate_x_ft'] = pa.plate_x.values \n",
        "pa['plate_z_ft'] = pa.plate_z.values\n",
        "pa['velo'] = pa.release_speed.values\n",
        "pa[['release_speed', 'mx', 'mz', \n",
        "     'plate_x', 'plate_z', 'release_extension', 'release_spin_rate', \n",
        "     'release_pos_x', 'release_pos_z']] = standardizer.transform(pa[['release_speed', 'mx', 'mz', \n",
        "     'plate_x', 'plate_z', 'release_extension', 'release_spin_rate', \n",
        "     'release_pos_x', 'release_pos_z']].values)\n",
        "\n",
        "     "
      ],
      "metadata": {
        "id": "D1DnCa2j3BLA"
      },
      "execution_count": null,
      "outputs": []
    },
    {
      "cell_type": "code",
      "source": [
        "pa = pa.merge(batter_indices, on = 'batter')"
      ],
      "metadata": {
        "id": "3Q1J6Z2C3DsL"
      },
      "execution_count": null,
      "outputs": []
    },
    {
      "cell_type": "code",
      "source": [
        "pa = pa[::-1]\n",
        "\n",
        "batch_x = pa[features].values.astype(float)\n",
        "batch_y = pa.outcome.values.astype(int)\n",
        "#reshape \n",
        "batch_x = batch_x.reshape((1, pa.shape[0], len(features)))\n",
        "batch_y = batch_y.reshape((1,pa.shape[0]))\n",
        "torch_batch_x = torch.tensor(batch_x, dtype = torch.float)\n",
        "torch_batch_y = torch.tensor(batch_y, dtype = torch.long)\n",
        "\n",
        "#test with OP\n",
        "ypred = prediction_func(torch_batch_x, torch_batch_y)\n",
        "losses = nn.CrossEntropyLoss(reduction = 'none')(ypred, torch_batch_y.squeeze(0).cuda())\n",
        "pa[['o0', 'o1', 'o2', 'o3', 'o4', 'o5', 'o6', 'o7', 'o8']] = nn.functional.softmax(ypred, dim = 1).detach().cpu().numpy()\n",
        "pa['cross_entropy_loss'] = losses.detach().cpu().numpy()\n",
        "pa['swing_likelihood'] = 1-pa.o0.values-pa.o1.values\n",
        "pa = get_utilities(pa)\n"
      ],
      "metadata": {
        "id": "vZLVLO-e3cmW"
      },
      "execution_count": null,
      "outputs": []
    },
    {
      "cell_type": "code",
      "source": [
        "#test with baseline model \n",
        "x = torch_batch_x.to(device)\n",
        "y_truth = torch_batch_y.to(device)\n",
        "h = bmodel.init_hidden().repeat(x.size(0)*x.size(1),1).to(device)\n",
        "preds = bmodel.input_embedding(x.view((x.size(0) * x.size(1), x.size(2))), h)\n",
        "\n",
        "bpa = pa.copy()\n",
        "y_truth = y_truth.view((y_truth.size(0)*y_truth.size(1)))\n",
        "losses = nn.CrossEntropyLoss(reduction = 'none')(preds, y_truth)\n",
        "bpa[['o0', 'o1', 'o2', 'o3', 'o4', 'o5', 'o6', 'o7', 'o8']] = nn.functional.softmax(preds, dim = 1).detach().cpu().numpy()\n",
        "bpa['cross_entropy_loss'] = losses.detach().cpu().numpy()\n",
        "bpa['swing_likelihood'] = 1-bpa.o0.values-bpa.o1.values\n",
        "bpa = get_utilities(bpa)"
      ],
      "metadata": {
        "id": "XIpMNvjD4jSA"
      },
      "execution_count": null,
      "outputs": []
    },
    {
      "cell_type": "code",
      "source": [
        "pa[['pitch_type', 'player_name', 'batter', 'balls', 'strikes', 'pitch_number', 'outcome', 'o0', 'o1', 'o2', 'o3', 'o4', 'o5', 'o6', 'o7', 'o8', 'cross_entropy_loss', 'take_utility', 'swing_utility', 'overall_utility', 'swing_likelihood']]"
      ],
      "metadata": {
        "colab": {
          "base_uri": "https://localhost:8080/",
          "height": 357
        },
        "id": "ZjuORd1J5gW1",
        "outputId": "5d4fbf70-305d-4ead-e6ca-099fb0ce2883"
      },
      "execution_count": null,
      "outputs": [
        {
          "output_type": "execute_result",
          "data": {
            "text/plain": [
              "  pitch_type  player_name  batter  balls  strikes  pitch_number  outcome  \\\n",
              "4         FF  Díaz, Edwin  519058      0        0             1        2   \n",
              "3         FF  Díaz, Edwin  519058      0        1             2        2   \n",
              "2         FF  Díaz, Edwin  519058      0        2             3        0   \n",
              "1         FF  Díaz, Edwin  519058      1        2             4        0   \n",
              "0         SL  Díaz, Edwin  519058      2        2             5        2   \n",
              "\n",
              "         o0        o1        o2        o3        o4        o5            o6  \\\n",
              "4  0.357754  0.140973  0.265840  0.181065  0.038878  0.010751  2.869191e-03   \n",
              "3  0.004448  0.041819  0.289991  0.463711  0.142315  0.042473  8.596600e-03   \n",
              "2  0.998195  0.000001  0.001352  0.000407  0.000035  0.000009  7.053651e-07   \n",
              "1  0.885023  0.011815  0.024555  0.060343  0.013758  0.003466  7.594372e-04   \n",
              "0  0.304350  0.158069  0.297010  0.173308  0.049564  0.012412  3.170521e-03   \n",
              "\n",
              "             o7            o8  cross_entropy_loss  take_utility  \\\n",
              "4  2.126254e-04  1.656885e-03            1.324860      0.012235   \n",
              "3  6.261177e-04  6.020079e-03            1.237905     -0.053444   \n",
              "2  7.561128e-09  1.061002e-07            0.001807      0.022000   \n",
              "1  2.809881e-05  2.526109e-04            0.122142      0.042680   \n",
              "0  2.472955e-04  1.868602e-03            1.213988     -0.021641   \n",
              "\n",
              "   swing_utility  overall_utility  swing_likelihood  \n",
              "4      -0.040530        -0.014215          0.501273  \n",
              "3      -0.044409        -0.044827          0.953734  \n",
              "2      -0.138144         0.021711          0.001804  \n",
              "1      -0.046736         0.033456          0.103162  \n",
              "0      -0.139831        -0.085177          0.537581  "
            ],
            "text/html": [
              "\n",
              "  <div id=\"df-0dc46686-1657-44df-923f-59406d97adbb\">\n",
              "    <div class=\"colab-df-container\">\n",
              "      <div>\n",
              "<style scoped>\n",
              "    .dataframe tbody tr th:only-of-type {\n",
              "        vertical-align: middle;\n",
              "    }\n",
              "\n",
              "    .dataframe tbody tr th {\n",
              "        vertical-align: top;\n",
              "    }\n",
              "\n",
              "    .dataframe thead th {\n",
              "        text-align: right;\n",
              "    }\n",
              "</style>\n",
              "<table border=\"1\" class=\"dataframe\">\n",
              "  <thead>\n",
              "    <tr style=\"text-align: right;\">\n",
              "      <th></th>\n",
              "      <th>pitch_type</th>\n",
              "      <th>player_name</th>\n",
              "      <th>batter</th>\n",
              "      <th>balls</th>\n",
              "      <th>strikes</th>\n",
              "      <th>pitch_number</th>\n",
              "      <th>outcome</th>\n",
              "      <th>o0</th>\n",
              "      <th>o1</th>\n",
              "      <th>o2</th>\n",
              "      <th>o3</th>\n",
              "      <th>o4</th>\n",
              "      <th>o5</th>\n",
              "      <th>o6</th>\n",
              "      <th>o7</th>\n",
              "      <th>o8</th>\n",
              "      <th>cross_entropy_loss</th>\n",
              "      <th>take_utility</th>\n",
              "      <th>swing_utility</th>\n",
              "      <th>overall_utility</th>\n",
              "      <th>swing_likelihood</th>\n",
              "    </tr>\n",
              "  </thead>\n",
              "  <tbody>\n",
              "    <tr>\n",
              "      <th>4</th>\n",
              "      <td>FF</td>\n",
              "      <td>Díaz, Edwin</td>\n",
              "      <td>519058</td>\n",
              "      <td>0</td>\n",
              "      <td>0</td>\n",
              "      <td>1</td>\n",
              "      <td>2</td>\n",
              "      <td>0.357754</td>\n",
              "      <td>0.140973</td>\n",
              "      <td>0.265840</td>\n",
              "      <td>0.181065</td>\n",
              "      <td>0.038878</td>\n",
              "      <td>0.010751</td>\n",
              "      <td>2.869191e-03</td>\n",
              "      <td>2.126254e-04</td>\n",
              "      <td>1.656885e-03</td>\n",
              "      <td>1.324860</td>\n",
              "      <td>0.012235</td>\n",
              "      <td>-0.040530</td>\n",
              "      <td>-0.014215</td>\n",
              "      <td>0.501273</td>\n",
              "    </tr>\n",
              "    <tr>\n",
              "      <th>3</th>\n",
              "      <td>FF</td>\n",
              "      <td>Díaz, Edwin</td>\n",
              "      <td>519058</td>\n",
              "      <td>0</td>\n",
              "      <td>1</td>\n",
              "      <td>2</td>\n",
              "      <td>2</td>\n",
              "      <td>0.004448</td>\n",
              "      <td>0.041819</td>\n",
              "      <td>0.289991</td>\n",
              "      <td>0.463711</td>\n",
              "      <td>0.142315</td>\n",
              "      <td>0.042473</td>\n",
              "      <td>8.596600e-03</td>\n",
              "      <td>6.261177e-04</td>\n",
              "      <td>6.020079e-03</td>\n",
              "      <td>1.237905</td>\n",
              "      <td>-0.053444</td>\n",
              "      <td>-0.044409</td>\n",
              "      <td>-0.044827</td>\n",
              "      <td>0.953734</td>\n",
              "    </tr>\n",
              "    <tr>\n",
              "      <th>2</th>\n",
              "      <td>FF</td>\n",
              "      <td>Díaz, Edwin</td>\n",
              "      <td>519058</td>\n",
              "      <td>0</td>\n",
              "      <td>2</td>\n",
              "      <td>3</td>\n",
              "      <td>0</td>\n",
              "      <td>0.998195</td>\n",
              "      <td>0.000001</td>\n",
              "      <td>0.001352</td>\n",
              "      <td>0.000407</td>\n",
              "      <td>0.000035</td>\n",
              "      <td>0.000009</td>\n",
              "      <td>7.053651e-07</td>\n",
              "      <td>7.561128e-09</td>\n",
              "      <td>1.061002e-07</td>\n",
              "      <td>0.001807</td>\n",
              "      <td>0.022000</td>\n",
              "      <td>-0.138144</td>\n",
              "      <td>0.021711</td>\n",
              "      <td>0.001804</td>\n",
              "    </tr>\n",
              "    <tr>\n",
              "      <th>1</th>\n",
              "      <td>FF</td>\n",
              "      <td>Díaz, Edwin</td>\n",
              "      <td>519058</td>\n",
              "      <td>1</td>\n",
              "      <td>2</td>\n",
              "      <td>4</td>\n",
              "      <td>0</td>\n",
              "      <td>0.885023</td>\n",
              "      <td>0.011815</td>\n",
              "      <td>0.024555</td>\n",
              "      <td>0.060343</td>\n",
              "      <td>0.013758</td>\n",
              "      <td>0.003466</td>\n",
              "      <td>7.594372e-04</td>\n",
              "      <td>2.809881e-05</td>\n",
              "      <td>2.526109e-04</td>\n",
              "      <td>0.122142</td>\n",
              "      <td>0.042680</td>\n",
              "      <td>-0.046736</td>\n",
              "      <td>0.033456</td>\n",
              "      <td>0.103162</td>\n",
              "    </tr>\n",
              "    <tr>\n",
              "      <th>0</th>\n",
              "      <td>SL</td>\n",
              "      <td>Díaz, Edwin</td>\n",
              "      <td>519058</td>\n",
              "      <td>2</td>\n",
              "      <td>2</td>\n",
              "      <td>5</td>\n",
              "      <td>2</td>\n",
              "      <td>0.304350</td>\n",
              "      <td>0.158069</td>\n",
              "      <td>0.297010</td>\n",
              "      <td>0.173308</td>\n",
              "      <td>0.049564</td>\n",
              "      <td>0.012412</td>\n",
              "      <td>3.170521e-03</td>\n",
              "      <td>2.472955e-04</td>\n",
              "      <td>1.868602e-03</td>\n",
              "      <td>1.213988</td>\n",
              "      <td>-0.021641</td>\n",
              "      <td>-0.139831</td>\n",
              "      <td>-0.085177</td>\n",
              "      <td>0.537581</td>\n",
              "    </tr>\n",
              "  </tbody>\n",
              "</table>\n",
              "</div>\n",
              "      <button class=\"colab-df-convert\" onclick=\"convertToInteractive('df-0dc46686-1657-44df-923f-59406d97adbb')\"\n",
              "              title=\"Convert this dataframe to an interactive table.\"\n",
              "              style=\"display:none;\">\n",
              "        \n",
              "  <svg xmlns=\"http://www.w3.org/2000/svg\" height=\"24px\"viewBox=\"0 0 24 24\"\n",
              "       width=\"24px\">\n",
              "    <path d=\"M0 0h24v24H0V0z\" fill=\"none\"/>\n",
              "    <path d=\"M18.56 5.44l.94 2.06.94-2.06 2.06-.94-2.06-.94-.94-2.06-.94 2.06-2.06.94zm-11 1L8.5 8.5l.94-2.06 2.06-.94-2.06-.94L8.5 2.5l-.94 2.06-2.06.94zm10 10l.94 2.06.94-2.06 2.06-.94-2.06-.94-.94-2.06-.94 2.06-2.06.94z\"/><path d=\"M17.41 7.96l-1.37-1.37c-.4-.4-.92-.59-1.43-.59-.52 0-1.04.2-1.43.59L10.3 9.45l-7.72 7.72c-.78.78-.78 2.05 0 2.83L4 21.41c.39.39.9.59 1.41.59.51 0 1.02-.2 1.41-.59l7.78-7.78 2.81-2.81c.8-.78.8-2.07 0-2.86zM5.41 20L4 18.59l7.72-7.72 1.47 1.35L5.41 20z\"/>\n",
              "  </svg>\n",
              "      </button>\n",
              "      \n",
              "  <style>\n",
              "    .colab-df-container {\n",
              "      display:flex;\n",
              "      flex-wrap:wrap;\n",
              "      gap: 12px;\n",
              "    }\n",
              "\n",
              "    .colab-df-convert {\n",
              "      background-color: #E8F0FE;\n",
              "      border: none;\n",
              "      border-radius: 50%;\n",
              "      cursor: pointer;\n",
              "      display: none;\n",
              "      fill: #1967D2;\n",
              "      height: 32px;\n",
              "      padding: 0 0 0 0;\n",
              "      width: 32px;\n",
              "    }\n",
              "\n",
              "    .colab-df-convert:hover {\n",
              "      background-color: #E2EBFA;\n",
              "      box-shadow: 0px 1px 2px rgba(60, 64, 67, 0.3), 0px 1px 3px 1px rgba(60, 64, 67, 0.15);\n",
              "      fill: #174EA6;\n",
              "    }\n",
              "\n",
              "    [theme=dark] .colab-df-convert {\n",
              "      background-color: #3B4455;\n",
              "      fill: #D2E3FC;\n",
              "    }\n",
              "\n",
              "    [theme=dark] .colab-df-convert:hover {\n",
              "      background-color: #434B5C;\n",
              "      box-shadow: 0px 1px 3px 1px rgba(0, 0, 0, 0.15);\n",
              "      filter: drop-shadow(0px 1px 2px rgba(0, 0, 0, 0.3));\n",
              "      fill: #FFFFFF;\n",
              "    }\n",
              "  </style>\n",
              "\n",
              "      <script>\n",
              "        const buttonEl =\n",
              "          document.querySelector('#df-0dc46686-1657-44df-923f-59406d97adbb button.colab-df-convert');\n",
              "        buttonEl.style.display =\n",
              "          google.colab.kernel.accessAllowed ? 'block' : 'none';\n",
              "\n",
              "        async function convertToInteractive(key) {\n",
              "          const element = document.querySelector('#df-0dc46686-1657-44df-923f-59406d97adbb');\n",
              "          const dataTable =\n",
              "            await google.colab.kernel.invokeFunction('convertToInteractive',\n",
              "                                                     [key], {});\n",
              "          if (!dataTable) return;\n",
              "\n",
              "          const docLinkHtml = 'Like what you see? Visit the ' +\n",
              "            '<a target=\"_blank\" href=https://colab.research.google.com/notebooks/data_table.ipynb>data table notebook</a>'\n",
              "            + ' to learn more about interactive tables.';\n",
              "          element.innerHTML = '';\n",
              "          dataTable['output_type'] = 'display_data';\n",
              "          await google.colab.output.renderOutput(dataTable, element);\n",
              "          const docLink = document.createElement('div');\n",
              "          docLink.innerHTML = docLinkHtml;\n",
              "          element.appendChild(docLink);\n",
              "        }\n",
              "      </script>\n",
              "    </div>\n",
              "  </div>\n",
              "  "
            ]
          },
          "metadata": {},
          "execution_count": 32
        }
      ]
    },
    {
      "cell_type": "code",
      "source": [
        "bpa[['pitch_type', 'player_name', 'batter', 'balls', 'strikes', 'pitch_number', 'outcome', 'o0', 'o1', 'o2', 'o3', 'o4', 'o5', 'o6', 'o7', 'o8', 'cross_entropy_loss', 'take_utility', 'swing_utility', 'overall_utility', 'swing_likelihood']]"
      ],
      "metadata": {
        "id": "GM9wTgjy9wj0",
        "colab": {
          "base_uri": "https://localhost:8080/",
          "height": 357
        },
        "outputId": "96db1de6-e826-4130-b402-090743f43e50"
      },
      "execution_count": null,
      "outputs": [
        {
          "output_type": "execute_result",
          "data": {
            "text/plain": [
              "  pitch_type  player_name  batter  balls  strikes  pitch_number  outcome  \\\n",
              "4         FF  Díaz, Edwin  519058      0        0             1        2   \n",
              "3         FF  Díaz, Edwin  519058      0        1             2        2   \n",
              "2         FF  Díaz, Edwin  519058      0        2             3        0   \n",
              "1         FF  Díaz, Edwin  519058      1        2             4        0   \n",
              "0         SL  Díaz, Edwin  519058      2        2             5        2   \n",
              "\n",
              "         o0        o1        o2        o3        o4        o5        o6  \\\n",
              "4  0.359838  0.135497  0.275540  0.177005  0.037813  0.009595  0.002788   \n",
              "3  0.003928  0.024840  0.280466  0.477740  0.151625  0.043178  0.010418   \n",
              "2  0.996721  0.000001  0.002002  0.001144  0.000105  0.000024  0.000002   \n",
              "1  0.855272  0.007208  0.023013  0.083327  0.021928  0.007449  0.001232   \n",
              "0  0.195355  0.126392  0.194028  0.307372  0.129357  0.032525  0.009346   \n",
              "\n",
              "             o7            o8  cross_entropy_loss  take_utility  \\\n",
              "4  2.130532e-04  1.710502e-03            1.289022      0.012937   \n",
              "3  6.588682e-04  7.145838e-03            1.271303     -0.049847   \n",
              "2  3.194664e-08  4.035132e-07            0.003284      0.022000   \n",
              "1  8.325799e-05  4.890540e-04            0.156336      0.043894   \n",
              "0  8.009538e-04  4.824788e-03            1.639754     -0.039491   \n",
              "\n",
              "   swing_utility  overall_utility  swing_likelihood  \n",
              "4      -0.041237        -0.014403          0.504664  \n",
              "3      -0.042586        -0.042795          0.971232  \n",
              "2      -0.113295         0.021556          0.003278  \n",
              "1      -0.022262         0.034796          0.137521  \n",
              "0      -0.071785        -0.061395          0.678253  "
            ],
            "text/html": [
              "\n",
              "  <div id=\"df-5b4c999c-1b22-4379-8704-872f924aae8c\">\n",
              "    <div class=\"colab-df-container\">\n",
              "      <div>\n",
              "<style scoped>\n",
              "    .dataframe tbody tr th:only-of-type {\n",
              "        vertical-align: middle;\n",
              "    }\n",
              "\n",
              "    .dataframe tbody tr th {\n",
              "        vertical-align: top;\n",
              "    }\n",
              "\n",
              "    .dataframe thead th {\n",
              "        text-align: right;\n",
              "    }\n",
              "</style>\n",
              "<table border=\"1\" class=\"dataframe\">\n",
              "  <thead>\n",
              "    <tr style=\"text-align: right;\">\n",
              "      <th></th>\n",
              "      <th>pitch_type</th>\n",
              "      <th>player_name</th>\n",
              "      <th>batter</th>\n",
              "      <th>balls</th>\n",
              "      <th>strikes</th>\n",
              "      <th>pitch_number</th>\n",
              "      <th>outcome</th>\n",
              "      <th>o0</th>\n",
              "      <th>o1</th>\n",
              "      <th>o2</th>\n",
              "      <th>o3</th>\n",
              "      <th>o4</th>\n",
              "      <th>o5</th>\n",
              "      <th>o6</th>\n",
              "      <th>o7</th>\n",
              "      <th>o8</th>\n",
              "      <th>cross_entropy_loss</th>\n",
              "      <th>take_utility</th>\n",
              "      <th>swing_utility</th>\n",
              "      <th>overall_utility</th>\n",
              "      <th>swing_likelihood</th>\n",
              "    </tr>\n",
              "  </thead>\n",
              "  <tbody>\n",
              "    <tr>\n",
              "      <th>4</th>\n",
              "      <td>FF</td>\n",
              "      <td>Díaz, Edwin</td>\n",
              "      <td>519058</td>\n",
              "      <td>0</td>\n",
              "      <td>0</td>\n",
              "      <td>1</td>\n",
              "      <td>2</td>\n",
              "      <td>0.359838</td>\n",
              "      <td>0.135497</td>\n",
              "      <td>0.275540</td>\n",
              "      <td>0.177005</td>\n",
              "      <td>0.037813</td>\n",
              "      <td>0.009595</td>\n",
              "      <td>0.002788</td>\n",
              "      <td>2.130532e-04</td>\n",
              "      <td>1.710502e-03</td>\n",
              "      <td>1.289022</td>\n",
              "      <td>0.012937</td>\n",
              "      <td>-0.041237</td>\n",
              "      <td>-0.014403</td>\n",
              "      <td>0.504664</td>\n",
              "    </tr>\n",
              "    <tr>\n",
              "      <th>3</th>\n",
              "      <td>FF</td>\n",
              "      <td>Díaz, Edwin</td>\n",
              "      <td>519058</td>\n",
              "      <td>0</td>\n",
              "      <td>1</td>\n",
              "      <td>2</td>\n",
              "      <td>2</td>\n",
              "      <td>0.003928</td>\n",
              "      <td>0.024840</td>\n",
              "      <td>0.280466</td>\n",
              "      <td>0.477740</td>\n",
              "      <td>0.151625</td>\n",
              "      <td>0.043178</td>\n",
              "      <td>0.010418</td>\n",
              "      <td>6.588682e-04</td>\n",
              "      <td>7.145838e-03</td>\n",
              "      <td>1.271303</td>\n",
              "      <td>-0.049847</td>\n",
              "      <td>-0.042586</td>\n",
              "      <td>-0.042795</td>\n",
              "      <td>0.971232</td>\n",
              "    </tr>\n",
              "    <tr>\n",
              "      <th>2</th>\n",
              "      <td>FF</td>\n",
              "      <td>Díaz, Edwin</td>\n",
              "      <td>519058</td>\n",
              "      <td>0</td>\n",
              "      <td>2</td>\n",
              "      <td>3</td>\n",
              "      <td>0</td>\n",
              "      <td>0.996721</td>\n",
              "      <td>0.000001</td>\n",
              "      <td>0.002002</td>\n",
              "      <td>0.001144</td>\n",
              "      <td>0.000105</td>\n",
              "      <td>0.000024</td>\n",
              "      <td>0.000002</td>\n",
              "      <td>3.194664e-08</td>\n",
              "      <td>4.035132e-07</td>\n",
              "      <td>0.003284</td>\n",
              "      <td>0.022000</td>\n",
              "      <td>-0.113295</td>\n",
              "      <td>0.021556</td>\n",
              "      <td>0.003278</td>\n",
              "    </tr>\n",
              "    <tr>\n",
              "      <th>1</th>\n",
              "      <td>FF</td>\n",
              "      <td>Díaz, Edwin</td>\n",
              "      <td>519058</td>\n",
              "      <td>1</td>\n",
              "      <td>2</td>\n",
              "      <td>4</td>\n",
              "      <td>0</td>\n",
              "      <td>0.855272</td>\n",
              "      <td>0.007208</td>\n",
              "      <td>0.023013</td>\n",
              "      <td>0.083327</td>\n",
              "      <td>0.021928</td>\n",
              "      <td>0.007449</td>\n",
              "      <td>0.001232</td>\n",
              "      <td>8.325799e-05</td>\n",
              "      <td>4.890540e-04</td>\n",
              "      <td>0.156336</td>\n",
              "      <td>0.043894</td>\n",
              "      <td>-0.022262</td>\n",
              "      <td>0.034796</td>\n",
              "      <td>0.137521</td>\n",
              "    </tr>\n",
              "    <tr>\n",
              "      <th>0</th>\n",
              "      <td>SL</td>\n",
              "      <td>Díaz, Edwin</td>\n",
              "      <td>519058</td>\n",
              "      <td>2</td>\n",
              "      <td>2</td>\n",
              "      <td>5</td>\n",
              "      <td>2</td>\n",
              "      <td>0.195355</td>\n",
              "      <td>0.126392</td>\n",
              "      <td>0.194028</td>\n",
              "      <td>0.307372</td>\n",
              "      <td>0.129357</td>\n",
              "      <td>0.032525</td>\n",
              "      <td>0.009346</td>\n",
              "      <td>8.009538e-04</td>\n",
              "      <td>4.824788e-03</td>\n",
              "      <td>1.639754</td>\n",
              "      <td>-0.039491</td>\n",
              "      <td>-0.071785</td>\n",
              "      <td>-0.061395</td>\n",
              "      <td>0.678253</td>\n",
              "    </tr>\n",
              "  </tbody>\n",
              "</table>\n",
              "</div>\n",
              "      <button class=\"colab-df-convert\" onclick=\"convertToInteractive('df-5b4c999c-1b22-4379-8704-872f924aae8c')\"\n",
              "              title=\"Convert this dataframe to an interactive table.\"\n",
              "              style=\"display:none;\">\n",
              "        \n",
              "  <svg xmlns=\"http://www.w3.org/2000/svg\" height=\"24px\"viewBox=\"0 0 24 24\"\n",
              "       width=\"24px\">\n",
              "    <path d=\"M0 0h24v24H0V0z\" fill=\"none\"/>\n",
              "    <path d=\"M18.56 5.44l.94 2.06.94-2.06 2.06-.94-2.06-.94-.94-2.06-.94 2.06-2.06.94zm-11 1L8.5 8.5l.94-2.06 2.06-.94-2.06-.94L8.5 2.5l-.94 2.06-2.06.94zm10 10l.94 2.06.94-2.06 2.06-.94-2.06-.94-.94-2.06-.94 2.06-2.06.94z\"/><path d=\"M17.41 7.96l-1.37-1.37c-.4-.4-.92-.59-1.43-.59-.52 0-1.04.2-1.43.59L10.3 9.45l-7.72 7.72c-.78.78-.78 2.05 0 2.83L4 21.41c.39.39.9.59 1.41.59.51 0 1.02-.2 1.41-.59l7.78-7.78 2.81-2.81c.8-.78.8-2.07 0-2.86zM5.41 20L4 18.59l7.72-7.72 1.47 1.35L5.41 20z\"/>\n",
              "  </svg>\n",
              "      </button>\n",
              "      \n",
              "  <style>\n",
              "    .colab-df-container {\n",
              "      display:flex;\n",
              "      flex-wrap:wrap;\n",
              "      gap: 12px;\n",
              "    }\n",
              "\n",
              "    .colab-df-convert {\n",
              "      background-color: #E8F0FE;\n",
              "      border: none;\n",
              "      border-radius: 50%;\n",
              "      cursor: pointer;\n",
              "      display: none;\n",
              "      fill: #1967D2;\n",
              "      height: 32px;\n",
              "      padding: 0 0 0 0;\n",
              "      width: 32px;\n",
              "    }\n",
              "\n",
              "    .colab-df-convert:hover {\n",
              "      background-color: #E2EBFA;\n",
              "      box-shadow: 0px 1px 2px rgba(60, 64, 67, 0.3), 0px 1px 3px 1px rgba(60, 64, 67, 0.15);\n",
              "      fill: #174EA6;\n",
              "    }\n",
              "\n",
              "    [theme=dark] .colab-df-convert {\n",
              "      background-color: #3B4455;\n",
              "      fill: #D2E3FC;\n",
              "    }\n",
              "\n",
              "    [theme=dark] .colab-df-convert:hover {\n",
              "      background-color: #434B5C;\n",
              "      box-shadow: 0px 1px 3px 1px rgba(0, 0, 0, 0.15);\n",
              "      filter: drop-shadow(0px 1px 2px rgba(0, 0, 0, 0.3));\n",
              "      fill: #FFFFFF;\n",
              "    }\n",
              "  </style>\n",
              "\n",
              "      <script>\n",
              "        const buttonEl =\n",
              "          document.querySelector('#df-5b4c999c-1b22-4379-8704-872f924aae8c button.colab-df-convert');\n",
              "        buttonEl.style.display =\n",
              "          google.colab.kernel.accessAllowed ? 'block' : 'none';\n",
              "\n",
              "        async function convertToInteractive(key) {\n",
              "          const element = document.querySelector('#df-5b4c999c-1b22-4379-8704-872f924aae8c');\n",
              "          const dataTable =\n",
              "            await google.colab.kernel.invokeFunction('convertToInteractive',\n",
              "                                                     [key], {});\n",
              "          if (!dataTable) return;\n",
              "\n",
              "          const docLinkHtml = 'Like what you see? Visit the ' +\n",
              "            '<a target=\"_blank\" href=https://colab.research.google.com/notebooks/data_table.ipynb>data table notebook</a>'\n",
              "            + ' to learn more about interactive tables.';\n",
              "          element.innerHTML = '';\n",
              "          dataTable['output_type'] = 'display_data';\n",
              "          await google.colab.output.renderOutput(dataTable, element);\n",
              "          const docLink = document.createElement('div');\n",
              "          docLink.innerHTML = docLinkHtml;\n",
              "          element.appendChild(docLink);\n",
              "        }\n",
              "      </script>\n",
              "    </div>\n",
              "  </div>\n",
              "  "
            ]
          },
          "metadata": {},
          "execution_count": 33
        }
      ]
    },
    {
      "cell_type": "code",
      "source": [
        "bpa[['pitch_number', 'pitch_type', 'velo', 'plate_x_ft', 'plate_z_ft']]"
      ],
      "metadata": {
        "colab": {
          "base_uri": "https://localhost:8080/",
          "height": 206
        },
        "id": "FLxhPUzPJFlG",
        "outputId": "5fc8bfc3-4219-4172-af6e-d983f814cec5"
      },
      "execution_count": null,
      "outputs": [
        {
          "output_type": "execute_result",
          "data": {
            "text/plain": [
              "   pitch_number pitch_type   velo  plate_x_ft  plate_z_ft\n",
              "4             1         FF   98.6       -0.52        3.56\n",
              "3             2         FF   99.5       -0.73        2.91\n",
              "2             3         FF  100.0        0.98        4.64\n",
              "1             4         FF  100.4        1.15        3.09\n",
              "0             5         SL   91.6       -0.89        3.15"
            ],
            "text/html": [
              "\n",
              "  <div id=\"df-845f8447-ca67-47cf-b064-ff776efd59a4\">\n",
              "    <div class=\"colab-df-container\">\n",
              "      <div>\n",
              "<style scoped>\n",
              "    .dataframe tbody tr th:only-of-type {\n",
              "        vertical-align: middle;\n",
              "    }\n",
              "\n",
              "    .dataframe tbody tr th {\n",
              "        vertical-align: top;\n",
              "    }\n",
              "\n",
              "    .dataframe thead th {\n",
              "        text-align: right;\n",
              "    }\n",
              "</style>\n",
              "<table border=\"1\" class=\"dataframe\">\n",
              "  <thead>\n",
              "    <tr style=\"text-align: right;\">\n",
              "      <th></th>\n",
              "      <th>pitch_number</th>\n",
              "      <th>pitch_type</th>\n",
              "      <th>velo</th>\n",
              "      <th>plate_x_ft</th>\n",
              "      <th>plate_z_ft</th>\n",
              "    </tr>\n",
              "  </thead>\n",
              "  <tbody>\n",
              "    <tr>\n",
              "      <th>4</th>\n",
              "      <td>1</td>\n",
              "      <td>FF</td>\n",
              "      <td>98.6</td>\n",
              "      <td>-0.52</td>\n",
              "      <td>3.56</td>\n",
              "    </tr>\n",
              "    <tr>\n",
              "      <th>3</th>\n",
              "      <td>2</td>\n",
              "      <td>FF</td>\n",
              "      <td>99.5</td>\n",
              "      <td>-0.73</td>\n",
              "      <td>2.91</td>\n",
              "    </tr>\n",
              "    <tr>\n",
              "      <th>2</th>\n",
              "      <td>3</td>\n",
              "      <td>FF</td>\n",
              "      <td>100.0</td>\n",
              "      <td>0.98</td>\n",
              "      <td>4.64</td>\n",
              "    </tr>\n",
              "    <tr>\n",
              "      <th>1</th>\n",
              "      <td>4</td>\n",
              "      <td>FF</td>\n",
              "      <td>100.4</td>\n",
              "      <td>1.15</td>\n",
              "      <td>3.09</td>\n",
              "    </tr>\n",
              "    <tr>\n",
              "      <th>0</th>\n",
              "      <td>5</td>\n",
              "      <td>SL</td>\n",
              "      <td>91.6</td>\n",
              "      <td>-0.89</td>\n",
              "      <td>3.15</td>\n",
              "    </tr>\n",
              "  </tbody>\n",
              "</table>\n",
              "</div>\n",
              "      <button class=\"colab-df-convert\" onclick=\"convertToInteractive('df-845f8447-ca67-47cf-b064-ff776efd59a4')\"\n",
              "              title=\"Convert this dataframe to an interactive table.\"\n",
              "              style=\"display:none;\">\n",
              "        \n",
              "  <svg xmlns=\"http://www.w3.org/2000/svg\" height=\"24px\"viewBox=\"0 0 24 24\"\n",
              "       width=\"24px\">\n",
              "    <path d=\"M0 0h24v24H0V0z\" fill=\"none\"/>\n",
              "    <path d=\"M18.56 5.44l.94 2.06.94-2.06 2.06-.94-2.06-.94-.94-2.06-.94 2.06-2.06.94zm-11 1L8.5 8.5l.94-2.06 2.06-.94-2.06-.94L8.5 2.5l-.94 2.06-2.06.94zm10 10l.94 2.06.94-2.06 2.06-.94-2.06-.94-.94-2.06-.94 2.06-2.06.94z\"/><path d=\"M17.41 7.96l-1.37-1.37c-.4-.4-.92-.59-1.43-.59-.52 0-1.04.2-1.43.59L10.3 9.45l-7.72 7.72c-.78.78-.78 2.05 0 2.83L4 21.41c.39.39.9.59 1.41.59.51 0 1.02-.2 1.41-.59l7.78-7.78 2.81-2.81c.8-.78.8-2.07 0-2.86zM5.41 20L4 18.59l7.72-7.72 1.47 1.35L5.41 20z\"/>\n",
              "  </svg>\n",
              "      </button>\n",
              "      \n",
              "  <style>\n",
              "    .colab-df-container {\n",
              "      display:flex;\n",
              "      flex-wrap:wrap;\n",
              "      gap: 12px;\n",
              "    }\n",
              "\n",
              "    .colab-df-convert {\n",
              "      background-color: #E8F0FE;\n",
              "      border: none;\n",
              "      border-radius: 50%;\n",
              "      cursor: pointer;\n",
              "      display: none;\n",
              "      fill: #1967D2;\n",
              "      height: 32px;\n",
              "      padding: 0 0 0 0;\n",
              "      width: 32px;\n",
              "    }\n",
              "\n",
              "    .colab-df-convert:hover {\n",
              "      background-color: #E2EBFA;\n",
              "      box-shadow: 0px 1px 2px rgba(60, 64, 67, 0.3), 0px 1px 3px 1px rgba(60, 64, 67, 0.15);\n",
              "      fill: #174EA6;\n",
              "    }\n",
              "\n",
              "    [theme=dark] .colab-df-convert {\n",
              "      background-color: #3B4455;\n",
              "      fill: #D2E3FC;\n",
              "    }\n",
              "\n",
              "    [theme=dark] .colab-df-convert:hover {\n",
              "      background-color: #434B5C;\n",
              "      box-shadow: 0px 1px 3px 1px rgba(0, 0, 0, 0.15);\n",
              "      filter: drop-shadow(0px 1px 2px rgba(0, 0, 0, 0.3));\n",
              "      fill: #FFFFFF;\n",
              "    }\n",
              "  </style>\n",
              "\n",
              "      <script>\n",
              "        const buttonEl =\n",
              "          document.querySelector('#df-845f8447-ca67-47cf-b064-ff776efd59a4 button.colab-df-convert');\n",
              "        buttonEl.style.display =\n",
              "          google.colab.kernel.accessAllowed ? 'block' : 'none';\n",
              "\n",
              "        async function convertToInteractive(key) {\n",
              "          const element = document.querySelector('#df-845f8447-ca67-47cf-b064-ff776efd59a4');\n",
              "          const dataTable =\n",
              "            await google.colab.kernel.invokeFunction('convertToInteractive',\n",
              "                                                     [key], {});\n",
              "          if (!dataTable) return;\n",
              "\n",
              "          const docLinkHtml = 'Like what you see? Visit the ' +\n",
              "            '<a target=\"_blank\" href=https://colab.research.google.com/notebooks/data_table.ipynb>data table notebook</a>'\n",
              "            + ' to learn more about interactive tables.';\n",
              "          element.innerHTML = '';\n",
              "          dataTable['output_type'] = 'display_data';\n",
              "          await google.colab.output.renderOutput(dataTable, element);\n",
              "          const docLink = document.createElement('div');\n",
              "          docLink.innerHTML = docLinkHtml;\n",
              "          element.appendChild(docLink);\n",
              "        }\n",
              "      </script>\n",
              "    </div>\n",
              "  </div>\n",
              "  "
            ]
          },
          "metadata": {},
          "execution_count": 40
        }
      ]
    },
    {
      "cell_type": "code",
      "source": [
        "#plot the locations of the last two pitches to visualize (hard in, soft away)\n",
        "plt.figure(figsize=(6,6))\n",
        "plt.plot([-1.15], [3.09], 'x', label = '100 MPH FB')\n",
        "plt.plot([0.89], [3.15], 'x', label = '92 MPH SL')\n",
        "plt.plot([-.71,.71,.71,-.71, -.71], [3.412, 3.412, 1.546,1.546, 3.412], 'k-')\n",
        "plt.legend()\n",
        "plt.xlim(-1.5,1.5)\n",
        "plt.ylim(1,4)\n",
        "plt.xlabel(\"Horizontal Location (Pitcher's Perspective)\")\n",
        "plt.ylabel(\"Vertical Location\")\n",
        "plt.title('Diaz vs Moustakas')\n",
        "plt.show()"
      ],
      "metadata": {
        "colab": {
          "base_uri": "https://localhost:8080/",
          "height": 404
        },
        "id": "fJWGrraZrpXg",
        "outputId": "8d677fc7-6211-49b6-f881-ae4543d1bc07"
      },
      "execution_count": null,
      "outputs": [
        {
          "output_type": "display_data",
          "data": {
            "text/plain": [
              "<Figure size 432x432 with 1 Axes>"
            ],
            "image/png": "[encoded data removed]"
          },
          "metadata": {
            "needs_background": "light"
          }
        }
      ]
    },
    {
      "cell_type": "code",
      "source": [],
      "metadata": {
        "id": "6XR3Gyf5JGoE"
      },
      "execution_count": null,
      "outputs": []
    }
  ],
  "metadata": {
    "accelerator": "GPU",
    "colab": {
      "provenance": [],
      "authorship_tag": "ABX9TyOWFOW0gQ3dqNoE377+xmSu",
      "include_colab_link": true
    },
    "gpuClass": "standard",
    "kernelspec": {
      "display_name": "Python 3",
      "name": "python3"
    },
    "language_info": {
      "name": "python"
    }
  },
  "nbformat": 4,
  "nbformat_minor": 0
}