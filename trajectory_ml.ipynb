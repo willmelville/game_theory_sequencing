{
  "nbformat": 4,
  "nbformat_minor": 0,
  "metadata": {
    "colab": {
      "provenance": [],
      "authorship_tag": "ABX9TyOEedSVqtWZR5dPiH7HpRDU"
    },
    "kernelspec": {
      "name": "python3",
      "display_name": "Python 3"
    },
    "language_info": {
      "name": "python"
    }
  },
  "cells": [
    {
      "cell_type": "markdown",
      "source": [
        "The goal of this notebook is to create a simple ML model that takes as input a pitch's velocity, movement, and maybe spin and release point, and a tunnel location and predicts the x and z location of that pitch at the plate. So I will run the trajectory model on the data to get actual tunnels, and then I'll be able to build the model."
      ],
      "metadata": {
        "id": "QsToZiaXx7eJ"
      }
    },
    {
      "cell_type": "code",
      "execution_count": null,
      "metadata": {
        "colab": {
          "base_uri": "https://localhost:8080/"
        },
        "id": "jyuglNK1x1CS",
        "outputId": "2784631c-aeac-443d-c0c3-1782c9b6cdcb"
      },
      "outputs": [
        {
          "output_type": "stream",
          "name": "stderr",
          "text": [
            "/usr/local/lib/python3.7/dist-packages/sklearn/experimental/enable_hist_gradient_boosting.py:17: UserWarning: Since version 1.0, it is not needed to import enable_hist_gradient_boosting anymore. HistGradientBoostingClassifier and HistGradientBoostingRegressor are now stable and can be normally imported from sklearn.ensemble.\n",
            "  \"Since version 1.0, \"\n"
          ]
        }
      ],
      "source": [
        "from sklearn.linear_model import LinearRegression\n",
        "from sklearn.metrics import mean_squared_error, r2_score\n",
        "from sklearn.model_selection import train_test_split\n",
        "from sklearn.ensemble import RandomForestRegressor\n",
        "from sklearn.experimental import enable_hist_gradient_boosting\n",
        "from sklearn.ensemble import GradientBoostingRegressor, HistGradientBoostingRegressor\n",
        "from xgboost.sklearn import XGBRegressor\n",
        "import math\n",
        "import pandas as pd \n",
        "import numpy as np \n",
        "from matplotlib import pyplot as plt"
      ]
    },
    {
      "cell_type": "code",
      "source": [
        "#read in data and calculate tunnels \n",
        "from google.colab import drive\n",
        "drive.mount('/drive')\n",
        "\n",
        "#read in the data\n",
        "data = pd.read_csv('/drive/My Drive/Colab Notebooks/sequencing_project/raw22.csv')"
      ],
      "metadata": {
        "colab": {
          "base_uri": "https://localhost:8080/"
        },
        "id": "8AG2LVtk2WlJ",
        "outputId": "0d687f30-3fac-4f05-d53a-44041f1cd6f0"
      },
      "execution_count": null,
      "outputs": [
        {
          "output_type": "stream",
          "name": "stdout",
          "text": [
            "Mounted at /drive\n"
          ]
        }
      ]
    },
    {
      "cell_type": "code",
      "source": [
        "data.dropna(subset = ['release_extension', \n",
        "                      'release_speed','release_spin_rate', 'pfx_x', 'pfx_z', 'plate_x', 'plate_z', 'ax', 'ay', 'az',\n",
        "                      'vx0', 'vy0', 'vz0', 'release_pos_x' ,'release_pos_z', 'pfx_x', 'pfx_z'], axis = 0,\n",
        "            inplace = True)"
      ],
      "metadata": {
        "id": "2ILo_zko9MJP"
      },
      "execution_count": null,
      "outputs": []
    },
    {
      "cell_type": "code",
      "source": [
        "# pitch is the statcast dataframe of the pitch\n",
        "# decision is the distance in feet from the plate that the decision point is. \n",
        "\n",
        "def trace_decision_trajectory(pitch, decision = 24):\n",
        "  assert 60.5 >= decision >= 17/12\n",
        "  #from statcast\n",
        "  K = .005383\n",
        "  dt = .001 # change in time. We originally had 0.001 which is way too slow\n",
        "  circ = 9.125      # Circ of baseball\n",
        "  tau = 10000\n",
        "  v0 = pitch['release_speed'].values[0]\n",
        "  x0 = pitch['release_pos_x'].values[0]\n",
        "  y0 = 60.5 - pitch['release_extension'].values[0] # See documentation - changed to match calculations\n",
        "  z0 = pitch['release_pos_z'].values[0]\n",
        "  vx0 = pitch['vx0'].values[0]\n",
        "  vy0 = pitch['vy0'].values[0]\n",
        "  vz0 = pitch['vz0'].values[0]\n",
        "  ay0 = pitch['ay'].values[0]\n",
        "  ax0 = pitch['ax'].values[0]\n",
        "  az0 = pitch['az'].values[0]\n",
        "\n",
        "  pfx_x = pitch['pfx_x'].values[0]\n",
        "  pfx_z = pitch['pfx_z'].values[0]\n",
        "  plate_x = pitch['plate_x'].values[0]\n",
        "  plate_z = pitch['plate_z'].values[0]\n",
        "\n",
        "\n",
        "  release_spin = pitch['release_spin_rate'].values[0]\n",
        "  spin_axis = pitch['spin_axis'].values[0]\n",
        "  \n",
        "\n",
        "  #calculated variables\n",
        "\n",
        "  tR = (-1 * vy0 - math.sqrt(vy0 ** 2 -2 * ay0 * (50 - y0))) / ay0\n",
        "  vxR = vx0 + ax0 * tR\n",
        "  vyR = vy0 + ay0 * tR\n",
        "  vzR = vz0 + az0 * tR\n",
        "  dv0 = v0 - math.sqrt(vxR ** 2 + vyR ** 2 + vzR ** 2) / 1.467\n",
        "  tf = (-1 * vyR - math.sqrt(vyR ** 2 - 2 * ay0 * (y0 - 17/12))) / ay0\n",
        "  calculate_x_mvt = (plate_x - x0 - (vxR / vyR) * (17/12 - y0))\n",
        "  calculate_z_mvt = (plate_z - z0 - (vzR / vyR) * (17/12 - y0)) + .5 * 32.174 * (tf ** 2)\n",
        "\n",
        "\n",
        "  times = np.arange(0, tf + .2, dt, dtype=float)\n",
        "\n",
        "  trajectory = pd.DataFrame(columns=['Time', 'X_Pos', 'Y_Pos','Z_Pos'])\n",
        "\n",
        "  vxPrev = vxR\n",
        "  vyPrev = vyR\n",
        "  vzPrev = vzR\n",
        "\n",
        "  axPrev = ax0 # Was ax bar\n",
        "  ayPrev = ay0 # was ay bar\n",
        "  azPrev = az0 # Was az bar\n",
        "\n",
        "  xPrev = x0\n",
        "  yPrev = y0\n",
        "  zPrev = z0\n",
        "\n",
        "  adrag = -(ax0 * vxR + ay0 * vyR + (az0 + 32.174) * vzR) / v0 \n",
        "  Cd = adrag / (K * (v0 ** 2))\n",
        "\n",
        "  adragx = -K * Cd * v0 * vx0\n",
        "  adragy = -K * Cd * v0* vy0\n",
        "  adragz = -K * Cd * v0 * vz0\n",
        "\n",
        "  vxbar = (2 * vxR + ax0 * tf) / 2\n",
        "  vybar = (2 * vyR + ay0 * tf) / 2\n",
        "  vzbar = (2 * vzR + az0 * tf) / 2\n",
        "  vbar = math.sqrt(vxbar ** 2 + vybar ** 2 + vzbar ** 2)\n",
        "  adrag = -(ax0 * vxbar + ay0 * vybar + (az0 + 32.174) * vzbar) / vbar\n",
        "  Cd = adrag / (K * vbar ** 2)\n",
        "\n",
        "\n",
        "  amagx = ax0 + adrag * vxbar / vbar\n",
        "  amagy = ay0 + adrag * vybar / vbar\n",
        "  amagz = az0 + adrag * vzbar / vbar + 32.174\n",
        "  amag = math.sqrt(amagx ** 2 + amagy ** 2 + amagz ** 2)\n",
        "\n",
        "  Mx = .5 * amagx * tf ** 2 * 12\n",
        "  Mz = .5 * amagz * tf ** 2 * 12\n",
        "  Cl = amag / (K * vbar ** 2)\n",
        "  S = .4 * Cl / (1-2.32 * Cl)\n",
        "  spinT = 78.92 * S * vbar\n",
        "  spinTX = spinT * (vybar * amagz - vzbar * amagy) / (amag * vbar)\n",
        "  spinTY = spinT * (vzbar * amagx - vxbar * amagz) / (amag * vbar)\n",
        "  spinTZ = spinT * (vxbar * amagy - vybar * amagx) / (amag * vbar)\n",
        "  spin_check = math.sqrt(spinTX ** 2 + spinTY ** 2 + spinTZ ** 2) - spinT\n",
        "  ax = amagx + adragx\n",
        "  ay = amagy + adragy\n",
        "  az = amagz + adragz - 32.174\n",
        "  trajectory['Time'] = times\n",
        "  location = trajectory['Time'] == times[0]\n",
        "  trajectory.loc[location, 'X_Pos'] = xPrev\n",
        "  trajectory.loc[location, 'Y_Pos'] = yPrev\n",
        "  trajectory.loc[location, 'Z_Pos'] = zPrev\n",
        "\n",
        "\n",
        "  reached_decision_point = False\n",
        "  decision_x = None\n",
        "  decision_z = None\n",
        "\n",
        "  for time in times[1:]: # start at the second time interval because the first is base case and known\n",
        "\n",
        "\n",
        "\n",
        "\n",
        "    v = math.sqrt((vxPrev ** 2) + (vyPrev ** 2) + (vzPrev ** 2))\n",
        "\n",
        "    wperp = math.sqrt((spinT ** 2) - ((30 / math.pi) * (spinTX * vxR + spinTY * vyR + spinTZ * vzR) / v) ** 2) \n",
        "    romegaPerp = (wperp * math.pi / 30) * (circ / (2 * math.pi)) / 12 \n",
        "\n",
        "    v_w = v # assuming no wind\n",
        "\n",
        "    S = (romegaPerp / v_w) * math.exp(-time / (tau * 146.7 / v_w))\n",
        "    \n",
        "\n",
        "\n",
        "\n",
        "    # Calculate Current Ball Velocity Components Vx, Vy, Vz for next pass around\n",
        "\n",
        "    vx = vxPrev + (axPrev * dt)\n",
        "    vy = vyPrev + (ayPrev * dt)\n",
        "    vz = vzPrev + (azPrev * dt)\n",
        "\n",
        "\n",
        "\n",
        "    # Calculate Current Ball Position X,Y,Z\n",
        "    xPrev = xPrev + (vxPrev * dt) + (.5 * (axPrev) * (dt ** 2))\n",
        "    yPrev = yPrev + (vyPrev * dt) + (.5 * (ayPrev) * (dt ** 2))\n",
        "    zPrev = zPrev + (vzPrev * dt) + (.5 * (azPrev) * (dt ** 2))# + .001027 #arbitraty fixme\n",
        "\n",
        "    if yPrev < decision + 17/12: #we add 17/12 because origin is at back tip of home plate, but we want the point relative to the front of home plate, which is 17 inches long, or 17/12 feet\n",
        "      return xPrev, yPrev, zPrev\n",
        "\n",
        "    \n",
        "    #we add the case for the time step to the dataframe. \n",
        "    location = trajectory['Time'] == time\n",
        "    trajectory.loc[location, 'X_Pos'] = xPrev\n",
        "    trajectory.loc[location, 'Y_Pos'] = yPrev\n",
        "    trajectory.loc[location, 'Z_Pos'] = zPrev\n",
        "\n",
        "\n",
        "    vxPrev = vx\n",
        "    vyPrev = vy\n",
        "    vzPrev = vz\n",
        "\n",
        "    axPrev = ax\n",
        "    ayPrev = ay\n",
        "    azPrev = az\n",
        "\n",
        "  #on drag vyR to vy0\n",
        "  #negative the adrag\n",
        "  # I added a -32 to az, which seems redundate because amagz already has that, but now the value is much closer. *debug this*\n",
        "  # set T0 to zero \n",
        "    \n",
        "\n",
        "\n",
        "\n"
      ],
      "metadata": {
        "id": "_3RvgLf8y0V9"
      },
      "execution_count": null,
      "outputs": []
    },
    {
      "cell_type": "code",
      "source": [
        "%timeit trace_decision_trajectory(data.iloc[[0]])"
      ],
      "metadata": {
        "colab": {
          "base_uri": "https://localhost:8080/"
        },
        "id": "nl355eW48Z32",
        "outputId": "9f2cb61c-db9e-4b7d-c7d5-1234edea831d"
      },
      "execution_count": null,
      "outputs": [
        {
          "output_type": "stream",
          "name": "stdout",
          "text": [
            "353 ms ± 119 ms per loop (mean ± std. dev. of 7 runs, 1 loop each)\n"
          ]
        }
      ]
    },
    {
      "cell_type": "code",
      "source": [
        "#this function is really slow, so we're going to use a subset of data. First we'll only use data from the trop because our trajectory calculator is assuming the weather conditions from the trop anyways \n",
        "df = data.loc[data.home_team == 'TB']"
      ],
      "metadata": {
        "id": "jzcNBMhL2mFu"
      },
      "execution_count": null,
      "outputs": []
    },
    {
      "cell_type": "code",
      "source": [
        "#it's still really slow, so take a sample to train the model \n",
        "df = df.sample(n=1000, replace = False, random_state = 42)"
      ],
      "metadata": {
        "id": "HqeG6oZj3FvD"
      },
      "execution_count": null,
      "outputs": []
    },
    {
      "cell_type": "code",
      "source": [
        "tunnel_x = []\n",
        "tunnel_y = []\n",
        "tunnel_z = []\n",
        "for i in range(df.shape[0]):\n",
        "  x,y,z = trace_decision_trajectory(df.iloc[[i]])\n",
        "  tunnel_x.append(x)\n",
        "  tunnel_y.append(y)\n",
        "  tunnel_z.append(z)"
      ],
      "metadata": {
        "id": "e0S7az1B3NDp"
      },
      "execution_count": null,
      "outputs": []
    },
    {
      "cell_type": "code",
      "source": [
        "df['tunnel_x'] = tunnel_x \n",
        "df['tunnel_y'] = tunnel_y\n",
        "df['tunnel_z'] = tunnel_z"
      ],
      "metadata": {
        "id": "Iq_AvcVJ9epe"
      },
      "execution_count": null,
      "outputs": []
    },
    {
      "cell_type": "markdown",
      "source": [
        "**modeling**"
      ],
      "metadata": {
        "id": "uv8q9Zkm_ute"
      }
    },
    {
      "cell_type": "code",
      "source": [
        "train, test = train_test_split(df, test_size = 0.3, random_state = 42)"
      ],
      "metadata": {
        "id": "A01VbSlx_qda"
      },
      "execution_count": null,
      "outputs": []
    },
    {
      "cell_type": "code",
      "source": [
        "#model platex first\n",
        "features1 = ['tunnel_x', 'pfx_x',  'release_pos_x']\n",
        "trainx = train[features1].values \n",
        "trainy = train.plate_x.values \n",
        "testx = test[features1].values \n",
        "testy = test.plate_x.values\n",
        "\n",
        "model1 = LinearRegression().fit(trainx, trainy)\n",
        "\n",
        "train_acc = np.sqrt(mean_squared_error(trainy, model1.predict(trainx)))\n",
        "test_acc = np.sqrt(mean_squared_error(testy, model1.predict(testx)))\n",
        "\n",
        "train_r2 = r2_score(trainy, model1.predict(trainx))\n",
        "test_r2 = r2_score(testy, model1.predict(testx))"
      ],
      "metadata": {
        "colab": {
          "base_uri": "https://localhost:8080/",
          "height": 236
        },
        "id": "J7vnXnZo_4Ho",
        "outputId": "6dd1dd81-2e03-4205-d198-d00001fc689b"
      },
      "execution_count": null,
      "outputs": [
        {
          "output_type": "error",
          "ename": "NameError",
          "evalue": "ignored",
          "traceback": [
            "\u001b[0;31m---------------------------------------------------------------------------\u001b[0m",
            "\u001b[0;31mNameError\u001b[0m                                 Traceback (most recent call last)",
            "\u001b[0;32m<ipython-input-1-be0245af261c>\u001b[0m in \u001b[0;36m<module>\u001b[0;34m\u001b[0m\n\u001b[1;32m      1\u001b[0m \u001b[0;31m#model platex first\u001b[0m\u001b[0;34m\u001b[0m\u001b[0;34m\u001b[0m\u001b[0;34m\u001b[0m\u001b[0m\n\u001b[1;32m      2\u001b[0m \u001b[0mfeatures1\u001b[0m \u001b[0;34m=\u001b[0m \u001b[0;34m[\u001b[0m\u001b[0;34m'tunnel_x'\u001b[0m\u001b[0;34m,\u001b[0m \u001b[0;34m'pfx_x'\u001b[0m\u001b[0;34m,\u001b[0m  \u001b[0;34m'release_pos_x'\u001b[0m\u001b[0;34m]\u001b[0m\u001b[0;34m\u001b[0m\u001b[0;34m\u001b[0m\u001b[0m\n\u001b[0;32m----> 3\u001b[0;31m \u001b[0mtrainx\u001b[0m \u001b[0;34m=\u001b[0m \u001b[0mtrain\u001b[0m\u001b[0;34m[\u001b[0m\u001b[0mfeatures1\u001b[0m\u001b[0;34m]\u001b[0m\u001b[0;34m.\u001b[0m\u001b[0mvalues\u001b[0m\u001b[0;34m\u001b[0m\u001b[0;34m\u001b[0m\u001b[0m\n\u001b[0m\u001b[1;32m      4\u001b[0m \u001b[0mtrainy\u001b[0m \u001b[0;34m=\u001b[0m \u001b[0mtrain\u001b[0m\u001b[0;34m.\u001b[0m\u001b[0mplate_x\u001b[0m\u001b[0;34m.\u001b[0m\u001b[0mvalues\u001b[0m\u001b[0;34m\u001b[0m\u001b[0;34m\u001b[0m\u001b[0m\n\u001b[1;32m      5\u001b[0m \u001b[0mtestx\u001b[0m \u001b[0;34m=\u001b[0m \u001b[0mtest\u001b[0m\u001b[0;34m[\u001b[0m\u001b[0mfeatures1\u001b[0m\u001b[0;34m]\u001b[0m\u001b[0;34m.\u001b[0m\u001b[0mvalues\u001b[0m\u001b[0;34m\u001b[0m\u001b[0;34m\u001b[0m\u001b[0m\n",
            "\u001b[0;31mNameError\u001b[0m: name 'train' is not defined"
          ]
        }
      ]
    },
    {
      "cell_type": "code",
      "source": [
        "train_r2, test_r2"
      ],
      "metadata": {
        "colab": {
          "base_uri": "https://localhost:8080/"
        },
        "id": "S6c2yIumAUF0",
        "outputId": "1b5e019a-2bc5-4a32-ac11-e900d3e47ce0"
      },
      "execution_count": null,
      "outputs": [
        {
          "output_type": "execute_result",
          "data": {
            "text/plain": [
              "(0.9996192035884562, 0.9997257843308357)"
            ]
          },
          "metadata": {},
          "execution_count": 13
        }
      ]
    },
    {
      "cell_type": "code",
      "source": [
        "plt.plot(model1.predict(testx), testy, 'k.')\n",
        "plt.plot(model1.predict(testx), model1.predict(testx), 'r-')\n",
        "plt.xlabel('predicted plate_x')\n",
        "plt.ylabel('actual plate_x')\n",
        "plt.show()"
      ],
      "metadata": {
        "colab": {
          "base_uri": "https://localhost:8080/",
          "height": 280
        },
        "id": "39Nd86DNBBJw",
        "outputId": "15c15ea5-229e-4b2a-c7d8-4d3413ce77e6"
      },
      "execution_count": null,
      "outputs": [
        {
          "output_type": "display_data",
          "data": {
            "text/plain": [
              "<Figure size 432x288 with 1 Axes>"
            ],
            "image/png": "[encoded data removed]"
          },
          "metadata": {
            "needs_background": "light"
          }
        }
      ]
    },
    {
      "cell_type": "code",
      "source": [
        "model1.coef_"
      ],
      "metadata": {
        "colab": {
          "base_uri": "https://localhost:8080/"
        },
        "id": "reb5AZZDBNdk",
        "outputId": "ad628ab4-59cd-4097-ade9-85b16b2f2034"
      },
      "execution_count": null,
      "outputs": [
        {
          "output_type": "execute_result",
          "data": {
            "text/plain": [
              "array([ 1.83509302,  0.42284698, -0.83471552])"
            ]
          },
          "metadata": {},
          "execution_count": 15
        }
      ]
    },
    {
      "cell_type": "code",
      "source": [
        "#now model platez \n",
        "features2 = ['tunnel_z', 'pfx_z', 'release_pos_z']\n",
        "trainx = train[features2].values \n",
        "trainy = train.plate_z.values \n",
        "testx = test[features2].values \n",
        "testy = test.plate_z.values\n",
        "\n",
        "model2 = LinearRegression().fit(trainx, trainy)\n",
        "\n",
        "train_acc = np.sqrt(mean_squared_error(trainy, model2.predict(trainx)))\n",
        "test_acc = np.sqrt(mean_squared_error(testy, model2.predict(testx)))\n",
        "\n",
        "train_r2 = r2_score(trainy, model2.predict(trainx))\n",
        "test_r2 = r2_score(testy, model2.predict(testx))"
      ],
      "metadata": {
        "id": "x_7pQTdnDhDL"
      },
      "execution_count": null,
      "outputs": []
    },
    {
      "cell_type": "code",
      "source": [
        "train_r2, test_r2"
      ],
      "metadata": {
        "colab": {
          "base_uri": "https://localhost:8080/"
        },
        "id": "KxgaeryUD00V",
        "outputId": "5f315a62-be4e-45ad-ed34-30bd07ae5641"
      },
      "execution_count": null,
      "outputs": [
        {
          "output_type": "execute_result",
          "data": {
            "text/plain": [
              "(0.9789966275251516, 0.9844094817072103)"
            ]
          },
          "metadata": {},
          "execution_count": 17
        }
      ]
    },
    {
      "cell_type": "code",
      "source": [
        "plt.plot(model2.predict(testx), testy, 'k.')\n",
        "plt.plot(model2.predict(testx), model2.predict(testx), 'r-')\n",
        "plt.xlabel('predicted plate_z')\n",
        "plt.ylabel('actual plate_z')\n",
        "plt.show()"
      ],
      "metadata": {
        "colab": {
          "base_uri": "https://localhost:8080/",
          "height": 280
        },
        "id": "HvH6Zh1vD2Wx",
        "outputId": "90eb5a19-0e91-479e-ecd9-2b5fa567c81c"
      },
      "execution_count": null,
      "outputs": [
        {
          "output_type": "display_data",
          "data": {
            "text/plain": [
              "<Figure size 432x288 with 1 Axes>"
            ],
            "image/png": "[encoded data removed]"
          },
          "metadata": {
            "needs_background": "light"
          }
        }
      ]
    },
    {
      "cell_type": "code",
      "source": [
        "model2.coef_"
      ],
      "metadata": {
        "colab": {
          "base_uri": "https://localhost:8080/"
        },
        "id": "a4jZ96hnD40G",
        "outputId": "db47d4fa-1b0a-4959-c690-1cd2d652d51e"
      },
      "execution_count": null,
      "outputs": [
        {
          "output_type": "execute_result",
          "data": {
            "text/plain": [
              "array([ 1.8030893 ,  0.58032815, -0.8119065 ])"
            ]
          },
          "metadata": {},
          "execution_count": 19
        }
      ]
    },
    {
      "cell_type": "code",
      "source": [
        "#save models \n",
        "import pickle\n",
        "with open('/drive/My Drive/Colab Notebooks/sequencing_project/plate_x_model.pkl', 'wb') as f:\n",
        "  pickle.dump(model1, f)"
      ],
      "metadata": {
        "id": "38WO48r-D7CT"
      },
      "execution_count": null,
      "outputs": []
    },
    {
      "cell_type": "code",
      "source": [
        "with open('/drive/My Drive/Colab Notebooks/sequencing_project/plate_z_model.pkl', 'wb') as f:\n",
        "  pickle.dump(model2, f)"
      ],
      "metadata": {
        "id": "Eq9p1W6jMfWR"
      },
      "execution_count": null,
      "outputs": []
    },
    {
      "cell_type": "code",
      "source": [],
      "metadata": {
        "id": "ITrf4hFyMjF0"
      },
      "execution_count": null,
      "outputs": []
    }
  ]
}