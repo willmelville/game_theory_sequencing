{
  "nbformat": 4,
  "nbformat_minor": 0,
  "metadata": {
    "colab": {
      "provenance": [],
      "collapsed_sections": [
        "M7HgiuKLuo6I",
        "Q-ytTaf5xAaE",
        "NPD7sPERu6Sv",
        "trxMUmt4vW2U",
        "XUUx_Wcsv8lG",
        "VdjMaBUGR6a1",
        "E6T0kghd_gTC"
      ],
      "authorship_tag": "ABX9TyOZLV4CzqZouf5B5QzhgPI+"
    },
    "kernelspec": {
      "name": "python3",
      "display_name": "Python 3"
    },
    "language_info": {
      "name": "python"
    },
    "accelerator": "GPU",
    "gpuClass": "standard"
  },
  "cells": [
    {
      "cell_type": "code",
      "execution_count": null,
      "metadata": {
        "colab": {
          "base_uri": "https://localhost:8080/"
        },
        "id": "0M_twxTYuUkP",
        "outputId": "0ad1f53e-c7cb-4d19-cfa5-9be25b2c635c"
      },
      "outputs": [
        {
          "output_type": "stream",
          "name": "stdout",
          "text": [
            "Looking in indexes: https://pypi.org/simple, https://us-python.pkg.dev/colab-wheels/public/simple/\n",
            "Collecting pybaseball\n",
            "  Downloading pybaseball-2.2.1-py3-none-any.whl (415 kB)\n",
            "\u001b[K     |████████████████████████████████| 415 kB 5.0 MB/s \n",
            "\u001b[?25hRequirement already satisfied: numpy>=1.13.0 in /usr/local/lib/python3.7/dist-packages (from pybaseball) (1.21.6)\n",
            "Requirement already satisfied: requests>=2.18.1 in /usr/local/lib/python3.7/dist-packages (from pybaseball) (2.23.0)\n",
            "Requirement already satisfied: tqdm>=4.50.0 in /usr/local/lib/python3.7/dist-packages (from pybaseball) (4.64.1)\n",
            "Requirement already satisfied: lxml>=4.2.1 in /usr/local/lib/python3.7/dist-packages (from pybaseball) (4.9.1)\n",
            "Requirement already satisfied: pandas>=1.0.3 in /usr/local/lib/python3.7/dist-packages (from pybaseball) (1.3.5)\n",
            "Requirement already satisfied: pyarrow>=1.0.1 in /usr/local/lib/python3.7/dist-packages (from pybaseball) (9.0.0)\n",
            "Collecting pygithub>=1.51\n",
            "  Downloading PyGithub-1.57-py3-none-any.whl (297 kB)\n",
            "\u001b[K     |████████████████████████████████| 297 kB 60.6 MB/s \n",
            "\u001b[?25hRequirement already satisfied: beautifulsoup4>=4.4.0 in /usr/local/lib/python3.7/dist-packages (from pybaseball) (4.6.3)\n",
            "Requirement already satisfied: scipy>=1.4.0 in /usr/local/lib/python3.7/dist-packages (from pybaseball) (1.7.3)\n",
            "Requirement already satisfied: matplotlib>=2.0.0 in /usr/local/lib/python3.7/dist-packages (from pybaseball) (3.2.2)\n",
            "Requirement already satisfied: attrs>=20.3.0 in /usr/local/lib/python3.7/dist-packages (from pybaseball) (22.1.0)\n",
            "Requirement already satisfied: python-dateutil>=2.1 in /usr/local/lib/python3.7/dist-packages (from matplotlib>=2.0.0->pybaseball) (2.8.2)\n",
            "Requirement already satisfied: kiwisolver>=1.0.1 in /usr/local/lib/python3.7/dist-packages (from matplotlib>=2.0.0->pybaseball) (1.4.4)\n",
            "Requirement already satisfied: pyparsing!=2.0.4,!=2.1.2,!=2.1.6,>=2.0.1 in /usr/local/lib/python3.7/dist-packages (from matplotlib>=2.0.0->pybaseball) (3.0.9)\n",
            "Requirement already satisfied: cycler>=0.10 in /usr/local/lib/python3.7/dist-packages (from matplotlib>=2.0.0->pybaseball) (0.11.0)\n",
            "Requirement already satisfied: typing-extensions in /usr/local/lib/python3.7/dist-packages (from kiwisolver>=1.0.1->matplotlib>=2.0.0->pybaseball) (4.1.1)\n",
            "Requirement already satisfied: pytz>=2017.3 in /usr/local/lib/python3.7/dist-packages (from pandas>=1.0.3->pybaseball) (2022.6)\n",
            "Collecting pyjwt>=2.4.0\n",
            "  Downloading PyJWT-2.6.0-py3-none-any.whl (20 kB)\n",
            "Collecting deprecated\n",
            "  Downloading Deprecated-1.2.13-py2.py3-none-any.whl (9.6 kB)\n",
            "Collecting pynacl>=1.4.0\n",
            "  Downloading PyNaCl-1.5.0-cp36-abi3-manylinux_2_17_x86_64.manylinux2014_x86_64.manylinux_2_24_x86_64.whl (856 kB)\n",
            "\u001b[K     |████████████████████████████████| 856 kB 15.5 MB/s \n",
            "\u001b[?25hRequirement already satisfied: cffi>=1.4.1 in /usr/local/lib/python3.7/dist-packages (from pynacl>=1.4.0->pygithub>=1.51->pybaseball) (1.15.1)\n",
            "Requirement already satisfied: pycparser in /usr/local/lib/python3.7/dist-packages (from cffi>=1.4.1->pynacl>=1.4.0->pygithub>=1.51->pybaseball) (2.21)\n",
            "Requirement already satisfied: six>=1.5 in /usr/local/lib/python3.7/dist-packages (from python-dateutil>=2.1->matplotlib>=2.0.0->pybaseball) (1.15.0)\n",
            "Requirement already satisfied: certifi>=2017.4.17 in /usr/local/lib/python3.7/dist-packages (from requests>=2.18.1->pybaseball) (2022.9.24)\n",
            "Requirement already satisfied: urllib3!=1.25.0,!=1.25.1,<1.26,>=1.21.1 in /usr/local/lib/python3.7/dist-packages (from requests>=2.18.1->pybaseball) (1.24.3)\n",
            "Requirement already satisfied: idna<3,>=2.5 in /usr/local/lib/python3.7/dist-packages (from requests>=2.18.1->pybaseball) (2.10)\n",
            "Requirement already satisfied: chardet<4,>=3.0.2 in /usr/local/lib/python3.7/dist-packages (from requests>=2.18.1->pybaseball) (3.0.4)\n",
            "Requirement already satisfied: wrapt<2,>=1.10 in /usr/local/lib/python3.7/dist-packages (from deprecated->pygithub>=1.51->pybaseball) (1.14.1)\n",
            "Installing collected packages: pynacl, pyjwt, deprecated, pygithub, pybaseball\n",
            "Successfully installed deprecated-1.2.13 pybaseball-2.2.1 pygithub-1.57 pyjwt-2.6.0 pynacl-1.5.0\n"
          ]
        }
      ],
      "source": [
        "!pip install pybaseball"
      ]
    },
    {
      "cell_type": "code",
      "source": [
        "import pandas as pd\n",
        "import numpy as np\n",
        "import matplotlib.pyplot as plt\n",
        "import seaborn as sns\n",
        "pd.set_option('display.max_columns', None)\n",
        "import torch\n",
        "import torch.nn as nn \n",
        "from torchvision import datasets, transforms\n",
        "from torch.utils.data import Dataset, DataLoader\n",
        "import tensorflow as tf\n",
        "from sklearn.preprocessing import StandardScaler\n",
        "import pybaseball\n",
        "import tqdm\n",
        "from scipy.stats import multivariate_normal as mvnorm \n",
        "import warnings \n",
        "warnings.filterwarnings('ignore')"
      ],
      "metadata": {
        "id": "th7zfzOjuepq"
      },
      "execution_count": null,
      "outputs": []
    },
    {
      "cell_type": "code",
      "source": [
        "device = torch.device(\"cuda:0\" if torch.cuda.is_available() else \"cpu\")"
      ],
      "metadata": {
        "id": "qc6qAP5fuiyY"
      },
      "execution_count": null,
      "outputs": []
    },
    {
      "cell_type": "markdown",
      "source": [
        "#### **Data**"
      ],
      "metadata": {
        "id": "M7HgiuKLuo6I"
      }
    },
    {
      "cell_type": "code",
      "source": [
        "#function to clean and organize data from statcast \n",
        "def organize_data(df):\n",
        "\n",
        "    df = df.loc[df.balls < 4]\n",
        "    df = df.loc[df.strikes < 3]\n",
        "\n",
        "    df.dropna(subset = ['release_extension', \n",
        "                      'release_speed','release_spin_rate', 'pfx_x', 'pfx_z', 'plate_x', 'plate_z'], axis = 0,\n",
        "            inplace = True)\n",
        "\n",
        "    #convert movement to inches instead of feet \n",
        "    df[['mx', 'mz']] = df[['pfx_x', 'pfx_z']].values * 12\n",
        "\n",
        "    #one hot encode handedness\n",
        "    pit_hand = pd.get_dummies(df['p_throws'], drop_first = False)\n",
        "    bat_hand = pd.get_dummies(df['stand'], drop_first = False)\n",
        "    df['pit_handR'] = pit_hand['R']\n",
        "    df['bat_handR'] = bat_hand['R']\n",
        "    df = df.drop(['p_throws', 'stand', 'pfx_x', 'pfx_z'], axis = 1)\n",
        "    \n",
        "    #remove bunts \n",
        "    df = df.loc[df.description.isin(['foul_bunt', 'bunt_foul_tip', 'missed_bunt']) == False]\n",
        "    df = df.loc[df.events != 'sac_bunt']\n",
        "\n",
        "    #define the pitch outcome \n",
        "    df['outcome'] = -1\n",
        "    df.loc[df.type == 'B', 'outcome'] = 0 #called ball \n",
        "    df.loc[df.description == 'called_strike', 'outcome'] = 1 #called strike \n",
        "    df.loc[df.description.isin(['swinging_strike', 'swinging_strike_blocked']), 'outcome'] = 2 #swm \n",
        "    df.loc[df.description.isin(['foul', 'foul_tip']), 'outcome'] = 3 #foul ball \n",
        "\n",
        "    #the other outcomes are all batted balls, which should either be outs or singles, doubles, triples, or home runs \n",
        "    df.loc[(df.type == 'X') & (df.events.isin(['field_out', 'force_out', 'field_error', 'grounded_into_double_play', 'sac_fly', 'fielders_choice', \n",
        "                                               'fielders_choice_out', 'double_play', 'other_out', 'triple_play', \n",
        "                                               'sac_fly_double_play'])), 'outcome'] = 4 # in play out \n",
        "    df.loc[(df.type == 'X') & (df.events == 'single'), 'outcome'] = 5 #single \n",
        "    df.loc[(df.type == 'X') & (df.events == 'double'), 'outcome'] = 6 # double \n",
        "    df.loc[(df.type == 'X') & (df.events == 'triple'), 'outcome'] = 7 #triple \n",
        "    df.loc[(df.type == 'X') & (df.events == 'home_run'), 'outcome'] = 8 #hr \n",
        "\n",
        "    #if outcome is still -1, drop it \n",
        "    df = df.loc[df.outcome != -1]\n",
        "\n",
        "    #define an is_swing column \n",
        "    df['is_swing'] = -1 \n",
        "    df.loc[df.description.isin(['hit_into_play', 'foul', 'swinging_strike', 'swinging_strike_blocked', 'foul_tip']), 'is_swing'] = 1\n",
        "    df.loc[df.description.isin(['called_strike', 'ball', 'blocked_ball', 'hit_by_pitch', 'pitchout']), 'is_swing'] = 0\n",
        "\n",
        "    #define an is_miss column \n",
        "    df['is_miss'] = -1 \n",
        "    df.loc[df.is_swing == 0 , 'is_miss'] = 0\n",
        "    df.loc[df.description.isin(['swinging_strike', 'swinging_strike_blocked']), 'is_miss'] = 1 \n",
        "    df.loc[df.description.isin(['hit_into_play', 'foul', 'foul_tip']), 'is_miss'] = 0\n",
        "    return df"
      ],
      "metadata": {
        "id": "_xoP_8BUumIO"
      },
      "execution_count": null,
      "outputs": []
    },
    {
      "cell_type": "code",
      "source": [
        "#columns needed from statcast \n",
        "needed_columns = ['game_date', 'game_year', 'game_pk', 'player_name', 'pitcher', 'batter', 'pitch_type', 'pitch_name', 'stand', 'p_throws', 'balls', 'strikes', 'release_speed', \n",
        "                  'release_spin_rate', 'release_extension', 'release_pos_x', 'release_pos_z', 'pfx_x', 'pfx_z',\n",
        "                  'plate_x', 'plate_z',  'type', 'events', 'description', 'woba_value', 'at_bat_number', 'pitch_number']"
      ],
      "metadata": {
        "id": "vMXFTRlRutZ_"
      },
      "execution_count": null,
      "outputs": []
    },
    {
      "cell_type": "code",
      "source": [
        "from google.colab import drive\n",
        "drive.mount('/drive')\n",
        "\n",
        "#read in the data\n",
        "raw22 = pd.read_csv('/drive/My Drive/Colab Notebooks/sequencing_project/raw22.csv')\n",
        "raw21 = pd.read_csv('/drive/My Drive/Colab Notebooks/sequencing_project/raw21.csv')\n",
        "raw19 = pd.read_csv('/drive/My Drive/Colab Notebooks/sequencing_project/raw18_19_20.csv')\n",
        "raw21 = raw21[needed_columns]\n",
        "raw22 = raw22[needed_columns]\n",
        "raw19 = raw19[needed_columns]"
      ],
      "metadata": {
        "colab": {
          "base_uri": "https://localhost:8080/"
        },
        "id": "fKNbqD4Xutpc",
        "outputId": "51a44f91-a09f-4f5c-b630-ff7dd2aebf39"
      },
      "execution_count": null,
      "outputs": [
        {
          "output_type": "stream",
          "name": "stdout",
          "text": [
            "Mounted at /drive\n"
          ]
        }
      ]
    },
    {
      "cell_type": "code",
      "source": [
        "#clean the data\n",
        "\n",
        "df21 = organize_data(raw21)\n",
        "df22 = organize_data(raw22)\n",
        "#df19 = organize_data(raw19)\n",
        "\n",
        "\n",
        "all_data = df22.append(df21, ignore_index = True)\n",
        "#all_data = all_data.append(df19, ignore_index = True)"
      ],
      "metadata": {
        "id": "mCSX2meMuvgl"
      },
      "execution_count": null,
      "outputs": []
    },
    {
      "cell_type": "code",
      "source": [
        "#z score variables \n",
        "standardizer = StandardScaler().fit(all_data[['release_speed', 'mx', 'mz', \n",
        "     'plate_x', 'plate_z',  'release_spin_rate']].values)\n",
        "\n",
        "all_data[['plate_x_ft', 'plate_z_ft']] = all_data[['plate_x', 'plate_z']].values\n",
        "all_data[['release_speed', 'mx', 'mz', \n",
        "     'plate_x', 'plate_z', 'release_spin_rate']] = standardizer.transform(all_data[['release_speed', 'mx', 'mz', \n",
        "     'plate_x', 'plate_z',  'release_spin_rate']].values)"
      ],
      "metadata": {
        "id": "8Ko5RlcUuzqb"
      },
      "execution_count": null,
      "outputs": []
    },
    {
      "cell_type": "code",
      "source": [
        "#get the batter index\n",
        "batter_indices = pd.DataFrame({'batter': all_data.batter.unique()})\n",
        "\n",
        "batter_indices['batter_index'] = batter_indices.index.values\n",
        "\n",
        "#merge \n",
        "all_data = all_data.merge(batter_indices, on = 'batter')"
      ],
      "metadata": {
        "id": "V31A-6o5u2QX"
      },
      "execution_count": null,
      "outputs": []
    },
    {
      "cell_type": "code",
      "source": [
        "bi = pd.read_csv('/drive/My Drive/Colab Notebooks/sequencing_project/batter_indices_final_model.csv')"
      ],
      "metadata": {
        "id": "PmmMi0i7ISP4"
      },
      "execution_count": null,
      "outputs": []
    },
    {
      "cell_type": "code",
      "source": [
        "testing = bi.merge(batter_indices, how = 'inner', on = 'batter_index')"
      ],
      "metadata": {
        "id": "ZXZ1DvIaIW4y"
      },
      "execution_count": null,
      "outputs": []
    },
    {
      "cell_type": "code",
      "source": [
        "#test that all batter indices match with the ones used when the model was trained\n",
        "testing.shape[0] == bi.shape[0] == batter_indices.shape[0]"
      ],
      "metadata": {
        "colab": {
          "base_uri": "https://localhost:8080/"
        },
        "id": "tBbswY1-IXQr",
        "outputId": "41694577-09dc-4f2e-a77b-eb56669f2fdf"
      },
      "execution_count": null,
      "outputs": [
        {
          "output_type": "execute_result",
          "data": {
            "text/plain": [
              "True"
            ]
          },
          "metadata": {},
          "execution_count": 12
        }
      ]
    },
    {
      "cell_type": "code",
      "source": [
        "features = ['balls', 'strikes', 'release_speed', 'release_spin_rate', 'plate_x', 'plate_z',\n",
        "                'mx', 'mz', 'pit_handR', 'bat_handR', 'batter_index']"
      ],
      "metadata": {
        "id": "aE3iRnaFvQfC"
      },
      "execution_count": null,
      "outputs": []
    },
    {
      "cell_type": "markdown",
      "source": [
        "#### **Data Loader**"
      ],
      "metadata": {
        "id": "Q-ytTaf5xAaE"
      }
    },
    {
      "cell_type": "code",
      "source": [
        "train = all_data.copy()"
      ],
      "metadata": {
        "id": "3-xs5DqrxAG9"
      },
      "execution_count": null,
      "outputs": []
    },
    {
      "cell_type": "code",
      "source": [
        "batch_size = 256\n",
        "\n",
        "#define a dataloader type thing. Basically we break down at bats by pitch sequence length. \n",
        "#then for each length we need to break down all the plate appearances of that length into batches.\n",
        "pa_lengths = train.groupby(['game_pk', 'at_bat_number'], as_index = False).agg(seq_length = ('pitch_number', 'max'),\n",
        "                                                                               pitches_recorded = ('pitch_number', 'count'))\n",
        "#merge with train\n",
        "train = train.merge(pa_lengths, how = 'inner', on = ['game_pk', 'at_bat_number'])\n",
        "#make sure the pitches recorded matches the sequence length\n",
        "train = train.loc[train.seq_length == train.pitches_recorded]\n",
        "\n",
        "train['pa_id'] = [str(train.game_pk.values[i]) + '-' + str(train.at_bat_number.values[i]) for i in range(train.shape[0])]\n",
        "#train is ordered from latest to earliest, but I think we want our sequence to go from earliest up top to latest on bottom \n",
        "train = train[::-1]\n",
        "\n",
        "features = ['balls', 'strikes', 'release_speed', 'release_spin_rate', 'plate_x', 'plate_z',\n",
        "                'mx', 'mz', 'pit_handR', 'bat_handR', 'batter_index']\n",
        "\n",
        "loader_list = []\n",
        "for l in pa_lengths.seq_length.unique():\n",
        "  d = train.loc[train.seq_length == l]\n",
        "  pas = list(d.pa_id.unique())\n",
        "  #for each batch, I need to continue to add plate appearances until I hit my batch size \n",
        "  while len(pas) > 0:\n",
        "    pas_for_batch = []\n",
        "    s = 0 \n",
        "    while s < batch_size:\n",
        "      if len(pas) != 0:\n",
        "        pas_for_batch.append(pas.pop(0))\n",
        "        s += l\n",
        "      else:\n",
        "        s+=1\n",
        "\n",
        "    #get the pas for this batch \n",
        "    batch_data = d.loc[d.pa_id.isin(pas_for_batch)]\n",
        "    pa_id_and_pitch_num = batch_data[['pa_id', 'pitch_number']].values\n",
        "    batch_x = batch_data[features].values\n",
        "    batch_y = batch_data.outcome.values.astype(int)\n",
        "    #reshape so that each pa is a separate entry in the batch\n",
        "    batch_x = batch_x.reshape((len(pas_for_batch), l, len(features)))\n",
        "    batch_y = batch_y.reshape((len(pas_for_batch),l))\n",
        "    torch_batch_x = torch.tensor(batch_x, dtype = torch.float)\n",
        "    torch_batch_y = torch.tensor(batch_y, dtype = torch.long)\n",
        "    \n",
        "    #append to list \n",
        "    loader_list.append((pa_id_and_pitch_num, torch_batch_x, torch_batch_y))\n",
        "\n",
        "\n",
        "#shuffle the batches so that the RNN is trained on variable length sequences right from the get go \n",
        "#this will also give you a train test split \n",
        "import random\n",
        "random.seed(51)\n",
        "random.shuffle(loader_list)\n",
        "train_loader_list = loader_list[:3*len(loader_list)//4]\n",
        "test_loader_list = loader_list[3*len(loader_list)//4:]"
      ],
      "metadata": {
        "id": "3dK-QHuYxQXi"
      },
      "execution_count": null,
      "outputs": []
    },
    {
      "cell_type": "markdown",
      "source": [
        "#### **Model**"
      ],
      "metadata": {
        "id": "NPD7sPERu6Sv"
      }
    },
    {
      "cell_type": "code",
      "source": [
        "#helper classes \n",
        "\n",
        "batter_embedding_dim = 13\n",
        "output_embedding_dim = 13\n",
        "\n",
        "class InputEmbedding(nn.Module):\n",
        "  def __init__(self, hidden_size = 32, output_size = 9):\n",
        "    super(InputEmbedding, self).__init__()\n",
        "    self.hidden_size = hidden_size \n",
        "    self.output_size = output_size\n",
        "    #define batter embedding \n",
        "    self.batter_embedding = nn.Embedding(batter_indices.shape[0], embedding_dim = batter_embedding_dim)\n",
        "\n",
        "    #define embedding for the pitch concatenated with the batter embedding concatenated with hidden state \n",
        "    self.ie1 = nn.Linear(in_features = len(features) - 1 + batter_embedding_dim + self.hidden_size, out_features = 512)\n",
        "    self.ie2 = nn.Linear(512, 256)\n",
        "    self.ie3 = nn.Linear(256, 128)\n",
        "    self.ie4 = nn.Linear(128, 64)\n",
        "    self.ie5 = nn.Linear(64, self.output_size)\n",
        "    self.relu = nn.ReLU()\n",
        "    \n",
        "  def forward(self, x, hidden):\n",
        "    #batter index is last column of x \n",
        "    batter_idx = x[:,-1].int()\n",
        "    bat_emb = self.batter_embedding(batter_idx)\n",
        "\n",
        "    #concatenate batter embedding and input and hidden state\n",
        "    conc = torch.concat((x[:,:-1], bat_emb, hidden), dim = 1)\n",
        "    \n",
        "    #run through layers \n",
        "    conc = self.relu(self.ie1(conc))\n",
        "    conc = self.relu(self.ie2(conc))\n",
        "    conc = self.relu(self.ie3(conc))\n",
        "    conc = self.relu(self.ie4(conc))\n",
        "    return self.ie5(conc)\n",
        "\n",
        "\n",
        "class HiddenStateUpdater(nn.Module):\n",
        "\n",
        "    def __init__(self, hidden_size = 32, output_size = 9):\n",
        "        super(HiddenStateUpdater, self).__init__()\n",
        "        self.hidden_size = hidden_size \n",
        "        self.output_size = output_size\n",
        "        #we need a target embedding \n",
        "        self.target_embedding = nn.Embedding(self.output_size, output_embedding_dim)\n",
        "        #remember, we are going to take our pitch and our output embedding and concatenate them together for the hidden state, so we need features \n",
        "        #plus output embedding dim minus 1 for the batter index which we don't want to include.\n",
        "        self.l1 = nn.Linear(len(features) - 1 + output_embedding_dim, 256)\n",
        "        self.l2 = nn.Linear(256, 128)\n",
        "        self.l3 = nn.Linear(128, 64)\n",
        "        self.l4 = nn.Linear(64,32)\n",
        "        self.proj = nn.Linear(32, self.hidden_size)\n",
        "        self.relu = nn.ReLU()\n",
        "\n",
        "    def forward(self, x, y):\n",
        "        #get the output embedding \n",
        "        y = self.target_embedding(y)\n",
        "        #concatenate onto x \n",
        "        x = torch.concat((x, y), dim = -1)\n",
        "        #feed through network\n",
        "        x = self.relu(self.l1(x))\n",
        "        x = self.relu(self.l2(x)) \n",
        "        x = self.relu(self.l3(x))\n",
        "        x = self.relu(self.l4(x))\n",
        "        return self.proj(x)"
      ],
      "metadata": {
        "id": "6zBw_pfTu4eE"
      },
      "execution_count": null,
      "outputs": []
    },
    {
      "cell_type": "code",
      "source": [
        "class RNN(nn.Module):\n",
        "  def __init__(self, hidden_size = 32, output_size = 9):\n",
        "    super(RNN, self).__init__()\n",
        "    self.hidden_size = hidden_size \n",
        "    self.output_size = output_size \n",
        "\n",
        "    self.input_embedding = InputEmbedding(self.hidden_size, self.output_size)\n",
        "    self.h_update = HiddenStateUpdater(self.hidden_size, self.output_size)\n",
        "    self.relu = nn.ReLU()\n",
        "\n",
        "    #initialize batter embeddings \n",
        "    self.input_embedding.batter_embedding.weight.data.fill_(1.)\n",
        "\n",
        "  def forward(self, x, hidden, y):\n",
        "    #first we run x and hidden through the 'input embedding'\n",
        "    output = self.input_embedding(x, hidden)\n",
        "\n",
        "    #next, we run x and y through the hidden state updater, and we add that onto the old hidden state\n",
        "    hidden += self.h_update(x[:,:-1], y)\n",
        "\n",
        "    #return x and hidden \n",
        "    return output, hidden \n",
        "\n",
        "  def init_hidden(self):\n",
        "    return torch.zeros(1, self.hidden_size) "
      ],
      "metadata": {
        "id": "7_Koo4fdu88I"
      },
      "execution_count": null,
      "outputs": []
    },
    {
      "cell_type": "code",
      "source": [
        "model = RNN(hidden_size = 32, output_size = 9).to(device)\n",
        "model.load_state_dict(torch.load('/drive/My Drive/Colab Notebooks/sequencing_project/final_OP'))"
      ],
      "metadata": {
        "colab": {
          "base_uri": "https://localhost:8080/"
        },
        "id": "RPNdpasLu-w-",
        "outputId": "5013f702-1b58-4aa3-b519-f87a9d58c02c"
      },
      "execution_count": null,
      "outputs": [
        {
          "output_type": "execute_result",
          "data": {
            "text/plain": [
              "<All keys matched successfully>"
            ]
          },
          "metadata": {},
          "execution_count": 18
        }
      ]
    },
    {
      "cell_type": "markdown",
      "source": [
        "#### **Stackelberg Game**"
      ],
      "metadata": {
        "id": "trxMUmt4vW2U"
      }
    },
    {
      "cell_type": "code",
      "source": [
        "#define utility function \n",
        "count_runs = pd.DataFrame({'balls_pre_event': [3,3,2,3,2,1,0,1,2,0,1,0], 'strikes_pre_event': [0,1,0,2,1,0,0,1,2,1,2,2],\n",
        "                           'val_ball': [0.131,0.201,0.110,0.276,0.103,0.063,0.034,0.050,0.098,0.027,0.046,0.022],\n",
        "                           'val_strike': [-0.070,-0.076,-0.062,-0.351,-0.071,-0.050,-0.043,-0.067,-0.252,-0.062,-0.206,-0.184],\n",
        "                           'val_out': [-0.496,-0.426,-0.385,-0.350,-0.323,-0.323, -0.289,-0.273,-0.252,-0.246,-0.206,-0.184],\n",
        "                           'val_single': [0.287,0.356,0.397,0.432,0.459,0.460,0.494,0.510,0.530,0.537,0.577,0.598],\n",
        "                           'val_double': [0.583,0.652,0.693,0.728,0.755,0.756,0.790,0.805,0.826,0.832,0.872,0.894],\n",
        "                           'val_triple': [0.861,0.930,0.971,1.006,1.033,1.034,1.068,1.083,1.104,1.110,1.150,1.172],\n",
        "                           'val_hr': [1.2,1.269,1.31,1.345,1.372,1.373,1.407,1.423,1.443,1.45,1.490,1.511]})\n",
        "\n",
        "def get_utilities(pitch_df):\n",
        "  '''\n",
        "  pitch_df is a pandas dataframe with a column for balls, strikes, and the \n",
        "  probabilities of each outcome, named o1, o2, o3, o4, o5, o6, o7, and o8\n",
        "\n",
        "  Returns the expected utility of a swing and of a take for that pitch.\n",
        "  The batter's optimal utility for the pitch is the larger of those two values\n",
        "  '''\n",
        "\n",
        "  pitch_df['swing_utility'] = -1 \n",
        "  pitch_df['take_utility'] = -1\n",
        "  pitch_df['actual_run_value'] = np.nan\n",
        "  for balls in pitch_df.balls.unique():\n",
        "    for strikes in pitch_df.strikes.unique():\n",
        "      d = pitch_df.loc[(pitch_df.balls == balls) & (pitch_df.strikes == strikes)]\n",
        "\n",
        "      #get the corresponding row from count_runs table\n",
        "      count_pre = count_runs.loc[(count_runs.balls_pre_event == balls) & (count_runs.strikes_pre_event == strikes)]\n",
        "\n",
        "      #get the value of a called ball \n",
        "      val0 = count_pre.val_ball.values[0]\n",
        "\n",
        "      #get the value of a called or swinging strike \n",
        "      val12 = count_pre.val_strike.values[0]\n",
        "\n",
        "      #value of a foul ball \n",
        "      if strikes == 2:\n",
        "        #no change \n",
        "        val3 = 0 \n",
        "      else:\n",
        "        #value of foul is just value of a strike\n",
        "        val3 = count_pre.val_strike.values[0] \n",
        "\n",
        "      #value of ball in play out \n",
        "      val4 = count_pre.val_out.values[0]\n",
        "      #single \n",
        "      val5 = count_pre.val_single.values[0]\n",
        "      #double \n",
        "      val6 = count_pre.val_double.values[0]\n",
        "      #triple \n",
        "      val7 = count_pre.val_triple.values[0]\n",
        "      #hr \n",
        "      val8 = count_pre.val_hr.values[0]\n",
        "\n",
        "      #calculate utilities \n",
        "      no_swing = d.o0.values + d.o1.values \n",
        "      swing = d[['o2','o3','o4','o5','o6','o7','o8']].values.sum(axis = 1)\n",
        "      take_utility = (d.o0.values / no_swing) * val0 + (d.o1.values/no_swing) * val12\n",
        "      swing_utility = (d.o2.values/swing) * val12 + (d.o3.values/swing)*val3 + (d.o4.values/swing)*val4 + (d.o5.values/swing)*val5 + (d.o6.values/swing)*val6 + (d.o7.values/swing)*val7 + (d.o8.values/swing) * val8\n",
        "      d.swing_utility = swing_utility \n",
        "      d.take_utility = take_utility  \n",
        "\n",
        "      #define the actual pitch outcome run value if we have the outcome in the data\n",
        "      try:\n",
        "        d.loc[d.outcome == 0, 'actual_run_value'] = val0 \n",
        "        d.loc[d.outcome.isin([1,2]), 'actual_run_value'] = val12 \n",
        "        d.loc[d.outcome == 3, 'actual_run_value'] = val3 \n",
        "        d.loc[d.outcome == 4, 'actual_run_value'] = val4 \n",
        "        d.loc[d.outcome == 5, 'actual_run_value'] = val5 \n",
        "        d.loc[d.outcome == 6, 'actual_run_value'] = val6 \n",
        "        d.loc[d.outcome == 7, 'actual_run_value'] = val7 \n",
        "        d.loc[d.outcome == 8, 'actual_run_value'] = val8\n",
        "      except: \n",
        "        d.actual_run_value = np.nan\n",
        "\n",
        "      pitch_df.loc[(pitch_df.strikes == strikes) & (pitch_df.balls == balls), ['swing_utility', 'take_utility', 'actual_run_value']] = d[['swing_utility', 'take_utility', 'actual_run_value']].values\n",
        "\n",
        "  #recall, in this game the batter observes the full pitch, so we assume he will choose to swing or take based on which one has higher utility, and that will be the ultimate utility of the pitch \n",
        "  pitch_df['pitch_utility'] = pitch_df[['swing_utility', 'take_utility']].values.max(axis=1)\n",
        "  pitch_df['batter_optimal_decision_is_swing'] = pitch_df[['take_utility', 'swing_utility']].values.argmax(axis=1)\n",
        "\n",
        "  return pitch_df       "
      ],
      "metadata": {
        "id": "b2b2ycXzvBiV"
      },
      "execution_count": null,
      "outputs": []
    },
    {
      "cell_type": "code",
      "source": [
        "#define the set of pitcher and batters you want to run on \n",
        "#Chapman, Anderson, Jansen\n",
        "pitchers = [547973, 623433, 445276]\n",
        "\n",
        "#Brosseau, Mookie, Brett Phillips \n",
        "batters = [670712, 605141, 621433]\n",
        "\n",
        "#get the batter indices for the batters \n",
        "batter_idxs = [batter_indices.loc[batter_indices.batter == i , 'batter_index'].values[0] for i in batters]"
      ],
      "metadata": {
        "id": "0L78u_U6vbc5"
      },
      "execution_count": null,
      "outputs": []
    },
    {
      "cell_type": "code",
      "source": [
        "batter_idxs"
      ],
      "metadata": {
        "colab": {
          "base_uri": "https://localhost:8080/"
        },
        "id": "UQsKLTaPvd7a",
        "outputId": "83c56125-0a20-4df6-f001-566ce502e24c"
      },
      "execution_count": null,
      "outputs": [
        {
          "output_type": "execute_result",
          "data": {
            "text/plain": [
              "[400, 70, 547]"
            ]
          },
          "metadata": {},
          "execution_count": 21
        }
      ]
    },
    {
      "cell_type": "code",
      "source": [
        "#get pitch usages and remove the ones less than like 5% \n",
        "non_z_scored = all_data.copy()\n",
        "non_z_scored[['release_speed', 'mx', 'mz', \n",
        "     'plate_x', 'plate_z',  'release_spin_rate']] = standardizer.inverse_transform(non_z_scored[['release_speed', 'mx', 'mz', \n",
        "     'plate_x', 'plate_z',  'release_spin_rate']].values)\n",
        "pitch_usages = pd.DataFrame()\n",
        "for pitcher in pitchers:\n",
        "  pdf = non_z_scored.loc[all_data.pitcher == pitcher]\n",
        "  n = pdf.shape[0]\n",
        "  usages = pdf.groupby('pitch_type', as_index = False).agg(N = ('is_swing', 'count'),\n",
        "                                                           release_speed = ('release_speed', 'mean'),\n",
        "                                                           mx = ('mx', 'mean'),\n",
        "                                                           mz = ('mz', 'mean'),\n",
        "                                                           release_spin_rate = ('release_spin_rate', 'mean'))\n",
        "  usages.N = usages.N / n\n",
        "  usages['pitcher_id'] = pitcher\n",
        "  pitch_usages = pitch_usages.append(usages, ignore_index = True)\n",
        "\n",
        "pitch_usages = pitch_usages.loc[pitch_usages.N >= 0.05]\n",
        "pitch_usages"
      ],
      "metadata": {
        "colab": {
          "base_uri": "https://localhost:8080/"
        },
        "id": "OjU0uZCTvemL",
        "outputId": "5bd3eb8e-615e-4b33-86ba-6a7c830b6fbb"
      },
      "execution_count": null,
      "outputs": [
        {
          "output_type": "execute_result",
          "data": {
            "text/plain": [
              "  pitch_type         N  release_speed         mx         mz  \\\n",
              "0         FF  0.561071      97.868091   4.223499  17.960040   \n",
              "1         FS  0.123815      88.202252   2.469189  -1.775135   \n",
              "2         SI  0.051311     100.445652  12.790435  15.943043   \n",
              "3         SL  0.263804      85.210994 -11.891163   3.062410   \n",
              "5         CU  0.305785      81.070270   2.033514  -0.149189   \n",
              "6         FF  0.685950      92.920482  -5.083373  18.300723   \n",
              "7         FC  0.606227      92.397356   7.936767  16.901148   \n",
              "8         SI  0.247711      93.759704  -5.858262  19.220850   \n",
              "9         SL  0.146062      81.662382   5.387210  -6.202382   \n",
              "\n",
              "   release_spin_rate  pitcher_id  \n",
              "0        2365.819085      547973  \n",
              "1         807.860360      547973  \n",
              "2        2406.554348      547973  \n",
              "3        2273.718816      547973  \n",
              "5        1862.648649      623433  \n",
              "6        2112.277108      623433  \n",
              "7        2622.221299      445276  \n",
              "8        2292.927911      445276  \n",
              "9        2453.213166      445276  "
            ],
            "text/html": [
              "\n",
              "  <div id=\"df-2732ccd8-b0c9-444b-84d2-d283832b3ce4\">\n",
              "    <div class=\"colab-df-container\">\n",
              "      <div>\n",
              "<style scoped>\n",
              "    .dataframe tbody tr th:only-of-type {\n",
              "        vertical-align: middle;\n",
              "    }\n",
              "\n",
              "    .dataframe tbody tr th {\n",
              "        vertical-align: top;\n",
              "    }\n",
              "\n",
              "    .dataframe thead th {\n",
              "        text-align: right;\n",
              "    }\n",
              "</style>\n",
              "<table border=\"1\" class=\"dataframe\">\n",
              "  <thead>\n",
              "    <tr style=\"text-align: right;\">\n",
              "      <th></th>\n",
              "      <th>pitch_type</th>\n",
              "      <th>N</th>\n",
              "      <th>release_speed</th>\n",
              "      <th>mx</th>\n",
              "      <th>mz</th>\n",
              "      <th>release_spin_rate</th>\n",
              "      <th>pitcher_id</th>\n",
              "    </tr>\n",
              "  </thead>\n",
              "  <tbody>\n",
              "    <tr>\n",
              "      <th>0</th>\n",
              "      <td>FF</td>\n",
              "      <td>0.561071</td>\n",
              "      <td>97.868091</td>\n",
              "      <td>4.223499</td>\n",
              "      <td>17.960040</td>\n",
              "      <td>2365.819085</td>\n",
              "      <td>547973</td>\n",
              "    </tr>\n",
              "    <tr>\n",
              "      <th>1</th>\n",
              "      <td>FS</td>\n",
              "      <td>0.123815</td>\n",
              "      <td>88.202252</td>\n",
              "      <td>2.469189</td>\n",
              "      <td>-1.775135</td>\n",
              "      <td>807.860360</td>\n",
              "      <td>547973</td>\n",
              "    </tr>\n",
              "    <tr>\n",
              "      <th>2</th>\n",
              "      <td>SI</td>\n",
              "      <td>0.051311</td>\n",
              "      <td>100.445652</td>\n",
              "      <td>12.790435</td>\n",
              "      <td>15.943043</td>\n",
              "      <td>2406.554348</td>\n",
              "      <td>547973</td>\n",
              "    </tr>\n",
              "    <tr>\n",
              "      <th>3</th>\n",
              "      <td>SL</td>\n",
              "      <td>0.263804</td>\n",
              "      <td>85.210994</td>\n",
              "      <td>-11.891163</td>\n",
              "      <td>3.062410</td>\n",
              "      <td>2273.718816</td>\n",
              "      <td>547973</td>\n",
              "    </tr>\n",
              "    <tr>\n",
              "      <th>5</th>\n",
              "      <td>CU</td>\n",
              "      <td>0.305785</td>\n",
              "      <td>81.070270</td>\n",
              "      <td>2.033514</td>\n",
              "      <td>-0.149189</td>\n",
              "      <td>1862.648649</td>\n",
              "      <td>623433</td>\n",
              "    </tr>\n",
              "    <tr>\n",
              "      <th>6</th>\n",
              "      <td>FF</td>\n",
              "      <td>0.685950</td>\n",
              "      <td>92.920482</td>\n",
              "      <td>-5.083373</td>\n",
              "      <td>18.300723</td>\n",
              "      <td>2112.277108</td>\n",
              "      <td>623433</td>\n",
              "    </tr>\n",
              "    <tr>\n",
              "      <th>7</th>\n",
              "      <td>FC</td>\n",
              "      <td>0.606227</td>\n",
              "      <td>92.397356</td>\n",
              "      <td>7.936767</td>\n",
              "      <td>16.901148</td>\n",
              "      <td>2622.221299</td>\n",
              "      <td>445276</td>\n",
              "    </tr>\n",
              "    <tr>\n",
              "      <th>8</th>\n",
              "      <td>SI</td>\n",
              "      <td>0.247711</td>\n",
              "      <td>93.759704</td>\n",
              "      <td>-5.858262</td>\n",
              "      <td>19.220850</td>\n",
              "      <td>2292.927911</td>\n",
              "      <td>445276</td>\n",
              "    </tr>\n",
              "    <tr>\n",
              "      <th>9</th>\n",
              "      <td>SL</td>\n",
              "      <td>0.146062</td>\n",
              "      <td>81.662382</td>\n",
              "      <td>5.387210</td>\n",
              "      <td>-6.202382</td>\n",
              "      <td>2453.213166</td>\n",
              "      <td>445276</td>\n",
              "    </tr>\n",
              "  </tbody>\n",
              "</table>\n",
              "</div>\n",
              "      <button class=\"colab-df-convert\" onclick=\"convertToInteractive('df-2732ccd8-b0c9-444b-84d2-d283832b3ce4')\"\n",
              "              title=\"Convert this dataframe to an interactive table.\"\n",
              "              style=\"display:none;\">\n",
              "        \n",
              "  <svg xmlns=\"http://www.w3.org/2000/svg\" height=\"24px\"viewBox=\"0 0 24 24\"\n",
              "       width=\"24px\">\n",
              "    <path d=\"M0 0h24v24H0V0z\" fill=\"none\"/>\n",
              "    <path d=\"M18.56 5.44l.94 2.06.94-2.06 2.06-.94-2.06-.94-.94-2.06-.94 2.06-2.06.94zm-11 1L8.5 8.5l.94-2.06 2.06-.94-2.06-.94L8.5 2.5l-.94 2.06-2.06.94zm10 10l.94 2.06.94-2.06 2.06-.94-2.06-.94-.94-2.06-.94 2.06-2.06.94z\"/><path d=\"M17.41 7.96l-1.37-1.37c-.4-.4-.92-.59-1.43-.59-.52 0-1.04.2-1.43.59L10.3 9.45l-7.72 7.72c-.78.78-.78 2.05 0 2.83L4 21.41c.39.39.9.59 1.41.59.51 0 1.02-.2 1.41-.59l7.78-7.78 2.81-2.81c.8-.78.8-2.07 0-2.86zM5.41 20L4 18.59l7.72-7.72 1.47 1.35L5.41 20z\"/>\n",
              "  </svg>\n",
              "      </button>\n",
              "      \n",
              "  <style>\n",
              "    .colab-df-container {\n",
              "      display:flex;\n",
              "      flex-wrap:wrap;\n",
              "      gap: 12px;\n",
              "    }\n",
              "\n",
              "    .colab-df-convert {\n",
              "      background-color: #E8F0FE;\n",
              "      border: none;\n",
              "      border-radius: 50%;\n",
              "      cursor: pointer;\n",
              "      display: none;\n",
              "      fill: #1967D2;\n",
              "      height: 32px;\n",
              "      padding: 0 0 0 0;\n",
              "      width: 32px;\n",
              "    }\n",
              "\n",
              "    .colab-df-convert:hover {\n",
              "      background-color: #E2EBFA;\n",
              "      box-shadow: 0px 1px 2px rgba(60, 64, 67, 0.3), 0px 1px 3px 1px rgba(60, 64, 67, 0.15);\n",
              "      fill: #174EA6;\n",
              "    }\n",
              "\n",
              "    [theme=dark] .colab-df-convert {\n",
              "      background-color: #3B4455;\n",
              "      fill: #D2E3FC;\n",
              "    }\n",
              "\n",
              "    [theme=dark] .colab-df-convert:hover {\n",
              "      background-color: #434B5C;\n",
              "      box-shadow: 0px 1px 3px 1px rgba(0, 0, 0, 0.15);\n",
              "      filter: drop-shadow(0px 1px 2px rgba(0, 0, 0, 0.3));\n",
              "      fill: #FFFFFF;\n",
              "    }\n",
              "  </style>\n",
              "\n",
              "      <script>\n",
              "        const buttonEl =\n",
              "          document.querySelector('#df-2732ccd8-b0c9-444b-84d2-d283832b3ce4 button.colab-df-convert');\n",
              "        buttonEl.style.display =\n",
              "          google.colab.kernel.accessAllowed ? 'block' : 'none';\n",
              "\n",
              "        async function convertToInteractive(key) {\n",
              "          const element = document.querySelector('#df-2732ccd8-b0c9-444b-84d2-d283832b3ce4');\n",
              "          const dataTable =\n",
              "            await google.colab.kernel.invokeFunction('convertToInteractive',\n",
              "                                                     [key], {});\n",
              "          if (!dataTable) return;\n",
              "\n",
              "          const docLinkHtml = 'Like what you see? Visit the ' +\n",
              "            '<a target=\"_blank\" href=https://colab.research.google.com/notebooks/data_table.ipynb>data table notebook</a>'\n",
              "            + ' to learn more about interactive tables.';\n",
              "          element.innerHTML = '';\n",
              "          dataTable['output_type'] = 'display_data';\n",
              "          await google.colab.output.renderOutput(dataTable, element);\n",
              "          const docLink = document.createElement('div');\n",
              "          docLink.innerHTML = docLinkHtml;\n",
              "          element.appendChild(docLink);\n",
              "        }\n",
              "      </script>\n",
              "    </div>\n",
              "  </div>\n",
              "  "
            ]
          },
          "metadata": {},
          "execution_count": 22
        }
      ]
    },
    {
      "cell_type": "code",
      "source": [
        "#define a function that gets the initial grid of utilities, so the grid that will then get uesd to get the execution adjusted grid\n",
        "#our model requires a hidden state, balls, strikes, and batter and pitch chars to make a prediction. \n",
        "#the hidden state will have to be calculated beforehand and plugged in, along with balls, strikes, and handedness.\n",
        "#this will allow us to just use the output calculation part of OP to make predictions, which will save us time because we won't have to repeatedly update a hidden state \n",
        "\n",
        "def initial_grid(batter_idx, pitcherid, h, bhand, phand, balls, strikes):\n",
        "\n",
        "  #define the grid. I'm adding 3 feet on either side of my normal grid. A baseball is just about 3 inches in diameter, so I'm going to have each point in the grid be half a baseball, so 1.5, so if my dimensions are 9 feet, \n",
        "  #I need 9*12/1.5 points in the grid \n",
        "  x,z = np.meshgrid(np.linspace(-4.5,4.5,int(9*12/1.5)), np.linspace(-2,7,int(9*12/1.5)))\n",
        "  x = x.flatten()\n",
        "  z = z.flatten()\n",
        "  grid_size = len(x)\n",
        "  #define the batter and pitcher handedness vecs \n",
        "  pvec = np.ones(grid_size) * phand \n",
        "  bvec = np.ones(grid_size) * bhand\n",
        "  #define a location index, so we know how to organize the columns for location\n",
        "  location_index = np.arange(grid_size)\n",
        "\n",
        "  #loop through the pitcher's pitches \n",
        "  final_data = pd.DataFrame()\n",
        "  pitcher_usages = pitch_usages.loc[pitch_usages.pitcher_id == pitcherid]\n",
        "  for pitch in pitcher_usages.pitch_type.unique():\n",
        "    pitch_chars = pitcher_usages.loc[pitcher_usages.pitch_type == pitch]\n",
        "\n",
        "    #pitch chars vectors\n",
        "    svec = np.ones(grid_size) * pitch_chars.release_speed.values[0]\n",
        "    mxvec = np.ones(grid_size) * pitch_chars.mx.values[0]\n",
        "    mzvec = np.ones(grid_size) * pitch_chars.mz.values[0]\n",
        "    srvec = np.ones(grid_size) * pitch_chars.release_spin_rate.values[0]\n",
        "\n",
        "    #ball and strike vectors \n",
        "    balls_v = np.ones(grid_size) * balls \n",
        "    strikes_v = np.ones(grid_size) * strikes\n",
        "\n",
        "    data = pd.DataFrame({'release_speed': svec, 'plate_x' : x, 'plate_z': z,\n",
        "                             'mx': mxvec, 'mz': mzvec, 'bat_handR': bvec, \n",
        "                             'pit_handR': pvec, 'balls': balls_v, 'strikes': strikes_v, \n",
        "                             'release_spin_rate': srvec, 'location_index': location_index,\n",
        "                         'plate_x_ft': x, 'plate_z_ft': z}) \n",
        "    \n",
        "    data['batter_index'] = batter_idx \n",
        "    data['pitcher_id'] = pitcherid\n",
        "    data['pitch_type'] = pitch \n",
        "    final_data = final_data.append(data, ignore_index = True)\n",
        "\n",
        "  #z score variables as needed \n",
        "  final_data[['release_speed', 'mx', 'mz', \n",
        "     'plate_x', 'plate_z', 'release_spin_rate']] = standardizer.transform(final_data[['release_speed', 'mx', 'mz', \n",
        "     'plate_x', 'plate_z', 'release_spin_rate']].values)\n",
        "\n",
        "  #now we can run the model on final_data, but we need to be able to concatenate on the hidden state \n",
        "  #repeate hidden so there is one for every pitch in the data \n",
        "  hidden = h.repeat(final_data.shape[0], 1)\n",
        "  #get the data in a tensor \n",
        "  x_data = torch.tensor(final_data[features].values, dtype = torch.float).to(device)\n",
        "  #run x_data and hidden through the output part of the model \n",
        "  preds = nn.functional.softmax(model.input_embedding(x_data, hidden), dim = 1)\n",
        "  final_data[['o0', 'o1', 'o2', 'o3', 'o4', 'o5', 'o6', 'o7', 'o8']] = preds.detach().cpu().numpy()\n",
        "\n",
        "  #get the utilities for final_data\n",
        "  final_data = get_utilities(final_data)\n",
        "\n",
        "  return final_data \n"
      ],
      "metadata": {
        "id": "CUSpLebbviI9"
      },
      "execution_count": null,
      "outputs": []
    },
    {
      "cell_type": "code",
      "source": [
        "#now use the initial grid and an execution score by pitch type to get the expected utility of a chosen target \n",
        "def execution_score_adjusted_grid(init_grid, execution_score_dict):\n",
        "  #recall init_grid is batter and pitcher specific, so you don't need to worry about having multiple pitchers in init_grid,\n",
        "  #thus execution_score_dict is a dictionary mapping the execution score to the pitch types for that pitcher \n",
        "\n",
        "  #get the location indices corresponding to the smaller grid \n",
        "  li = init_grid.loc[(init_grid.plate_x_ft >= -1.5) & (init_grid.plate_x_ft <= 1.5) & (init_grid.plate_z_ft >= 1) & (init_grid.plate_z_ft <= 4), 'location_index'].unique()\n",
        "  final_data = pd.DataFrame()\n",
        "  #loop through pitch types \n",
        "  for pitch in list(execution_score_dict.keys()):\n",
        "    d = init_grid.loc[init_grid.pitch_type == pitch]\n",
        "    #loop through location indices and get the expected utility of swing and take given the pitcher tried to throw the given pitch to the given location index \n",
        "    var = execution_score_dict[pitch] ** 2\n",
        "    for location in li:\n",
        "      #get the mean for the normal distribution \n",
        "      mean = d.loc[d.location_index == location,['plate_x_ft', 'plate_z_ft']].values[0]\n",
        "      normal = mvnorm(mean, np.eye(2) * var)\n",
        "\n",
        "      #get likelihoods of all other pitches. \n",
        "      d['probability'] = normal.pdf(d[['plate_x_ft', 'plate_z_ft']].values)\n",
        "      #I'm a little confused on this, but these probabilities don't sum to 1, which I think is just because we're sampling the normal distribution in discrete space and pretending \n",
        "      #like that's a good representation of the pdf even though the pdf is continuous, so I need to normalize them. \n",
        "      d.probability = d.probability / d.probability.sum()\n",
        "\n",
        "      #now calculate expected utility for the pitcher given his ability to execute\n",
        "      exp_util = (d.probability * d.pitch_utility).sum()\n",
        "\n",
        "      final_data = final_data.append(pd.DataFrame({'pitch_type': pitch, 'location_index': location, 'expected_pitcher_utility': exp_util}, index = [0]))\n",
        "\n",
        "  return final_data"
      ],
      "metadata": {
        "id": "9DdbdLyNv31M"
      },
      "execution_count": null,
      "outputs": []
    },
    {
      "cell_type": "markdown",
      "source": [
        "#### **Brosseau and Chapman**"
      ],
      "metadata": {
        "id": "XUUx_Wcsv8lG"
      }
    },
    {
      "cell_type": "code",
      "source": [
        "#get the at bat from pybaseball, the game was on october 9 2020, and it was the only\n",
        "#at bat between Chapman and Brosseau, so it should be easy to find in the data \n",
        "alds_game_5 = pybaseball.statcast(start_dt = '2020-10-09', end_dt = '2020-10-09')\n",
        "\n",
        "alds_game_5 = alds_game_5[needed_columns]\n",
        "alds_game_5 = organize_data(alds_game_5)"
      ],
      "metadata": {
        "colab": {
          "base_uri": "https://localhost:8080/"
        },
        "id": "ILe321B6v6tT",
        "outputId": "b2d88a33-dd47-4eda-eb81-accfd265be66"
      },
      "execution_count": null,
      "outputs": [
        {
          "output_type": "stream",
          "name": "stdout",
          "text": [
            "This is a large query, it may take a moment to complete\n"
          ]
        },
        {
          "output_type": "stream",
          "name": "stderr",
          "text": [
            "100%|██████████| 1/1 [00:02<00:00,  2.06s/it]\n"
          ]
        }
      ]
    },
    {
      "cell_type": "code",
      "source": [
        "bross_pa = alds_game_5.loc[(alds_game_5.batter == batters[0]) & (alds_game_5.pitcher == pitchers[0])]\n",
        "bross_pa['batter_index'] = batter_idxs[0]\n",
        "\n",
        "#run the model on the brosseau pa. Store the hidden state after the second to last pitch, so we can suggest what Chapman should have actually thrown.\n",
        "bross_pa = bross_pa[::-1]\n",
        "bross_pa['plate_x_ft'] = bross_pa.plate_x \n",
        "bross_pa['plate_z_ft'] = bross_pa.plate_z \n",
        "bross_pa[['release_speed', 'mx', 'mz', \n",
        "     'plate_x', 'plate_z', 'release_spin_rate']] = standardizer.transform(bross_pa[['release_speed', 'mx', 'mz', \n",
        "     'plate_x', 'plate_z', 'release_spin_rate']].values)\n",
        "\n",
        "#loop through the pitches\n",
        "pred_outcomes = torch.empty((1,9)).to(device)\n",
        "x_data = torch.tensor(bross_pa[features].values.astype(float), dtype = torch.float).to(device)\n",
        "y_data = torch.tensor(bross_pa.outcome.values, dtype = torch.long).to(device)\n",
        "h0 = model.init_hidden().to(device)\n",
        "for p in range(bross_pa.shape[0]):\n",
        "  yhat, h1 = model(x_data[p].unsqueeze(0), h0, y_data[p].unsqueeze(0))\n",
        "  pred_outcomes = torch.cat((pred_outcomes, yhat), dim = 0)\n",
        "  h0 = h1 \n",
        "  if p == bross_pa.shape[0] - 2:\n",
        "    #save the hidden state after the second to last pitch \n",
        "    h = h0 \n",
        "\n",
        "#now softmax the predictions and append onto the bross pa \n",
        "ypreds = nn.functional.softmax(pred_outcomes[1:,:], dim = 1).detach().cpu().numpy()\n",
        "bross_pa[['o0', 'o1', 'o2', 'o3', 'o4', 'o5', 'o6', 'o7', 'o8']] = ypreds \n",
        "\n",
        "#and calculate the utilities for each of those pitches \n",
        "bross_pa = get_utilities(bross_pa)\n",
        "\n",
        "#now we can see the utilities of all of those pitches, and most interestingly the utility of the last pitch\n",
        "bross_pa.tail(1)[['player_name', 'batter', 'pitch_type', 'balls', 'strikes','plate_x', 'plate_z', 'plate_x_ft', 'plate_z_ft', 'outcome', 'o0', 'o1', 'o2', 'o3', 'o4', 'o5', 'o6', 'o7', 'o8', 'swing_utility', 'take_utility', 'pitch_utility', 'batter_optimal_decision_is_swing']]"
      ],
      "metadata": {
        "colab": {
          "base_uri": "https://localhost:8080/",
          "height": 162
        },
        "id": "O7NBwr5XysfC",
        "outputId": "852efdc4-85c9-4fa6-9be3-efb88e7dabc7"
      },
      "execution_count": null,
      "outputs": [
        {
          "output_type": "execute_result",
          "data": {
            "text/plain": [
              "          player_name  batter pitch_type  balls  strikes   plate_x   plate_z  \\\n",
              "168  Chapman, Aroldis  670712         FF      3        2 -0.690644 -0.165659   \n",
              "\n",
              "     plate_x_ft  plate_z_ft  outcome        o0        o1        o2        o3  \\\n",
              "168       -0.54        2.12        8  0.002091  0.084918  0.111242  0.476575   \n",
              "\n",
              "           o4        o5        o6        o7        o8  swing_utility  \\\n",
              "168  0.215287  0.069385  0.022547  0.001767  0.016188      -0.048694   \n",
              "\n",
              "     take_utility  pitch_utility  batter_optimal_decision_is_swing  \n",
              "168     -0.335929      -0.048694                                 1  "
            ],
            "text/html": [
              "\n",
              "  <div id=\"df-08371618-d475-4b20-bbca-79537bef9a5e\">\n",
              "    <div class=\"colab-df-container\">\n",
              "      <div>\n",
              "<style scoped>\n",
              "    .dataframe tbody tr th:only-of-type {\n",
              "        vertical-align: middle;\n",
              "    }\n",
              "\n",
              "    .dataframe tbody tr th {\n",
              "        vertical-align: top;\n",
              "    }\n",
              "\n",
              "    .dataframe thead th {\n",
              "        text-align: right;\n",
              "    }\n",
              "</style>\n",
              "<table border=\"1\" class=\"dataframe\">\n",
              "  <thead>\n",
              "    <tr style=\"text-align: right;\">\n",
              "      <th></th>\n",
              "      <th>player_name</th>\n",
              "      <th>batter</th>\n",
              "      <th>pitch_type</th>\n",
              "      <th>balls</th>\n",
              "      <th>strikes</th>\n",
              "      <th>plate_x</th>\n",
              "      <th>plate_z</th>\n",
              "      <th>plate_x_ft</th>\n",
              "      <th>plate_z_ft</th>\n",
              "      <th>outcome</th>\n",
              "      <th>o0</th>\n",
              "      <th>o1</th>\n",
              "      <th>o2</th>\n",
              "      <th>o3</th>\n",
              "      <th>o4</th>\n",
              "      <th>o5</th>\n",
              "      <th>o6</th>\n",
              "      <th>o7</th>\n",
              "      <th>o8</th>\n",
              "      <th>swing_utility</th>\n",
              "      <th>take_utility</th>\n",
              "      <th>pitch_utility</th>\n",
              "      <th>batter_optimal_decision_is_swing</th>\n",
              "    </tr>\n",
              "  </thead>\n",
              "  <tbody>\n",
              "    <tr>\n",
              "      <th>168</th>\n",
              "      <td>Chapman, Aroldis</td>\n",
              "      <td>670712</td>\n",
              "      <td>FF</td>\n",
              "      <td>3</td>\n",
              "      <td>2</td>\n",
              "      <td>-0.690644</td>\n",
              "      <td>-0.165659</td>\n",
              "      <td>-0.54</td>\n",
              "      <td>2.12</td>\n",
              "      <td>8</td>\n",
              "      <td>0.002091</td>\n",
              "      <td>0.084918</td>\n",
              "      <td>0.111242</td>\n",
              "      <td>0.476575</td>\n",
              "      <td>0.215287</td>\n",
              "      <td>0.069385</td>\n",
              "      <td>0.022547</td>\n",
              "      <td>0.001767</td>\n",
              "      <td>0.016188</td>\n",
              "      <td>-0.048694</td>\n",
              "      <td>-0.335929</td>\n",
              "      <td>-0.048694</td>\n",
              "      <td>1</td>\n",
              "    </tr>\n",
              "  </tbody>\n",
              "</table>\n",
              "</div>\n",
              "      <button class=\"colab-df-convert\" onclick=\"convertToInteractive('df-08371618-d475-4b20-bbca-79537bef9a5e')\"\n",
              "              title=\"Convert this dataframe to an interactive table.\"\n",
              "              style=\"display:none;\">\n",
              "        \n",
              "  <svg xmlns=\"http://www.w3.org/2000/svg\" height=\"24px\"viewBox=\"0 0 24 24\"\n",
              "       width=\"24px\">\n",
              "    <path d=\"M0 0h24v24H0V0z\" fill=\"none\"/>\n",
              "    <path d=\"M18.56 5.44l.94 2.06.94-2.06 2.06-.94-2.06-.94-.94-2.06-.94 2.06-2.06.94zm-11 1L8.5 8.5l.94-2.06 2.06-.94-2.06-.94L8.5 2.5l-.94 2.06-2.06.94zm10 10l.94 2.06.94-2.06 2.06-.94-2.06-.94-.94-2.06-.94 2.06-2.06.94z\"/><path d=\"M17.41 7.96l-1.37-1.37c-.4-.4-.92-.59-1.43-.59-.52 0-1.04.2-1.43.59L10.3 9.45l-7.72 7.72c-.78.78-.78 2.05 0 2.83L4 21.41c.39.39.9.59 1.41.59.51 0 1.02-.2 1.41-.59l7.78-7.78 2.81-2.81c.8-.78.8-2.07 0-2.86zM5.41 20L4 18.59l7.72-7.72 1.47 1.35L5.41 20z\"/>\n",
              "  </svg>\n",
              "      </button>\n",
              "      \n",
              "  <style>\n",
              "    .colab-df-container {\n",
              "      display:flex;\n",
              "      flex-wrap:wrap;\n",
              "      gap: 12px;\n",
              "    }\n",
              "\n",
              "    .colab-df-convert {\n",
              "      background-color: #E8F0FE;\n",
              "      border: none;\n",
              "      border-radius: 50%;\n",
              "      cursor: pointer;\n",
              "      display: none;\n",
              "      fill: #1967D2;\n",
              "      height: 32px;\n",
              "      padding: 0 0 0 0;\n",
              "      width: 32px;\n",
              "    }\n",
              "\n",
              "    .colab-df-convert:hover {\n",
              "      background-color: #E2EBFA;\n",
              "      box-shadow: 0px 1px 2px rgba(60, 64, 67, 0.3), 0px 1px 3px 1px rgba(60, 64, 67, 0.15);\n",
              "      fill: #174EA6;\n",
              "    }\n",
              "\n",
              "    [theme=dark] .colab-df-convert {\n",
              "      background-color: #3B4455;\n",
              "      fill: #D2E3FC;\n",
              "    }\n",
              "\n",
              "    [theme=dark] .colab-df-convert:hover {\n",
              "      background-color: #434B5C;\n",
              "      box-shadow: 0px 1px 3px 1px rgba(0, 0, 0, 0.15);\n",
              "      filter: drop-shadow(0px 1px 2px rgba(0, 0, 0, 0.3));\n",
              "      fill: #FFFFFF;\n",
              "    }\n",
              "  </style>\n",
              "\n",
              "      <script>\n",
              "        const buttonEl =\n",
              "          document.querySelector('#df-08371618-d475-4b20-bbca-79537bef9a5e button.colab-df-convert');\n",
              "        buttonEl.style.display =\n",
              "          google.colab.kernel.accessAllowed ? 'block' : 'none';\n",
              "\n",
              "        async function convertToInteractive(key) {\n",
              "          const element = document.querySelector('#df-08371618-d475-4b20-bbca-79537bef9a5e');\n",
              "          const dataTable =\n",
              "            await google.colab.kernel.invokeFunction('convertToInteractive',\n",
              "                                                     [key], {});\n",
              "          if (!dataTable) return;\n",
              "\n",
              "          const docLinkHtml = 'Like what you see? Visit the ' +\n",
              "            '<a target=\"_blank\" href=https://colab.research.google.com/notebooks/data_table.ipynb>data table notebook</a>'\n",
              "            + ' to learn more about interactive tables.';\n",
              "          element.innerHTML = '';\n",
              "          dataTable['output_type'] = 'display_data';\n",
              "          await google.colab.output.renderOutput(dataTable, element);\n",
              "          const docLink = document.createElement('div');\n",
              "          docLink.innerHTML = docLinkHtml;\n",
              "          element.appendChild(docLink);\n",
              "        }\n",
              "      </script>\n",
              "    </div>\n",
              "  </div>\n",
              "  "
            ]
          },
          "metadata": {},
          "execution_count": 81
        }
      ]
    },
    {
      "cell_type": "code",
      "source": [
        "#we calculated the hidden state after the 9th pitch, so the pitch right before that last pitch, in the previous cell, so we can use that to get the utilities for all of Chapman's pitches \n",
        "#given the prior sequence\n",
        "igrid = initial_grid(batter_idxs[0], pitchers[0], h, 1., 0., balls = 3, strikes = 2)\n",
        "\n",
        "#get the execution score adjusted grid \n",
        "exe_grid = execution_score_adjusted_grid(igrid, {'FF': 0.753, 'FS': 0.921, 'SI': 0.719, 'SL': 0.657})"
      ],
      "metadata": {
        "id": "-rV1rJG2yzdy"
      },
      "execution_count": null,
      "outputs": []
    },
    {
      "cell_type": "code",
      "source": [
        "final_data = igrid.merge(exe_grid, how = 'inner', on = ['pitch_type', 'location_index'])"
      ],
      "metadata": {
        "id": "SWCrAaNMzvAA"
      },
      "execution_count": null,
      "outputs": []
    },
    {
      "cell_type": "markdown",
      "source": [
        "It's interesting, the pitcher decision should be the one with the minimum expected utility considering his execution score, but the best pitch he could possibly throw is the one with the minimum pitch utility in the dataframe, so compare those."
      ],
      "metadata": {
        "id": "4NlKfOB4z-O8"
      }
    },
    {
      "cell_type": "code",
      "source": [
        "actual_min = final_data.pitch_utility.min()\n",
        "expected_min = final_data.expected_pitcher_utility.min()\n",
        "best_possible_pitch = final_data.loc[final_data.pitch_utility == actual_min]\n",
        "pitcher_optimal_decision = final_data.loc[final_data.expected_pitcher_utility == expected_min]"
      ],
      "metadata": {
        "id": "06m3Ov43zeN1"
      },
      "execution_count": null,
      "outputs": []
    },
    {
      "cell_type": "code",
      "source": [
        "best_possible_pitch"
      ],
      "metadata": {
        "colab": {
          "base_uri": "https://localhost:8080/",
          "height": 145
        },
        "id": "yFehni-1ziT8",
        "outputId": "cc056917-db69-47fd-f678-db6e021ee517"
      },
      "execution_count": null,
      "outputs": [
        {
          "output_type": "execute_result",
          "data": {
            "text/plain": [
              "     release_speed   plate_x   plate_z        mx        mz  bat_handR  \\\n",
              "687      -0.111033  0.474967 -0.749311  0.362225 -1.055385        1.0   \n",
              "\n",
              "     pit_handR  balls  strikes  release_spin_rate  location_index  plate_x_ft  \\\n",
              "687        0.0    3.0      2.0           -4.28622            2055    0.443662   \n",
              "\n",
              "     plate_z_ft  batter_index  pitcher_id pitch_type        o0        o1  \\\n",
              "687    1.549296           400      547973         FS  0.010379  0.024404   \n",
              "\n",
              "          o2        o3        o4        o5        o6       o7        o8  \\\n",
              "687  0.32517  0.330999  0.229306  0.057502  0.014377  0.00083  0.007032   \n",
              "\n",
              "     swing_utility  take_utility  actual_run_value  pitch_utility  \\\n",
              "687      -0.154153     -0.163908               NaN      -0.154153   \n",
              "\n",
              "     batter_optimal_decision_is_swing  expected_pitcher_utility  \n",
              "687                                 1                  0.145516  "
            ],
            "text/html": [
              "\n",
              "  <div id=\"df-3e7270f0-abca-4c9f-b27b-39af94eb5cc0\">\n",
              "    <div class=\"colab-df-container\">\n",
              "      <div>\n",
              "<style scoped>\n",
              "    .dataframe tbody tr th:only-of-type {\n",
              "        vertical-align: middle;\n",
              "    }\n",
              "\n",
              "    .dataframe tbody tr th {\n",
              "        vertical-align: top;\n",
              "    }\n",
              "\n",
              "    .dataframe thead th {\n",
              "        text-align: right;\n",
              "    }\n",
              "</style>\n",
              "<table border=\"1\" class=\"dataframe\">\n",
              "  <thead>\n",
              "    <tr style=\"text-align: right;\">\n",
              "      <th></th>\n",
              "      <th>release_speed</th>\n",
              "      <th>plate_x</th>\n",
              "      <th>plate_z</th>\n",
              "      <th>mx</th>\n",
              "      <th>mz</th>\n",
              "      <th>bat_handR</th>\n",
              "      <th>pit_handR</th>\n",
              "      <th>balls</th>\n",
              "      <th>strikes</th>\n",
              "      <th>release_spin_rate</th>\n",
              "      <th>location_index</th>\n",
              "      <th>plate_x_ft</th>\n",
              "      <th>plate_z_ft</th>\n",
              "      <th>batter_index</th>\n",
              "      <th>pitcher_id</th>\n",
              "      <th>pitch_type</th>\n",
              "      <th>o0</th>\n",
              "      <th>o1</th>\n",
              "      <th>o2</th>\n",
              "      <th>o3</th>\n",
              "      <th>o4</th>\n",
              "      <th>o5</th>\n",
              "      <th>o6</th>\n",
              "      <th>o7</th>\n",
              "      <th>o8</th>\n",
              "      <th>swing_utility</th>\n",
              "      <th>take_utility</th>\n",
              "      <th>actual_run_value</th>\n",
              "      <th>pitch_utility</th>\n",
              "      <th>batter_optimal_decision_is_swing</th>\n",
              "      <th>expected_pitcher_utility</th>\n",
              "    </tr>\n",
              "  </thead>\n",
              "  <tbody>\n",
              "    <tr>\n",
              "      <th>687</th>\n",
              "      <td>-0.111033</td>\n",
              "      <td>0.474967</td>\n",
              "      <td>-0.749311</td>\n",
              "      <td>0.362225</td>\n",
              "      <td>-1.055385</td>\n",
              "      <td>1.0</td>\n",
              "      <td>0.0</td>\n",
              "      <td>3.0</td>\n",
              "      <td>2.0</td>\n",
              "      <td>-4.28622</td>\n",
              "      <td>2055</td>\n",
              "      <td>0.443662</td>\n",
              "      <td>1.549296</td>\n",
              "      <td>400</td>\n",
              "      <td>547973</td>\n",
              "      <td>FS</td>\n",
              "      <td>0.010379</td>\n",
              "      <td>0.024404</td>\n",
              "      <td>0.32517</td>\n",
              "      <td>0.330999</td>\n",
              "      <td>0.229306</td>\n",
              "      <td>0.057502</td>\n",
              "      <td>0.014377</td>\n",
              "      <td>0.00083</td>\n",
              "      <td>0.007032</td>\n",
              "      <td>-0.154153</td>\n",
              "      <td>-0.163908</td>\n",
              "      <td>NaN</td>\n",
              "      <td>-0.154153</td>\n",
              "      <td>1</td>\n",
              "      <td>0.145516</td>\n",
              "    </tr>\n",
              "  </tbody>\n",
              "</table>\n",
              "</div>\n",
              "      <button class=\"colab-df-convert\" onclick=\"convertToInteractive('df-3e7270f0-abca-4c9f-b27b-39af94eb5cc0')\"\n",
              "              title=\"Convert this dataframe to an interactive table.\"\n",
              "              style=\"display:none;\">\n",
              "        \n",
              "  <svg xmlns=\"http://www.w3.org/2000/svg\" height=\"24px\"viewBox=\"0 0 24 24\"\n",
              "       width=\"24px\">\n",
              "    <path d=\"M0 0h24v24H0V0z\" fill=\"none\"/>\n",
              "    <path d=\"M18.56 5.44l.94 2.06.94-2.06 2.06-.94-2.06-.94-.94-2.06-.94 2.06-2.06.94zm-11 1L8.5 8.5l.94-2.06 2.06-.94-2.06-.94L8.5 2.5l-.94 2.06-2.06.94zm10 10l.94 2.06.94-2.06 2.06-.94-2.06-.94-.94-2.06-.94 2.06-2.06.94z\"/><path d=\"M17.41 7.96l-1.37-1.37c-.4-.4-.92-.59-1.43-.59-.52 0-1.04.2-1.43.59L10.3 9.45l-7.72 7.72c-.78.78-.78 2.05 0 2.83L4 21.41c.39.39.9.59 1.41.59.51 0 1.02-.2 1.41-.59l7.78-7.78 2.81-2.81c.8-.78.8-2.07 0-2.86zM5.41 20L4 18.59l7.72-7.72 1.47 1.35L5.41 20z\"/>\n",
              "  </svg>\n",
              "      </button>\n",
              "      \n",
              "  <style>\n",
              "    .colab-df-container {\n",
              "      display:flex;\n",
              "      flex-wrap:wrap;\n",
              "      gap: 12px;\n",
              "    }\n",
              "\n",
              "    .colab-df-convert {\n",
              "      background-color: #E8F0FE;\n",
              "      border: none;\n",
              "      border-radius: 50%;\n",
              "      cursor: pointer;\n",
              "      display: none;\n",
              "      fill: #1967D2;\n",
              "      height: 32px;\n",
              "      padding: 0 0 0 0;\n",
              "      width: 32px;\n",
              "    }\n",
              "\n",
              "    .colab-df-convert:hover {\n",
              "      background-color: #E2EBFA;\n",
              "      box-shadow: 0px 1px 2px rgba(60, 64, 67, 0.3), 0px 1px 3px 1px rgba(60, 64, 67, 0.15);\n",
              "      fill: #174EA6;\n",
              "    }\n",
              "\n",
              "    [theme=dark] .colab-df-convert {\n",
              "      background-color: #3B4455;\n",
              "      fill: #D2E3FC;\n",
              "    }\n",
              "\n",
              "    [theme=dark] .colab-df-convert:hover {\n",
              "      background-color: #434B5C;\n",
              "      box-shadow: 0px 1px 3px 1px rgba(0, 0, 0, 0.15);\n",
              "      filter: drop-shadow(0px 1px 2px rgba(0, 0, 0, 0.3));\n",
              "      fill: #FFFFFF;\n",
              "    }\n",
              "  </style>\n",
              "\n",
              "      <script>\n",
              "        const buttonEl =\n",
              "          document.querySelector('#df-3e7270f0-abca-4c9f-b27b-39af94eb5cc0 button.colab-df-convert');\n",
              "        buttonEl.style.display =\n",
              "          google.colab.kernel.accessAllowed ? 'block' : 'none';\n",
              "\n",
              "        async function convertToInteractive(key) {\n",
              "          const element = document.querySelector('#df-3e7270f0-abca-4c9f-b27b-39af94eb5cc0');\n",
              "          const dataTable =\n",
              "            await google.colab.kernel.invokeFunction('convertToInteractive',\n",
              "                                                     [key], {});\n",
              "          if (!dataTable) return;\n",
              "\n",
              "          const docLinkHtml = 'Like what you see? Visit the ' +\n",
              "            '<a target=\"_blank\" href=https://colab.research.google.com/notebooks/data_table.ipynb>data table notebook</a>'\n",
              "            + ' to learn more about interactive tables.';\n",
              "          element.innerHTML = '';\n",
              "          dataTable['output_type'] = 'display_data';\n",
              "          await google.colab.output.renderOutput(dataTable, element);\n",
              "          const docLink = document.createElement('div');\n",
              "          docLink.innerHTML = docLinkHtml;\n",
              "          element.appendChild(docLink);\n",
              "        }\n",
              "      </script>\n",
              "    </div>\n",
              "  </div>\n",
              "  "
            ]
          },
          "metadata": {},
          "execution_count": 85
        }
      ]
    },
    {
      "cell_type": "code",
      "source": [
        "pitcher_optimal_decision"
      ],
      "metadata": {
        "colab": {
          "base_uri": "https://localhost:8080/",
          "height": 145
        },
        "id": "Xj5OlmFf0iud",
        "outputId": "305cecb0-fd82-4773-bbf8-c5b895a51ce2"
      },
      "execution_count": null,
      "outputs": [
        {
          "output_type": "execute_result",
          "data": {
            "text/plain": [
              "      release_speed   plate_x   plate_z        mx        mz  bat_handR  \\\n",
              "2005      -0.601416  0.174552  0.158143 -1.002816 -0.515481        1.0   \n",
              "\n",
              "      pit_handR  balls  strikes  release_spin_rate  location_index  \\\n",
              "2005        0.0    3.0      2.0           0.098252            2557   \n",
              "\n",
              "      plate_x_ft  plate_z_ft  batter_index  pitcher_id pitch_type        o0  \\\n",
              "2005    0.190141     2.43662           400      547973         SL  0.000205   \n",
              "\n",
              "            o1        o2        o3        o4        o5       o6        o7  \\\n",
              "2005  0.054932  0.137899  0.375847  0.285135  0.077049  0.03326  0.002724   \n",
              "\n",
              "           o8  swing_utility  take_utility  actual_run_value  pitch_utility  \\\n",
              "2005  0.03295      -0.046191     -0.348668               NaN      -0.046191   \n",
              "\n",
              "      batter_optimal_decision_is_swing  expected_pitcher_utility  \n",
              "2005                                 1                  0.007187  "
            ],
            "text/html": [
              "\n",
              "  <div id=\"df-92241cb3-8564-4427-a0b5-a148fa864929\">\n",
              "    <div class=\"colab-df-container\">\n",
              "      <div>\n",
              "<style scoped>\n",
              "    .dataframe tbody tr th:only-of-type {\n",
              "        vertical-align: middle;\n",
              "    }\n",
              "\n",
              "    .dataframe tbody tr th {\n",
              "        vertical-align: top;\n",
              "    }\n",
              "\n",
              "    .dataframe thead th {\n",
              "        text-align: right;\n",
              "    }\n",
              "</style>\n",
              "<table border=\"1\" class=\"dataframe\">\n",
              "  <thead>\n",
              "    <tr style=\"text-align: right;\">\n",
              "      <th></th>\n",
              "      <th>release_speed</th>\n",
              "      <th>plate_x</th>\n",
              "      <th>plate_z</th>\n",
              "      <th>mx</th>\n",
              "      <th>mz</th>\n",
              "      <th>bat_handR</th>\n",
              "      <th>pit_handR</th>\n",
              "      <th>balls</th>\n",
              "      <th>strikes</th>\n",
              "      <th>release_spin_rate</th>\n",
              "      <th>location_index</th>\n",
              "      <th>plate_x_ft</th>\n",
              "      <th>plate_z_ft</th>\n",
              "      <th>batter_index</th>\n",
              "      <th>pitcher_id</th>\n",
              "      <th>pitch_type</th>\n",
              "      <th>o0</th>\n",
              "      <th>o1</th>\n",
              "      <th>o2</th>\n",
              "      <th>o3</th>\n",
              "      <th>o4</th>\n",
              "      <th>o5</th>\n",
              "      <th>o6</th>\n",
              "      <th>o7</th>\n",
              "      <th>o8</th>\n",
              "      <th>swing_utility</th>\n",
              "      <th>take_utility</th>\n",
              "      <th>actual_run_value</th>\n",
              "      <th>pitch_utility</th>\n",
              "      <th>batter_optimal_decision_is_swing</th>\n",
              "      <th>expected_pitcher_utility</th>\n",
              "    </tr>\n",
              "  </thead>\n",
              "  <tbody>\n",
              "    <tr>\n",
              "      <th>2005</th>\n",
              "      <td>-0.601416</td>\n",
              "      <td>0.174552</td>\n",
              "      <td>0.158143</td>\n",
              "      <td>-1.002816</td>\n",
              "      <td>-0.515481</td>\n",
              "      <td>1.0</td>\n",
              "      <td>0.0</td>\n",
              "      <td>3.0</td>\n",
              "      <td>2.0</td>\n",
              "      <td>0.098252</td>\n",
              "      <td>2557</td>\n",
              "      <td>0.190141</td>\n",
              "      <td>2.43662</td>\n",
              "      <td>400</td>\n",
              "      <td>547973</td>\n",
              "      <td>SL</td>\n",
              "      <td>0.000205</td>\n",
              "      <td>0.054932</td>\n",
              "      <td>0.137899</td>\n",
              "      <td>0.375847</td>\n",
              "      <td>0.285135</td>\n",
              "      <td>0.077049</td>\n",
              "      <td>0.03326</td>\n",
              "      <td>0.002724</td>\n",
              "      <td>0.03295</td>\n",
              "      <td>-0.046191</td>\n",
              "      <td>-0.348668</td>\n",
              "      <td>NaN</td>\n",
              "      <td>-0.046191</td>\n",
              "      <td>1</td>\n",
              "      <td>0.007187</td>\n",
              "    </tr>\n",
              "  </tbody>\n",
              "</table>\n",
              "</div>\n",
              "      <button class=\"colab-df-convert\" onclick=\"convertToInteractive('df-92241cb3-8564-4427-a0b5-a148fa864929')\"\n",
              "              title=\"Convert this dataframe to an interactive table.\"\n",
              "              style=\"display:none;\">\n",
              "        \n",
              "  <svg xmlns=\"http://www.w3.org/2000/svg\" height=\"24px\"viewBox=\"0 0 24 24\"\n",
              "       width=\"24px\">\n",
              "    <path d=\"M0 0h24v24H0V0z\" fill=\"none\"/>\n",
              "    <path d=\"M18.56 5.44l.94 2.06.94-2.06 2.06-.94-2.06-.94-.94-2.06-.94 2.06-2.06.94zm-11 1L8.5 8.5l.94-2.06 2.06-.94-2.06-.94L8.5 2.5l-.94 2.06-2.06.94zm10 10l.94 2.06.94-2.06 2.06-.94-2.06-.94-.94-2.06-.94 2.06-2.06.94z\"/><path d=\"M17.41 7.96l-1.37-1.37c-.4-.4-.92-.59-1.43-.59-.52 0-1.04.2-1.43.59L10.3 9.45l-7.72 7.72c-.78.78-.78 2.05 0 2.83L4 21.41c.39.39.9.59 1.41.59.51 0 1.02-.2 1.41-.59l7.78-7.78 2.81-2.81c.8-.78.8-2.07 0-2.86zM5.41 20L4 18.59l7.72-7.72 1.47 1.35L5.41 20z\"/>\n",
              "  </svg>\n",
              "      </button>\n",
              "      \n",
              "  <style>\n",
              "    .colab-df-container {\n",
              "      display:flex;\n",
              "      flex-wrap:wrap;\n",
              "      gap: 12px;\n",
              "    }\n",
              "\n",
              "    .colab-df-convert {\n",
              "      background-color: #E8F0FE;\n",
              "      border: none;\n",
              "      border-radius: 50%;\n",
              "      cursor: pointer;\n",
              "      display: none;\n",
              "      fill: #1967D2;\n",
              "      height: 32px;\n",
              "      padding: 0 0 0 0;\n",
              "      width: 32px;\n",
              "    }\n",
              "\n",
              "    .colab-df-convert:hover {\n",
              "      background-color: #E2EBFA;\n",
              "      box-shadow: 0px 1px 2px rgba(60, 64, 67, 0.3), 0px 1px 3px 1px rgba(60, 64, 67, 0.15);\n",
              "      fill: #174EA6;\n",
              "    }\n",
              "\n",
              "    [theme=dark] .colab-df-convert {\n",
              "      background-color: #3B4455;\n",
              "      fill: #D2E3FC;\n",
              "    }\n",
              "\n",
              "    [theme=dark] .colab-df-convert:hover {\n",
              "      background-color: #434B5C;\n",
              "      box-shadow: 0px 1px 3px 1px rgba(0, 0, 0, 0.15);\n",
              "      filter: drop-shadow(0px 1px 2px rgba(0, 0, 0, 0.3));\n",
              "      fill: #FFFFFF;\n",
              "    }\n",
              "  </style>\n",
              "\n",
              "      <script>\n",
              "        const buttonEl =\n",
              "          document.querySelector('#df-92241cb3-8564-4427-a0b5-a148fa864929 button.colab-df-convert');\n",
              "        buttonEl.style.display =\n",
              "          google.colab.kernel.accessAllowed ? 'block' : 'none';\n",
              "\n",
              "        async function convertToInteractive(key) {\n",
              "          const element = document.querySelector('#df-92241cb3-8564-4427-a0b5-a148fa864929');\n",
              "          const dataTable =\n",
              "            await google.colab.kernel.invokeFunction('convertToInteractive',\n",
              "                                                     [key], {});\n",
              "          if (!dataTable) return;\n",
              "\n",
              "          const docLinkHtml = 'Like what you see? Visit the ' +\n",
              "            '<a target=\"_blank\" href=https://colab.research.google.com/notebooks/data_table.ipynb>data table notebook</a>'\n",
              "            + ' to learn more about interactive tables.';\n",
              "          element.innerHTML = '';\n",
              "          dataTable['output_type'] = 'display_data';\n",
              "          await google.colab.output.renderOutput(dataTable, element);\n",
              "          const docLink = document.createElement('div');\n",
              "          docLink.innerHTML = docLinkHtml;\n",
              "          element.appendChild(docLink);\n",
              "        }\n",
              "      </script>\n",
              "    </div>\n",
              "  </div>\n",
              "  "
            ]
          },
          "metadata": {},
          "execution_count": 86
        }
      ]
    },
    {
      "cell_type": "markdown",
      "source": [
        "The pitch that Chapman actually threw was a fastball. The right decision for Brosseau on that pitch was to swing, which gave an expected run value of -0.05. Brosseau did make that decision, but unfortunately for Chapman, and fortunately for Rays fans and really for the whole world, Brosseau greatly outperformed the expected run value and hit a home run. The best possible pitch that Chapman could have thrown, ignoring his ability to execute, was a splitter a little bit outside and down in the strike zone. That gave an expected take utility of -0.16, and an expected swing utility of -0.15, so Brosseau would want to swing at that pitch, but it would likely not have worked out well for him. The actual equilibrium pitch that Chapman should have thrown, so the pitch that minimizes expected run value considering Chapman's ability to execute, was a slider basically middle middle. That gives a swing utility of -0.05, a take utility of -0.35, and an expected pitch utility over execution score of 0.007. Interestingly, when we factor in execution score, there was no pitch that Chapman could throw with a negative run value, which is I guess a function of him maybe not having a great execution ability. "
      ],
      "metadata": {
        "id": "o_vm38fBJ-vL"
      }
    },
    {
      "cell_type": "code",
      "source": [
        "#all of chapman's expected utilities. None of them are negative!\n",
        "plt.hist(final_data.expected_pitcher_utility.values)\n",
        "plt.show()"
      ],
      "metadata": {
        "colab": {
          "base_uri": "https://localhost:8080/",
          "height": 265
        },
        "id": "LUVvCBm_K7Zh",
        "outputId": "08a858e7-fffb-42c2-9882-c2a69b3ccdd3"
      },
      "execution_count": null,
      "outputs": [
        {
          "output_type": "display_data",
          "data": {
            "text/plain": [
              "<Figure size 432x288 with 1 Axes>"
            ],
            "image/png": "[encoded data removed]"
          },
          "metadata": {
            "needs_background": "light"
          }
        }
      ]
    },
    {
      "cell_type": "code",
      "source": [
        "#plot the actual pitch, the absolute best pitch, and the optimal equilibrium pitch \n",
        "plt.plot(-1*bross_pa.plate_x_ft.values[-1], bross_pa.plate_z_ft.values[-1], 'kx', label = 'Actual Pitch: FB')\n",
        "plt.plot(-1*best_possible_pitch.plate_x_ft.values[0], best_possible_pitch.plate_z_ft.values[0], 'rx', label = 'Best Possible Pitch: SP')\n",
        "plt.plot(-1*pitcher_optimal_decision.plate_x_ft.values[0], pitcher_optimal_decision.plate_z_ft.values[0], 'bx', label = 'Optimal Pitch: SL')\n",
        "plt.plot([-.71,.71,.71,-.71, -.71], [3.412, 3.412, 1.546,1.546, 3.412], 'k-')\n",
        "plt.legend()\n",
        "plt.xlabel(\"Horizontal Location (Pitcher's Perspective)\")\n",
        "plt.ylabel('Vertical Location')\n",
        "plt.xlim(-2.,2.)\n",
        "plt.ylim(0,5)\n",
        "plt.show()"
      ],
      "metadata": {
        "colab": {
          "base_uri": "https://localhost:8080/",
          "height": 283
        },
        "id": "pABizQZ5QBcM",
        "outputId": "adbadd35-5f84-4d01-bae2-7b4ac3f18925"
      },
      "execution_count": null,
      "outputs": [
        {
          "output_type": "display_data",
          "data": {
            "text/plain": [
              "<Figure size 432x288 with 1 Axes>"
            ],
            "image/png": "[encoded data removed]"
          },
          "metadata": {
            "needs_background": "light"
          }
        }
      ]
    },
    {
      "cell_type": "markdown",
      "source": [
        "#### **Anderson vs Mookie**"
      ],
      "metadata": {
        "id": "VdjMaBUGR6a1"
      }
    },
    {
      "cell_type": "code",
      "source": [
        "#get the at bat from pybaseball\n",
        "game = pybaseball.statcast(start_dt = '2020-10-27', end_dt = '2020-10-27')\n",
        "\n",
        "game = game[needed_columns]\n",
        "game = organize_data(game)"
      ],
      "metadata": {
        "colab": {
          "base_uri": "https://localhost:8080/"
        },
        "id": "YUm29QKjR61B",
        "outputId": "5ef6bfd1-d06d-40c2-c8e5-751dd3fce312"
      },
      "execution_count": null,
      "outputs": [
        {
          "output_type": "stream",
          "name": "stdout",
          "text": [
            "This is a large query, it may take a moment to complete\n"
          ]
        },
        {
          "output_type": "stream",
          "name": "stderr",
          "text": [
            "100%|██████████| 1/1 [00:05<00:00,  5.28s/it]\n"
          ]
        }
      ]
    },
    {
      "cell_type": "code",
      "source": [
        "pa = game.loc[(game.batter == batters[1]) & (game.pitcher == pitchers[1])]\n",
        "pa['batter_index'] = batter_idxs[1]\n",
        "\n",
        "#run the model on the brosseau pa. Store the hidden state after the second to last pitch, so we can suggest what Chapman should have actually thrown.\n",
        "pa = pa[::-1]\n",
        "pa['plate_x_ft'] = pa.plate_x \n",
        "pa['plate_z_ft'] = pa.plate_z \n",
        "pa[['release_speed', 'mx', 'mz', \n",
        "     'plate_x', 'plate_z', 'release_spin_rate']] = standardizer.transform(pa[['release_speed', 'mx', 'mz', \n",
        "     'plate_x', 'plate_z', 'release_spin_rate']].values)\n",
        "\n",
        "#loop through the pitches\n",
        "pred_outcomes = torch.empty((1,9)).to(device)\n",
        "x_data = torch.tensor(pa[features].values.astype(float), dtype = torch.float).to(device)\n",
        "y_data = torch.tensor(pa.outcome.values, dtype = torch.long).to(device)\n",
        "h0 = model.init_hidden().to(device)\n",
        "for p in range(pa.shape[0]):\n",
        "  yhat, h1 = model(x_data[p].unsqueeze(0), h0, y_data[p].unsqueeze(0))\n",
        "  pred_outcomes = torch.cat((pred_outcomes, yhat), dim = 0)\n",
        "  h0 = h1 \n",
        "  if p == pa.shape[0] - 2:\n",
        "    #save the hidden state after the second to last pitch \n",
        "    h = h0 \n",
        "\n",
        "#now softmax the predictions and append onto the bross pa \n",
        "ypreds = nn.functional.softmax(pred_outcomes[1:,:], dim = 1).detach().cpu().numpy()\n",
        "pa[['o0', 'o1', 'o2', 'o3', 'o4', 'o5', 'o6', 'o7', 'o8']] = ypreds \n",
        "\n",
        "#and calculate the utilities for each of those pitches \n",
        "pa = get_utilities(pa)\n",
        "\n",
        "#now we can see the utilities of all of those pitches, and most interestingly the utility of the last pitch\n",
        "pa[['player_name', 'batter', 'pitch_type', 'balls', 'strikes','plate_x', 'plate_z', 'plate_x_ft', 'plate_z_ft', 'outcome', 'o0', 'o1', 'o2', 'o3', 'o4', 'o5', 'o6', 'o7', 'o8', 'swing_utility', 'take_utility', 'pitch_utility', 'batter_optimal_decision_is_swing']]"
      ],
      "metadata": {
        "colab": {
          "base_uri": "https://localhost:8080/",
          "height": 260
        },
        "id": "GkNMs7W2R7QF",
        "outputId": "14df7a64-79d1-4a40-ce1c-b86cb5c3d35f"
      },
      "execution_count": null,
      "outputs": [
        {
          "output_type": "execute_result",
          "data": {
            "text/plain": [
              "        player_name  batter pitch_type  balls  strikes   plate_x   plate_z  \\\n",
              "253  Anderson, Nick  605141         FF      0        0  1.442304  0.928616   \n",
              "242  Anderson, Nick  605141         FF      1        0  1.596351  0.539995   \n",
              "231  Anderson, Nick  605141         FF      2        0  0.375830  0.539995   \n",
              "\n",
              "     plate_x_ft  plate_z_ft  outcome        o0        o1        o2        o3  \\\n",
              "253        1.26        3.19        0  0.977774  0.002205  0.008487  0.008363   \n",
              "242        1.39        2.81        0  0.962326  0.000915  0.017599  0.014193   \n",
              "231        0.36        2.81        6  0.000797  0.293805  0.165113  0.337587   \n",
              "\n",
              "           o4        o5        o6        o7        o8  swing_utility  \\\n",
              "253  0.002272  0.000748  0.000118  0.000005  0.000027      -0.043662   \n",
              "242  0.003655  0.001091  0.000174  0.000007  0.000040      -0.056432   \n",
              "231  0.131421  0.035943  0.015856  0.001682  0.017796      -0.044742   \n",
              "\n",
              "     take_utility  pitch_utility  batter_optimal_decision_is_swing  \n",
              "253      0.033827       0.033827                                 0  \n",
              "242      0.062893       0.062893                                 0  \n",
              "231     -0.061535      -0.044742                                 1  "
            ],
            "text/html": [
              "\n",
              "  <div id=\"df-1570c07f-f922-46c8-a18e-2ed6841be81b\">\n",
              "    <div class=\"colab-df-container\">\n",
              "      <div>\n",
              "<style scoped>\n",
              "    .dataframe tbody tr th:only-of-type {\n",
              "        vertical-align: middle;\n",
              "    }\n",
              "\n",
              "    .dataframe tbody tr th {\n",
              "        vertical-align: top;\n",
              "    }\n",
              "\n",
              "    .dataframe thead th {\n",
              "        text-align: right;\n",
              "    }\n",
              "</style>\n",
              "<table border=\"1\" class=\"dataframe\">\n",
              "  <thead>\n",
              "    <tr style=\"text-align: right;\">\n",
              "      <th></th>\n",
              "      <th>player_name</th>\n",
              "      <th>batter</th>\n",
              "      <th>pitch_type</th>\n",
              "      <th>balls</th>\n",
              "      <th>strikes</th>\n",
              "      <th>plate_x</th>\n",
              "      <th>plate_z</th>\n",
              "      <th>plate_x_ft</th>\n",
              "      <th>plate_z_ft</th>\n",
              "      <th>outcome</th>\n",
              "      <th>o0</th>\n",
              "      <th>o1</th>\n",
              "      <th>o2</th>\n",
              "      <th>o3</th>\n",
              "      <th>o4</th>\n",
              "      <th>o5</th>\n",
              "      <th>o6</th>\n",
              "      <th>o7</th>\n",
              "      <th>o8</th>\n",
              "      <th>swing_utility</th>\n",
              "      <th>take_utility</th>\n",
              "      <th>pitch_utility</th>\n",
              "      <th>batter_optimal_decision_is_swing</th>\n",
              "    </tr>\n",
              "  </thead>\n",
              "  <tbody>\n",
              "    <tr>\n",
              "      <th>253</th>\n",
              "      <td>Anderson, Nick</td>\n",
              "      <td>605141</td>\n",
              "      <td>FF</td>\n",
              "      <td>0</td>\n",
              "      <td>0</td>\n",
              "      <td>1.442304</td>\n",
              "      <td>0.928616</td>\n",
              "      <td>1.26</td>\n",
              "      <td>3.19</td>\n",
              "      <td>0</td>\n",
              "      <td>0.977774</td>\n",
              "      <td>0.002205</td>\n",
              "      <td>0.008487</td>\n",
              "      <td>0.008363</td>\n",
              "      <td>0.002272</td>\n",
              "      <td>0.000748</td>\n",
              "      <td>0.000118</td>\n",
              "      <td>0.000005</td>\n",
              "      <td>0.000027</td>\n",
              "      <td>-0.043662</td>\n",
              "      <td>0.033827</td>\n",
              "      <td>0.033827</td>\n",
              "      <td>0</td>\n",
              "    </tr>\n",
              "    <tr>\n",
              "      <th>242</th>\n",
              "      <td>Anderson, Nick</td>\n",
              "      <td>605141</td>\n",
              "      <td>FF</td>\n",
              "      <td>1</td>\n",
              "      <td>0</td>\n",
              "      <td>1.596351</td>\n",
              "      <td>0.539995</td>\n",
              "      <td>1.39</td>\n",
              "      <td>2.81</td>\n",
              "      <td>0</td>\n",
              "      <td>0.962326</td>\n",
              "      <td>0.000915</td>\n",
              "      <td>0.017599</td>\n",
              "      <td>0.014193</td>\n",
              "      <td>0.003655</td>\n",
              "      <td>0.001091</td>\n",
              "      <td>0.000174</td>\n",
              "      <td>0.000007</td>\n",
              "      <td>0.000040</td>\n",
              "      <td>-0.056432</td>\n",
              "      <td>0.062893</td>\n",
              "      <td>0.062893</td>\n",
              "      <td>0</td>\n",
              "    </tr>\n",
              "    <tr>\n",
              "      <th>231</th>\n",
              "      <td>Anderson, Nick</td>\n",
              "      <td>605141</td>\n",
              "      <td>FF</td>\n",
              "      <td>2</td>\n",
              "      <td>0</td>\n",
              "      <td>0.375830</td>\n",
              "      <td>0.539995</td>\n",
              "      <td>0.36</td>\n",
              "      <td>2.81</td>\n",
              "      <td>6</td>\n",
              "      <td>0.000797</td>\n",
              "      <td>0.293805</td>\n",
              "      <td>0.165113</td>\n",
              "      <td>0.337587</td>\n",
              "      <td>0.131421</td>\n",
              "      <td>0.035943</td>\n",
              "      <td>0.015856</td>\n",
              "      <td>0.001682</td>\n",
              "      <td>0.017796</td>\n",
              "      <td>-0.044742</td>\n",
              "      <td>-0.061535</td>\n",
              "      <td>-0.044742</td>\n",
              "      <td>1</td>\n",
              "    </tr>\n",
              "  </tbody>\n",
              "</table>\n",
              "</div>\n",
              "      <button class=\"colab-df-convert\" onclick=\"convertToInteractive('df-1570c07f-f922-46c8-a18e-2ed6841be81b')\"\n",
              "              title=\"Convert this dataframe to an interactive table.\"\n",
              "              style=\"display:none;\">\n",
              "        \n",
              "  <svg xmlns=\"http://www.w3.org/2000/svg\" height=\"24px\"viewBox=\"0 0 24 24\"\n",
              "       width=\"24px\">\n",
              "    <path d=\"M0 0h24v24H0V0z\" fill=\"none\"/>\n",
              "    <path d=\"M18.56 5.44l.94 2.06.94-2.06 2.06-.94-2.06-.94-.94-2.06-.94 2.06-2.06.94zm-11 1L8.5 8.5l.94-2.06 2.06-.94-2.06-.94L8.5 2.5l-.94 2.06-2.06.94zm10 10l.94 2.06.94-2.06 2.06-.94-2.06-.94-.94-2.06-.94 2.06-2.06.94z\"/><path d=\"M17.41 7.96l-1.37-1.37c-.4-.4-.92-.59-1.43-.59-.52 0-1.04.2-1.43.59L10.3 9.45l-7.72 7.72c-.78.78-.78 2.05 0 2.83L4 21.41c.39.39.9.59 1.41.59.51 0 1.02-.2 1.41-.59l7.78-7.78 2.81-2.81c.8-.78.8-2.07 0-2.86zM5.41 20L4 18.59l7.72-7.72 1.47 1.35L5.41 20z\"/>\n",
              "  </svg>\n",
              "      </button>\n",
              "      \n",
              "  <style>\n",
              "    .colab-df-container {\n",
              "      display:flex;\n",
              "      flex-wrap:wrap;\n",
              "      gap: 12px;\n",
              "    }\n",
              "\n",
              "    .colab-df-convert {\n",
              "      background-color: #E8F0FE;\n",
              "      border: none;\n",
              "      border-radius: 50%;\n",
              "      cursor: pointer;\n",
              "      display: none;\n",
              "      fill: #1967D2;\n",
              "      height: 32px;\n",
              "      padding: 0 0 0 0;\n",
              "      width: 32px;\n",
              "    }\n",
              "\n",
              "    .colab-df-convert:hover {\n",
              "      background-color: #E2EBFA;\n",
              "      box-shadow: 0px 1px 2px rgba(60, 64, 67, 0.3), 0px 1px 3px 1px rgba(60, 64, 67, 0.15);\n",
              "      fill: #174EA6;\n",
              "    }\n",
              "\n",
              "    [theme=dark] .colab-df-convert {\n",
              "      background-color: #3B4455;\n",
              "      fill: #D2E3FC;\n",
              "    }\n",
              "\n",
              "    [theme=dark] .colab-df-convert:hover {\n",
              "      background-color: #434B5C;\n",
              "      box-shadow: 0px 1px 3px 1px rgba(0, 0, 0, 0.15);\n",
              "      filter: drop-shadow(0px 1px 2px rgba(0, 0, 0, 0.3));\n",
              "      fill: #FFFFFF;\n",
              "    }\n",
              "  </style>\n",
              "\n",
              "      <script>\n",
              "        const buttonEl =\n",
              "          document.querySelector('#df-1570c07f-f922-46c8-a18e-2ed6841be81b button.colab-df-convert');\n",
              "        buttonEl.style.display =\n",
              "          google.colab.kernel.accessAllowed ? 'block' : 'none';\n",
              "\n",
              "        async function convertToInteractive(key) {\n",
              "          const element = document.querySelector('#df-1570c07f-f922-46c8-a18e-2ed6841be81b');\n",
              "          const dataTable =\n",
              "            await google.colab.kernel.invokeFunction('convertToInteractive',\n",
              "                                                     [key], {});\n",
              "          if (!dataTable) return;\n",
              "\n",
              "          const docLinkHtml = 'Like what you see? Visit the ' +\n",
              "            '<a target=\"_blank\" href=https://colab.research.google.com/notebooks/data_table.ipynb>data table notebook</a>'\n",
              "            + ' to learn more about interactive tables.';\n",
              "          element.innerHTML = '';\n",
              "          dataTable['output_type'] = 'display_data';\n",
              "          await google.colab.output.renderOutput(dataTable, element);\n",
              "          const docLink = document.createElement('div');\n",
              "          docLink.innerHTML = docLinkHtml;\n",
              "          element.appendChild(docLink);\n",
              "        }\n",
              "      </script>\n",
              "    </div>\n",
              "  </div>\n",
              "  "
            ]
          },
          "metadata": {},
          "execution_count": 90
        }
      ]
    },
    {
      "cell_type": "code",
      "source": [
        "#we calculated the hidden state after the 2nd pitch, so the pitch right before that last pitch, in the previous cell, so we can use that to get the utilities for all of Anderson's\n",
        "#given the prior sequence\n",
        "igrid = initial_grid(batter_idxs[1], pitchers[1], h, bhand = 1., phand = 1., balls = 2, strikes = 0)\n",
        "\n",
        "#get the execution score adjusted grid \n",
        "exe_grid = execution_score_adjusted_grid(igrid, {'CU': 0.604, 'FF': 0.521})"
      ],
      "metadata": {
        "id": "adi2q9iyR7ow"
      },
      "execution_count": null,
      "outputs": []
    },
    {
      "cell_type": "code",
      "source": [
        "final_data = igrid.merge(exe_grid, how = 'inner', on = ['pitch_type', 'location_index'])"
      ],
      "metadata": {
        "id": "VOVZhOPvTPGv"
      },
      "execution_count": null,
      "outputs": []
    },
    {
      "cell_type": "code",
      "source": [
        "actual_min = final_data.pitch_utility.min()\n",
        "expected_min = final_data.expected_pitcher_utility.min()\n",
        "best_possible_pitch = final_data.loc[final_data.pitch_utility == actual_min]\n",
        "pitcher_optimal_decision = final_data.loc[final_data.expected_pitcher_utility == expected_min]"
      ],
      "metadata": {
        "id": "NYi1vkYVTQb-"
      },
      "execution_count": null,
      "outputs": []
    },
    {
      "cell_type": "code",
      "source": [
        "best_possible_pitch"
      ],
      "metadata": {
        "colab": {
          "base_uri": "https://localhost:8080/",
          "height": 145
        },
        "id": "fpKxPR6wTTw2",
        "outputId": "737c2eb3-ba07-44d1-fb47-f906c2016cb9"
      },
      "execution_count": null,
      "outputs": [
        {
          "output_type": "execute_result",
          "data": {
            "text/plain": [
              "     release_speed   plate_x   plate_z        mx        mz  bat_handR  \\\n",
              "280      -1.280241  0.625175  0.158143  0.320812 -0.873918        1.0   \n",
              "\n",
              "     pit_handR  balls  strikes  release_spin_rate  location_index  plate_x_ft  \\\n",
              "280        1.0    2.0      0.0          -1.131284            2560    0.570423   \n",
              "\n",
              "     plate_z_ft  batter_index  pitcher_id pitch_type        o0        o1  \\\n",
              "280     2.43662            70      623433         CU  0.001567  0.748361   \n",
              "\n",
              "           o2        o3        o4        o5        o6        o7        o8  \\\n",
              "280  0.037181  0.084954  0.087408  0.024648  0.008021  0.000834  0.007025   \n",
              "\n",
              "     swing_utility  take_utility  actual_run_value  pitch_utility  \\\n",
              "280      -0.063455     -0.061641               NaN      -0.061641   \n",
              "\n",
              "     batter_optimal_decision_is_swing  expected_pitcher_utility  \n",
              "280                                 0                  -0.00016  "
            ],
            "text/html": [
              "\n",
              "  <div id=\"df-289c6d9c-0247-4e12-85c7-64af8cc64610\">\n",
              "    <div class=\"colab-df-container\">\n",
              "      <div>\n",
              "<style scoped>\n",
              "    .dataframe tbody tr th:only-of-type {\n",
              "        vertical-align: middle;\n",
              "    }\n",
              "\n",
              "    .dataframe tbody tr th {\n",
              "        vertical-align: top;\n",
              "    }\n",
              "\n",
              "    .dataframe thead th {\n",
              "        text-align: right;\n",
              "    }\n",
              "</style>\n",
              "<table border=\"1\" class=\"dataframe\">\n",
              "  <thead>\n",
              "    <tr style=\"text-align: right;\">\n",
              "      <th></th>\n",
              "      <th>release_speed</th>\n",
              "      <th>plate_x</th>\n",
              "      <th>plate_z</th>\n",
              "      <th>mx</th>\n",
              "      <th>mz</th>\n",
              "      <th>bat_handR</th>\n",
              "      <th>pit_handR</th>\n",
              "      <th>balls</th>\n",
              "      <th>strikes</th>\n",
              "      <th>release_spin_rate</th>\n",
              "      <th>location_index</th>\n",
              "      <th>plate_x_ft</th>\n",
              "      <th>plate_z_ft</th>\n",
              "      <th>batter_index</th>\n",
              "      <th>pitcher_id</th>\n",
              "      <th>pitch_type</th>\n",
              "      <th>o0</th>\n",
              "      <th>o1</th>\n",
              "      <th>o2</th>\n",
              "      <th>o3</th>\n",
              "      <th>o4</th>\n",
              "      <th>o5</th>\n",
              "      <th>o6</th>\n",
              "      <th>o7</th>\n",
              "      <th>o8</th>\n",
              "      <th>swing_utility</th>\n",
              "      <th>take_utility</th>\n",
              "      <th>actual_run_value</th>\n",
              "      <th>pitch_utility</th>\n",
              "      <th>batter_optimal_decision_is_swing</th>\n",
              "      <th>expected_pitcher_utility</th>\n",
              "    </tr>\n",
              "  </thead>\n",
              "  <tbody>\n",
              "    <tr>\n",
              "      <th>280</th>\n",
              "      <td>-1.280241</td>\n",
              "      <td>0.625175</td>\n",
              "      <td>0.158143</td>\n",
              "      <td>0.320812</td>\n",
              "      <td>-0.873918</td>\n",
              "      <td>1.0</td>\n",
              "      <td>1.0</td>\n",
              "      <td>2.0</td>\n",
              "      <td>0.0</td>\n",
              "      <td>-1.131284</td>\n",
              "      <td>2560</td>\n",
              "      <td>0.570423</td>\n",
              "      <td>2.43662</td>\n",
              "      <td>70</td>\n",
              "      <td>623433</td>\n",
              "      <td>CU</td>\n",
              "      <td>0.001567</td>\n",
              "      <td>0.748361</td>\n",
              "      <td>0.037181</td>\n",
              "      <td>0.084954</td>\n",
              "      <td>0.087408</td>\n",
              "      <td>0.024648</td>\n",
              "      <td>0.008021</td>\n",
              "      <td>0.000834</td>\n",
              "      <td>0.007025</td>\n",
              "      <td>-0.063455</td>\n",
              "      <td>-0.061641</td>\n",
              "      <td>NaN</td>\n",
              "      <td>-0.061641</td>\n",
              "      <td>0</td>\n",
              "      <td>-0.00016</td>\n",
              "    </tr>\n",
              "  </tbody>\n",
              "</table>\n",
              "</div>\n",
              "      <button class=\"colab-df-convert\" onclick=\"convertToInteractive('df-289c6d9c-0247-4e12-85c7-64af8cc64610')\"\n",
              "              title=\"Convert this dataframe to an interactive table.\"\n",
              "              style=\"display:none;\">\n",
              "        \n",
              "  <svg xmlns=\"http://www.w3.org/2000/svg\" height=\"24px\"viewBox=\"0 0 24 24\"\n",
              "       width=\"24px\">\n",
              "    <path d=\"M0 0h24v24H0V0z\" fill=\"none\"/>\n",
              "    <path d=\"M18.56 5.44l.94 2.06.94-2.06 2.06-.94-2.06-.94-.94-2.06-.94 2.06-2.06.94zm-11 1L8.5 8.5l.94-2.06 2.06-.94-2.06-.94L8.5 2.5l-.94 2.06-2.06.94zm10 10l.94 2.06.94-2.06 2.06-.94-2.06-.94-.94-2.06-.94 2.06-2.06.94z\"/><path d=\"M17.41 7.96l-1.37-1.37c-.4-.4-.92-.59-1.43-.59-.52 0-1.04.2-1.43.59L10.3 9.45l-7.72 7.72c-.78.78-.78 2.05 0 2.83L4 21.41c.39.39.9.59 1.41.59.51 0 1.02-.2 1.41-.59l7.78-7.78 2.81-2.81c.8-.78.8-2.07 0-2.86zM5.41 20L4 18.59l7.72-7.72 1.47 1.35L5.41 20z\"/>\n",
              "  </svg>\n",
              "      </button>\n",
              "      \n",
              "  <style>\n",
              "    .colab-df-container {\n",
              "      display:flex;\n",
              "      flex-wrap:wrap;\n",
              "      gap: 12px;\n",
              "    }\n",
              "\n",
              "    .colab-df-convert {\n",
              "      background-color: #E8F0FE;\n",
              "      border: none;\n",
              "      border-radius: 50%;\n",
              "      cursor: pointer;\n",
              "      display: none;\n",
              "      fill: #1967D2;\n",
              "      height: 32px;\n",
              "      padding: 0 0 0 0;\n",
              "      width: 32px;\n",
              "    }\n",
              "\n",
              "    .colab-df-convert:hover {\n",
              "      background-color: #E2EBFA;\n",
              "      box-shadow: 0px 1px 2px rgba(60, 64, 67, 0.3), 0px 1px 3px 1px rgba(60, 64, 67, 0.15);\n",
              "      fill: #174EA6;\n",
              "    }\n",
              "\n",
              "    [theme=dark] .colab-df-convert {\n",
              "      background-color: #3B4455;\n",
              "      fill: #D2E3FC;\n",
              "    }\n",
              "\n",
              "    [theme=dark] .colab-df-convert:hover {\n",
              "      background-color: #434B5C;\n",
              "      box-shadow: 0px 1px 3px 1px rgba(0, 0, 0, 0.15);\n",
              "      filter: drop-shadow(0px 1px 2px rgba(0, 0, 0, 0.3));\n",
              "      fill: #FFFFFF;\n",
              "    }\n",
              "  </style>\n",
              "\n",
              "      <script>\n",
              "        const buttonEl =\n",
              "          document.querySelector('#df-289c6d9c-0247-4e12-85c7-64af8cc64610 button.colab-df-convert');\n",
              "        buttonEl.style.display =\n",
              "          google.colab.kernel.accessAllowed ? 'block' : 'none';\n",
              "\n",
              "        async function convertToInteractive(key) {\n",
              "          const element = document.querySelector('#df-289c6d9c-0247-4e12-85c7-64af8cc64610');\n",
              "          const dataTable =\n",
              "            await google.colab.kernel.invokeFunction('convertToInteractive',\n",
              "                                                     [key], {});\n",
              "          if (!dataTable) return;\n",
              "\n",
              "          const docLinkHtml = 'Like what you see? Visit the ' +\n",
              "            '<a target=\"_blank\" href=https://colab.research.google.com/notebooks/data_table.ipynb>data table notebook</a>'\n",
              "            + ' to learn more about interactive tables.';\n",
              "          element.innerHTML = '';\n",
              "          dataTable['output_type'] = 'display_data';\n",
              "          await google.colab.output.renderOutput(dataTable, element);\n",
              "          const docLink = document.createElement('div');\n",
              "          docLink.innerHTML = docLinkHtml;\n",
              "          element.appendChild(docLink);\n",
              "        }\n",
              "      </script>\n",
              "    </div>\n",
              "  </div>\n",
              "  "
            ]
          },
          "metadata": {},
          "execution_count": 94
        }
      ]
    },
    {
      "cell_type": "code",
      "source": [
        "pitcher_optimal_decision"
      ],
      "metadata": {
        "colab": {
          "base_uri": "https://localhost:8080/",
          "height": 145
        },
        "id": "uDp4cSB8TV16",
        "outputId": "6edbe429-2fdc-460f-c6ec-5113b332a68e"
      },
      "execution_count": null,
      "outputs": [
        {
          "output_type": "execute_result",
          "data": {
            "text/plain": [
              "     release_speed   plate_x   plate_z        mx        mz  bat_handR  \\\n",
              "852       0.662468  0.024344  0.158143 -0.355693  1.185223        1.0   \n",
              "\n",
              "     pit_handR  balls  strikes  release_spin_rate  location_index  plate_x_ft  \\\n",
              "852        1.0    2.0      0.0           -0.38463            2556     0.06338   \n",
              "\n",
              "     plate_z_ft  batter_index  pitcher_id pitch_type        o0        o1  \\\n",
              "852     2.43662            70      623433         FF  0.000199  0.223998   \n",
              "\n",
              "           o2        o3        o4        o5        o6       o7        o8  \\\n",
              "852  0.096256  0.352111  0.205041  0.059424  0.028231  0.00272  0.032019   \n",
              "\n",
              "     swing_utility  take_utility  actual_run_value  pitch_utility  \\\n",
              "852      -0.024488     -0.061847               NaN      -0.024488   \n",
              "\n",
              "     batter_optimal_decision_is_swing  expected_pitcher_utility  \n",
              "852                                 1                 -0.015141  "
            ],
            "text/html": [
              "\n",
              "  <div id=\"df-ce778400-b007-4a07-a265-ad37dab1a3cb\">\n",
              "    <div class=\"colab-df-container\">\n",
              "      <div>\n",
              "<style scoped>\n",
              "    .dataframe tbody tr th:only-of-type {\n",
              "        vertical-align: middle;\n",
              "    }\n",
              "\n",
              "    .dataframe tbody tr th {\n",
              "        vertical-align: top;\n",
              "    }\n",
              "\n",
              "    .dataframe thead th {\n",
              "        text-align: right;\n",
              "    }\n",
              "</style>\n",
              "<table border=\"1\" class=\"dataframe\">\n",
              "  <thead>\n",
              "    <tr style=\"text-align: right;\">\n",
              "      <th></th>\n",
              "      <th>release_speed</th>\n",
              "      <th>plate_x</th>\n",
              "      <th>plate_z</th>\n",
              "      <th>mx</th>\n",
              "      <th>mz</th>\n",
              "      <th>bat_handR</th>\n",
              "      <th>pit_handR</th>\n",
              "      <th>balls</th>\n",
              "      <th>strikes</th>\n",
              "      <th>release_spin_rate</th>\n",
              "      <th>location_index</th>\n",
              "      <th>plate_x_ft</th>\n",
              "      <th>plate_z_ft</th>\n",
              "      <th>batter_index</th>\n",
              "      <th>pitcher_id</th>\n",
              "      <th>pitch_type</th>\n",
              "      <th>o0</th>\n",
              "      <th>o1</th>\n",
              "      <th>o2</th>\n",
              "      <th>o3</th>\n",
              "      <th>o4</th>\n",
              "      <th>o5</th>\n",
              "      <th>o6</th>\n",
              "      <th>o7</th>\n",
              "      <th>o8</th>\n",
              "      <th>swing_utility</th>\n",
              "      <th>take_utility</th>\n",
              "      <th>actual_run_value</th>\n",
              "      <th>pitch_utility</th>\n",
              "      <th>batter_optimal_decision_is_swing</th>\n",
              "      <th>expected_pitcher_utility</th>\n",
              "    </tr>\n",
              "  </thead>\n",
              "  <tbody>\n",
              "    <tr>\n",
              "      <th>852</th>\n",
              "      <td>0.662468</td>\n",
              "      <td>0.024344</td>\n",
              "      <td>0.158143</td>\n",
              "      <td>-0.355693</td>\n",
              "      <td>1.185223</td>\n",
              "      <td>1.0</td>\n",
              "      <td>1.0</td>\n",
              "      <td>2.0</td>\n",
              "      <td>0.0</td>\n",
              "      <td>-0.38463</td>\n",
              "      <td>2556</td>\n",
              "      <td>0.06338</td>\n",
              "      <td>2.43662</td>\n",
              "      <td>70</td>\n",
              "      <td>623433</td>\n",
              "      <td>FF</td>\n",
              "      <td>0.000199</td>\n",
              "      <td>0.223998</td>\n",
              "      <td>0.096256</td>\n",
              "      <td>0.352111</td>\n",
              "      <td>0.205041</td>\n",
              "      <td>0.059424</td>\n",
              "      <td>0.028231</td>\n",
              "      <td>0.00272</td>\n",
              "      <td>0.032019</td>\n",
              "      <td>-0.024488</td>\n",
              "      <td>-0.061847</td>\n",
              "      <td>NaN</td>\n",
              "      <td>-0.024488</td>\n",
              "      <td>1</td>\n",
              "      <td>-0.015141</td>\n",
              "    </tr>\n",
              "  </tbody>\n",
              "</table>\n",
              "</div>\n",
              "      <button class=\"colab-df-convert\" onclick=\"convertToInteractive('df-ce778400-b007-4a07-a265-ad37dab1a3cb')\"\n",
              "              title=\"Convert this dataframe to an interactive table.\"\n",
              "              style=\"display:none;\">\n",
              "        \n",
              "  <svg xmlns=\"http://www.w3.org/2000/svg\" height=\"24px\"viewBox=\"0 0 24 24\"\n",
              "       width=\"24px\">\n",
              "    <path d=\"M0 0h24v24H0V0z\" fill=\"none\"/>\n",
              "    <path d=\"M18.56 5.44l.94 2.06.94-2.06 2.06-.94-2.06-.94-.94-2.06-.94 2.06-2.06.94zm-11 1L8.5 8.5l.94-2.06 2.06-.94-2.06-.94L8.5 2.5l-.94 2.06-2.06.94zm10 10l.94 2.06.94-2.06 2.06-.94-2.06-.94-.94-2.06-.94 2.06-2.06.94z\"/><path d=\"M17.41 7.96l-1.37-1.37c-.4-.4-.92-.59-1.43-.59-.52 0-1.04.2-1.43.59L10.3 9.45l-7.72 7.72c-.78.78-.78 2.05 0 2.83L4 21.41c.39.39.9.59 1.41.59.51 0 1.02-.2 1.41-.59l7.78-7.78 2.81-2.81c.8-.78.8-2.07 0-2.86zM5.41 20L4 18.59l7.72-7.72 1.47 1.35L5.41 20z\"/>\n",
              "  </svg>\n",
              "      </button>\n",
              "      \n",
              "  <style>\n",
              "    .colab-df-container {\n",
              "      display:flex;\n",
              "      flex-wrap:wrap;\n",
              "      gap: 12px;\n",
              "    }\n",
              "\n",
              "    .colab-df-convert {\n",
              "      background-color: #E8F0FE;\n",
              "      border: none;\n",
              "      border-radius: 50%;\n",
              "      cursor: pointer;\n",
              "      display: none;\n",
              "      fill: #1967D2;\n",
              "      height: 32px;\n",
              "      padding: 0 0 0 0;\n",
              "      width: 32px;\n",
              "    }\n",
              "\n",
              "    .colab-df-convert:hover {\n",
              "      background-color: #E2EBFA;\n",
              "      box-shadow: 0px 1px 2px rgba(60, 64, 67, 0.3), 0px 1px 3px 1px rgba(60, 64, 67, 0.15);\n",
              "      fill: #174EA6;\n",
              "    }\n",
              "\n",
              "    [theme=dark] .colab-df-convert {\n",
              "      background-color: #3B4455;\n",
              "      fill: #D2E3FC;\n",
              "    }\n",
              "\n",
              "    [theme=dark] .colab-df-convert:hover {\n",
              "      background-color: #434B5C;\n",
              "      box-shadow: 0px 1px 3px 1px rgba(0, 0, 0, 0.15);\n",
              "      filter: drop-shadow(0px 1px 2px rgba(0, 0, 0, 0.3));\n",
              "      fill: #FFFFFF;\n",
              "    }\n",
              "  </style>\n",
              "\n",
              "      <script>\n",
              "        const buttonEl =\n",
              "          document.querySelector('#df-ce778400-b007-4a07-a265-ad37dab1a3cb button.colab-df-convert');\n",
              "        buttonEl.style.display =\n",
              "          google.colab.kernel.accessAllowed ? 'block' : 'none';\n",
              "\n",
              "        async function convertToInteractive(key) {\n",
              "          const element = document.querySelector('#df-ce778400-b007-4a07-a265-ad37dab1a3cb');\n",
              "          const dataTable =\n",
              "            await google.colab.kernel.invokeFunction('convertToInteractive',\n",
              "                                                     [key], {});\n",
              "          if (!dataTable) return;\n",
              "\n",
              "          const docLinkHtml = 'Like what you see? Visit the ' +\n",
              "            '<a target=\"_blank\" href=https://colab.research.google.com/notebooks/data_table.ipynb>data table notebook</a>'\n",
              "            + ' to learn more about interactive tables.';\n",
              "          element.innerHTML = '';\n",
              "          dataTable['output_type'] = 'display_data';\n",
              "          await google.colab.output.renderOutput(dataTable, element);\n",
              "          const docLink = document.createElement('div');\n",
              "          docLink.innerHTML = docLinkHtml;\n",
              "          element.appendChild(docLink);\n",
              "        }\n",
              "      </script>\n",
              "    </div>\n",
              "  </div>\n",
              "  "
            ]
          },
          "metadata": {},
          "execution_count": 95
        }
      ]
    },
    {
      "cell_type": "code",
      "source": [
        "#plot the actual pitch, the absolute best pitch, and the optimal equilibrium pitch \n",
        "plt.plot(-1*pa.plate_x_ft.values[-1], pa.plate_z_ft.values[-1], 'kx', label = 'Actual Pitch: FB')\n",
        "plt.plot(-1*best_possible_pitch.plate_x_ft.values[0], best_possible_pitch.plate_z_ft.values[0], 'rx', label = 'Best Possible Pitch: CU')\n",
        "plt.plot(-1*pitcher_optimal_decision.plate_x_ft.values[0], pitcher_optimal_decision.plate_z_ft.values[0], 'bx', label = 'Optimal Pitch: FB')\n",
        "plt.plot([-.71,.71,.71,-.71, -.71], [3.412, 3.412, 1.546,1.546, 3.412], 'k-')\n",
        "plt.legend()\n",
        "plt.xlabel(\"Horizontal Location (Pitcher's Perspective)\")\n",
        "plt.ylabel('Vertical Location')\n",
        "plt.xlim(-2.,2.)\n",
        "plt.ylim(0,5)\n",
        "plt.show()"
      ],
      "metadata": {
        "colab": {
          "base_uri": "https://localhost:8080/",
          "height": 283
        },
        "id": "1u_wCq-1TlyW",
        "outputId": "3ff8797d-ae67-4e70-a3d8-783b7f2a164d"
      },
      "execution_count": null,
      "outputs": [
        {
          "output_type": "display_data",
          "data": {
            "text/plain": [
              "<Figure size 432x288 with 1 Axes>"
            ],
            "image/png": "[encoded data removed]"
          },
          "metadata": {
            "needs_background": "light"
          }
        }
      ]
    },
    {
      "cell_type": "code",
      "source": [
        "np.linalg.norm((pa[['plate_x_ft', 'plate_z_ft']].values[-1] - pitcher_optimal_decision[['plate_x_ft', 'plate_z_ft']].values[0]))"
      ],
      "metadata": {
        "colab": {
          "base_uri": "https://localhost:8080/"
        },
        "id": "gH-8DSKNVEPp",
        "outputId": "f31c2d43-75ed-4286-d762-da1646c9d80f"
      },
      "execution_count": null,
      "outputs": [
        {
          "output_type": "execute_result",
          "data": {
            "text/plain": [
              "0.4768606631346616"
            ]
          },
          "metadata": {},
          "execution_count": 97
        }
      ]
    },
    {
      "cell_type": "markdown",
      "source": [
        "The optimal pitch for Anderson in the stackelberg game is actually the same pitch we got in the Nash game, a fastball down the middle. In the Nash game though, Mookie happens to have a pure take strategy, so the expected utility is a little lower than in this game, where we actually expect Mookie to swing at that pitch. The best possible pitch is a curveball on the outside edge of the strike zone, but I guess we wouldn't actually throw that pitch because Anderson is likely to miss the plate for a ball. That's really interesting that the optimal pitch in this game is the same as the one in the nash game. I guess when you factor in execution scores, all the pitches around this fastball are probably still pretty good, so it would be a good pitch to throw. Also, the actual pitch that Anderson threw is within 1 fastball execution score standard deviation of this pitch, so it is possible that Anderson actually was using this strategy for this pitch. Overall, the model doesn't think that the pitch Anderson threw was that bad, and it actually recommends a similar pitch. Perhaps Mookie just beat him or got a little lucky."
      ],
      "metadata": {
        "id": "qHFJFFKoT8Kw"
      }
    },
    {
      "cell_type": "markdown",
      "source": [
        "#### **Jansen vs Phillips**"
      ],
      "metadata": {
        "id": "E6T0kghd_gTC"
      }
    },
    {
      "cell_type": "code",
      "source": [
        "#get the at bat from pybaseball\n",
        "game = pybaseball.statcast(start_dt = '2020-10-24', end_dt = '2020-10-24')\n",
        "\n",
        "game = game[needed_columns]\n",
        "game = organize_data(game)"
      ],
      "metadata": {
        "colab": {
          "base_uri": "https://localhost:8080/"
        },
        "id": "BN3a_L4J_gLK",
        "outputId": "34344cec-3cfc-4657-a5a2-aabca7f397d8"
      },
      "execution_count": null,
      "outputs": [
        {
          "output_type": "stream",
          "name": "stdout",
          "text": [
            "This is a large query, it may take a moment to complete\n"
          ]
        },
        {
          "output_type": "stream",
          "name": "stderr",
          "text": [
            "100%|██████████| 1/1 [00:01<00:00,  1.62s/it]\n"
          ]
        }
      ]
    },
    {
      "cell_type": "code",
      "source": [
        "pa = game.loc[(game.batter == batters[2]) & (game.pitcher == pitchers[2])]\n",
        "pa['batter_index'] = batter_idxs[2]\n",
        "\n",
        "#run the model on the pa\n",
        "pa = pa[::-1]\n",
        "pa['plate_x_ft'] = pa.plate_x \n",
        "pa['plate_z_ft'] = pa.plate_z \n",
        "pa[['release_speed', 'mx', 'mz', \n",
        "     'plate_x', 'plate_z', 'release_spin_rate']] = standardizer.transform(pa[['release_speed', 'mx', 'mz', \n",
        "     'plate_x', 'plate_z', 'release_spin_rate']].values)\n",
        "#loop through the pitches\n",
        "pred_outcomes = torch.empty((1,9)).to(device)\n",
        "x_data = torch.tensor(pa[features].values.astype(float), dtype = torch.float).to(device)\n",
        "y_data = torch.tensor(pa.outcome.values, dtype = torch.long).to(device)\n",
        "h0 = model.init_hidden().to(device)\n",
        "for p in range(pa.shape[0]):\n",
        "  yhat, h1 = model(x_data[p].unsqueeze(0), h0, y_data[p].unsqueeze(0))\n",
        "  pred_outcomes = torch.cat((pred_outcomes, yhat), dim = 0)\n",
        "  h0 = h1 \n",
        "  if p == pa.shape[0] - 2:\n",
        "    #save the hidden state after the second to last pitch \n",
        "    h = h0 \n",
        "\n",
        "#now softmax the predictions and append onto the bross pa \n",
        "ypreds = nn.functional.softmax(pred_outcomes[1:,:], dim = 1).detach().cpu().numpy()\n",
        "pa[['o0', 'o1', 'o2', 'o3', 'o4', 'o5', 'o6', 'o7', 'o8']] = ypreds \n",
        "\n",
        "#and calculate the utilities for each of those pitches \n",
        "pa = get_utilities(pa)\n",
        "\n",
        "pa[['player_name', 'batter', 'pitch_type', 'balls', 'strikes','plate_x', 'plate_z', 'plate_x_ft', 'plate_z_ft', 'outcome', 'o0', 'o1', 'o2', 'o3', 'o4', 'o5', 'o6', 'o7', 'o8', 'swing_utility', 'take_utility', 'pitch_utility', 'batter_optimal_decision_is_swing']]"
      ],
      "metadata": {
        "colab": {
          "base_uri": "https://localhost:8080/",
          "height": 308
        },
        "id": "S6L7K5st_gGl",
        "outputId": "57e58b89-1c24-4cf5-e0f5-2f15f9dc4d02"
      },
      "execution_count": null,
      "outputs": [
        {
          "output_type": "execute_result",
          "data": {
            "text/plain": [
              "        player_name  batter pitch_type  balls  strikes   plate_x   plate_z  \\\n",
              "141  Jansen, Kenley  621433         FC      0        0  1.146061 -0.073618   \n",
              "135  Jansen, Kenley  621433         FC      1        0  0.980166  0.785439   \n",
              "130  Jansen, Kenley  621433         SI      1        1 -1.046135 -0.462239   \n",
              "121  Jansen, Kenley  621433         FC      1        2  0.494327  0.130920   \n",
              "\n",
              "     plate_x_ft  plate_z_ft  outcome        o0        o1        o2        o3  \\\n",
              "141        1.01        2.21        0  0.359006  0.031942  0.126646  0.338238   \n",
              "135        0.87        3.05        1  0.338521  0.105583  0.069858  0.310959   \n",
              "130       -0.84        1.83        1  0.414153  0.459284  0.022835  0.056786   \n",
              "121        0.46        2.41        5  0.000996  0.026303  0.060885  0.420487   \n",
              "\n",
              "           o4        o5        o6        o7        o8  swing_utility  \\\n",
              "141  0.106224  0.027180  0.007599  0.000437  0.002729      -0.044253   \n",
              "135  0.130165  0.030707  0.009224  0.000622  0.004362      -0.060000   \n",
              "130  0.031509  0.010899  0.003123  0.000260  0.001151      -0.031176   \n",
              "121  0.337110  0.101409  0.029200  0.002181  0.021429       0.037448   \n",
              "\n",
              "     take_utility  pitch_utility  batter_optimal_decision_is_swing  \n",
              "141      0.027709       0.027709                                 0  \n",
              "135      0.036135       0.036135                                 0  \n",
              "130     -0.011523      -0.011523                                 0  \n",
              "121     -0.196806       0.037448                                 1  "
            ],
            "text/html": [
              "\n",
              "  <div id=\"df-c14d9be0-4ef2-4526-b1f7-b023344d91f3\">\n",
              "    <div class=\"colab-df-container\">\n",
              "      <div>\n",
              "<style scoped>\n",
              "    .dataframe tbody tr th:only-of-type {\n",
              "        vertical-align: middle;\n",
              "    }\n",
              "\n",
              "    .dataframe tbody tr th {\n",
              "        vertical-align: top;\n",
              "    }\n",
              "\n",
              "    .dataframe thead th {\n",
              "        text-align: right;\n",
              "    }\n",
              "</style>\n",
              "<table border=\"1\" class=\"dataframe\">\n",
              "  <thead>\n",
              "    <tr style=\"text-align: right;\">\n",
              "      <th></th>\n",
              "      <th>player_name</th>\n",
              "      <th>batter</th>\n",
              "      <th>pitch_type</th>\n",
              "      <th>balls</th>\n",
              "      <th>strikes</th>\n",
              "      <th>plate_x</th>\n",
              "      <th>plate_z</th>\n",
              "      <th>plate_x_ft</th>\n",
              "      <th>plate_z_ft</th>\n",
              "      <th>outcome</th>\n",
              "      <th>o0</th>\n",
              "      <th>o1</th>\n",
              "      <th>o2</th>\n",
              "      <th>o3</th>\n",
              "      <th>o4</th>\n",
              "      <th>o5</th>\n",
              "      <th>o6</th>\n",
              "      <th>o7</th>\n",
              "      <th>o8</th>\n",
              "      <th>swing_utility</th>\n",
              "      <th>take_utility</th>\n",
              "      <th>pitch_utility</th>\n",
              "      <th>batter_optimal_decision_is_swing</th>\n",
              "    </tr>\n",
              "  </thead>\n",
              "  <tbody>\n",
              "    <tr>\n",
              "      <th>141</th>\n",
              "      <td>Jansen, Kenley</td>\n",
              "      <td>621433</td>\n",
              "      <td>FC</td>\n",
              "      <td>0</td>\n",
              "      <td>0</td>\n",
              "      <td>1.146061</td>\n",
              "      <td>-0.073618</td>\n",
              "      <td>1.01</td>\n",
              "      <td>2.21</td>\n",
              "      <td>0</td>\n",
              "      <td>0.359006</td>\n",
              "      <td>0.031942</td>\n",
              "      <td>0.126646</td>\n",
              "      <td>0.338238</td>\n",
              "      <td>0.106224</td>\n",
              "      <td>0.027180</td>\n",
              "      <td>0.007599</td>\n",
              "      <td>0.000437</td>\n",
              "      <td>0.002729</td>\n",
              "      <td>-0.044253</td>\n",
              "      <td>0.027709</td>\n",
              "      <td>0.027709</td>\n",
              "      <td>0</td>\n",
              "    </tr>\n",
              "    <tr>\n",
              "      <th>135</th>\n",
              "      <td>Jansen, Kenley</td>\n",
              "      <td>621433</td>\n",
              "      <td>FC</td>\n",
              "      <td>1</td>\n",
              "      <td>0</td>\n",
              "      <td>0.980166</td>\n",
              "      <td>0.785439</td>\n",
              "      <td>0.87</td>\n",
              "      <td>3.05</td>\n",
              "      <td>1</td>\n",
              "      <td>0.338521</td>\n",
              "      <td>0.105583</td>\n",
              "      <td>0.069858</td>\n",
              "      <td>0.310959</td>\n",
              "      <td>0.130165</td>\n",
              "      <td>0.030707</td>\n",
              "      <td>0.009224</td>\n",
              "      <td>0.000622</td>\n",
              "      <td>0.004362</td>\n",
              "      <td>-0.060000</td>\n",
              "      <td>0.036135</td>\n",
              "      <td>0.036135</td>\n",
              "      <td>0</td>\n",
              "    </tr>\n",
              "    <tr>\n",
              "      <th>130</th>\n",
              "      <td>Jansen, Kenley</td>\n",
              "      <td>621433</td>\n",
              "      <td>SI</td>\n",
              "      <td>1</td>\n",
              "      <td>1</td>\n",
              "      <td>-1.046135</td>\n",
              "      <td>-0.462239</td>\n",
              "      <td>-0.84</td>\n",
              "      <td>1.83</td>\n",
              "      <td>1</td>\n",
              "      <td>0.414153</td>\n",
              "      <td>0.459284</td>\n",
              "      <td>0.022835</td>\n",
              "      <td>0.056786</td>\n",
              "      <td>0.031509</td>\n",
              "      <td>0.010899</td>\n",
              "      <td>0.003123</td>\n",
              "      <td>0.000260</td>\n",
              "      <td>0.001151</td>\n",
              "      <td>-0.031176</td>\n",
              "      <td>-0.011523</td>\n",
              "      <td>-0.011523</td>\n",
              "      <td>0</td>\n",
              "    </tr>\n",
              "    <tr>\n",
              "      <th>121</th>\n",
              "      <td>Jansen, Kenley</td>\n",
              "      <td>621433</td>\n",
              "      <td>FC</td>\n",
              "      <td>1</td>\n",
              "      <td>2</td>\n",
              "      <td>0.494327</td>\n",
              "      <td>0.130920</td>\n",
              "      <td>0.46</td>\n",
              "      <td>2.41</td>\n",
              "      <td>5</td>\n",
              "      <td>0.000996</td>\n",
              "      <td>0.026303</td>\n",
              "      <td>0.060885</td>\n",
              "      <td>0.420487</td>\n",
              "      <td>0.337110</td>\n",
              "      <td>0.101409</td>\n",
              "      <td>0.029200</td>\n",
              "      <td>0.002181</td>\n",
              "      <td>0.021429</td>\n",
              "      <td>0.037448</td>\n",
              "      <td>-0.196806</td>\n",
              "      <td>0.037448</td>\n",
              "      <td>1</td>\n",
              "    </tr>\n",
              "  </tbody>\n",
              "</table>\n",
              "</div>\n",
              "      <button class=\"colab-df-convert\" onclick=\"convertToInteractive('df-c14d9be0-4ef2-4526-b1f7-b023344d91f3')\"\n",
              "              title=\"Convert this dataframe to an interactive table.\"\n",
              "              style=\"display:none;\">\n",
              "        \n",
              "  <svg xmlns=\"http://www.w3.org/2000/svg\" height=\"24px\"viewBox=\"0 0 24 24\"\n",
              "       width=\"24px\">\n",
              "    <path d=\"M0 0h24v24H0V0z\" fill=\"none\"/>\n",
              "    <path d=\"M18.56 5.44l.94 2.06.94-2.06 2.06-.94-2.06-.94-.94-2.06-.94 2.06-2.06.94zm-11 1L8.5 8.5l.94-2.06 2.06-.94-2.06-.94L8.5 2.5l-.94 2.06-2.06.94zm10 10l.94 2.06.94-2.06 2.06-.94-2.06-.94-.94-2.06-.94 2.06-2.06.94z\"/><path d=\"M17.41 7.96l-1.37-1.37c-.4-.4-.92-.59-1.43-.59-.52 0-1.04.2-1.43.59L10.3 9.45l-7.72 7.72c-.78.78-.78 2.05 0 2.83L4 21.41c.39.39.9.59 1.41.59.51 0 1.02-.2 1.41-.59l7.78-7.78 2.81-2.81c.8-.78.8-2.07 0-2.86zM5.41 20L4 18.59l7.72-7.72 1.47 1.35L5.41 20z\"/>\n",
              "  </svg>\n",
              "      </button>\n",
              "      \n",
              "  <style>\n",
              "    .colab-df-container {\n",
              "      display:flex;\n",
              "      flex-wrap:wrap;\n",
              "      gap: 12px;\n",
              "    }\n",
              "\n",
              "    .colab-df-convert {\n",
              "      background-color: #E8F0FE;\n",
              "      border: none;\n",
              "      border-radius: 50%;\n",
              "      cursor: pointer;\n",
              "      display: none;\n",
              "      fill: #1967D2;\n",
              "      height: 32px;\n",
              "      padding: 0 0 0 0;\n",
              "      width: 32px;\n",
              "    }\n",
              "\n",
              "    .colab-df-convert:hover {\n",
              "      background-color: #E2EBFA;\n",
              "      box-shadow: 0px 1px 2px rgba(60, 64, 67, 0.3), 0px 1px 3px 1px rgba(60, 64, 67, 0.15);\n",
              "      fill: #174EA6;\n",
              "    }\n",
              "\n",
              "    [theme=dark] .colab-df-convert {\n",
              "      background-color: #3B4455;\n",
              "      fill: #D2E3FC;\n",
              "    }\n",
              "\n",
              "    [theme=dark] .colab-df-convert:hover {\n",
              "      background-color: #434B5C;\n",
              "      box-shadow: 0px 1px 3px 1px rgba(0, 0, 0, 0.15);\n",
              "      filter: drop-shadow(0px 1px 2px rgba(0, 0, 0, 0.3));\n",
              "      fill: #FFFFFF;\n",
              "    }\n",
              "  </style>\n",
              "\n",
              "      <script>\n",
              "        const buttonEl =\n",
              "          document.querySelector('#df-c14d9be0-4ef2-4526-b1f7-b023344d91f3 button.colab-df-convert');\n",
              "        buttonEl.style.display =\n",
              "          google.colab.kernel.accessAllowed ? 'block' : 'none';\n",
              "\n",
              "        async function convertToInteractive(key) {\n",
              "          const element = document.querySelector('#df-c14d9be0-4ef2-4526-b1f7-b023344d91f3');\n",
              "          const dataTable =\n",
              "            await google.colab.kernel.invokeFunction('convertToInteractive',\n",
              "                                                     [key], {});\n",
              "          if (!dataTable) return;\n",
              "\n",
              "          const docLinkHtml = 'Like what you see? Visit the ' +\n",
              "            '<a target=\"_blank\" href=https://colab.research.google.com/notebooks/data_table.ipynb>data table notebook</a>'\n",
              "            + ' to learn more about interactive tables.';\n",
              "          element.innerHTML = '';\n",
              "          dataTable['output_type'] = 'display_data';\n",
              "          await google.colab.output.renderOutput(dataTable, element);\n",
              "          const docLink = document.createElement('div');\n",
              "          docLink.innerHTML = docLinkHtml;\n",
              "          element.appendChild(docLink);\n",
              "        }\n",
              "      </script>\n",
              "    </div>\n",
              "  </div>\n",
              "  "
            ]
          },
          "metadata": {},
          "execution_count": 26
        }
      ]
    },
    {
      "cell_type": "code",
      "source": [
        "#we calculated the hidden state after the 2nd pitch, so the pitch right before that last pitch, in the previous cell, so we can use that to get the utilities for all of Anderson's\n",
        "#given the prior sequence\n",
        "igrid = initial_grid(batter_idxs[2], pitchers[2], h, bhand = 0., phand = 1., balls = 1, strikes = 2)\n",
        "\n",
        "#get the execution score adjusted grid \n",
        "exe_grid = execution_score_adjusted_grid(igrid, {'FC': 0.51, 'SI':0.61, 'SL': 0.636})"
      ],
      "metadata": {
        "id": "POher9M1_f_v"
      },
      "execution_count": null,
      "outputs": []
    },
    {
      "cell_type": "code",
      "source": [
        "final_data = igrid.merge(exe_grid, how = 'inner', on = ['pitch_type', 'location_index'])"
      ],
      "metadata": {
        "id": "ULC_8qVJ_f2w"
      },
      "execution_count": null,
      "outputs": []
    },
    {
      "cell_type": "code",
      "source": [
        "actual_min = final_data.pitch_utility.min()\n",
        "expected_min = final_data.expected_pitcher_utility.min()\n",
        "best_possible_pitch = final_data.loc[final_data.pitch_utility == actual_min]\n",
        "pitcher_optimal_decision = final_data.loc[final_data.expected_pitcher_utility == expected_min]"
      ],
      "metadata": {
        "id": "O1rR6QJeAjPk"
      },
      "execution_count": null,
      "outputs": []
    },
    {
      "cell_type": "code",
      "source": [
        "best_possible_pitch"
      ],
      "metadata": {
        "colab": {
          "base_uri": "https://localhost:8080/",
          "height": 145
        },
        "id": "BwJ0ylgPAjJO",
        "outputId": "f5963d0a-cb26-44d2-d518-0b40d213403b"
      },
      "execution_count": null,
      "outputs": [
        {
          "output_type": "execute_result",
          "data": {
            "text/plain": [
              "     release_speed   plate_x   plate_z        mx       mz  bat_handR  \\\n",
              "415       0.576707 -0.726694  0.935962  0.881953  1.02902        0.0   \n",
              "\n",
              "     pit_handR  balls  strikes  release_spin_rate  location_index  plate_x_ft  \\\n",
              "415        1.0    1.0      2.0           1.140644            2983   -0.570423   \n",
              "\n",
              "     plate_z_ft  batter_index  pitcher_id pitch_type        o0        o1  \\\n",
              "415    3.197183           547      445276         FC  0.273132  0.272579   \n",
              "\n",
              "           o2        o3        o4        o5        o6      o7        o8  \\\n",
              "415  0.182156  0.202072  0.049131  0.011968  0.004932  0.0004  0.003628   \n",
              "\n",
              "     swing_utility  take_utility  actual_run_value  pitch_utility  \\\n",
              "415      -0.067297     -0.079872               NaN      -0.067297   \n",
              "\n",
              "     batter_optimal_decision_is_swing  expected_pitcher_utility  \n",
              "415                                 1                  0.012858  "
            ],
            "text/html": [
              "\n",
              "  <div id=\"df-d2d49082-46c9-40b7-9f2a-ce65f0f2d30b\">\n",
              "    <div class=\"colab-df-container\">\n",
              "      <div>\n",
              "<style scoped>\n",
              "    .dataframe tbody tr th:only-of-type {\n",
              "        vertical-align: middle;\n",
              "    }\n",
              "\n",
              "    .dataframe tbody tr th {\n",
              "        vertical-align: top;\n",
              "    }\n",
              "\n",
              "    .dataframe thead th {\n",
              "        text-align: right;\n",
              "    }\n",
              "</style>\n",
              "<table border=\"1\" class=\"dataframe\">\n",
              "  <thead>\n",
              "    <tr style=\"text-align: right;\">\n",
              "      <th></th>\n",
              "      <th>release_speed</th>\n",
              "      <th>plate_x</th>\n",
              "      <th>plate_z</th>\n",
              "      <th>mx</th>\n",
              "      <th>mz</th>\n",
              "      <th>bat_handR</th>\n",
              "      <th>pit_handR</th>\n",
              "      <th>balls</th>\n",
              "      <th>strikes</th>\n",
              "      <th>release_spin_rate</th>\n",
              "      <th>location_index</th>\n",
              "      <th>plate_x_ft</th>\n",
              "      <th>plate_z_ft</th>\n",
              "      <th>batter_index</th>\n",
              "      <th>pitcher_id</th>\n",
              "      <th>pitch_type</th>\n",
              "      <th>o0</th>\n",
              "      <th>o1</th>\n",
              "      <th>o2</th>\n",
              "      <th>o3</th>\n",
              "      <th>o4</th>\n",
              "      <th>o5</th>\n",
              "      <th>o6</th>\n",
              "      <th>o7</th>\n",
              "      <th>o8</th>\n",
              "      <th>swing_utility</th>\n",
              "      <th>take_utility</th>\n",
              "      <th>actual_run_value</th>\n",
              "      <th>pitch_utility</th>\n",
              "      <th>batter_optimal_decision_is_swing</th>\n",
              "      <th>expected_pitcher_utility</th>\n",
              "    </tr>\n",
              "  </thead>\n",
              "  <tbody>\n",
              "    <tr>\n",
              "      <th>415</th>\n",
              "      <td>0.576707</td>\n",
              "      <td>-0.726694</td>\n",
              "      <td>0.935962</td>\n",
              "      <td>0.881953</td>\n",
              "      <td>1.02902</td>\n",
              "      <td>0.0</td>\n",
              "      <td>1.0</td>\n",
              "      <td>1.0</td>\n",
              "      <td>2.0</td>\n",
              "      <td>1.140644</td>\n",
              "      <td>2983</td>\n",
              "      <td>-0.570423</td>\n",
              "      <td>3.197183</td>\n",
              "      <td>547</td>\n",
              "      <td>445276</td>\n",
              "      <td>FC</td>\n",
              "      <td>0.273132</td>\n",
              "      <td>0.272579</td>\n",
              "      <td>0.182156</td>\n",
              "      <td>0.202072</td>\n",
              "      <td>0.049131</td>\n",
              "      <td>0.011968</td>\n",
              "      <td>0.004932</td>\n",
              "      <td>0.0004</td>\n",
              "      <td>0.003628</td>\n",
              "      <td>-0.067297</td>\n",
              "      <td>-0.079872</td>\n",
              "      <td>NaN</td>\n",
              "      <td>-0.067297</td>\n",
              "      <td>1</td>\n",
              "      <td>0.012858</td>\n",
              "    </tr>\n",
              "  </tbody>\n",
              "</table>\n",
              "</div>\n",
              "      <button class=\"colab-df-convert\" onclick=\"convertToInteractive('df-d2d49082-46c9-40b7-9f2a-ce65f0f2d30b')\"\n",
              "              title=\"Convert this dataframe to an interactive table.\"\n",
              "              style=\"display:none;\">\n",
              "        \n",
              "  <svg xmlns=\"http://www.w3.org/2000/svg\" height=\"24px\"viewBox=\"0 0 24 24\"\n",
              "       width=\"24px\">\n",
              "    <path d=\"M0 0h24v24H0V0z\" fill=\"none\"/>\n",
              "    <path d=\"M18.56 5.44l.94 2.06.94-2.06 2.06-.94-2.06-.94-.94-2.06-.94 2.06-2.06.94zm-11 1L8.5 8.5l.94-2.06 2.06-.94-2.06-.94L8.5 2.5l-.94 2.06-2.06.94zm10 10l.94 2.06.94-2.06 2.06-.94-2.06-.94-.94-2.06-.94 2.06-2.06.94z\"/><path d=\"M17.41 7.96l-1.37-1.37c-.4-.4-.92-.59-1.43-.59-.52 0-1.04.2-1.43.59L10.3 9.45l-7.72 7.72c-.78.78-.78 2.05 0 2.83L4 21.41c.39.39.9.59 1.41.59.51 0 1.02-.2 1.41-.59l7.78-7.78 2.81-2.81c.8-.78.8-2.07 0-2.86zM5.41 20L4 18.59l7.72-7.72 1.47 1.35L5.41 20z\"/>\n",
              "  </svg>\n",
              "      </button>\n",
              "      \n",
              "  <style>\n",
              "    .colab-df-container {\n",
              "      display:flex;\n",
              "      flex-wrap:wrap;\n",
              "      gap: 12px;\n",
              "    }\n",
              "\n",
              "    .colab-df-convert {\n",
              "      background-color: #E8F0FE;\n",
              "      border: none;\n",
              "      border-radius: 50%;\n",
              "      cursor: pointer;\n",
              "      display: none;\n",
              "      fill: #1967D2;\n",
              "      height: 32px;\n",
              "      padding: 0 0 0 0;\n",
              "      width: 32px;\n",
              "    }\n",
              "\n",
              "    .colab-df-convert:hover {\n",
              "      background-color: #E2EBFA;\n",
              "      box-shadow: 0px 1px 2px rgba(60, 64, 67, 0.3), 0px 1px 3px 1px rgba(60, 64, 67, 0.15);\n",
              "      fill: #174EA6;\n",
              "    }\n",
              "\n",
              "    [theme=dark] .colab-df-convert {\n",
              "      background-color: #3B4455;\n",
              "      fill: #D2E3FC;\n",
              "    }\n",
              "\n",
              "    [theme=dark] .colab-df-convert:hover {\n",
              "      background-color: #434B5C;\n",
              "      box-shadow: 0px 1px 3px 1px rgba(0, 0, 0, 0.15);\n",
              "      filter: drop-shadow(0px 1px 2px rgba(0, 0, 0, 0.3));\n",
              "      fill: #FFFFFF;\n",
              "    }\n",
              "  </style>\n",
              "\n",
              "      <script>\n",
              "        const buttonEl =\n",
              "          document.querySelector('#df-d2d49082-46c9-40b7-9f2a-ce65f0f2d30b button.colab-df-convert');\n",
              "        buttonEl.style.display =\n",
              "          google.colab.kernel.accessAllowed ? 'block' : 'none';\n",
              "\n",
              "        async function convertToInteractive(key) {\n",
              "          const element = document.querySelector('#df-d2d49082-46c9-40b7-9f2a-ce65f0f2d30b');\n",
              "          const dataTable =\n",
              "            await google.colab.kernel.invokeFunction('convertToInteractive',\n",
              "                                                     [key], {});\n",
              "          if (!dataTable) return;\n",
              "\n",
              "          const docLinkHtml = 'Like what you see? Visit the ' +\n",
              "            '<a target=\"_blank\" href=https://colab.research.google.com/notebooks/data_table.ipynb>data table notebook</a>'\n",
              "            + ' to learn more about interactive tables.';\n",
              "          element.innerHTML = '';\n",
              "          dataTable['output_type'] = 'display_data';\n",
              "          await google.colab.output.renderOutput(dataTable, element);\n",
              "          const docLink = document.createElement('div');\n",
              "          docLink.innerHTML = docLinkHtml;\n",
              "          element.appendChild(docLink);\n",
              "        }\n",
              "      </script>\n",
              "    </div>\n",
              "  </div>\n",
              "  "
            ]
          },
          "metadata": {},
          "execution_count": 30
        }
      ]
    },
    {
      "cell_type": "code",
      "source": [
        "pitcher_optimal_decision"
      ],
      "metadata": {
        "colab": {
          "base_uri": "https://localhost:8080/",
          "height": 145
        },
        "id": "FG7mgBIgAjBr",
        "outputId": "5e3457e5-9185-4d46-ada7-e171201824b0"
      },
      "execution_count": null,
      "outputs": [
        {
          "output_type": "execute_result",
          "data": {
            "text/plain": [
              "     release_speed   plate_x   plate_z        mx       mz  bat_handR  \\\n",
              "369       0.576707 -0.426278  0.676689  0.881953  1.02902        0.0   \n",
              "\n",
              "     pit_handR  balls  strikes  release_spin_rate  location_index  plate_x_ft  \\\n",
              "369        1.0    1.0      2.0           1.140644            2841   -0.316901   \n",
              "\n",
              "     plate_z_ft  batter_index  pitcher_id pitch_type       o0        o1  \\\n",
              "369    2.943662           547      445276         FC  0.00766  0.197531   \n",
              "\n",
              "           o2        o3        o4        o5        o6        o7        o8  \\\n",
              "369  0.213451  0.402459  0.120789  0.031257  0.013161  0.001296  0.012395   \n",
              "\n",
              "     swing_utility  take_utility  actual_run_value  pitch_utility  \\\n",
              "369      -0.024387     -0.196592               NaN      -0.024387   \n",
              "\n",
              "     batter_optimal_decision_is_swing  expected_pitcher_utility  \n",
              "369                                 1                  0.006701  "
            ],
            "text/html": [
              "\n",
              "  <div id=\"df-c5793171-adac-45b4-be00-8ee0f4c6344e\">\n",
              "    <div class=\"colab-df-container\">\n",
              "      <div>\n",
              "<style scoped>\n",
              "    .dataframe tbody tr th:only-of-type {\n",
              "        vertical-align: middle;\n",
              "    }\n",
              "\n",
              "    .dataframe tbody tr th {\n",
              "        vertical-align: top;\n",
              "    }\n",
              "\n",
              "    .dataframe thead th {\n",
              "        text-align: right;\n",
              "    }\n",
              "</style>\n",
              "<table border=\"1\" class=\"dataframe\">\n",
              "  <thead>\n",
              "    <tr style=\"text-align: right;\">\n",
              "      <th></th>\n",
              "      <th>release_speed</th>\n",
              "      <th>plate_x</th>\n",
              "      <th>plate_z</th>\n",
              "      <th>mx</th>\n",
              "      <th>mz</th>\n",
              "      <th>bat_handR</th>\n",
              "      <th>pit_handR</th>\n",
              "      <th>balls</th>\n",
              "      <th>strikes</th>\n",
              "      <th>release_spin_rate</th>\n",
              "      <th>location_index</th>\n",
              "      <th>plate_x_ft</th>\n",
              "      <th>plate_z_ft</th>\n",
              "      <th>batter_index</th>\n",
              "      <th>pitcher_id</th>\n",
              "      <th>pitch_type</th>\n",
              "      <th>o0</th>\n",
              "      <th>o1</th>\n",
              "      <th>o2</th>\n",
              "      <th>o3</th>\n",
              "      <th>o4</th>\n",
              "      <th>o5</th>\n",
              "      <th>o6</th>\n",
              "      <th>o7</th>\n",
              "      <th>o8</th>\n",
              "      <th>swing_utility</th>\n",
              "      <th>take_utility</th>\n",
              "      <th>actual_run_value</th>\n",
              "      <th>pitch_utility</th>\n",
              "      <th>batter_optimal_decision_is_swing</th>\n",
              "      <th>expected_pitcher_utility</th>\n",
              "    </tr>\n",
              "  </thead>\n",
              "  <tbody>\n",
              "    <tr>\n",
              "      <th>369</th>\n",
              "      <td>0.576707</td>\n",
              "      <td>-0.426278</td>\n",
              "      <td>0.676689</td>\n",
              "      <td>0.881953</td>\n",
              "      <td>1.02902</td>\n",
              "      <td>0.0</td>\n",
              "      <td>1.0</td>\n",
              "      <td>1.0</td>\n",
              "      <td>2.0</td>\n",
              "      <td>1.140644</td>\n",
              "      <td>2841</td>\n",
              "      <td>-0.316901</td>\n",
              "      <td>2.943662</td>\n",
              "      <td>547</td>\n",
              "      <td>445276</td>\n",
              "      <td>FC</td>\n",
              "      <td>0.00766</td>\n",
              "      <td>0.197531</td>\n",
              "      <td>0.213451</td>\n",
              "      <td>0.402459</td>\n",
              "      <td>0.120789</td>\n",
              "      <td>0.031257</td>\n",
              "      <td>0.013161</td>\n",
              "      <td>0.001296</td>\n",
              "      <td>0.012395</td>\n",
              "      <td>-0.024387</td>\n",
              "      <td>-0.196592</td>\n",
              "      <td>NaN</td>\n",
              "      <td>-0.024387</td>\n",
              "      <td>1</td>\n",
              "      <td>0.006701</td>\n",
              "    </tr>\n",
              "  </tbody>\n",
              "</table>\n",
              "</div>\n",
              "      <button class=\"colab-df-convert\" onclick=\"convertToInteractive('df-c5793171-adac-45b4-be00-8ee0f4c6344e')\"\n",
              "              title=\"Convert this dataframe to an interactive table.\"\n",
              "              style=\"display:none;\">\n",
              "        \n",
              "  <svg xmlns=\"http://www.w3.org/2000/svg\" height=\"24px\"viewBox=\"0 0 24 24\"\n",
              "       width=\"24px\">\n",
              "    <path d=\"M0 0h24v24H0V0z\" fill=\"none\"/>\n",
              "    <path d=\"M18.56 5.44l.94 2.06.94-2.06 2.06-.94-2.06-.94-.94-2.06-.94 2.06-2.06.94zm-11 1L8.5 8.5l.94-2.06 2.06-.94-2.06-.94L8.5 2.5l-.94 2.06-2.06.94zm10 10l.94 2.06.94-2.06 2.06-.94-2.06-.94-.94-2.06-.94 2.06-2.06.94z\"/><path d=\"M17.41 7.96l-1.37-1.37c-.4-.4-.92-.59-1.43-.59-.52 0-1.04.2-1.43.59L10.3 9.45l-7.72 7.72c-.78.78-.78 2.05 0 2.83L4 21.41c.39.39.9.59 1.41.59.51 0 1.02-.2 1.41-.59l7.78-7.78 2.81-2.81c.8-.78.8-2.07 0-2.86zM5.41 20L4 18.59l7.72-7.72 1.47 1.35L5.41 20z\"/>\n",
              "  </svg>\n",
              "      </button>\n",
              "      \n",
              "  <style>\n",
              "    .colab-df-container {\n",
              "      display:flex;\n",
              "      flex-wrap:wrap;\n",
              "      gap: 12px;\n",
              "    }\n",
              "\n",
              "    .colab-df-convert {\n",
              "      background-color: #E8F0FE;\n",
              "      border: none;\n",
              "      border-radius: 50%;\n",
              "      cursor: pointer;\n",
              "      display: none;\n",
              "      fill: #1967D2;\n",
              "      height: 32px;\n",
              "      padding: 0 0 0 0;\n",
              "      width: 32px;\n",
              "    }\n",
              "\n",
              "    .colab-df-convert:hover {\n",
              "      background-color: #E2EBFA;\n",
              "      box-shadow: 0px 1px 2px rgba(60, 64, 67, 0.3), 0px 1px 3px 1px rgba(60, 64, 67, 0.15);\n",
              "      fill: #174EA6;\n",
              "    }\n",
              "\n",
              "    [theme=dark] .colab-df-convert {\n",
              "      background-color: #3B4455;\n",
              "      fill: #D2E3FC;\n",
              "    }\n",
              "\n",
              "    [theme=dark] .colab-df-convert:hover {\n",
              "      background-color: #434B5C;\n",
              "      box-shadow: 0px 1px 3px 1px rgba(0, 0, 0, 0.15);\n",
              "      filter: drop-shadow(0px 1px 2px rgba(0, 0, 0, 0.3));\n",
              "      fill: #FFFFFF;\n",
              "    }\n",
              "  </style>\n",
              "\n",
              "      <script>\n",
              "        const buttonEl =\n",
              "          document.querySelector('#df-c5793171-adac-45b4-be00-8ee0f4c6344e button.colab-df-convert');\n",
              "        buttonEl.style.display =\n",
              "          google.colab.kernel.accessAllowed ? 'block' : 'none';\n",
              "\n",
              "        async function convertToInteractive(key) {\n",
              "          const element = document.querySelector('#df-c5793171-adac-45b4-be00-8ee0f4c6344e');\n",
              "          const dataTable =\n",
              "            await google.colab.kernel.invokeFunction('convertToInteractive',\n",
              "                                                     [key], {});\n",
              "          if (!dataTable) return;\n",
              "\n",
              "          const docLinkHtml = 'Like what you see? Visit the ' +\n",
              "            '<a target=\"_blank\" href=https://colab.research.google.com/notebooks/data_table.ipynb>data table notebook</a>'\n",
              "            + ' to learn more about interactive tables.';\n",
              "          element.innerHTML = '';\n",
              "          dataTable['output_type'] = 'display_data';\n",
              "          await google.colab.output.renderOutput(dataTable, element);\n",
              "          const docLink = document.createElement('div');\n",
              "          docLink.innerHTML = docLinkHtml;\n",
              "          element.appendChild(docLink);\n",
              "        }\n",
              "      </script>\n",
              "    </div>\n",
              "  </div>\n",
              "  "
            ]
          },
          "metadata": {},
          "execution_count": 31
        }
      ]
    },
    {
      "cell_type": "code",
      "source": [
        "#plot the actual pitch, the absolute best pitch, and the optimal equilibrium pitch \n",
        "plt.figure(figsize = (8.5,6))\n",
        "plt.plot(-1*pa.plate_x_ft.values[-1], pa.plate_z_ft.values[-1], 'kx', label = 'Actual Pitch: FC')\n",
        "plt.plot(-1*best_possible_pitch.plate_x_ft.values[0], best_possible_pitch.plate_z_ft.values[0], 'rx', label = 'Best Possible Pitch: FC')\n",
        "plt.plot(-1*pitcher_optimal_decision.plate_x_ft.values[0], pitcher_optimal_decision.plate_z_ft.values[0], 'bx', label = 'Optimal Pitch: FC')\n",
        "plt.plot([-.71,.71,.71,-.71, -.71], [3.412, 3.412, 1.546,1.546, 3.412], 'k-')\n",
        "plt.legend()\n",
        "plt.xlabel(\"Horizontal Location (Pitcher's Perspective)\")\n",
        "plt.ylabel('Vertical Location')\n",
        "plt.xlim(-1.5,1.5)\n",
        "plt.ylim(1,4)\n",
        "plt.title(\"(b) Jansen's Stackelberg Equilibrium\")\n",
        "plt.show()"
      ],
      "metadata": {
        "colab": {
          "base_uri": "https://localhost:8080/",
          "height": 404
        },
        "id": "wlNLqmJ5AqLw",
        "outputId": "e8f456b1-854d-4bfb-f17c-8fd820e7c83a"
      },
      "execution_count": null,
      "outputs": [
        {
          "output_type": "display_data",
          "data": {
            "text/plain": [
              "<Figure size 612x432 with 1 Axes>"
            ],
            "image/png": "[encoded data removed]"
          },
          "metadata": {
            "needs_background": "light"
          }
        }
      ]
    },
    {
      "cell_type": "markdown",
      "source": [
        "This is pretty cool, the best possible pitch, optimal pitch, and actual pitch were all cutters. Jansen did not throw the ball anywhere close to where he should of according to this game. The swing utility on the pitch he threw was 0.037, so good for Phillips. The swing utility on the best possible pitch was -0.067, and it was -0.024 on the optimal pitch. The expected utility for those two pitches, factoring execution score, is 0.013 and 0.007 respectively, so both better than the utility on the actual pitch he threw. It is technically possible that Jansen was actually aiming at that blue x, and he just missed really badly and it cost him. So yeah really cool!"
      ],
      "metadata": {
        "id": "N0MkIHb1BB7Q"
      }
    },
    {
      "cell_type": "markdown",
      "source": [
        "#### **Testing Optimality of Batter Decisions**"
      ],
      "metadata": {
        "id": "Iohqreh9xgPJ"
      }
    },
    {
      "cell_type": "markdown",
      "source": [
        "In this section, we are going to run the model on every pitch in the validation set. Then we are going to calculate the swing and take utility and define the optimal decision for each batter in the validation set. Then we will see how frequently batters make the optimal decision."
      ],
      "metadata": {
        "id": "1k111HJQx_sq"
      }
    },
    {
      "cell_type": "code",
      "source": [
        "def prediction_func(input, target, recurrent = True):\n",
        "  #input is a batch of PAs \n",
        "  with torch.no_grad():\n",
        "    #init \n",
        "    input = input.to(device)\n",
        "    target = target.to(device)\n",
        "    loss = 0\n",
        "\n",
        "    input_length = input.size(1)\n",
        "\n",
        "    #loop through pas in batch \n",
        "    preds = torch.empty((1,9)).to(device)\n",
        "    for pa_num in range(input.size(0)):\n",
        "      #initialize hidden state at start of each pa \n",
        "      h0 = model.init_hidden()\n",
        "      h0 = h0.to(device)\n",
        "      pa = input[pa_num]\n",
        "      pa_targets = target[pa_num]\n",
        "      for pitch in range(input_length):\n",
        "        yhat, h1 = model(pa[pitch].unsqueeze(0), h0, pa_targets[pitch].unsqueeze(0))\n",
        "        preds = torch.cat((preds, yhat), dim = 0)\n",
        "        if recurrent:\n",
        "          h0 = h1\n",
        "        else:\n",
        "          h0 = model.init_hidden().to(device)\n",
        "\n",
        "    #return predictions\n",
        "    return preds[1:,:]"
      ],
      "metadata": {
        "id": "j-JjALiCyZGZ"
      },
      "execution_count": null,
      "outputs": []
    },
    {
      "cell_type": "code",
      "source": [
        "#get the predictions\n",
        "predicted_test_data = pd.DataFrame()\n",
        "for batch in range(len(test_loader_list)):\n",
        "  ids, x, y = test_loader_list[batch]\n",
        "  \n",
        "  ypred = prediction_func(x,y)\n",
        "\n",
        "  y = y.view(y.size(0)*y.size(1))\n",
        "  losses = nn.CrossEntropyLoss(reduction = 'none')(ypred, y.cuda())\n",
        "  new_data = pd.DataFrame({'pa_id': ids[:,0], 'pitch_number': ids[:,1], 'outcome': y.cpu().numpy()})\n",
        "  new_data[['o0', 'o1', 'o2', 'o3', 'o4', 'o5', 'o6', 'o7', 'o8']] = nn.functional.softmax(ypred, dim = 1).detach().cpu().numpy()\n",
        "  new_data['cross_entropy_loss'] = losses.detach().cpu().numpy()\n",
        "  predicted_test_data = predicted_test_data.append(new_data, ignore_index = True)"
      ],
      "metadata": {
        "id": "kUZbNhylxjvR"
      },
      "execution_count": null,
      "outputs": []
    },
    {
      "cell_type": "code",
      "source": [
        "#inner join train and predicted_test_data to get other needed info\n",
        "test = train.merge(predicted_test_data[['pa_id', 'pitch_number', 'o0', 'o1', 'o2', 'o3', 'o4', 'o5', 'o6', 'o7', 'o8']], how = 'inner', on = ['pa_id', 'pitch_number'])\n",
        "\n",
        "#calculate the necessary utilities for test \n",
        "test = get_utilities(test)\n",
        "\n",
        "#define a bool that is true if the batter made the right swing decision \n",
        "test['correct_batter_decision_bool'] = (np.abs(test.is_swing - test.batter_optimal_decision_is_swing) == 0)"
      ],
      "metadata": {
        "id": "0SWwE7Snyh3Y"
      },
      "execution_count": null,
      "outputs": []
    },
    {
      "cell_type": "code",
      "source": [
        "test.correct_batter_decision_bool.mean()"
      ],
      "metadata": {
        "colab": {
          "base_uri": "https://localhost:8080/"
        },
        "id": "9VidqxzUq3zT",
        "outputId": "581237c1-5aef-4f80-a9de-a93b0c2dc1c5"
      },
      "execution_count": null,
      "outputs": [
        {
          "output_type": "execute_result",
          "data": {
            "text/plain": [
              "0.7017616381729335"
            ]
          },
          "metadata": {},
          "execution_count": 31
        }
      ]
    },
    {
      "cell_type": "markdown",
      "source": [
        "Batter makes the correct decision about 70\\% of the time, which coincidentally matches the correct decision rate that the smaller subset of batters made in the decision point game."
      ],
      "metadata": {
        "id": "mqXwl3TQq94U"
      }
    },
    {
      "cell_type": "code",
      "source": [
        "#see which batters are making the best decisions most often \n",
        "batter_results = test.groupby('batter', as_index = False).agg(n = ('is_swing', 'count'), \n",
        "                                             correct_decision_rate = ('correct_batter_decision_bool', 'mean'),\n",
        "                                             swing_rate = ('is_swing', 'mean'),\n",
        "                                             miss_rate = ('is_miss', 'mean'),\n",
        "                                             optimal_decision_is_swing_rate = ('batter_optimal_decision_is_swing', 'mean'),\n",
        "                                             avg_optimal_utility = ('pitch_utility', 'mean'),\n",
        "                                             avg_run_value_actual_outcomes = ('actual_run_value', 'mean'))\n",
        "#remove batter's with few pitches \n",
        "batter_results = batter_results.loc[batter_results.n > 50]"
      ],
      "metadata": {
        "id": "MTJyu75M0NlA"
      },
      "execution_count": null,
      "outputs": []
    },
    {
      "cell_type": "code",
      "source": [
        "batter_results.sort_values(by = 'correct_decision_rate', ascending = False)"
      ],
      "metadata": {
        "colab": {
          "base_uri": "https://localhost:8080/",
          "height": 424
        },
        "id": "X8mmlMOU2o_1",
        "outputId": "07f6fcf7-0d89-459c-a265-7baddbb4d826"
      },
      "execution_count": null,
      "outputs": [
        {
          "output_type": "execute_result",
          "data": {
            "text/plain": [
              "      batter    n  correct_decision_rate  swing_rate  miss_rate  \\\n",
              "258   592261   64               0.859375    0.343750   0.078125   \n",
              "832   664068   52               0.846154    0.519231   0.173077   \n",
              "254   592200  117               0.837607    0.666667   0.094017   \n",
              "1136  677954   60               0.833333    0.400000   0.050000   \n",
              "1060  672478   52               0.826923    0.692308   0.134615   \n",
              "...      ...  ...                    ...         ...        ...   \n",
              "448   609280   57               0.491228    0.578947   0.192982   \n",
              "1184  681481   51               0.470588    0.529412   0.196078   \n",
              "244   573186   79               0.468354    0.531646   0.265823   \n",
              "201   554430  119               0.453782    0.478992   0.268908   \n",
              "755   660636   54               0.351852    0.500000   0.240741   \n",
              "\n",
              "      optimal_decision_is_swing_rate  avg_optimal_utility  \\\n",
              "258                         0.328125             0.023789   \n",
              "832                         0.519231             0.013972   \n",
              "254                         0.589744             0.020823   \n",
              "1136                        0.333333             0.022196   \n",
              "1060                        0.596154             0.004674   \n",
              "...                              ...                  ...   \n",
              "448                         0.456140             0.004920   \n",
              "1184                        0.549020             0.006761   \n",
              "244                         0.582278             0.007829   \n",
              "201                         0.521008             0.005349   \n",
              "755                         0.555556             0.002923   \n",
              "\n",
              "      avg_run_value_actual_outcomes  \n",
              "258                        0.010859  \n",
              "832                       -0.007481  \n",
              "254                        0.003744  \n",
              "1136                       0.002033  \n",
              "1060                       0.036712  \n",
              "...                             ...  \n",
              "448                       -0.041421  \n",
              "1184                      -0.008667  \n",
              "244                       -0.064241  \n",
              "201                       -0.040630  \n",
              "755                       -0.029093  \n",
              "\n",
              "[648 rows x 8 columns]"
            ],
            "text/html": [
              "\n",
              "  <div id=\"df-1e9aba1a-5513-45ea-b1c2-75cb6d214849\">\n",
              "    <div class=\"colab-df-container\">\n",
              "      <div>\n",
              "<style scoped>\n",
              "    .dataframe tbody tr th:only-of-type {\n",
              "        vertical-align: middle;\n",
              "    }\n",
              "\n",
              "    .dataframe tbody tr th {\n",
              "        vertical-align: top;\n",
              "    }\n",
              "\n",
              "    .dataframe thead th {\n",
              "        text-align: right;\n",
              "    }\n",
              "</style>\n",
              "<table border=\"1\" class=\"dataframe\">\n",
              "  <thead>\n",
              "    <tr style=\"text-align: right;\">\n",
              "      <th></th>\n",
              "      <th>batter</th>\n",
              "      <th>n</th>\n",
              "      <th>correct_decision_rate</th>\n",
              "      <th>swing_rate</th>\n",
              "      <th>miss_rate</th>\n",
              "      <th>optimal_decision_is_swing_rate</th>\n",
              "      <th>avg_optimal_utility</th>\n",
              "      <th>avg_run_value_actual_outcomes</th>\n",
              "    </tr>\n",
              "  </thead>\n",
              "  <tbody>\n",
              "    <tr>\n",
              "      <th>258</th>\n",
              "      <td>592261</td>\n",
              "      <td>64</td>\n",
              "      <td>0.859375</td>\n",
              "      <td>0.343750</td>\n",
              "      <td>0.078125</td>\n",
              "      <td>0.328125</td>\n",
              "      <td>0.023789</td>\n",
              "      <td>0.010859</td>\n",
              "    </tr>\n",
              "    <tr>\n",
              "      <th>832</th>\n",
              "      <td>664068</td>\n",
              "      <td>52</td>\n",
              "      <td>0.846154</td>\n",
              "      <td>0.519231</td>\n",
              "      <td>0.173077</td>\n",
              "      <td>0.519231</td>\n",
              "      <td>0.013972</td>\n",
              "      <td>-0.007481</td>\n",
              "    </tr>\n",
              "    <tr>\n",
              "      <th>254</th>\n",
              "      <td>592200</td>\n",
              "      <td>117</td>\n",
              "      <td>0.837607</td>\n",
              "      <td>0.666667</td>\n",
              "      <td>0.094017</td>\n",
              "      <td>0.589744</td>\n",
              "      <td>0.020823</td>\n",
              "      <td>0.003744</td>\n",
              "    </tr>\n",
              "    <tr>\n",
              "      <th>1136</th>\n",
              "      <td>677954</td>\n",
              "      <td>60</td>\n",
              "      <td>0.833333</td>\n",
              "      <td>0.400000</td>\n",
              "      <td>0.050000</td>\n",
              "      <td>0.333333</td>\n",
              "      <td>0.022196</td>\n",
              "      <td>0.002033</td>\n",
              "    </tr>\n",
              "    <tr>\n",
              "      <th>1060</th>\n",
              "      <td>672478</td>\n",
              "      <td>52</td>\n",
              "      <td>0.826923</td>\n",
              "      <td>0.692308</td>\n",
              "      <td>0.134615</td>\n",
              "      <td>0.596154</td>\n",
              "      <td>0.004674</td>\n",
              "      <td>0.036712</td>\n",
              "    </tr>\n",
              "    <tr>\n",
              "      <th>...</th>\n",
              "      <td>...</td>\n",
              "      <td>...</td>\n",
              "      <td>...</td>\n",
              "      <td>...</td>\n",
              "      <td>...</td>\n",
              "      <td>...</td>\n",
              "      <td>...</td>\n",
              "      <td>...</td>\n",
              "    </tr>\n",
              "    <tr>\n",
              "      <th>448</th>\n",
              "      <td>609280</td>\n",
              "      <td>57</td>\n",
              "      <td>0.491228</td>\n",
              "      <td>0.578947</td>\n",
              "      <td>0.192982</td>\n",
              "      <td>0.456140</td>\n",
              "      <td>0.004920</td>\n",
              "      <td>-0.041421</td>\n",
              "    </tr>\n",
              "    <tr>\n",
              "      <th>1184</th>\n",
              "      <td>681481</td>\n",
              "      <td>51</td>\n",
              "      <td>0.470588</td>\n",
              "      <td>0.529412</td>\n",
              "      <td>0.196078</td>\n",
              "      <td>0.549020</td>\n",
              "      <td>0.006761</td>\n",
              "      <td>-0.008667</td>\n",
              "    </tr>\n",
              "    <tr>\n",
              "      <th>244</th>\n",
              "      <td>573186</td>\n",
              "      <td>79</td>\n",
              "      <td>0.468354</td>\n",
              "      <td>0.531646</td>\n",
              "      <td>0.265823</td>\n",
              "      <td>0.582278</td>\n",
              "      <td>0.007829</td>\n",
              "      <td>-0.064241</td>\n",
              "    </tr>\n",
              "    <tr>\n",
              "      <th>201</th>\n",
              "      <td>554430</td>\n",
              "      <td>119</td>\n",
              "      <td>0.453782</td>\n",
              "      <td>0.478992</td>\n",
              "      <td>0.268908</td>\n",
              "      <td>0.521008</td>\n",
              "      <td>0.005349</td>\n",
              "      <td>-0.040630</td>\n",
              "    </tr>\n",
              "    <tr>\n",
              "      <th>755</th>\n",
              "      <td>660636</td>\n",
              "      <td>54</td>\n",
              "      <td>0.351852</td>\n",
              "      <td>0.500000</td>\n",
              "      <td>0.240741</td>\n",
              "      <td>0.555556</td>\n",
              "      <td>0.002923</td>\n",
              "      <td>-0.029093</td>\n",
              "    </tr>\n",
              "  </tbody>\n",
              "</table>\n",
              "<p>648 rows × 8 columns</p>\n",
              "</div>\n",
              "      <button class=\"colab-df-convert\" onclick=\"convertToInteractive('df-1e9aba1a-5513-45ea-b1c2-75cb6d214849')\"\n",
              "              title=\"Convert this dataframe to an interactive table.\"\n",
              "              style=\"display:none;\">\n",
              "        \n",
              "  <svg xmlns=\"http://www.w3.org/2000/svg\" height=\"24px\"viewBox=\"0 0 24 24\"\n",
              "       width=\"24px\">\n",
              "    <path d=\"M0 0h24v24H0V0z\" fill=\"none\"/>\n",
              "    <path d=\"M18.56 5.44l.94 2.06.94-2.06 2.06-.94-2.06-.94-.94-2.06-.94 2.06-2.06.94zm-11 1L8.5 8.5l.94-2.06 2.06-.94-2.06-.94L8.5 2.5l-.94 2.06-2.06.94zm10 10l.94 2.06.94-2.06 2.06-.94-2.06-.94-.94-2.06-.94 2.06-2.06.94z\"/><path d=\"M17.41 7.96l-1.37-1.37c-.4-.4-.92-.59-1.43-.59-.52 0-1.04.2-1.43.59L10.3 9.45l-7.72 7.72c-.78.78-.78 2.05 0 2.83L4 21.41c.39.39.9.59 1.41.59.51 0 1.02-.2 1.41-.59l7.78-7.78 2.81-2.81c.8-.78.8-2.07 0-2.86zM5.41 20L4 18.59l7.72-7.72 1.47 1.35L5.41 20z\"/>\n",
              "  </svg>\n",
              "      </button>\n",
              "      \n",
              "  <style>\n",
              "    .colab-df-container {\n",
              "      display:flex;\n",
              "      flex-wrap:wrap;\n",
              "      gap: 12px;\n",
              "    }\n",
              "\n",
              "    .colab-df-convert {\n",
              "      background-color: #E8F0FE;\n",
              "      border: none;\n",
              "      border-radius: 50%;\n",
              "      cursor: pointer;\n",
              "      display: none;\n",
              "      fill: #1967D2;\n",
              "      height: 32px;\n",
              "      padding: 0 0 0 0;\n",
              "      width: 32px;\n",
              "    }\n",
              "\n",
              "    .colab-df-convert:hover {\n",
              "      background-color: #E2EBFA;\n",
              "      box-shadow: 0px 1px 2px rgba(60, 64, 67, 0.3), 0px 1px 3px 1px rgba(60, 64, 67, 0.15);\n",
              "      fill: #174EA6;\n",
              "    }\n",
              "\n",
              "    [theme=dark] .colab-df-convert {\n",
              "      background-color: #3B4455;\n",
              "      fill: #D2E3FC;\n",
              "    }\n",
              "\n",
              "    [theme=dark] .colab-df-convert:hover {\n",
              "      background-color: #434B5C;\n",
              "      box-shadow: 0px 1px 3px 1px rgba(0, 0, 0, 0.15);\n",
              "      filter: drop-shadow(0px 1px 2px rgba(0, 0, 0, 0.3));\n",
              "      fill: #FFFFFF;\n",
              "    }\n",
              "  </style>\n",
              "\n",
              "      <script>\n",
              "        const buttonEl =\n",
              "          document.querySelector('#df-1e9aba1a-5513-45ea-b1c2-75cb6d214849 button.colab-df-convert');\n",
              "        buttonEl.style.display =\n",
              "          google.colab.kernel.accessAllowed ? 'block' : 'none';\n",
              "\n",
              "        async function convertToInteractive(key) {\n",
              "          const element = document.querySelector('#df-1e9aba1a-5513-45ea-b1c2-75cb6d214849');\n",
              "          const dataTable =\n",
              "            await google.colab.kernel.invokeFunction('convertToInteractive',\n",
              "                                                     [key], {});\n",
              "          if (!dataTable) return;\n",
              "\n",
              "          const docLinkHtml = 'Like what you see? Visit the ' +\n",
              "            '<a target=\"_blank\" href=https://colab.research.google.com/notebooks/data_table.ipynb>data table notebook</a>'\n",
              "            + ' to learn more about interactive tables.';\n",
              "          element.innerHTML = '';\n",
              "          dataTable['output_type'] = 'display_data';\n",
              "          await google.colab.output.renderOutput(dataTable, element);\n",
              "          const docLink = document.createElement('div');\n",
              "          docLink.innerHTML = docLinkHtml;\n",
              "          element.appendChild(docLink);\n",
              "        }\n",
              "      </script>\n",
              "    </div>\n",
              "  </div>\n",
              "  "
            ]
          },
          "metadata": {},
          "execution_count": 33
        }
      ]
    },
    {
      "cell_type": "markdown",
      "source": [
        "Top 5 are Delino Deshields, Scott Kingery, Curt Casali!!, Jordan Groshans, Jordan Diaz. Bottom 5 are Diego Castillo (not the pitcher), two pitchers I skipped (wheeler and stroman), Kerry Carpenter, Miguel Andujar. "
      ],
      "metadata": {
        "id": "49AWnKie0i9y"
      }
    },
    {
      "cell_type": "code",
      "source": [
        "#plot the average optimal utility with the actual average run values. This will show if making optimal decisions in this game is related with actually having good outcomes for the batter\n",
        "plt.plot(batter_results.avg_optimal_utility.values, batter_results.avg_run_value_actual_outcomes.values, 'k.')\n",
        "plt.plot(batter_results.avg_optimal_utility.values, batter_results.avg_optimal_utility.values, 'r-')\n",
        "plt.xlabel('Average Optimal Utility')\n",
        "plt.ylabel('Average Actual Utility')\n",
        "plt.show()"
      ],
      "metadata": {
        "colab": {
          "base_uri": "https://localhost:8080/",
          "height": 279
        },
        "id": "UdWMgN2M3FDH",
        "outputId": "302a4046-653b-4d4e-a3bb-f116b58f1659"
      },
      "execution_count": null,
      "outputs": [
        {
          "output_type": "display_data",
          "data": {
            "text/plain": [
              "<Figure size 432x288 with 1 Axes>"
            ],
            "image/png": "[encoded data removed]"
          },
          "metadata": {
            "needs_background": "light"
          }
        }
      ]
    },
    {
      "cell_type": "code",
      "source": [
        "#plot the actual utility compared to the percentage of correct decisions\n",
        "plt.figure(figsize = (8,6))\n",
        "plt.plot(batter_results.correct_decision_rate.values, batter_results.avg_run_value_actual_outcomes.values, 'k.')\n",
        "plt.xlabel('Correct Decision Rate')\n",
        "plt.ylabel('Average Run Value')\n",
        "plt.title('Correct Swing Decision Rate vs Average Run Value')\n",
        "plt.show()\n",
        "print('Correlation: ' +  str(np.corrcoef(batter_results.correct_decision_rate.values, batter_results.avg_run_value_actual_outcomes.values)[0,1]))"
      ],
      "metadata": {
        "colab": {
          "base_uri": "https://localhost:8080/",
          "height": 421
        },
        "id": "_DAf-uns6Fs-",
        "outputId": "8c33fb99-1118-44f1-fca0-b9da011c4023"
      },
      "execution_count": null,
      "outputs": [
        {
          "output_type": "display_data",
          "data": {
            "text/plain": [
              "<Figure size 576x432 with 1 Axes>"
            ],
            "image/png": "[encoded data removed]"
          },
          "metadata": {
            "needs_background": "light"
          }
        },
        {
          "output_type": "stream",
          "name": "stdout",
          "text": [
            "Correlation: 0.42779207065403146\n"
          ]
        }
      ]
    },
    {
      "cell_type": "code",
      "source": [],
      "metadata": {
        "id": "_cC8z7PA8-Z3"
      },
      "execution_count": null,
      "outputs": []
    },
    {
      "cell_type": "markdown",
      "source": [
        "#### **Testing pitchers**"
      ],
      "metadata": {
        "id": "RW3wBOu28kNG"
      }
    },
    {
      "cell_type": "code",
      "source": [
        "#read in the skill estimates \n",
        "skill = pd.read_csv('/drive/My Drive/Colab Notebooks/sequencing_project/pitcher_skill_estimates.csv')\n",
        "\n",
        "skill.columns = ['pitcher', 'pitcher_name', 'avg', 'CH', 'CU', 'FC', 'FF', 'FS', 'KC', 'SI', 'SL']"
      ],
      "metadata": {
        "id": "-vMDyNa68nFD"
      },
      "execution_count": null,
      "outputs": []
    },
    {
      "cell_type": "code",
      "source": [
        "#get the usages for each of these pitchers \n",
        "non_z_scored = all_data.copy()\n",
        "non_z_scored[['release_speed', 'mx', 'mz', \n",
        "     'plate_x', 'plate_z',  'release_spin_rate']] = standardizer.inverse_transform(non_z_scored[['release_speed', 'mx', 'mz', \n",
        "     'plate_x', 'plate_z',  'release_spin_rate']].values)\n",
        "pitch_usages = pd.DataFrame()\n",
        "for pitcher in skill.pitcher.values:\n",
        "  pdf = non_z_scored.loc[all_data.pitcher == pitcher]\n",
        "  n = pdf.shape[0]\n",
        "  usages = pdf.groupby('pitch_type', as_index = False).agg(N = ('is_swing', 'count'),\n",
        "                                                           release_speed = ('release_speed', 'mean'),\n",
        "                                                           mx = ('mx', 'mean'),\n",
        "                                                           mz = ('mz', 'mean'),\n",
        "                                                           release_spin_rate = ('release_spin_rate', 'mean'))\n",
        "  usages.N = usages.N / n\n",
        "  usages['pitcher_id'] = pitcher\n",
        "  pitch_usages = pitch_usages.append(usages, ignore_index = True)\n",
        "\n",
        "pitch_usages = pitch_usages.loc[pitch_usages.N >= 0.05]"
      ],
      "metadata": {
        "id": "pYycXefU9C4b"
      },
      "execution_count": null,
      "outputs": []
    },
    {
      "cell_type": "code",
      "source": [
        "#define a dictionary of execution score dictionaries for each pitcher \n",
        "execution_scores = dict()\n",
        "for pitcher in skill.pitcher.values:\n",
        "  pitches = pitch_usages.loc[pitch_usages.pitcher_id == pitcher]\n",
        "  pitcher_skill = skill.loc[skill.pitcher == pitcher]\n",
        "  pitch_dict = dict()\n",
        "  for p in pitches.pitch_type.values:\n",
        "    pitch_dict.update({p: pitcher_skill[[p]].values[0]})\n",
        "  \n",
        "  execution_scores.update({pitcher: pitch_dict})"
      ],
      "metadata": {
        "id": "_U1R0Ux0_WUb"
      },
      "execution_count": null,
      "outputs": []
    },
    {
      "cell_type": "code",
      "source": [
        "#we need the batters we're going to test on. Identify the top 3 most faced batters in the data for each pitcher\n",
        "test_data = pd.DataFrame()\n",
        "for pitcher in skill.pitcher.values:\n",
        "  pitcher_data = train.loc[train.pitcher == pitcher]\n",
        "  pitcher_data = pitcher_data.loc[(pitcher_data.balls == 0) & (pitcher_data.strikes == 0)]\n",
        "  top_batters = pitcher_data.groupby([ 'batter_index', 'batter'], as_index = False).agg(N = ('pa_id', 'count'))\n",
        "  top_batters.sort_values(by = 'N', ascending = False, inplace = True)\n",
        "  for batter in top_batters.batter_index.values[:3]:\n",
        "    test_data = test_data.append(pitcher_data.loc[pitcher_data.batter_index == batter])"
      ],
      "metadata": {
        "id": "W1f1FF2hBz6B"
      },
      "execution_count": null,
      "outputs": []
    },
    {
      "cell_type": "code",
      "source": [
        "#run the model on test_data so you can get a utility and run value\n",
        "x = torch.tensor(test_data[features].values.astype(float), dtype = torch.float).to(device)\n",
        "y = torch.tensor(test_data.outcome.values.astype(int), dtype = torch.long).to(device)\n",
        "\n",
        "h = model.init_hidden().to(device) \n",
        "h = h.repeat(x.size(0), 1)\n",
        "\n",
        "preds = nn.functional.softmax(model.input_embedding(x, h), dim = 1)\n",
        "test_data[['o0', 'o1', 'o2', 'o3', 'o4', 'o5', 'o6', 'o7', 'o8']] = preds.detach().cpu().numpy()\n",
        "\n",
        "test_data = get_utilities(test_data)\n",
        "\n",
        "test_data = test_data[['pa_id', 'pitcher', 'batter', 'batter_index', 'pitch_type', 'plate_x_ft', 'plate_z_ft', 'release_speed', 'release_spin_rate', 'plate_x', 'plate_z', 'mx', 'mz', 'pit_handR', 'bat_handR', 'outcome', 'batter_optimal_decision_is_swing', 'pitch_utility', 'actual_run_value']]"
      ],
      "metadata": {
        "id": "38dlNgE5E-3s"
      },
      "execution_count": null,
      "outputs": []
    },
    {
      "cell_type": "code",
      "source": [
        "#define a function that takes as input a batter and pitcher and solves for the optimal pitcher and batter strategy in just the 0-0 count\n",
        "\n",
        "def first_pitch_strategy(batter_idx, pitcher, bhand, phand):\n",
        "  #define the initial grid \n",
        "  igrid = initial_grid(batter_idx, pitcher, model.init_hidden().to(device), bhand = bhand, phand = phand, balls = 0, strikes = 0)\n",
        "\n",
        "  #get the execution score adjusted grid \n",
        "  exe_grid = execution_score_adjusted_grid(igrid, execution_scores[pitcher])\n",
        "\n",
        "  #merge\n",
        "  final_data = igrid.merge(exe_grid, how = 'inner', on = ['pitch_type', 'location_index'])\n",
        "\n",
        "  #get the optimal pitch \n",
        "  expected_min = final_data.expected_pitcher_utility.min()\n",
        "  optimal_pitch = final_data.loc[final_data.expected_pitcher_utility == expected_min]\n",
        "\n",
        "  return optimal_pitch[['pitcher_id', 'batter_index', 'pitch_type', 'plate_x_ft', 'plate_z_ft', 'batter_optimal_decision_is_swing', 'pitch_utility', 'expected_pitcher_utility']]\n"
      ],
      "metadata": {
        "id": "OexDeSrZ9nF5"
      },
      "execution_count": null,
      "outputs": []
    },
    {
      "cell_type": "code",
      "source": [
        "#get the optimal strategies for each matchup in test_data \n",
        "recommended_pitches = pd.DataFrame()\n",
        "for pitcher in test_data.pitcher.unique():\n",
        "  pit_data = test_data.loc[test_data.pitcher == pitcher]\n",
        "  phand = pit_data.pit_handR.values[0]\n",
        "  for batter in pit_data.batter_index.unique():\n",
        "    bat_dat = pit_data.loc[pit_data.batter_index == batter]\n",
        "    bhand = bat_dat.bat_handR.values[0]\n",
        "    optimal_solution = first_pitch_strategy(batter, pitcher, bhand, phand)\n",
        "    recommended_pitches = recommended_pitches.append(optimal_solution)"
      ],
      "metadata": {
        "id": "37Ye7Uze9D6P"
      },
      "execution_count": null,
      "outputs": []
    },
    {
      "cell_type": "code",
      "source": [
        "recommended_pitches.columns = ['pitcher', 'batter_index', 'recommended_pitch_type', 'recommended_plate_x', 'recommended_plate_z','recommended_pitch_batter_is_swing','recommended_pitch_utility', 'recommended_pitch_expected_utility']"
      ],
      "metadata": {
        "id": "f5lgATVxNmHA"
      },
      "execution_count": null,
      "outputs": []
    },
    {
      "cell_type": "code",
      "source": [
        "#merge recommended_pitches and test data \n",
        "merged = test_data.merge(recommended_pitches, how = 'inner', on = ['pitcher', 'batter_index'])"
      ],
      "metadata": {
        "id": "hH0zd__XMGHG"
      },
      "execution_count": null,
      "outputs": []
    },
    {
      "cell_type": "code",
      "source": [
        "merged['pitcher_threw_right_pitch'] = merged.pitch_type.values == merged.recommended_pitch_type.values\n",
        "merged['distance_from_recommended_aim_point'] = np.sqrt((merged.plate_x_ft.values - merged.recommended_plate_x.values)**2 + (merged.plate_z_ft.values - merged.recommended_plate_z.values)**2)"
      ],
      "metadata": {
        "id": "l7jL9G0gBVHd"
      },
      "execution_count": null,
      "outputs": []
    },
    {
      "cell_type": "code",
      "source": [
        "merged.pitcher_threw_right_pitch.mean() #pitcher's throw the 'right' pitch almost half of the time"
      ],
      "metadata": {
        "colab": {
          "base_uri": "https://localhost:8080/"
        },
        "id": "cWdfVxq_QYa-",
        "outputId": "d7562072-c55b-4105-fd4d-748cf9398f53"
      },
      "execution_count": null,
      "outputs": [
        {
          "output_type": "execute_result",
          "data": {
            "text/plain": [
              "0.4776500638569604"
            ]
          },
          "metadata": {},
          "execution_count": 64
        }
      ]
    },
    {
      "cell_type": "code",
      "source": [
        "from scipy.stats import ttest_ind\n",
        "right_pitch = merged.loc[merged.pitcher_threw_right_pitch == True]\n",
        "wrong_pitch = merged.loc[merged.pitcher_threw_right_pitch == False]\n",
        "right_pitch.actual_run_value.mean(), wrong_pitch.actual_run_value.mean()"
      ],
      "metadata": {
        "colab": {
          "base_uri": "https://localhost:8080/"
        },
        "id": "8KMPkmz6Q0Fc",
        "outputId": "bc6dbeeb-9d9e-4dd1-ee6b-267214b52356"
      },
      "execution_count": null,
      "outputs": [
        {
          "output_type": "execute_result",
          "data": {
            "text/plain": [
              "(-0.005499999999999995, 0.007171149144254285)"
            ]
          },
          "metadata": {},
          "execution_count": 65
        }
      ]
    },
    {
      "cell_type": "code",
      "source": [
        "ttest_ind(right_pitch.actual_run_value.values, wrong_pitch.actual_run_value.values,  equal_var = False, alternative = 'less')"
      ],
      "metadata": {
        "colab": {
          "base_uri": "https://localhost:8080/"
        },
        "id": "L6ScuRb3RoE5",
        "outputId": "97571e86-0590-4533-eea7-932faae06ae5"
      },
      "execution_count": null,
      "outputs": [
        {
          "output_type": "execute_result",
          "data": {
            "text/plain": [
              "Ttest_indResult(statistic=-0.947582941024244, pvalue=0.1718175335164231)"
            ]
          },
          "metadata": {},
          "execution_count": 66
        }
      ]
    },
    {
      "cell_type": "markdown",
      "source": [
        "Comparing the mean run value when the pitcher's threw the right pitch vs the wrong pitch, the pitchers who threw the right pitch had a lower run value on average, which is good for pitchers. However, this difference was not significantly different according to the one sided welch t test above. p value was 0.17, so maybe some weak evidence."
      ],
      "metadata": {
        "id": "2oxfH3TiTAFA"
      }
    },
    {
      "cell_type": "code",
      "source": [
        "#what about when they threw the right pitch within one standard dev of the aiming point, vs otherwise. \n",
        "is_close = []\n",
        "for i in range(right_pitch.shape[0]):\n",
        "  pitcher = right_pitch.pitcher.values[i]\n",
        "  pitch = right_pitch.pitch_type.values[i]\n",
        "  execution_score = execution_scores[pitcher][pitch]\n",
        "  if np.abs(right_pitch.plate_x_ft.values[i] - right_pitch.recommended_plate_x.values[i]) < execution_score and np.abs(right_pitch.plate_z_ft.values[i] - right_pitch.recommended_plate_z.values[i]) < execution_score:\n",
        "    is_close.append(1)\n",
        "  else:\n",
        "    is_close.append(0)\n",
        "\n",
        "right_pitch['is_close'] = is_close"
      ],
      "metadata": {
        "id": "tyCFXJA6eQTx"
      },
      "execution_count": null,
      "outputs": []
    },
    {
      "cell_type": "code",
      "source": [
        "close = right_pitch.loc[right_pitch.is_close == 1]\n",
        "not_close = right_pitch.loc[right_pitch.is_close == 0]\n",
        "close.actual_run_value.mean(), not_close.actual_run_value.mean()"
      ],
      "metadata": {
        "colab": {
          "base_uri": "https://localhost:8080/"
        },
        "id": "UlUQ2Lx1fsIj",
        "outputId": "3d623c29-8c72-471e-d1e5-e6a4196b4272"
      },
      "execution_count": null,
      "outputs": [
        {
          "output_type": "execute_result",
          "data": {
            "text/plain": [
              "(-0.010172727272727264, -0.0035530303030302983)"
            ]
          },
          "metadata": {},
          "execution_count": 68
        }
      ]
    },
    {
      "cell_type": "code",
      "source": [
        "ttest_ind(close.actual_run_value.values, not_close.actual_run_value,  equal_var = False, alternative = 'less')"
      ],
      "metadata": {
        "colab": {
          "base_uri": "https://localhost:8080/"
        },
        "id": "_S7yCsGvf34Y",
        "outputId": "8603f0d6-5b9e-4547-8bf0-cf521ff39e61"
      },
      "execution_count": null,
      "outputs": [
        {
          "output_type": "execute_result",
          "data": {
            "text/plain": [
              "Ttest_indResult(statistic=-0.24208923337686444, pvalue=0.40455056418402113)"
            ]
          },
          "metadata": {},
          "execution_count": 69
        }
      ]
    },
    {
      "cell_type": "code",
      "source": [
        "close.actual_run_value.mean(), np.mean(list(not_close.actual_run_value.values) + list(wrong_pitch.actual_run_value.values))"
      ],
      "metadata": {
        "colab": {
          "base_uri": "https://localhost:8080/"
        },
        "id": "ExLLE5Sogvvd",
        "outputId": "b71bcf1d-88df-46c4-d047-e4c02f3df28b"
      },
      "execution_count": null,
      "outputs": [
        {
          "output_type": "execute_result",
          "data": {
            "text/plain": [
              "(-0.010172727272727264, 0.002964338781575044)"
            ]
          },
          "metadata": {},
          "execution_count": 70
        }
      ]
    },
    {
      "cell_type": "code",
      "source": [
        "ttest_ind(close.actual_run_value.values, list(not_close.actual_run_value.values) + list(wrong_pitch.actual_run_value.values),  equal_var = False, alternative = 'less')"
      ],
      "metadata": {
        "colab": {
          "base_uri": "https://localhost:8080/"
        },
        "id": "siGcxFyUgCCZ",
        "outputId": "39ce29f9-a771-4001-ab34-a94a3981616c"
      },
      "execution_count": null,
      "outputs": [
        {
          "output_type": "execute_result",
          "data": {
            "text/plain": [
              "Ttest_indResult(statistic=-0.48496894414638375, pvalue=0.31428154183966195)"
            ]
          },
          "metadata": {},
          "execution_count": 71
        }
      ]
    },
    {
      "cell_type": "markdown",
      "source": [
        "Comparing mean run value on the right pitch thrown within 1 sd of aiming point in x and z direction with right pitch not thrown that close, the close pitches had a smaller mean run value, but once again the difference was not significant. Comparing the close pitches with the non close pitches and the wrong pitch type pitches, the close pitches obviously had a smaller run value, but the difference was not significant. "
      ],
      "metadata": {
        "id": "lMmh8xf3gY2q"
      }
    },
    {
      "cell_type": "code",
      "source": [
        "#see how proximity to the recommended location when throwing the right pitch improved or harmed run value \n",
        "plt.plot(right_pitch.distance_from_recommended_aim_point.values, right_pitch.actual_run_value.values, 'k.')\n",
        "plt.xlabel('Distance from Recommended Aim Point')\n",
        "plt.ylabel('Actual Pitch Run Value')\n",
        "plt.show()"
      ],
      "metadata": {
        "colab": {
          "base_uri": "https://localhost:8080/",
          "height": 279
        },
        "id": "BI7JjHKQSVvk",
        "outputId": "5dfde8e7-efc2-48c4-ebf2-aa80b66ee081"
      },
      "execution_count": null,
      "outputs": [
        {
          "output_type": "display_data",
          "data": {
            "text/plain": [
              "<Figure size 432x288 with 1 Axes>"
            ],
            "image/png": "[encoded data removed]"
          },
          "metadata": {
            "needs_background": "light"
          }
        }
      ]
    },
    {
      "cell_type": "code",
      "source": [
        "np.corrcoef(right_pitch.distance_from_recommended_aim_point.values, right_pitch.actual_run_value.values)[0,1]"
      ],
      "metadata": {
        "colab": {
          "base_uri": "https://localhost:8080/"
        },
        "id": "TFchVDKfTaJv",
        "outputId": "ff1f8137-a4bb-4f7f-88d1-a3fd509bd786"
      },
      "execution_count": null,
      "outputs": [
        {
          "output_type": "execute_result",
          "data": {
            "text/plain": [
              "0.07852433331731754"
            ]
          },
          "metadata": {},
          "execution_count": 56
        }
      ]
    },
    {
      "cell_type": "markdown",
      "source": [
        "Further distance from aim point tended to mean a worse pitch (more positive run value), but it's weak correlation. You an see in that plot though, it looks like most of the outcomes are I guess probably a ball or a strike, and you can see once the diatance gets past 1 or 1.5, the run value takes a step up, moving from strikes to balls. Makes sense."
      ],
      "metadata": {
        "id": "7Nc7SuMujkAl"
      }
    },
    {
      "cell_type": "code",
      "source": [
        "pitcher_results = merged.groupby('pitcher', as_index = False).agg(n = ('actual_run_value', 'count'),\n",
        "                                                                  correct_pitch_rate = ('pitcher_threw_right_pitch', 'mean'),\n",
        "                                                                  average_actual_pitch_expected_run_value = ('pitch_utility', 'mean'),\n",
        "                                                                  average_actual_run_value = ('actual_run_value', 'mean'))"
      ],
      "metadata": {
        "id": "4DaIT5EXT6pd"
      },
      "execution_count": null,
      "outputs": []
    },
    {
      "cell_type": "code",
      "source": [
        "plt.plot(pitcher_results.correct_pitch_rate.values, pitcher_results.average_actual_pitch_expected_run_value.values, 'k.')\n",
        "plt.xlabel('Correct Pitch Type Rate')\n",
        "plt.ylabel('Average Expected Utility on Actual Pitch')\n",
        "plt.show()\n",
        "print('Correlation: ' + str(np.corrcoef(pitcher_results.correct_pitch_rate.values, pitcher_results.average_actual_pitch_expected_run_value.values)[0,1]))"
      ],
      "metadata": {
        "colab": {
          "base_uri": "https://localhost:8080/",
          "height": 298
        },
        "id": "Mh1vUS09T4uy",
        "outputId": "8440bad7-9080-444e-9534-59c6c30114c8"
      },
      "execution_count": null,
      "outputs": [
        {
          "output_type": "display_data",
          "data": {
            "text/plain": [
              "<Figure size 432x288 with 1 Axes>"
            ],
            "image/png": "[encoded data removed]"
          },
          "metadata": {
            "needs_background": "light"
          }
        },
        {
          "output_type": "stream",
          "name": "stdout",
          "text": [
            "Correlation: 0.12215620581716709\n"
          ]
        }
      ]
    },
    {
      "cell_type": "markdown",
      "source": [
        "Very weak positive correlation, which is the opposite of what we'd expect. We'd expect throwing the correct pitch more often would lead to lwoer run values. There's a potential weighting issue here though. Each of those points represent a pitcher, but they may have different numbers of plate appearances going into the calculations of the means."
      ],
      "metadata": {
        "id": "7yQ8tMmTj3-z"
      }
    },
    {
      "cell_type": "code",
      "source": [
        "plt.figure(figsize = (8,5))\n",
        "plt.plot(pitcher_results.correct_pitch_rate.values, pitcher_results.average_actual_run_value.values, 'k.')\n",
        "plt.xlabel('Correct Pitch Type Rate')\n",
        "plt.ylabel('Average Run Value')\n",
        "plt.title('Choice of Pitch Type vs Run Value')\n",
        "plt.show()\n",
        "print('Correlation: ' + str(np.corrcoef(pitcher_results.correct_pitch_rate.values, pitcher_results.average_actual_run_value.values)[0,1]))"
      ],
      "metadata": {
        "colab": {
          "base_uri": "https://localhost:8080/",
          "height": 367
        },
        "id": "XDRcdXIaZyA3",
        "outputId": "4556e1a7-9c7c-4695-ae41-2fe0968b707f"
      },
      "execution_count": null,
      "outputs": [
        {
          "output_type": "display_data",
          "data": {
            "text/plain": [
              "<Figure size 576x360 with 1 Axes>"
            ],
            "image/png": "[encoded data removed]"
          },
          "metadata": {
            "needs_background": "light"
          }
        },
        {
          "output_type": "stream",
          "name": "stdout",
          "text": [
            "Correlation: -0.36768380847096427\n"
          ]
        }
      ]
    },
    {
      "cell_type": "markdown",
      "source": [
        "Pretty good correlation here. The more a pitcher threw the correct pitch type, the lower their actual run value. "
      ],
      "metadata": {
        "id": "y4ajG2dea1On"
      }
    },
    {
      "cell_type": "code",
      "source": [
        "pitcher_results2 = right_pitch.groupby('pitcher', as_index = False).agg(n = ('actual_run_value', 'count'),\n",
        "                                                                  distance = ('distance_from_recommended_aim_point', 'mean'),\n",
        "                                                                  average_actual_pitch_expected_run_value = ('pitch_utility', 'mean'),\n",
        "                                                                  average_actual_run_value = ('actual_run_value', 'mean'))"
      ],
      "metadata": {
        "id": "I5SFCF8rbf1U"
      },
      "execution_count": null,
      "outputs": []
    },
    {
      "cell_type": "code",
      "source": [
        "plt.plot(pitcher_results2.distance.values, pitcher_results2.average_actual_run_value.values, 'k.')\n",
        "plt.xlabel('Avg Distance From Recommended Aim Point')\n",
        "plt.ylabel('Average Run Value on Actual Pitch')\n",
        "plt.show()\n",
        "print('Correlation: ' + str(np.corrcoef(pitcher_results2.distance.values, pitcher_results2.average_actual_run_value.values)[0,1]))"
      ],
      "metadata": {
        "colab": {
          "base_uri": "https://localhost:8080/",
          "height": 296
        },
        "id": "etGJgTnLktaQ",
        "outputId": "97394079-cac5-4953-b517-777e087e5efa"
      },
      "execution_count": null,
      "outputs": [
        {
          "output_type": "display_data",
          "data": {
            "text/plain": [
              "<Figure size 432x288 with 1 Axes>"
            ],
            "image/png": "[encoded data removed]"
          },
          "metadata": {
            "needs_background": "light"
          }
        },
        {
          "output_type": "stream",
          "name": "stdout",
          "text": [
            "Correlation: -0.3686926721557728\n"
          ]
        }
      ]
    },
    {
      "cell_type": "markdown",
      "source": [
        "As distance increases on average, the actual average run value decreases. That's a little backwards"
      ],
      "metadata": {
        "id": "W4fGI-wtq_rC"
      }
    },
    {
      "cell_type": "code",
      "source": [
        "plt.plot(pitcher_results2.distance.values, pitcher_results2.average_actual_pitch_expected_run_value.values, 'k.')\n",
        "plt.xlabel('Avg Distance From Recommended Aim Point')\n",
        "plt.ylabel('Average Expected Utility on Actual Pitch')\n",
        "plt.show()\n",
        "print('Correlation: ' + str(np.corrcoef(pitcher_results2.distance.values, pitcher_results2.average_actual_pitch_expected_run_value.values)[0,1]))"
      ],
      "metadata": {
        "colab": {
          "base_uri": "https://localhost:8080/",
          "height": 296
        },
        "id": "_p7OXMvAkuMW",
        "outputId": "497e4058-575b-4355-80c3-030c3a51ad33"
      },
      "execution_count": null,
      "outputs": [
        {
          "output_type": "display_data",
          "data": {
            "text/plain": [
              "<Figure size 432x288 with 1 Axes>"
            ],
            "image/png": "[encoded data removed]"
          },
          "metadata": {
            "needs_background": "light"
          }
        },
        {
          "output_type": "stream",
          "name": "stdout",
          "text": [
            "Correlation: 0.557518998577313\n"
          ]
        }
      ]
    },
    {
      "cell_type": "markdown",
      "source": [
        "As distance increases, the expected utility of the actual pitch also increases, which is bad for pitchers, as we'd expect."
      ],
      "metadata": {
        "id": "Sw_vz5GsrFl0"
      }
    },
    {
      "cell_type": "markdown",
      "source": [
        "#### **Juan Soto and Jacob Degrom**"
      ],
      "metadata": {
        "id": "J0sgJIcUcavp"
      }
    },
    {
      "cell_type": "code",
      "source": [
        "#read in the skill estimates \n",
        "skill = pd.read_csv('/drive/My Drive/Colab Notebooks/sequencing_project/pitcher_skill_estimates.csv')\n",
        "\n",
        "skill.columns = ['pitcher', 'pitcher_name', 'avg', 'CH', 'CU', 'FC', 'FF', 'FS', 'KC', 'SI', 'SL']\n",
        "\n",
        "#get the usages for each of these pitchers \n",
        "non_z_scored = all_data.copy()\n",
        "non_z_scored[['release_speed', 'mx', 'mz', \n",
        "     'plate_x', 'plate_z',  'release_spin_rate']] = standardizer.inverse_transform(non_z_scored[['release_speed', 'mx', 'mz', \n",
        "     'plate_x', 'plate_z',  'release_spin_rate']].values)\n",
        "pitch_usages = pd.DataFrame()\n",
        "for pitcher in skill.pitcher.values:\n",
        "  pdf = non_z_scored.loc[all_data.pitcher == pitcher]\n",
        "  n = pdf.shape[0]\n",
        "  usages = pdf.groupby('pitch_type', as_index = False).agg(N = ('is_swing', 'count'),\n",
        "                                                           release_speed = ('release_speed', 'mean'),\n",
        "                                                           mx = ('mx', 'mean'),\n",
        "                                                           mz = ('mz', 'mean'),\n",
        "                                                           release_spin_rate = ('release_spin_rate', 'mean'))\n",
        "  usages.N = usages.N / n\n",
        "  usages['pitcher_id'] = pitcher\n",
        "  pitch_usages = pitch_usages.append(usages, ignore_index = True)\n",
        "\n",
        "pitch_usages = pitch_usages.loc[pitch_usages.N >= 0.05]\n",
        "\n",
        "#define a dictionary of execution score dictionaries for each pitcher \n",
        "execution_scores = dict()\n",
        "for pitcher in skill.pitcher.values:\n",
        "  pitches = pitch_usages.loc[pitch_usages.pitcher_id == pitcher]\n",
        "  pitcher_skill = skill.loc[skill.pitcher == pitcher]\n",
        "  pitch_dict = dict()\n",
        "  for p in pitches.pitch_type.values:\n",
        "    pitch_dict.update({p: pitcher_skill[[p]].values[0]})\n",
        "  \n",
        "  execution_scores.update({pitcher: pitch_dict})"
      ],
      "metadata": {
        "id": "j9doYBBe8YCw"
      },
      "execution_count": null,
      "outputs": []
    },
    {
      "cell_type": "code",
      "source": [
        "#get the at bat from pybaseball\n",
        "game = pybaseball.statcast(start_dt = '2022-10-08', end_dt = '2022-10-08')\n",
        "game = game.loc[game.inning == 1]\n",
        "game = game[needed_columns]\n",
        "game = organize_data(game)"
      ],
      "metadata": {
        "colab": {
          "base_uri": "https://localhost:8080/"
        },
        "id": "bAIGmW-ucj4K",
        "outputId": "8c5f3015-0093-4b08-b95b-aaa3e839fa6d"
      },
      "execution_count": null,
      "outputs": [
        {
          "output_type": "stream",
          "name": "stdout",
          "text": [
            "This is a large query, it may take a moment to complete\n"
          ]
        },
        {
          "output_type": "stream",
          "name": "stderr",
          "text": [
            "100%|██████████| 1/1 [00:00<00:00,  1.79it/s]\n"
          ]
        }
      ]
    },
    {
      "cell_type": "code",
      "source": [
        "pa = game.loc[(game.batter == 665742) & (game.pitcher == 594798)]\n",
        "pa['batter_index'] = 26\n",
        "\n",
        "#run the model on the pa\n",
        "pa = pa[::-1]\n",
        "pa['plate_x_ft'] = pa.plate_x \n",
        "pa['plate_z_ft'] = pa.plate_z \n",
        "pa[['release_speed', 'mx', 'mz', \n",
        "     'plate_x', 'plate_z', 'release_spin_rate']] = standardizer.transform(pa[['release_speed', 'mx', 'mz', \n",
        "     'plate_x', 'plate_z', 'release_spin_rate']].values)\n",
        "#loop through the pitches\n",
        "pred_outcomes = torch.empty((1,9)).to(device)\n",
        "x_data = torch.tensor(pa[features].values.astype(float), dtype = torch.float).to(device)\n",
        "y_data = torch.tensor(pa.outcome.values, dtype = torch.long).to(device)\n",
        "h0 = model.init_hidden().to(device)\n",
        "for p in range(pa.shape[0]):\n",
        "  yhat, h1 = model(x_data[p].unsqueeze(0), h0, y_data[p].unsqueeze(0))\n",
        "  pred_outcomes = torch.cat((pred_outcomes, yhat), dim = 0)\n",
        "  h0 = h1 \n",
        "  if p == pa.shape[0] - 2:\n",
        "    #save the hidden state after the second to last pitch \n",
        "    h = h0 \n",
        "\n",
        "#now softmax the predictions and append onto the bross pa \n",
        "ypreds = nn.functional.softmax(pred_outcomes[1:,:], dim = 1).detach().cpu().numpy()\n",
        "pa[['o0', 'o1', 'o2', 'o3', 'o4', 'o5', 'o6', 'o7', 'o8']] = ypreds \n",
        "\n",
        "#and calculate the utilities for each of those pitches \n",
        "pa = get_utilities(pa)\n",
        "\n",
        "pa[['player_name', 'batter', 'pitch_type', 'balls', 'strikes','plate_x', 'plate_z', 'plate_x_ft', 'plate_z_ft', 'outcome', 'o0', 'o1', 'o2', 'o3', 'o4', 'o5', 'o6', 'o7', 'o8', 'swing_utility', 'take_utility', 'pitch_utility', 'batter_optimal_decision_is_swing']]"
      ],
      "metadata": {
        "colab": {
          "base_uri": "https://localhost:8080/",
          "height": 357
        },
        "id": "MhKNVlWNcyd5",
        "outputId": "cee2c76a-6e47-4685-e424-3767d459ba22"
      },
      "execution_count": null,
      "outputs": [
        {
          "output_type": "execute_result",
          "data": {
            "text/plain": [
              "        player_name  batter pitch_type  balls  strikes   plate_x   plate_z  \\\n",
              "1246  deGrom, Jacob  665742         FF      0        0 -1.413476 -0.278155   \n",
              "1227  deGrom, Jacob  665742         FF      1        0  0.683923  0.499087   \n",
              "1181  deGrom, Jacob  665742         FF      1        1 -0.797291 -0.073618   \n",
              "1132  deGrom, Jacob  665742         SL      1        2  2.117738 -2.681469   \n",
              "1076  deGrom, Jacob  665742         FF      2        2 -1.057985  0.488860   \n",
              "\n",
              "      plate_x_ft  plate_z_ft  outcome        o0            o1        o2  \\\n",
              "1246       -1.15        2.01        0  0.874183  8.639832e-02  0.012539   \n",
              "1227        0.62        2.77        2  0.022283  4.735605e-01  0.106642   \n",
              "1181       -0.63        2.21        2  0.005055  3.230076e-01  0.227680   \n",
              "1132        1.83       -0.34        0  0.964043  2.646323e-12  0.035911   \n",
              "1076       -0.85        2.76        2  0.124491  4.791221e-02  0.275140   \n",
              "\n",
              "            o3        o4            o5            o6            o7  \\\n",
              "1246  0.017497  0.006928  2.009149e-03  3.455413e-04  1.499176e-05   \n",
              "1227  0.284687  0.078987  2.027349e-02  7.341691e-03  5.458377e-04   \n",
              "1181  0.312839  0.090848  2.623058e-02  7.959725e-03  6.946512e-04   \n",
              "1132  0.000043  0.000002  3.607744e-07  2.156716e-09  3.390002e-12   \n",
              "1076  0.373337  0.130319  3.433371e-02  8.563903e-03  7.123018e-04   \n",
              "\n",
              "                o8  swing_utility  take_utility  pitch_utility  \\\n",
              "1246  8.429145e-05      -0.048043      0.027074       0.027074   \n",
              "1227  5.679510e-03      -0.043321     -0.044922      -0.043321   \n",
              "1181  5.686061e-03      -0.048200     -0.065197      -0.048200   \n",
              "1132  1.880556e-11      -0.205746      0.046000       0.046000   \n",
              "1076  5.191207e-03      -0.082924      0.000732       0.000732   \n",
              "\n",
              "      batter_optimal_decision_is_swing  \n",
              "1246                                 0  \n",
              "1227                                 1  \n",
              "1181                                 1  \n",
              "1132                                 0  \n",
              "1076                                 0  "
            ],
            "text/html": [
              "\n",
              "  <div id=\"df-6fbdbce0-7bda-44be-a554-cbbd38c47674\">\n",
              "    <div class=\"colab-df-container\">\n",
              "      <div>\n",
              "<style scoped>\n",
              "    .dataframe tbody tr th:only-of-type {\n",
              "        vertical-align: middle;\n",
              "    }\n",
              "\n",
              "    .dataframe tbody tr th {\n",
              "        vertical-align: top;\n",
              "    }\n",
              "\n",
              "    .dataframe thead th {\n",
              "        text-align: right;\n",
              "    }\n",
              "</style>\n",
              "<table border=\"1\" class=\"dataframe\">\n",
              "  <thead>\n",
              "    <tr style=\"text-align: right;\">\n",
              "      <th></th>\n",
              "      <th>player_name</th>\n",
              "      <th>batter</th>\n",
              "      <th>pitch_type</th>\n",
              "      <th>balls</th>\n",
              "      <th>strikes</th>\n",
              "      <th>plate_x</th>\n",
              "      <th>plate_z</th>\n",
              "      <th>plate_x_ft</th>\n",
              "      <th>plate_z_ft</th>\n",
              "      <th>outcome</th>\n",
              "      <th>o0</th>\n",
              "      <th>o1</th>\n",
              "      <th>o2</th>\n",
              "      <th>o3</th>\n",
              "      <th>o4</th>\n",
              "      <th>o5</th>\n",
              "      <th>o6</th>\n",
              "      <th>o7</th>\n",
              "      <th>o8</th>\n",
              "      <th>swing_utility</th>\n",
              "      <th>take_utility</th>\n",
              "      <th>pitch_utility</th>\n",
              "      <th>batter_optimal_decision_is_swing</th>\n",
              "    </tr>\n",
              "  </thead>\n",
              "  <tbody>\n",
              "    <tr>\n",
              "      <th>1246</th>\n",
              "      <td>deGrom, Jacob</td>\n",
              "      <td>665742</td>\n",
              "      <td>FF</td>\n",
              "      <td>0</td>\n",
              "      <td>0</td>\n",
              "      <td>-1.413476</td>\n",
              "      <td>-0.278155</td>\n",
              "      <td>-1.15</td>\n",
              "      <td>2.01</td>\n",
              "      <td>0</td>\n",
              "      <td>0.874183</td>\n",
              "      <td>8.639832e-02</td>\n",
              "      <td>0.012539</td>\n",
              "      <td>0.017497</td>\n",
              "      <td>0.006928</td>\n",
              "      <td>2.009149e-03</td>\n",
              "      <td>3.455413e-04</td>\n",
              "      <td>1.499176e-05</td>\n",
              "      <td>8.429145e-05</td>\n",
              "      <td>-0.048043</td>\n",
              "      <td>0.027074</td>\n",
              "      <td>0.027074</td>\n",
              "      <td>0</td>\n",
              "    </tr>\n",
              "    <tr>\n",
              "      <th>1227</th>\n",
              "      <td>deGrom, Jacob</td>\n",
              "      <td>665742</td>\n",
              "      <td>FF</td>\n",
              "      <td>1</td>\n",
              "      <td>0</td>\n",
              "      <td>0.683923</td>\n",
              "      <td>0.499087</td>\n",
              "      <td>0.62</td>\n",
              "      <td>2.77</td>\n",
              "      <td>2</td>\n",
              "      <td>0.022283</td>\n",
              "      <td>4.735605e-01</td>\n",
              "      <td>0.106642</td>\n",
              "      <td>0.284687</td>\n",
              "      <td>0.078987</td>\n",
              "      <td>2.027349e-02</td>\n",
              "      <td>7.341691e-03</td>\n",
              "      <td>5.458377e-04</td>\n",
              "      <td>5.679510e-03</td>\n",
              "      <td>-0.043321</td>\n",
              "      <td>-0.044922</td>\n",
              "      <td>-0.043321</td>\n",
              "      <td>1</td>\n",
              "    </tr>\n",
              "    <tr>\n",
              "      <th>1181</th>\n",
              "      <td>deGrom, Jacob</td>\n",
              "      <td>665742</td>\n",
              "      <td>FF</td>\n",
              "      <td>1</td>\n",
              "      <td>1</td>\n",
              "      <td>-0.797291</td>\n",
              "      <td>-0.073618</td>\n",
              "      <td>-0.63</td>\n",
              "      <td>2.21</td>\n",
              "      <td>2</td>\n",
              "      <td>0.005055</td>\n",
              "      <td>3.230076e-01</td>\n",
              "      <td>0.227680</td>\n",
              "      <td>0.312839</td>\n",
              "      <td>0.090848</td>\n",
              "      <td>2.623058e-02</td>\n",
              "      <td>7.959725e-03</td>\n",
              "      <td>6.946512e-04</td>\n",
              "      <td>5.686061e-03</td>\n",
              "      <td>-0.048200</td>\n",
              "      <td>-0.065197</td>\n",
              "      <td>-0.048200</td>\n",
              "      <td>1</td>\n",
              "    </tr>\n",
              "    <tr>\n",
              "      <th>1132</th>\n",
              "      <td>deGrom, Jacob</td>\n",
              "      <td>665742</td>\n",
              "      <td>SL</td>\n",
              "      <td>1</td>\n",
              "      <td>2</td>\n",
              "      <td>2.117738</td>\n",
              "      <td>-2.681469</td>\n",
              "      <td>1.83</td>\n",
              "      <td>-0.34</td>\n",
              "      <td>0</td>\n",
              "      <td>0.964043</td>\n",
              "      <td>2.646323e-12</td>\n",
              "      <td>0.035911</td>\n",
              "      <td>0.000043</td>\n",
              "      <td>0.000002</td>\n",
              "      <td>3.607744e-07</td>\n",
              "      <td>2.156716e-09</td>\n",
              "      <td>3.390002e-12</td>\n",
              "      <td>1.880556e-11</td>\n",
              "      <td>-0.205746</td>\n",
              "      <td>0.046000</td>\n",
              "      <td>0.046000</td>\n",
              "      <td>0</td>\n",
              "    </tr>\n",
              "    <tr>\n",
              "      <th>1076</th>\n",
              "      <td>deGrom, Jacob</td>\n",
              "      <td>665742</td>\n",
              "      <td>FF</td>\n",
              "      <td>2</td>\n",
              "      <td>2</td>\n",
              "      <td>-1.057985</td>\n",
              "      <td>0.488860</td>\n",
              "      <td>-0.85</td>\n",
              "      <td>2.76</td>\n",
              "      <td>2</td>\n",
              "      <td>0.124491</td>\n",
              "      <td>4.791221e-02</td>\n",
              "      <td>0.275140</td>\n",
              "      <td>0.373337</td>\n",
              "      <td>0.130319</td>\n",
              "      <td>3.433371e-02</td>\n",
              "      <td>8.563903e-03</td>\n",
              "      <td>7.123018e-04</td>\n",
              "      <td>5.191207e-03</td>\n",
              "      <td>-0.082924</td>\n",
              "      <td>0.000732</td>\n",
              "      <td>0.000732</td>\n",
              "      <td>0</td>\n",
              "    </tr>\n",
              "  </tbody>\n",
              "</table>\n",
              "</div>\n",
              "      <button class=\"colab-df-convert\" onclick=\"convertToInteractive('df-6fbdbce0-7bda-44be-a554-cbbd38c47674')\"\n",
              "              title=\"Convert this dataframe to an interactive table.\"\n",
              "              style=\"display:none;\">\n",
              "        \n",
              "  <svg xmlns=\"http://www.w3.org/2000/svg\" height=\"24px\"viewBox=\"0 0 24 24\"\n",
              "       width=\"24px\">\n",
              "    <path d=\"M0 0h24v24H0V0z\" fill=\"none\"/>\n",
              "    <path d=\"M18.56 5.44l.94 2.06.94-2.06 2.06-.94-2.06-.94-.94-2.06-.94 2.06-2.06.94zm-11 1L8.5 8.5l.94-2.06 2.06-.94-2.06-.94L8.5 2.5l-.94 2.06-2.06.94zm10 10l.94 2.06.94-2.06 2.06-.94-2.06-.94-.94-2.06-.94 2.06-2.06.94z\"/><path d=\"M17.41 7.96l-1.37-1.37c-.4-.4-.92-.59-1.43-.59-.52 0-1.04.2-1.43.59L10.3 9.45l-7.72 7.72c-.78.78-.78 2.05 0 2.83L4 21.41c.39.39.9.59 1.41.59.51 0 1.02-.2 1.41-.59l7.78-7.78 2.81-2.81c.8-.78.8-2.07 0-2.86zM5.41 20L4 18.59l7.72-7.72 1.47 1.35L5.41 20z\"/>\n",
              "  </svg>\n",
              "      </button>\n",
              "      \n",
              "  <style>\n",
              "    .colab-df-container {\n",
              "      display:flex;\n",
              "      flex-wrap:wrap;\n",
              "      gap: 12px;\n",
              "    }\n",
              "\n",
              "    .colab-df-convert {\n",
              "      background-color: #E8F0FE;\n",
              "      border: none;\n",
              "      border-radius: 50%;\n",
              "      cursor: pointer;\n",
              "      display: none;\n",
              "      fill: #1967D2;\n",
              "      height: 32px;\n",
              "      padding: 0 0 0 0;\n",
              "      width: 32px;\n",
              "    }\n",
              "\n",
              "    .colab-df-convert:hover {\n",
              "      background-color: #E2EBFA;\n",
              "      box-shadow: 0px 1px 2px rgba(60, 64, 67, 0.3), 0px 1px 3px 1px rgba(60, 64, 67, 0.15);\n",
              "      fill: #174EA6;\n",
              "    }\n",
              "\n",
              "    [theme=dark] .colab-df-convert {\n",
              "      background-color: #3B4455;\n",
              "      fill: #D2E3FC;\n",
              "    }\n",
              "\n",
              "    [theme=dark] .colab-df-convert:hover {\n",
              "      background-color: #434B5C;\n",
              "      box-shadow: 0px 1px 3px 1px rgba(0, 0, 0, 0.15);\n",
              "      filter: drop-shadow(0px 1px 2px rgba(0, 0, 0, 0.3));\n",
              "      fill: #FFFFFF;\n",
              "    }\n",
              "  </style>\n",
              "\n",
              "      <script>\n",
              "        const buttonEl =\n",
              "          document.querySelector('#df-6fbdbce0-7bda-44be-a554-cbbd38c47674 button.colab-df-convert');\n",
              "        buttonEl.style.display =\n",
              "          google.colab.kernel.accessAllowed ? 'block' : 'none';\n",
              "\n",
              "        async function convertToInteractive(key) {\n",
              "          const element = document.querySelector('#df-6fbdbce0-7bda-44be-a554-cbbd38c47674');\n",
              "          const dataTable =\n",
              "            await google.colab.kernel.invokeFunction('convertToInteractive',\n",
              "                                                     [key], {});\n",
              "          if (!dataTable) return;\n",
              "\n",
              "          const docLinkHtml = 'Like what you see? Visit the ' +\n",
              "            '<a target=\"_blank\" href=https://colab.research.google.com/notebooks/data_table.ipynb>data table notebook</a>'\n",
              "            + ' to learn more about interactive tables.';\n",
              "          element.innerHTML = '';\n",
              "          dataTable['output_type'] = 'display_data';\n",
              "          await google.colab.output.renderOutput(dataTable, element);\n",
              "          const docLink = document.createElement('div');\n",
              "          docLink.innerHTML = docLinkHtml;\n",
              "          element.appendChild(docLink);\n",
              "        }\n",
              "      </script>\n",
              "    </div>\n",
              "  </div>\n",
              "  "
            ]
          },
          "metadata": {},
          "execution_count": 49
        }
      ]
    },
    {
      "cell_type": "markdown",
      "source": [
        "The optimal batter decision on that pitch was to take it. That would've given an expected run value of 0.0007. Juan Soto decided to swing, which gave a much worse expected run value of -0.083. "
      ],
      "metadata": {
        "id": "uWdhNePOdfmK"
      }
    },
    {
      "cell_type": "code",
      "source": [
        "igrid = initial_grid(26, 594798, h, bhand = 0., phand = 1., balls = 2, strikes = 2)\n",
        "\n",
        "#get the execution score adjusted grid \n",
        "exe_grid = execution_score_adjusted_grid(igrid, execution_scores[594798])"
      ],
      "metadata": {
        "id": "_cROW26C6HsF"
      },
      "execution_count": null,
      "outputs": []
    },
    {
      "cell_type": "code",
      "source": [
        "final_data = igrid.merge(exe_grid, how = 'inner', on = ['pitch_type', 'location_index'])"
      ],
      "metadata": {
        "id": "SOd3m2Fk7KkG"
      },
      "execution_count": null,
      "outputs": []
    },
    {
      "cell_type": "code",
      "source": [
        "expected_min = final_data.expected_pitcher_utility.min()\n",
        "pitcher_optimal_decision = final_data.loc[final_data.expected_pitcher_utility == expected_min]"
      ],
      "metadata": {
        "id": "JwVF7zDc7aAO"
      },
      "execution_count": null,
      "outputs": []
    },
    {
      "cell_type": "code",
      "source": [
        "pitcher_optimal_decision"
      ],
      "metadata": {
        "colab": {
          "base_uri": "https://localhost:8080/",
          "height": 145
        },
        "id": "-hOLHJqt7eiZ",
        "outputId": "41f571a0-eb76-4976-f605-ec13b446c233"
      },
      "execution_count": null,
      "outputs": [
        {
          "output_type": "execute_result",
          "data": {
            "text/plain": [
              "     release_speed   plate_x   plate_z        mx        mz  bat_handR  \\\n",
              "275       0.432261 -0.125863  0.158143 -1.169485 -0.355596        0.0   \n",
              "\n",
              "     pit_handR  balls  strikes  release_spin_rate  location_index  plate_x_ft  \\\n",
              "275        1.0    2.0      2.0          -1.858151            2555    -0.06338   \n",
              "\n",
              "     plate_z_ft  batter_index  pitcher_id pitch_type        o0        o1  \\\n",
              "275     2.43662            26      594798         CH  0.000503  0.095364   \n",
              "\n",
              "           o2        o3        o4        o5      o6        o7        o8  \\\n",
              "275  0.213542  0.308873  0.269933  0.072263  0.0215  0.001746  0.016276   \n",
              "\n",
              "     swing_utility  take_utility  actual_run_value  pitch_utility  \\\n",
              "275      -0.044644     -0.250163               NaN      -0.044644   \n",
              "\n",
              "     batter_optimal_decision_is_swing  expected_pitcher_utility  \n",
              "275                                 1                 -0.018665  "
            ],
            "text/html": [
              "\n",
              "  <div id=\"df-237638a9-41cd-497f-b1e9-f680fd25279d\">\n",
              "    <div class=\"colab-df-container\">\n",
              "      <div>\n",
              "<style scoped>\n",
              "    .dataframe tbody tr th:only-of-type {\n",
              "        vertical-align: middle;\n",
              "    }\n",
              "\n",
              "    .dataframe tbody tr th {\n",
              "        vertical-align: top;\n",
              "    }\n",
              "\n",
              "    .dataframe thead th {\n",
              "        text-align: right;\n",
              "    }\n",
              "</style>\n",
              "<table border=\"1\" class=\"dataframe\">\n",
              "  <thead>\n",
              "    <tr style=\"text-align: right;\">\n",
              "      <th></th>\n",
              "      <th>release_speed</th>\n",
              "      <th>plate_x</th>\n",
              "      <th>plate_z</th>\n",
              "      <th>mx</th>\n",
              "      <th>mz</th>\n",
              "      <th>bat_handR</th>\n",
              "      <th>pit_handR</th>\n",
              "      <th>balls</th>\n",
              "      <th>strikes</th>\n",
              "      <th>release_spin_rate</th>\n",
              "      <th>location_index</th>\n",
              "      <th>plate_x_ft</th>\n",
              "      <th>plate_z_ft</th>\n",
              "      <th>batter_index</th>\n",
              "      <th>pitcher_id</th>\n",
              "      <th>pitch_type</th>\n",
              "      <th>o0</th>\n",
              "      <th>o1</th>\n",
              "      <th>o2</th>\n",
              "      <th>o3</th>\n",
              "      <th>o4</th>\n",
              "      <th>o5</th>\n",
              "      <th>o6</th>\n",
              "      <th>o7</th>\n",
              "      <th>o8</th>\n",
              "      <th>swing_utility</th>\n",
              "      <th>take_utility</th>\n",
              "      <th>actual_run_value</th>\n",
              "      <th>pitch_utility</th>\n",
              "      <th>batter_optimal_decision_is_swing</th>\n",
              "      <th>expected_pitcher_utility</th>\n",
              "    </tr>\n",
              "  </thead>\n",
              "  <tbody>\n",
              "    <tr>\n",
              "      <th>275</th>\n",
              "      <td>0.432261</td>\n",
              "      <td>-0.125863</td>\n",
              "      <td>0.158143</td>\n",
              "      <td>-1.169485</td>\n",
              "      <td>-0.355596</td>\n",
              "      <td>0.0</td>\n",
              "      <td>1.0</td>\n",
              "      <td>2.0</td>\n",
              "      <td>2.0</td>\n",
              "      <td>-1.858151</td>\n",
              "      <td>2555</td>\n",
              "      <td>-0.06338</td>\n",
              "      <td>2.43662</td>\n",
              "      <td>26</td>\n",
              "      <td>594798</td>\n",
              "      <td>CH</td>\n",
              "      <td>0.000503</td>\n",
              "      <td>0.095364</td>\n",
              "      <td>0.213542</td>\n",
              "      <td>0.308873</td>\n",
              "      <td>0.269933</td>\n",
              "      <td>0.072263</td>\n",
              "      <td>0.0215</td>\n",
              "      <td>0.001746</td>\n",
              "      <td>0.016276</td>\n",
              "      <td>-0.044644</td>\n",
              "      <td>-0.250163</td>\n",
              "      <td>NaN</td>\n",
              "      <td>-0.044644</td>\n",
              "      <td>1</td>\n",
              "      <td>-0.018665</td>\n",
              "    </tr>\n",
              "  </tbody>\n",
              "</table>\n",
              "</div>\n",
              "      <button class=\"colab-df-convert\" onclick=\"convertToInteractive('df-237638a9-41cd-497f-b1e9-f680fd25279d')\"\n",
              "              title=\"Convert this dataframe to an interactive table.\"\n",
              "              style=\"display:none;\">\n",
              "        \n",
              "  <svg xmlns=\"http://www.w3.org/2000/svg\" height=\"24px\"viewBox=\"0 0 24 24\"\n",
              "       width=\"24px\">\n",
              "    <path d=\"M0 0h24v24H0V0z\" fill=\"none\"/>\n",
              "    <path d=\"M18.56 5.44l.94 2.06.94-2.06 2.06-.94-2.06-.94-.94-2.06-.94 2.06-2.06.94zm-11 1L8.5 8.5l.94-2.06 2.06-.94-2.06-.94L8.5 2.5l-.94 2.06-2.06.94zm10 10l.94 2.06.94-2.06 2.06-.94-2.06-.94-.94-2.06-.94 2.06-2.06.94z\"/><path d=\"M17.41 7.96l-1.37-1.37c-.4-.4-.92-.59-1.43-.59-.52 0-1.04.2-1.43.59L10.3 9.45l-7.72 7.72c-.78.78-.78 2.05 0 2.83L4 21.41c.39.39.9.59 1.41.59.51 0 1.02-.2 1.41-.59l7.78-7.78 2.81-2.81c.8-.78.8-2.07 0-2.86zM5.41 20L4 18.59l7.72-7.72 1.47 1.35L5.41 20z\"/>\n",
              "  </svg>\n",
              "      </button>\n",
              "      \n",
              "  <style>\n",
              "    .colab-df-container {\n",
              "      display:flex;\n",
              "      flex-wrap:wrap;\n",
              "      gap: 12px;\n",
              "    }\n",
              "\n",
              "    .colab-df-convert {\n",
              "      background-color: #E8F0FE;\n",
              "      border: none;\n",
              "      border-radius: 50%;\n",
              "      cursor: pointer;\n",
              "      display: none;\n",
              "      fill: #1967D2;\n",
              "      height: 32px;\n",
              "      padding: 0 0 0 0;\n",
              "      width: 32px;\n",
              "    }\n",
              "\n",
              "    .colab-df-convert:hover {\n",
              "      background-color: #E2EBFA;\n",
              "      box-shadow: 0px 1px 2px rgba(60, 64, 67, 0.3), 0px 1px 3px 1px rgba(60, 64, 67, 0.15);\n",
              "      fill: #174EA6;\n",
              "    }\n",
              "\n",
              "    [theme=dark] .colab-df-convert {\n",
              "      background-color: #3B4455;\n",
              "      fill: #D2E3FC;\n",
              "    }\n",
              "\n",
              "    [theme=dark] .colab-df-convert:hover {\n",
              "      background-color: #434B5C;\n",
              "      box-shadow: 0px 1px 3px 1px rgba(0, 0, 0, 0.15);\n",
              "      filter: drop-shadow(0px 1px 2px rgba(0, 0, 0, 0.3));\n",
              "      fill: #FFFFFF;\n",
              "    }\n",
              "  </style>\n",
              "\n",
              "      <script>\n",
              "        const buttonEl =\n",
              "          document.querySelector('#df-237638a9-41cd-497f-b1e9-f680fd25279d button.colab-df-convert');\n",
              "        buttonEl.style.display =\n",
              "          google.colab.kernel.accessAllowed ? 'block' : 'none';\n",
              "\n",
              "        async function convertToInteractive(key) {\n",
              "          const element = document.querySelector('#df-237638a9-41cd-497f-b1e9-f680fd25279d');\n",
              "          const dataTable =\n",
              "            await google.colab.kernel.invokeFunction('convertToInteractive',\n",
              "                                                     [key], {});\n",
              "          if (!dataTable) return;\n",
              "\n",
              "          const docLinkHtml = 'Like what you see? Visit the ' +\n",
              "            '<a target=\"_blank\" href=https://colab.research.google.com/notebooks/data_table.ipynb>data table notebook</a>'\n",
              "            + ' to learn more about interactive tables.';\n",
              "          element.innerHTML = '';\n",
              "          dataTable['output_type'] = 'display_data';\n",
              "          await google.colab.output.renderOutput(dataTable, element);\n",
              "          const docLink = document.createElement('div');\n",
              "          docLink.innerHTML = docLinkHtml;\n",
              "          element.appendChild(docLink);\n",
              "        }\n",
              "      </script>\n",
              "    </div>\n",
              "  </div>\n",
              "  "
            ]
          },
          "metadata": {},
          "execution_count": 53
        }
      ]
    },
    {
      "cell_type": "code",
      "source": [
        "#plot the actual pitch, the absolute best pitch, and the optimal equilibrium pitch \n",
        "plt.figure(figsize = (7,6))\n",
        "plt.plot(-1*pa.plate_x_ft.values[-1], pa.plate_z_ft.values[-1], 'x', label = 'Actual Pitch: FF')\n",
        "plt.plot(-1*pitcher_optimal_decision.plate_x_ft.values[0], pitcher_optimal_decision.plate_z_ft.values[0], 'x', label = 'Optimal Pitch: CH')\n",
        "plt.plot([-.71,.71,.71,-.71, -.71], [3.412, 3.412, 1.546,1.546, 3.412], 'k-')\n",
        "plt.legend()\n",
        "plt.xlabel(\"Horizontal Location (Pitcher's Perspective)\")\n",
        "plt.ylabel('Vertical Location')\n",
        "plt.xlim(-1.5,1.5)\n",
        "plt.ylim(1,4)\n",
        "plt.title(\"deGrom vs Soto: Stackelberg Equilibrium\")\n",
        "plt.show()"
      ],
      "metadata": {
        "id": "V7DFxiTI7hUM"
      },
      "execution_count": null,
      "outputs": []
    },
    {
      "cell_type": "code",
      "source": [],
      "metadata": {
        "id": "k5rLXDX87jTO"
      },
      "execution_count": null,
      "outputs": []
    }
  ]
}