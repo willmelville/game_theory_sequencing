{
  "nbformat": 4,
  "nbformat_minor": 0,
  "metadata": {
    "colab": {
      "provenance": [],
      "authorship_tag": "ABX9TyNh8G28GioyFcBAJF6K5RsJ"
    },
    "kernelspec": {
      "name": "python3",
      "display_name": "Python 3"
    },
    "language_info": {
      "name": "python"
    },
    "accelerator": "GPU",
    "gpuClass": "standard"
  },
  "cells": [
    {
      "cell_type": "code",
      "execution_count": null,
      "metadata": {
        "colab": {
          "base_uri": "https://localhost:8080/"
        },
        "id": "4Ls2w3JSQ7Hg",
        "outputId": "2a813841-8b56-4558-ded7-d72aa8f3e018"
      },
      "outputs": [
        {
          "output_type": "stream",
          "name": "stdout",
          "text": [
            "Looking in indexes: https://pypi.org/simple, https://us-python.pkg.dev/colab-wheels/public/simple/\n",
            "Collecting pybaseball\n",
            "  Downloading pybaseball-2.2.1-py3-none-any.whl (415 kB)\n",
            "\u001b[K     |████████████████████████████████| 415 kB 26.6 MB/s \n",
            "\u001b[?25hRequirement already satisfied: numpy>=1.13.0 in /usr/local/lib/python3.7/dist-packages (from pybaseball) (1.21.6)\n",
            "Requirement already satisfied: lxml>=4.2.1 in /usr/local/lib/python3.7/dist-packages (from pybaseball) (4.9.1)\n",
            "Requirement already satisfied: attrs>=20.3.0 in /usr/local/lib/python3.7/dist-packages (from pybaseball) (22.1.0)\n",
            "Requirement already satisfied: matplotlib>=2.0.0 in /usr/local/lib/python3.7/dist-packages (from pybaseball) (3.2.2)\n",
            "Requirement already satisfied: requests>=2.18.1 in /usr/local/lib/python3.7/dist-packages (from pybaseball) (2.23.0)\n",
            "Requirement already satisfied: pyarrow>=1.0.1 in /usr/local/lib/python3.7/dist-packages (from pybaseball) (9.0.0)\n",
            "Requirement already satisfied: scipy>=1.4.0 in /usr/local/lib/python3.7/dist-packages (from pybaseball) (1.7.3)\n",
            "Requirement already satisfied: tqdm>=4.50.0 in /usr/local/lib/python3.7/dist-packages (from pybaseball) (4.64.1)\n",
            "Requirement already satisfied: beautifulsoup4>=4.4.0 in /usr/local/lib/python3.7/dist-packages (from pybaseball) (4.6.3)\n",
            "Requirement already satisfied: pandas>=1.0.3 in /usr/local/lib/python3.7/dist-packages (from pybaseball) (1.3.5)\n",
            "Collecting pygithub>=1.51\n",
            "  Downloading PyGithub-1.57-py3-none-any.whl (297 kB)\n",
            "\u001b[K     |████████████████████████████████| 297 kB 64.5 MB/s \n",
            "\u001b[?25hRequirement already satisfied: pyparsing!=2.0.4,!=2.1.2,!=2.1.6,>=2.0.1 in /usr/local/lib/python3.7/dist-packages (from matplotlib>=2.0.0->pybaseball) (3.0.9)\n",
            "Requirement already satisfied: kiwisolver>=1.0.1 in /usr/local/lib/python3.7/dist-packages (from matplotlib>=2.0.0->pybaseball) (1.4.4)\n",
            "Requirement already satisfied: cycler>=0.10 in /usr/local/lib/python3.7/dist-packages (from matplotlib>=2.0.0->pybaseball) (0.11.0)\n",
            "Requirement already satisfied: python-dateutil>=2.1 in /usr/local/lib/python3.7/dist-packages (from matplotlib>=2.0.0->pybaseball) (2.8.2)\n",
            "Requirement already satisfied: typing-extensions in /usr/local/lib/python3.7/dist-packages (from kiwisolver>=1.0.1->matplotlib>=2.0.0->pybaseball) (4.1.1)\n",
            "Requirement already satisfied: pytz>=2017.3 in /usr/local/lib/python3.7/dist-packages (from pandas>=1.0.3->pybaseball) (2022.6)\n",
            "Collecting pyjwt>=2.4.0\n",
            "  Downloading PyJWT-2.6.0-py3-none-any.whl (20 kB)\n",
            "Collecting deprecated\n",
            "  Downloading Deprecated-1.2.13-py2.py3-none-any.whl (9.6 kB)\n",
            "Collecting pynacl>=1.4.0\n",
            "  Downloading PyNaCl-1.5.0-cp36-abi3-manylinux_2_17_x86_64.manylinux2014_x86_64.manylinux_2_24_x86_64.whl (856 kB)\n",
            "\u001b[K     |████████████████████████████████| 856 kB 58.3 MB/s \n",
            "\u001b[?25hRequirement already satisfied: cffi>=1.4.1 in /usr/local/lib/python3.7/dist-packages (from pynacl>=1.4.0->pygithub>=1.51->pybaseball) (1.15.1)\n",
            "Requirement already satisfied: pycparser in /usr/local/lib/python3.7/dist-packages (from cffi>=1.4.1->pynacl>=1.4.0->pygithub>=1.51->pybaseball) (2.21)\n",
            "Requirement already satisfied: six>=1.5 in /usr/local/lib/python3.7/dist-packages (from python-dateutil>=2.1->matplotlib>=2.0.0->pybaseball) (1.15.0)\n",
            "Requirement already satisfied: certifi>=2017.4.17 in /usr/local/lib/python3.7/dist-packages (from requests>=2.18.1->pybaseball) (2022.9.24)\n",
            "Requirement already satisfied: chardet<4,>=3.0.2 in /usr/local/lib/python3.7/dist-packages (from requests>=2.18.1->pybaseball) (3.0.4)\n",
            "Requirement already satisfied: urllib3!=1.25.0,!=1.25.1,<1.26,>=1.21.1 in /usr/local/lib/python3.7/dist-packages (from requests>=2.18.1->pybaseball) (1.24.3)\n",
            "Requirement already satisfied: idna<3,>=2.5 in /usr/local/lib/python3.7/dist-packages (from requests>=2.18.1->pybaseball) (2.10)\n",
            "Requirement already satisfied: wrapt<2,>=1.10 in /usr/local/lib/python3.7/dist-packages (from deprecated->pygithub>=1.51->pybaseball) (1.14.1)\n",
            "Installing collected packages: pynacl, pyjwt, deprecated, pygithub, pybaseball\n",
            "Successfully installed deprecated-1.2.13 pybaseball-2.2.1 pygithub-1.57 pyjwt-2.6.0 pynacl-1.5.0\n"
          ]
        }
      ],
      "source": [
        "!pip install pybaseball"
      ]
    },
    {
      "cell_type": "code",
      "source": [
        "import pandas as pd\n",
        "import numpy as np\n",
        "import matplotlib.pyplot as plt\n",
        "import seaborn as sns\n",
        "pd.set_option('display.max_columns', None)\n",
        "import torch\n",
        "import torch.nn as nn \n",
        "from torchvision import datasets, transforms\n",
        "from torch.utils.data import Dataset, DataLoader\n",
        "import tensorflow as tf\n",
        "from sklearn.preprocessing import StandardScaler, MinMaxScaler\n",
        "import pybaseball\n",
        "from torch.nn.functional import log_softmax, pad\n",
        "import copy\n",
        "import gc\n",
        "import torch.optim as optim\n",
        "from tqdm import tqdm\n",
        "from IPython.core.ultratb import AutoFormattedTB\n",
        "__ITB__ = AutoFormattedTB(mode = 'Verbose',color_scheme='LightBg', tb_offset = 1)"
      ],
      "metadata": {
        "id": "-f7L23DRRCKG"
      },
      "execution_count": null,
      "outputs": []
    },
    {
      "cell_type": "code",
      "source": [
        "device = torch.device(\"cuda:0\" if torch.cuda.is_available() else \"cpu\")"
      ],
      "metadata": {
        "id": "zA4LUOZrRKF5"
      },
      "execution_count": null,
      "outputs": []
    },
    {
      "cell_type": "markdown",
      "source": [
        "**Data**"
      ],
      "metadata": {
        "id": "mYTebNxXRNeS"
      }
    },
    {
      "cell_type": "code",
      "source": [
        "#function to clean and organize data from statcast \n",
        "def organize_data(df):\n",
        "\n",
        "    df = df.loc[df.balls < 4]\n",
        "    df = df.loc[df.strikes < 3]\n",
        "\n",
        "    df.dropna(subset = ['release_extension', \n",
        "                      'release_speed','release_spin_rate', 'pfx_x', 'pfx_z', 'plate_x', 'plate_z'], axis = 0,\n",
        "            inplace = True)\n",
        "\n",
        "    #convert movement to inches instead of feet \n",
        "    df[['mx', 'mz']] = df[['pfx_x', 'pfx_z']].values * 12\n",
        "\n",
        "    #one hot encode handedness\n",
        "    pit_hand = pd.get_dummies(df['p_throws'], drop_first = False)\n",
        "    bat_hand = pd.get_dummies(df['stand'], drop_first = False)\n",
        "    df['pit_handR'] = pit_hand['R']\n",
        "    df['bat_handR'] = bat_hand['R']\n",
        "    df = df.drop(['p_throws', 'stand', 'pfx_x', 'pfx_z'], axis = 1)\n",
        "    \n",
        "    #remove bunts \n",
        "    df = df.loc[df.description.isin(['foul_bunt', 'bunt_foul_tip', 'missed_bunt']) == False]\n",
        "    df = df.loc[df.events != 'sac_bunt']\n",
        "\n",
        "    #define the pitch outcome \n",
        "    df['outcome'] = -1\n",
        "    df.loc[df.type == 'B', 'outcome'] = 0 #called ball \n",
        "    df.loc[df.description == 'called_strike', 'outcome'] = 1 #called strike \n",
        "    df.loc[df.description.isin(['swinging_strike', 'swinging_strike_blocked']), 'outcome'] = 2 #swm \n",
        "    df.loc[df.description.isin(['foul', 'foul_tip']), 'outcome'] = 3 #foul ball \n",
        "\n",
        "    #the other outcomes are all batted balls, which should either be outs or singles, doubles, triples, or home runs \n",
        "    df.loc[(df.type == 'X') & (df.events.isin(['field_out', 'force_out', 'field_error', 'grounded_into_double_play', 'sac_fly', 'fielders_choice', \n",
        "                                               'fielders_choice_out', 'double_play', 'other_out', 'triple_play', \n",
        "                                               'sac_fly_double_play'])), 'outcome'] = 4 # in play out \n",
        "    df.loc[(df.type == 'X') & (df.events == 'single'), 'outcome'] = 5 #single \n",
        "    df.loc[(df.type == 'X') & (df.events == 'double'), 'outcome'] = 6 # double \n",
        "    df.loc[(df.type == 'X') & (df.events == 'triple'), 'outcome'] = 7 #triple \n",
        "    df.loc[(df.type == 'X') & (df.events == 'home_run'), 'outcome'] = 8 #hr \n",
        "\n",
        "    #if outcome is still -1, drop it \n",
        "    df = df.loc[df.outcome != -1]\n",
        "\n",
        "    #define an is_swing column \n",
        "    df['is_swing'] = -1 \n",
        "    df.loc[df.description.isin(['hit_into_play', 'foul', 'swinging_strike', 'swinging_strike_blocked', 'foul_tip']), 'is_swing'] = 1\n",
        "    df.loc[df.description.isin(['called_strike', 'ball', 'blocked_ball', 'hit_by_pitch', 'pitchout']), 'is_swing'] = 0\n",
        "\n",
        "    #define an is_miss column \n",
        "    df['is_miss'] = -1 \n",
        "    df.loc[df.is_swing == 0 , 'is_miss'] = 0\n",
        "    df.loc[df.description.isin(['swinging_strike', 'swinging_strike_blocked']), 'is_miss'] = 1 \n",
        "    df.loc[df.description.isin(['hit_into_play', 'foul', 'foul_tip']), 'is_miss'] = 0\n",
        "    return df"
      ],
      "metadata": {
        "id": "eH6DBd_qRLcn"
      },
      "execution_count": null,
      "outputs": []
    },
    {
      "cell_type": "code",
      "source": [
        "#columns needed from statcast \n",
        "needed_columns = ['game_date', 'game_year', 'game_pk', 'player_name', 'pitcher', 'batter', 'pitch_type', 'pitch_name', 'stand', 'p_throws', 'balls', 'strikes', 'release_speed', \n",
        "                  'release_spin_rate', 'release_extension', 'release_pos_x', 'release_pos_z', 'pfx_x', 'pfx_z',\n",
        "                  'plate_x', 'plate_z',  'type', 'events', 'description', 'woba_value', 'at_bat_number', 'pitch_number']"
      ],
      "metadata": {
        "id": "rs8gbw3FRc2W"
      },
      "execution_count": null,
      "outputs": []
    },
    {
      "cell_type": "code",
      "source": [
        "#raw21 = pybaseball.statcast(start_dt = '2021-01-01', end_dt = '2021-12-31')"
      ],
      "metadata": {
        "id": "3VGLYWceRmQ-"
      },
      "execution_count": null,
      "outputs": []
    },
    {
      "cell_type": "code",
      "source": [
        "#raw22 = pybaseball.statcast(start_dt = '2022-01-01', end_dt = '2022-11-15')"
      ],
      "metadata": {
        "id": "d_cjubtRRpin"
      },
      "execution_count": null,
      "outputs": []
    },
    {
      "cell_type": "code",
      "source": [
        "#raw19 = pybaseball.statcast(start_dt = '2018-01-01', end_dt = '2020-12-01')"
      ],
      "metadata": {
        "id": "-TC0T8NqRyt5"
      },
      "execution_count": null,
      "outputs": []
    },
    {
      "cell_type": "code",
      "source": [
        "from google.colab import drive\n",
        "drive.mount('/drive')\n",
        "\n",
        "#read in the data\n",
        "raw22 = pd.read_csv('/drive/My Drive/Colab Notebooks/sequencing_project/raw22.csv')\n",
        "raw21 = pd.read_csv('/drive/My Drive/Colab Notebooks/sequencing_project/raw21.csv')\n",
        "raw19 = pd.read_csv('/drive/My Drive/Colab Notebooks/sequencing_project/raw18_19_20.csv')\n",
        "raw21 = raw21[needed_columns]\n",
        "raw22 = raw22[needed_columns]\n",
        "raw19 = raw19[needed_columns]"
      ],
      "metadata": {
        "colab": {
          "base_uri": "https://localhost:8080/"
        },
        "id": "Cw066p4FRfPn",
        "outputId": "4c4046b3-3dd2-4c21-8e5f-25df38c261cb"
      },
      "execution_count": null,
      "outputs": [
        {
          "output_type": "stream",
          "name": "stdout",
          "text": [
            "Mounted at /drive\n"
          ]
        }
      ]
    },
    {
      "cell_type": "code",
      "source": [
        "#clean the data\n",
        "\n",
        "df21 = organize_data(raw21)\n",
        "df22 = organize_data(raw22)\n",
        "#df19 = organize_data(raw19)\n",
        "\n",
        "\n",
        "all_data = df22.append(df21, ignore_index = True)\n",
        "#all_data = all_data.append(df19, ignore_index = True)"
      ],
      "metadata": {
        "id": "pCh5do0vR_Gl"
      },
      "execution_count": null,
      "outputs": []
    },
    {
      "cell_type": "code",
      "source": [
        "#min max scale variables \n",
        "standardizer = StandardScaler().fit(all_data[['release_speed', 'mx', 'mz', \n",
        "     'plate_x', 'plate_z',  'release_spin_rate']].values)\n",
        "\n",
        "all_data[['release_speed', 'mx', 'mz', \n",
        "     'plate_x', 'plate_z',  'release_spin_rate']] = standardizer.transform(all_data[['release_speed', 'mx', 'mz', \n",
        "     'plate_x', 'plate_z', 'release_spin_rate']].values)"
      ],
      "metadata": {
        "id": "U4aDR8EFSHLw"
      },
      "execution_count": null,
      "outputs": []
    },
    {
      "cell_type": "code",
      "source": [
        "#get the batter index\n",
        "batter_indices = pd.DataFrame({'batter': all_data.batter.unique()})\n",
        "\n",
        "batter_indices['batter_index'] = batter_indices.index.values\n",
        "\n",
        "#merge \n",
        "all_data = all_data.merge(batter_indices, on = 'batter')"
      ],
      "metadata": {
        "id": "-_RXoc7TStJ-"
      },
      "execution_count": null,
      "outputs": []
    },
    {
      "cell_type": "code",
      "source": [
        "bi = pd.read_csv('/drive/My Drive/Colab Notebooks/sequencing_project/batter_indices_final_model.csv')"
      ],
      "metadata": {
        "id": "f1KTndTwhO6U"
      },
      "execution_count": null,
      "outputs": []
    },
    {
      "cell_type": "code",
      "source": [
        "testing = bi.merge(batter_indices, how = 'inner', on = 'batter_index')"
      ],
      "metadata": {
        "id": "1JPG034dD25i"
      },
      "execution_count": null,
      "outputs": []
    },
    {
      "cell_type": "code",
      "source": [
        "testing.shape[0] == bi.shape[0] == batter_indices.shape[0]"
      ],
      "metadata": {
        "colab": {
          "base_uri": "https://localhost:8080/"
        },
        "id": "UoJlbMgeD4Fe",
        "outputId": "4c26841f-da4c-4ad9-bcd7-f3b49c3455e8"
      },
      "execution_count": null,
      "outputs": [
        {
          "output_type": "execute_result",
          "data": {
            "text/plain": [
              "True"
            ]
          },
          "metadata": {},
          "execution_count": 20
        }
      ]
    },
    {
      "cell_type": "markdown",
      "source": [
        "**Data Loader**"
      ],
      "metadata": {
        "id": "v_ZkFn4JSzKg"
      }
    },
    {
      "cell_type": "code",
      "source": [
        "train = all_data.copy()"
      ],
      "metadata": {
        "id": "suI-UOVfSw7i"
      },
      "execution_count": null,
      "outputs": []
    },
    {
      "cell_type": "code",
      "source": [
        "batch_size = 256\n",
        "\n",
        "#define a dataloader type thing. Basically we break down at bats by pitch sequence length. \n",
        "#then for each length we need to break down all the plate appearances of that length into batches.\n",
        "pa_lengths = train.groupby(['game_pk', 'at_bat_number'], as_index = False).agg(seq_length = ('pitch_number', 'max'),\n",
        "                                                                               pitches_recorded = ('pitch_number', 'count'))\n",
        "#merge with train\n",
        "train = train.merge(pa_lengths, how = 'inner', on = ['game_pk', 'at_bat_number'])\n",
        "#make sure the pitches recorded matches the sequence length\n",
        "train = train.loc[train.seq_length == train.pitches_recorded]\n",
        "\n",
        "train['pa_id'] = [str(train.game_pk.values[i]) + '-' + str(train.at_bat_number.values[i]) for i in range(train.shape[0])]\n",
        "#train is ordered from latest to earliest, but I think we want our sequence to go from earliest up top to latest on bottom \n",
        "train = train[::-1]\n",
        "\n",
        "features = ['balls', 'strikes', 'release_speed', 'release_spin_rate', 'plate_x', 'plate_z',\n",
        "                'mx', 'mz', 'pit_handR', 'bat_handR', 'batter_index']\n",
        "\n",
        "loader_list = []\n",
        "for l in pa_lengths.seq_length.unique():\n",
        "  d = train.loc[train.seq_length == l]\n",
        "  pas = list(d.pa_id.unique())\n",
        "  #for each batch, I need to continue to add plate appearances until I hit my batch size \n",
        "  while len(pas) > 0:\n",
        "    pas_for_batch = []\n",
        "    s = 0 \n",
        "    while s < batch_size:\n",
        "      if len(pas) != 0:\n",
        "        pas_for_batch.append(pas.pop(0))\n",
        "        s += l\n",
        "      else:\n",
        "        s+=1\n",
        "\n",
        "    #get the pas for this batch \n",
        "    batch_data = d.loc[d.pa_id.isin(pas_for_batch)]\n",
        "    pa_id_and_pitch_num = batch_data[['pa_id', 'pitch_number']].values\n",
        "    batch_x = batch_data[features].values\n",
        "    batch_y = batch_data.outcome.values.astype(int)\n",
        "    #reshape so that each pa is a separate entry in the batch\n",
        "    batch_x = batch_x.reshape((len(pas_for_batch), l, len(features)))\n",
        "    batch_y = batch_y.reshape((len(pas_for_batch),l))\n",
        "    torch_batch_x = torch.tensor(batch_x, dtype = torch.float)\n",
        "    torch_batch_y = torch.tensor(batch_y, dtype = torch.long)\n",
        "    \n",
        "    #append to list \n",
        "    loader_list.append((pa_id_and_pitch_num, torch_batch_x, torch_batch_y))\n",
        "\n",
        "\n",
        "#shuffle the batches so that the RNN is trained on variable length sequences right from the get go \n",
        "#this will also give you a train test split \n",
        "import random\n",
        "random.seed(51)\n",
        "random.shuffle(loader_list)\n",
        "train_loader_list = loader_list[:3*len(loader_list)//4]\n",
        "test_loader_list = loader_list[3*len(loader_list)//4:]"
      ],
      "metadata": {
        "id": "HvtFVdk8S1Py"
      },
      "execution_count": null,
      "outputs": []
    },
    {
      "cell_type": "markdown",
      "source": [
        "**RNN**"
      ],
      "metadata": {
        "id": "7eUJZq46TSX5"
      }
    },
    {
      "cell_type": "code",
      "source": [
        "#helper classes \n",
        "\n",
        "batter_embedding_dim = 13\n",
        "output_embedding_dim = 13\n",
        "\n",
        "class InputEmbedding(nn.Module):\n",
        "  def __init__(self, hidden_size = 32, output_size = 9):\n",
        "    super(InputEmbedding, self).__init__()\n",
        "    self.hidden_size = hidden_size \n",
        "    self.output_size = output_size\n",
        "    #define batter embedding \n",
        "    self.batter_embedding = nn.Embedding(batter_indices.shape[0], embedding_dim = batter_embedding_dim)\n",
        "\n",
        "    #define embedding for the pitch concatenated with the batter embedding concatenated with hidden state \n",
        "    self.ie1 = nn.Linear(in_features = len(features) - 1 + batter_embedding_dim + self.hidden_size, out_features = 512)\n",
        "    self.ie2 = nn.Linear(512, 256)\n",
        "    self.ie3 = nn.Linear(256, 128)\n",
        "    self.ie4 = nn.Linear(128, 64)\n",
        "    self.ie5 = nn.Linear(64, self.output_size)\n",
        "    self.relu = nn.ReLU()\n",
        "    \n",
        "  def forward(self, x, hidden):\n",
        "    #batter index is last column of x \n",
        "    batter_idx = x[:,-1].int()\n",
        "    bat_emb = self.batter_embedding(batter_idx)\n",
        "\n",
        "    #concatenate batter embedding and input and hidden state\n",
        "    conc = torch.concat((x[:,:-1], bat_emb, hidden), dim = 1)\n",
        "    \n",
        "    #run through layers \n",
        "    conc = self.relu(self.ie1(conc))\n",
        "    conc = self.relu(self.ie2(conc))\n",
        "    conc = self.relu(self.ie3(conc))\n",
        "    conc = self.relu(self.ie4(conc))\n",
        "    return self.ie5(conc)\n",
        "\n",
        "\n",
        "class HiddenStateUpdater(nn.Module):\n",
        "\n",
        "    def __init__(self, hidden_size = 32, output_size = 9):\n",
        "        super(HiddenStateUpdater, self).__init__()\n",
        "        self.hidden_size = hidden_size \n",
        "        self.output_size = output_size\n",
        "        #we need a target embedding \n",
        "        self.target_embedding = nn.Embedding(self.output_size, output_embedding_dim)\n",
        "        #remember, we are going to take our pitch and our output embedding and concatenate them together for the hidden state, so we need features \n",
        "        #plus output embedding dim minus 1 for the batter index which we don't want to include.\n",
        "        self.l1 = nn.Linear(len(features) - 1 + output_embedding_dim, 256)\n",
        "        self.l2 = nn.Linear(256, 128)\n",
        "        self.l3 = nn.Linear(128, 64)\n",
        "        self.l4 = nn.Linear(64,32)\n",
        "        self.proj = nn.Linear(32, self.hidden_size)\n",
        "        self.relu = nn.ReLU()\n",
        "\n",
        "    def forward(self, x, y):\n",
        "        #get the output embedding \n",
        "        y = self.target_embedding(y)\n",
        "        #concatenate onto x \n",
        "        x = torch.concat((x, y), dim = -1)\n",
        "        #feed through network\n",
        "        x = self.relu(self.l1(x))\n",
        "        x = self.relu(self.l2(x)) \n",
        "        x = self.relu(self.l3(x))\n",
        "        x = self.relu(self.l4(x))\n",
        "        return self.proj(x)"
      ],
      "metadata": {
        "id": "vI1UUVh6TPxq"
      },
      "execution_count": null,
      "outputs": []
    },
    {
      "cell_type": "code",
      "source": [
        "class RNN(nn.Module):\n",
        "  def __init__(self, hidden_size = 32, output_size = 9):\n",
        "    super(RNN, self).__init__()\n",
        "    self.hidden_size = hidden_size \n",
        "    self.output_size = output_size \n",
        "\n",
        "    self.input_embedding = InputEmbedding(self.hidden_size, self.output_size)\n",
        "    self.h_update = HiddenStateUpdater(self.hidden_size, self.output_size)\n",
        "    self.relu = nn.ReLU()\n",
        "\n",
        "    #initialize batter embeddings \n",
        "    self.input_embedding.batter_embedding.weight.data.fill_(1.)\n",
        "\n",
        "  def forward(self, x, hidden, y):\n",
        "    #first we run x and hidden through the 'input embedding'\n",
        "    output = self.input_embedding(x, hidden)\n",
        "\n",
        "    #next, we run x and y through the hidden state updater, and we add that onto the old hidden state\n",
        "    hidden += self.h_update(x[:,:-1], y)\n",
        "\n",
        "    #return x and hidden \n",
        "    return output, hidden \n",
        "\n",
        "  def init_hidden(self):\n",
        "    return torch.zeros(1, self.hidden_size) "
      ],
      "metadata": {
        "id": "oxJIp_waTWUY"
      },
      "execution_count": null,
      "outputs": []
    },
    {
      "cell_type": "markdown",
      "source": [
        "**Training**"
      ],
      "metadata": {
        "id": "N3vIun3xTeLR"
      }
    },
    {
      "cell_type": "code",
      "source": [
        "#define a training function \n",
        "def train(input, target, recurrent = True):\n",
        "  #input and target are a batch, so they contain multiple plate appearances all of the same sequence length \n",
        "\n",
        "  #initialize hidden layers and gradients and loss \n",
        "  optimizer.zero_grad()\n",
        "  input = input.to(device)\n",
        "  target = target.to(device)\n",
        "  loss = 0 \n",
        "\n",
        "  input_length = input.size(1)\n",
        "\n",
        "  #loop through the pas \n",
        "  for pa_num in range(input.size(0)):\n",
        "    #initialize hidden state at the start of each pa \n",
        "    h0 = model.init_hidden()\n",
        "    h0 = h0.to(device)\n",
        "    pa = input[pa_num]\n",
        "    pa_targets = target[pa_num]\n",
        "    #loop through the sequence of pitches \n",
        "    for pitch in range(input_length):\n",
        "      yhat, h1 = model(pa[pitch].unsqueeze(0), h0, pa_targets[pitch].unsqueeze(0))\n",
        "\n",
        "      #calculate loss for this pitch \n",
        "      loss += objective(yhat[0], pa_targets[pitch])\n",
        "\n",
        "      #iterate hidden state to newly generated hidden state \n",
        "      if recurrent:\n",
        "        h0 = h1 \n",
        "      else:\n",
        "        h0 = model.init_hidden().to(device)\n",
        "\n",
        "  #now loss is the sum of loss for all pitches in batch\n",
        "  loss.backward()\n",
        "  optimizer.step()\n",
        "\n",
        "  #return batch loss, which is loss per pitch \n",
        "  return loss.item() / (input.size(0) * input.size(1))\n",
        "\n",
        "\n",
        "#define a similar eval function to be used to get loss on test set, so no trianing in this function \n",
        "def eval(input, target, recurrent = True):\n",
        "  #input is a batch of PAs \n",
        "  with torch.no_grad():\n",
        "    #init \n",
        "    input = input.to(device)\n",
        "    target = target.to(device)\n",
        "    loss = 0\n",
        "\n",
        "    input_length = input.size(1)\n",
        "\n",
        "    #loop through pas in batch \n",
        "    for pa_num in range(input.size(0)):\n",
        "      #initialize hidden state at start of each pa \n",
        "      h0 = model.init_hidden()\n",
        "      h0 = h0.to(device)\n",
        "      pa = input[pa_num]\n",
        "      pa_targets = target[pa_num]\n",
        "      for pitch in range(input_length):\n",
        "        yhat, h1 = model(pa[pitch].unsqueeze(0), h0, pa_targets[pitch].unsqueeze(0))\n",
        "\n",
        "        loss += objective(yhat[0], pa_targets[pitch])\n",
        "\n",
        "        if recurrent:\n",
        "          h0 = h1 \n",
        "        else:\n",
        "          h0 = model.init_hidden().to(device)\n",
        "\n",
        "    #return loss per pitch, so average loss over all the pitches in the sequence \n",
        "    return loss.item() / (input.size(0) * input.size(1)) \n",
        "\n",
        "def prediction_func(input, target, recurrent = True):\n",
        "  #input is a batch of PAs \n",
        "  with torch.no_grad():\n",
        "    #init \n",
        "    input = input.to(device)\n",
        "    target = target.to(device)\n",
        "    loss = 0\n",
        "\n",
        "    input_length = input.size(1)\n",
        "\n",
        "    #loop through pas in batch \n",
        "    preds = torch.empty((1,9)).to(device)\n",
        "    for pa_num in range(input.size(0)):\n",
        "      #initialize hidden state at start of each pa \n",
        "      h0 = model.init_hidden()\n",
        "      h0 = h0.to(device)\n",
        "      pa = input[pa_num]\n",
        "      pa_targets = target[pa_num]\n",
        "      for pitch in range(input_length):\n",
        "        yhat, h1 = model(pa[pitch].unsqueeze(0), h0, pa_targets[pitch].unsqueeze(0))\n",
        "        preds = torch.cat((preds, yhat), dim = 0)\n",
        "        if recurrent:\n",
        "          h0 = h1\n",
        "        else:\n",
        "          h0 = model.init_hidden().to(device)\n",
        "\n",
        "    #return predictions\n",
        "    return preds[1:,:]"
      ],
      "metadata": {
        "id": "8b_NXCPmTblt"
      },
      "execution_count": null,
      "outputs": []
    },
    {
      "cell_type": "code",
      "source": [
        "#define model and stuff\n",
        "model = RNN(hidden_size = 32, output_size = 9).to(device)\n",
        "model.load_state_dict(torch.load('/drive/My Drive/Colab Notebooks/sequencing_project/final_OP'))\n",
        "\n",
        "#objective and optimizer \n",
        "objective = nn.CrossEntropyLoss()\n",
        "optimizer = optim.Adam(model.parameters(), lr = 1e-4)\n",
        "\n",
        "#epochs \n",
        "epochs = 5"
      ],
      "metadata": {
        "id": "s3DCr_PETgvF"
      },
      "execution_count": null,
      "outputs": []
    },
    {
      "cell_type": "code",
      "source": [
        "tot_params = 0\n",
        "for p in model.parameters():\n",
        "  tot_params += np.prod(list(p.size()))\n",
        "print('Model Parameters: ' + str(tot_params), ', Training Data: ' + str(all_data.shape[0]*3/4))"
      ],
      "metadata": {
        "colab": {
          "base_uri": "https://localhost:8080/"
        },
        "id": "PFU-vhXNULhP",
        "outputId": "f82b97ae-7efc-4e08-87cf-b78474d44bce"
      },
      "execution_count": null,
      "outputs": [
        {
          "output_type": "stream",
          "name": "stdout",
          "text": [
            "Model Parameters: 275179 , Training Data: 1108429.5\n"
          ]
        }
      ]
    },
    {
      "cell_type": "code",
      "source": [
        "batch_losses = []\n",
        "val_losses = []\n",
        "loss_avg = 0\n",
        "\n",
        "for epoch in range(epochs):\n",
        "  loop = tqdm(total = len(train_loader_list))\n",
        "  for batch in range(len(train_loader_list)):\n",
        "    ids, x, y = train_loader_list[batch] #might  be faster to send these to device now rather than in training function.\n",
        "\n",
        "    #feed batch into training function \n",
        "    loss_ = train(x, y)\n",
        "\n",
        "    loop.set_description('epoch:{}, loss:{:.4f}'.format(epoch, loss_))\n",
        "    loop.update(1)\n",
        "\n",
        "    batch_losses.append(loss_) \n",
        "\n",
        "    if batch == len(train_loader_list)-1 and epoch % 2 == 0:\n",
        "      #run on validation set as well \n",
        "      val_set_losses = []\n",
        "      for batch2 in test_loader_list:\n",
        "        ids, x, y = batch2\n",
        "\n",
        "        test_loss = eval(x, y)\n",
        "        \n",
        "        val_set_losses.append(test_loss)\n",
        "      \n",
        "      val_losses.append((len(batch_losses), np.mean(val_set_losses)))\n",
        "      print('test loss: ' + str(np.mean(val_set_losses)))\n",
        "\n",
        "  loop.close()"
      ],
      "metadata": {
        "colab": {
          "base_uri": "https://localhost:8080/"
        },
        "id": "YUu1tfRATmca",
        "outputId": "e046e6f2-dbfb-4516-9caa-6d0185276c5e"
      },
      "execution_count": null,
      "outputs": [
        {
          "output_type": "stream",
          "name": "stderr",
          "text": [
            "epoch:0, loss:1.0197: 100%|██████████| 4257/4257 [35:16<00:00,  2.01it/s]\n"
          ]
        },
        {
          "output_type": "stream",
          "name": "stdout",
          "text": [
            "test loss: 1.1294138410983476\n"
          ]
        },
        {
          "output_type": "stream",
          "name": "stderr",
          "text": [
            "epoch:1, loss:1.0127: 100%|██████████| 4257/4257 [29:55<00:00,  2.37it/s]\n",
            "epoch:2, loss:1.0059: 100%|██████████| 4257/4257 [33:59<00:00,  2.09it/s]\n"
          ]
        },
        {
          "output_type": "stream",
          "name": "stdout",
          "text": [
            "test loss: 1.1214977001640443\n"
          ]
        },
        {
          "output_type": "stream",
          "name": "stderr",
          "text": [
            "epoch:3, loss:0.9997: 100%|██████████| 4257/4257 [30:37<00:00,  2.32it/s]\n",
            "epoch:4, loss:0.9945: 100%|██████████| 4257/4257 [34:10<00:00,  2.08it/s]"
          ]
        },
        {
          "output_type": "stream",
          "name": "stdout",
          "text": [
            "test loss: 1.1155630965678416\n"
          ]
        },
        {
          "output_type": "stream",
          "name": "stderr",
          "text": [
            "\n"
          ]
        }
      ]
    },
    {
      "cell_type": "markdown",
      "source": [
        "The previous cell gives 5 epochs, which sets it at 10 epochs total."
      ],
      "metadata": {
        "id": "gZP7Myk-_z12"
      }
    },
    {
      "cell_type": "code",
      "source": [
        "a,b = zip(*val_losses)\n",
        "plt.plot([i for i in range(len(batch_losses))], batch_losses, label = 'train')\n",
        "plt.plot(a, b, label = 'test')\n",
        "plt.plot([i for i in range(len(batch_losses))], [1.2 for _ in range(len(batch_losses))], 'r--')\n",
        "plt.legend() \n",
        "plt.xlabel('batch number')\n",
        "plt.ylabel('cross entropy loss')\n",
        "plt.title('Loss')\n",
        "plt.show()"
      ],
      "metadata": {
        "id": "7OdaVn7_T1AY",
        "colab": {
          "base_uri": "https://localhost:8080/",
          "height": 295
        },
        "outputId": "d5ac1e5e-c28e-4379-f75b-c66aad065d70"
      },
      "execution_count": null,
      "outputs": [
        {
          "output_type": "display_data",
          "data": {
            "text/plain": [
              "<Figure size 432x288 with 1 Axes>"
            ],
            "image/png": "[encoded data removed]"
          },
          "metadata": {
            "needs_background": "light"
          }
        }
      ]
    },
    {
      "cell_type": "code",
      "source": [
        "torch.save(model.state_dict(), '/drive/My Drive/Colab Notebooks/sequencing_project/final_OP')"
      ],
      "metadata": {
        "id": "kck8RDfgT2Fq"
      },
      "execution_count": null,
      "outputs": []
    },
    {
      "cell_type": "markdown",
      "source": [
        "**Calibration**"
      ],
      "metadata": {
        "id": "d-36_xQ1U1cI"
      }
    },
    {
      "cell_type": "code",
      "source": [
        "#calibration \n",
        "def calibration(preds, actuals, groupsize = 30000, title = '', xlab = 'Predicted Rate', ylab = 'Actual Rate'):\n",
        "\n",
        "    sorted_preds = preds[np.argsort(preds)]\n",
        "    sorted_actuals = actuals[np.argsort(preds)]\n",
        "    predicted = []\n",
        "    actual = []\n",
        "    numgroups = len(preds) // groupsize\n",
        "    for i in range(numgroups):\n",
        "        if i == numgroups-1:\n",
        "            rows = [j for j in range(i*groupsize, len(preds))]\n",
        "        else:\n",
        "            rows = [j for j in range(i*groupsize, (i+1) * groupsize)]\n",
        "        group_preds = sorted_preds[rows]\n",
        "        group_actuals = sorted_actuals[rows]\n",
        "        actual.append(np.mean(group_actuals))\n",
        "        predicted.append(np.mean(group_preds))\n",
        "\n",
        "    plt.plot(predicted, predicted, 'r--')\n",
        "    plt.plot(predicted, actual, 'k.')\n",
        "    plt.xlabel(xlab)\n",
        "    plt.title(title)\n",
        "    plt.ylabel(ylab)"
      ],
      "metadata": {
        "id": "P7khCAmyU1Cc"
      },
      "execution_count": null,
      "outputs": []
    },
    {
      "cell_type": "code",
      "source": [
        "predicted_train_data = pd.DataFrame()\n",
        "for batch in range(len(train_loader_list)):\n",
        "  ids, x, y = train_loader_list[batch]\n",
        "  \n",
        "  ypred = prediction_func(x,y)\n",
        "\n",
        "  y = y.view(y.size(0)*y.size(1))\n",
        "  losses = nn.CrossEntropyLoss(reduction = 'none')(ypred, y.cuda())\n",
        "  new_data = pd.DataFrame({'pa_id': ids[:,0], 'pitch_number': ids[:,1], 'outcome': y.cpu().numpy()})\n",
        "  new_data[['o0', 'o1', 'o2', 'o3', 'o4', 'o5', 'o6', 'o7', 'o8']] = nn.functional.softmax(ypred, dim = 1).detach().cpu().numpy()\n",
        "  new_data['cross_entropy_loss'] = losses.detach().cpu().numpy()\n",
        "  predicted_train_data = predicted_train_data.append(new_data, ignore_index = True)"
      ],
      "metadata": {
        "id": "IFilmUu_U6ky"
      },
      "execution_count": null,
      "outputs": []
    },
    {
      "cell_type": "code",
      "source": [
        "predicted_test_data = pd.DataFrame()\n",
        "for batch in range(len(test_loader_list)):\n",
        "  ids, x, y = test_loader_list[batch]\n",
        "  \n",
        "  ypred = prediction_func(x,y)\n",
        "\n",
        "  y = y.view(y.size(0)*y.size(1))\n",
        "  losses = nn.CrossEntropyLoss(reduction = 'none')(ypred, y.cuda())\n",
        "  new_data = pd.DataFrame({'pa_id': ids[:,0], 'pitch_number': ids[:,1], 'outcome': y.cpu().numpy()})\n",
        "  new_data[['o0', 'o1', 'o2', 'o3', 'o4', 'o5', 'o6', 'o7', 'o8']] = nn.functional.softmax(ypred, dim = 1).detach().cpu().numpy()\n",
        "  new_data['cross_entropy_loss'] = losses.detach().cpu().numpy()\n",
        "  predicted_test_data = predicted_test_data.append(new_data, ignore_index = True)"
      ],
      "metadata": {
        "id": "IAT4sUcqU49S"
      },
      "execution_count": null,
      "outputs": []
    },
    {
      "cell_type": "code",
      "source": [
        "#RNN calibration, train set\n",
        "fig= plt.figure(figsize=(8,8))\n",
        "ax1 = plt.subplot(331)\n",
        "ax1 = calibration(predicted_train_data.o0.values, (predicted_train_data.outcome.values == 0).astype(bool).astype(int), title = 'Called Ball')\n",
        "\n",
        "ax2 = plt.subplot(332)\n",
        "ax2 = calibration(predicted_train_data.o1.values, (predicted_train_data.outcome.values == 1).astype(bool).astype(int), title = 'Called Strike')\n",
        "\n",
        "ax3 = plt.subplot(333)\n",
        "ax3 = calibration(predicted_train_data.o2.values, (predicted_train_data.outcome.values == 2).astype(bool).astype(int), title = 'Swinging Strike')\n",
        "\n",
        "ax4 = plt.subplot(334)\n",
        "ax4 = calibration(predicted_train_data.o3.values, (predicted_train_data.outcome.values == 3).astype(bool).astype(int), title = 'Foul Ball')\n",
        "\n",
        "ax5 = plt.subplot(335)\n",
        "ax5 = calibration(predicted_train_data.o4.values, (predicted_train_data.outcome.values == 4).astype(bool).astype(int), title = 'Ball in Play: Out')\n",
        "\n",
        "ax6 = plt.subplot(336)\n",
        "ax6 = calibration(predicted_train_data.o5.values, (predicted_train_data.outcome.values == 5).astype(bool).astype(int), title = 'Single')\n",
        "\n",
        "ax7 = plt.subplot(337)\n",
        "ax7 = calibration(predicted_train_data.o6.values, (predicted_train_data.outcome.values == 6).astype(bool).astype(int), title = 'Double')\n",
        "\n",
        "ax8 = plt.subplot(338)\n",
        "ax8 = calibration(predicted_train_data.o7.values, (predicted_train_data.outcome.values == 7).astype(bool).astype(int), title = 'Triple')\n",
        "\n",
        "ax9 = plt.subplot(339)\n",
        "ax9 = calibration(predicted_train_data.o8.values, (predicted_train_data.outcome.values == 8).astype(bool).astype(int), title = 'HR')\n",
        "\n",
        "plt.tight_layout()\n",
        "plt.show()"
      ],
      "metadata": {
        "id": "sEwlFc72VF85",
        "colab": {
          "base_uri": "https://localhost:8080/",
          "height": 585
        },
        "outputId": "ba87fd79-1003-4263-f829-58a96120cfe0"
      },
      "execution_count": null,
      "outputs": [
        {
          "output_type": "display_data",
          "data": {
            "text/plain": [
              "<Figure size 576x576 with 9 Axes>"
            ],
            "image/png": "[encoded data removed]"
          },
          "metadata": {
            "needs_background": "light"
          }
        }
      ]
    },
    {
      "cell_type": "code",
      "source": [
        "#RNN calibration, test set\n",
        "fig= plt.figure(figsize=(10,10))\n",
        "ax1 = plt.subplot(331)\n",
        "ax1 = calibration(predicted_test_data.o0.values, (predicted_test_data.outcome.values == 0).astype(bool).astype(int), title = 'Called Ball')\n",
        "\n",
        "ax2 = plt.subplot(332)\n",
        "ax2 = calibration(predicted_test_data.o1.values, (predicted_test_data.outcome.values == 1).astype(bool).astype(int), title = 'Called Strike')\n",
        "\n",
        "ax3 = plt.subplot(333)\n",
        "ax3 = calibration(predicted_test_data.o2.values, (predicted_test_data.outcome.values == 2).astype(bool).astype(int), title = 'Swinging Strike')\n",
        "\n",
        "ax4 = plt.subplot(334)\n",
        "ax4 = calibration(predicted_test_data.o3.values, (predicted_test_data.outcome.values == 3).astype(bool).astype(int), title = 'Foul Ball')\n",
        "\n",
        "ax5 = plt.subplot(335)\n",
        "ax5 = calibration(predicted_test_data.o4.values, (predicted_test_data.outcome.values == 4).astype(bool).astype(int), title = 'Ball in Play: Out')\n",
        "\n",
        "ax6 = plt.subplot(336)\n",
        "ax6 = calibration(predicted_test_data.o5.values, (predicted_test_data.outcome.values == 5).astype(bool).astype(int), title = 'Single')\n",
        "\n",
        "ax7 = plt.subplot(337)\n",
        "ax7 = calibration(predicted_test_data.o6.values, (predicted_test_data.outcome.values == 6).astype(bool).astype(int), title = 'Double')\n",
        "\n",
        "ax8 = plt.subplot(338)\n",
        "ax8 = calibration(predicted_test_data.o7.values, (predicted_test_data.outcome.values == 7).astype(bool).astype(int), title = 'Triple')\n",
        "\n",
        "ax9 = plt.subplot(339)\n",
        "ax9 = calibration(predicted_test_data.o8.values, (predicted_test_data.outcome.values == 8).astype(bool).astype(int), title = 'HR')\n",
        "\n",
        "plt.tight_layout()\n",
        "plt.show()"
      ],
      "metadata": {
        "id": "IB4DYP_VVCFX",
        "colab": {
          "base_uri": "https://localhost:8080/",
          "height": 729
        },
        "outputId": "d48a64c1-029e-4c56-9405-698f33a3001a"
      },
      "execution_count": null,
      "outputs": [
        {
          "output_type": "display_data",
          "data": {
            "text/plain": [
              "<Figure size 720x720 with 9 Axes>"
            ],
            "image/png": "[encoded data removed]"
          },
          "metadata": {
            "needs_background": "light"
          }
        }
      ]
    },
    {
      "cell_type": "markdown",
      "source": [
        "We often like to predict swings given a pitch, and we like to predict swing and miss given that the batter swang, so check that the model is well calibrated in those predictions"
      ],
      "metadata": {
        "id": "FqHuvtWsHMxw"
      }
    },
    {
      "cell_type": "code",
      "source": [
        "import warnings \n",
        "warnings.filterwarnings('ignore')\n",
        "\n",
        "#swing calibration: test set \n",
        "predicted_test_data['is_swing'] = 0\n",
        "predicted_test_data.loc[predicted_test_data.outcome > 1, 'is_swing'] = 1\n",
        "\n",
        "calibration(predicted_test_data[['o2','o3','o4','o5','o6','o7','o8']].sum(axis=1).values, predicted_test_data.is_swing.values, title = 'Swing')\n",
        "plt.show()\n",
        "\n",
        "#miss given swing calibration: test set \n",
        "d = predicted_test_data.loc[predicted_test_data.is_swing == 1]\n",
        "d['is_miss'] = 0\n",
        "d.loc[d.outcome == 2, 'is_miss'] = 1\n",
        "\n",
        "calibration(d.o2.values /d[['o2','o3','o4','o5','o6','o7','o8']].sum(axis=1).values , d.is_miss.values, title = 'Miss|Swing Calibration', groupsize = 10000)\n",
        "plt.show()"
      ],
      "metadata": {
        "colab": {
          "base_uri": "https://localhost:8080/",
          "height": 573
        },
        "id": "8p5bA5X1EIUs",
        "outputId": "cdc723f1-7bd1-4484-a874-b50a8a16385d"
      },
      "execution_count": null,
      "outputs": [
        {
          "output_type": "display_data",
          "data": {
            "text/plain": [
              "<Figure size 432x288 with 1 Axes>"
            ],
            "image/png": "[encoded data removed]"
          },
          "metadata": {
            "needs_background": "light"
          }
        },
        {
          "output_type": "display_data",
          "data": {
            "text/plain": [
              "<Figure size 432x288 with 1 Axes>"
            ],
            "image/png": "[encoded data removed]"
          },
          "metadata": {
            "needs_background": "light"
          }
        }
      ]
    },
    {
      "cell_type": "code",
      "source": [
        "predicted_train_data.cross_entropy_loss.mean(), predicted_test_data.cross_entropy_loss.mean()"
      ],
      "metadata": {
        "id": "TjrKqh4d-aY-",
        "colab": {
          "base_uri": "https://localhost:8080/",
          "height": 165
        },
        "outputId": "2229d51f-ad79-4d6a-fa0b-2663316ff1eb"
      },
      "execution_count": null,
      "outputs": [
        {
          "output_type": "error",
          "ename": "NameError",
          "evalue": "ignored",
          "traceback": [
            "\u001b[0;31m---------------------------------------------------------------------------\u001b[0m",
            "\u001b[0;31mNameError\u001b[0m                                 Traceback (most recent call last)",
            "\u001b[0;32m<ipython-input-44-899b537b1917>\u001b[0m in \u001b[0;36m<module>\u001b[0;34m\u001b[0m\n\u001b[0;32m----> 1\u001b[0;31m \u001b[0mpredicted_train_data\u001b[0m\u001b[0;34m.\u001b[0m\u001b[0mcross_entropy_loss\u001b[0m\u001b[0;34m.\u001b[0m\u001b[0mmean\u001b[0m\u001b[0;34m(\u001b[0m\u001b[0;34m)\u001b[0m\u001b[0;34m,\u001b[0m \u001b[0mpredicted_test_data\u001b[0m\u001b[0;34m.\u001b[0m\u001b[0mcross_entropy_loss\u001b[0m\u001b[0;34m.\u001b[0m\u001b[0mmean\u001b[0m\u001b[0;34m(\u001b[0m\u001b[0;34m)\u001b[0m\u001b[0;34m\u001b[0m\u001b[0;34m\u001b[0m\u001b[0m\n\u001b[0m",
            "\u001b[0;31mNameError\u001b[0m: name 'predicted_train_data' is not defined"
          ]
        }
      ]
    },
    {
      "cell_type": "code",
      "source": [
        "#batter_indices.to_csv('/drive/My Drive/Colab Notebooks/sequencing_project/batter_indices_final_model.csv', index = False)"
      ],
      "metadata": {
        "id": "k0sP4KkQlaET"
      },
      "execution_count": null,
      "outputs": []
    },
    {
      "cell_type": "code",
      "source": [],
      "metadata": {
        "id": "LOpBG-bH_Mqr"
      },
      "execution_count": null,
      "outputs": []
    }
  ]
}